{
 "cells": [
  {
   "cell_type": "markdown",
   "id": "99e0194c-4efd-44a6-a682-a3c45f2f882a",
   "metadata": {},
   "source": [
    "<a class=\"anchor\" id=\"introducing_linters_into_your_application\"></a>\n",
    "\n",
    "### Introducing Linters Into Your Application"
   ]
  },
  {
   "cell_type": "markdown",
   "id": "48aae121-f60f-4124-baff-0c5733b0168e",
   "metadata": {},
   "source": [
    "Tox and Travis CI have configuration for a test command. The test command you have been using throughout this tutorial is `python -m unittest discover`. "
   ]
  },
  {
   "cell_type": "markdown",
   "id": "8b57c667-e2db-4bc7-8d90-24a478b0d8ff",
   "metadata": {},
   "source": [
    "You can provide one or many commands in all of these tools, and this option is there to enable you to add more tools that improve the quality of your application."
   ]
  },
  {
   "cell_type": "markdown",
   "id": "46bf3750-51d1-4ee8-b5af-ed9091a6fa43",
   "metadata": {},
   "source": [
    "One such type of application is called a linter. A linter will look at your code and comment on it. It could give you tips about mistakes you’ve made, correct trailing spaces, and even predict bugs you may have introduced."
   ]
  },
  {
   "cell_type": "markdown",
   "id": "352bca2b-0aec-4959-9be5-272577b901b1",
   "metadata": {},
   "source": [
    "For more information on linters, read the [Python Code Quality tutorial](https://realpython.com/python-code-quality/)."
   ]
  },
  {
   "cell_type": "markdown",
   "id": "ea9ea9e7-d276-456c-93e4-6f8db118a3ca",
   "metadata": {},
   "source": [
    "<a class=\"anchor\" id=\"passive_linting_with_`flake8`\"></a>\n",
    "\n",
    "#### Passive Linting With `flake8`"
   ]
  },
  {
   "cell_type": "markdown",
   "id": "da20d074-3699-4f60-8703-634c86395e30",
   "metadata": {},
   "source": [
    "A popular linter that comments on the style of your code in relation to the [PEP 8](https://www.youtube.com/watch?v=Hwckt4J96dI) specification is `flake8`."
   ]
  },
  {
   "cell_type": "markdown",
   "id": "9dbcaec6-d127-47e8-9a18-f61eebc82b1d",
   "metadata": {},
   "source": [
    "You can install `flake8` using `pip`:"
   ]
  },
  {
   "cell_type": "markdown",
   "id": "5fd9947a-848f-42c9-8664-d5a410eb80d0",
   "metadata": {},
   "source": [
    "```sh\n",
    "$ pip install flake8\n",
    "```"
   ]
  },
  {
   "cell_type": "markdown",
   "id": "86e43556-7e93-4e26-8728-f3b2b01f53aa",
   "metadata": {},
   "source": [
    "You can then run `flake8` over a single file, a folder, or a pattern:"
   ]
  },
  {
   "cell_type": "markdown",
   "id": "f3a132f8-7a6d-4ee7-80fb-3af2157fa3a2",
   "metadata": {},
   "source": [
    "```sh\n",
    "$ flake8 test.py\n",
    "test.py:6:1: E302 expected 2 blank lines, found 1\n",
    "test.py:23:1: E305 expected 2 blank lines after class or function definition, found 1\n",
    "test.py:24:20: W292 no newline at end of file\n",
    "```"
   ]
  },
  {
   "cell_type": "markdown",
   "id": "77afebb9-d0f8-48fb-aa30-5af57f405217",
   "metadata": {},
   "source": [
    "You will see a list of errors and warnings for your code that `flake8` has found."
   ]
  },
  {
   "cell_type": "markdown",
   "id": "4be79dd2-8ddd-4619-ad97-d6f431bcd5c8",
   "metadata": {},
   "source": [
    "`flake8` is configurable on the command line or inside a configuration file in your project. If you wanted to ignore certain rules, like `E305` shown above, you can set them in the configuration. `flake8` will inspect a `.flake8` file in the project folder or a `setup.cfg` file. If you decided to use Tox, you can put the `flake8` configuration section inside `tox.ini`."
   ]
  },
  {
   "cell_type": "markdown",
   "id": "7be1ff73-c93c-44a5-9e2f-05b1a697e699",
   "metadata": {},
   "source": [
    "This example ignores the `.git` and `__pycache__` directories as well as the `E305` rule. Also, it sets the max line length to 90 instead of 80 characters. You will likely find that the default constraint of 79 characters for line-width is very limiting for tests, as they contain long method names, string literals with test values, and other pieces of data that can be longer. It is common to set the line length for tests to up to 120 characters:"
   ]
  },
  {
   "cell_type": "markdown",
   "id": "57b16f20-e356-43f9-b277-f4ba641dd4b4",
   "metadata": {},
   "source": [
    "```ini\n",
    "[flake8]\n",
    "ignore = E305\n",
    "exclude = .git,__pycache__\n",
    "max-line-length = 90\n",
    "```"
   ]
  },
  {
   "cell_type": "markdown",
   "id": "0941fbf6-3500-46ca-b72e-db4514c11654",
   "metadata": {},
   "source": [
    "Alternatively, you can provide these options on the command line: "
   ]
  },
  {
   "cell_type": "markdown",
   "id": "36eaf41a-e274-4780-a8a1-548b4b7a0c48",
   "metadata": {},
   "source": [
    "```sh\n",
    "$ flake8 --ignore E305 --exclude .git,__pycache__ --max-line-length=90\n",
    "```"
   ]
  },
  {
   "cell_type": "markdown",
   "id": "36c2b7f8-c669-4a36-bf16-7e61868fd641",
   "metadata": {},
   "source": [
    "A full list of configuration options is available on the [Documentation Website](http://flake8.pycqa.org/en/latest/user/options.html)."
   ]
  },
  {
   "cell_type": "markdown",
   "id": "73152bf7-12b3-49b8-bd95-aba120ac0996",
   "metadata": {},
   "source": [
    "You can now add `flake8` to your CI configuration. For Travis CI, this would look as follows:"
   ]
  },
  {
   "cell_type": "markdown",
   "id": "4e90c55a-579f-42b0-ae5a-2f43e7248232",
   "metadata": {},
   "source": [
    "```yaml\n",
    "matrix:\n",
    "  include:\n",
    "    - python: \"2.7\"\n",
    "      script: \"flake8\"\n",
    "```"
   ]
  },
  {
   "cell_type": "markdown",
   "id": "80ed1479-2ef0-43f7-8d76-d56edab53f62",
   "metadata": {},
   "source": [
    "Travis will read the configuration in `.flake8` and fail the build if any linting errors occur. Be sure to add the `flake8` dependency to your `requirements.txt` file."
   ]
  },
  {
   "cell_type": "markdown",
   "id": "ac6daeb5-a8ff-4cae-8940-546474724228",
   "metadata": {},
   "source": [
    "<a class=\"anchor\" id=\"aggressive_linting_with_a_code_formatter\"></a>\n",
    "\n",
    "#### Aggressive Linting With a Code Formatter"
   ]
  },
  {
   "cell_type": "markdown",
   "id": "12aff74e-ad34-4f31-a0ca-7ad491627c56",
   "metadata": {},
   "source": [
    "`flake8` is a passive linter: it recommends changes, but you have to go and change the code. A more aggressive approach is a code formatter. Code formatters will change your code automatically to meet a collection of style and layout practices."
   ]
  },
  {
   "cell_type": "markdown",
   "id": "d9777dee-7711-46b9-8660-b1bb42cabf9d",
   "metadata": {},
   "source": [
    "`black` is a very unforgiving formatter. It doesn’t have any configuration options, and it has a very specific style. This makes it great as a drop-in tool to put in your test pipeline."
   ]
  },
  {
   "cell_type": "markdown",
   "id": "880b6800-1e72-47db-95db-66cd2d3e9f72",
   "metadata": {},
   "source": [
    "You can install `black` via pip:"
   ]
  },
  {
   "cell_type": "markdown",
   "id": "124205fb-a081-4e6f-a213-74b68282ab66",
   "metadata": {},
   "source": [
    "```sh\n",
    "$ pip install black\n",
    "```"
   ]
  },
  {
   "cell_type": "markdown",
   "id": "ad8ffa36-873f-4394-9d9e-dc3c0af070e4",
   "metadata": {},
   "source": [
    "Then to run `black` at the command line, provide the file or directory you want to format:"
   ]
  },
  {
   "cell_type": "markdown",
   "id": "475b4cf2-b2c9-4027-aa91-8b4f10ccf403",
   "metadata": {},
   "source": [
    "```sh\n",
    "$ black test.py\n",
    "```"
   ]
  },
  {
   "cell_type": "markdown",
   "id": "23a51e6a-1d6a-4435-bdc3-7c73a2205ff8",
   "metadata": {},
   "source": [
    "<a class=\"anchor\" id=\"keeping_your_test_code_clean\"></a>\n",
    "\n",
    "### Keeping Your Test Code Clean"
   ]
  },
  {
   "cell_type": "markdown",
   "id": "7add52fc-baa7-406d-9a7a-17b5dffaaca3",
   "metadata": {},
   "source": [
    "When writing tests, you may find that you end up copying and pasting code a lot more than you would in regular applications. Tests can be very repetitive at times, but that is by no means a reason to leave your code sloppy and hard to maintain. "
   ]
  },
  {
   "cell_type": "markdown",
   "id": "fca5376d-4760-41c3-8986-34042d2843dc",
   "metadata": {},
   "source": [
    "Over time, you will develop a lot of [technical debt](https://martinfowler.com/bliki/TechnicalDebt.html) in your test code, and if you have significant changes to your application that require changes to your tests, it can be a more cumbersome task than necessary because of the way you structured them."
   ]
  },
  {
   "cell_type": "markdown",
   "id": "3d2650f3-5c25-47f0-84bc-8c508a92392f",
   "metadata": {},
   "source": [
    "Try to follow the **DRY** principle when writing tests: **D**on’t **R**epeat **Y**ourself."
   ]
  },
  {
   "cell_type": "markdown",
   "id": "2cdb3bfa-847f-4b63-b6e9-9d06456e84ca",
   "metadata": {},
   "source": [
    "Test fixtures and functions are a great way to produce test code that is easier to maintain. Also, readability counts. Consider deploying a linting tool like `flake8` over your test code:"
   ]
  },
  {
   "cell_type": "markdown",
   "id": "32c0bac7-53c8-48ab-a1f0-1da39760b942",
   "metadata": {},
   "source": [
    "```sh\n",
    "$ flake8 --max-line-length=120 tests/\n",
    "```"
   ]
  }
 ],
 "metadata": {
  "kernelspec": {
   "display_name": "Python 3 (ipykernel)",
   "language": "python",
   "name": "python3"
  },
  "language_info": {
   "codemirror_mode": {
    "name": "ipython",
    "version": 3
   },
   "file_extension": ".py",
   "mimetype": "text/x-python",
   "name": "python",
   "nbconvert_exporter": "python",
   "pygments_lexer": "ipython3",
   "version": "3.7.12"
  }
 },
 "nbformat": 4,
 "nbformat_minor": 5
}
