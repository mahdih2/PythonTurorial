{
 "cells": [
  {
   "cell_type": "markdown",
   "id": "2f501702",
   "metadata": {},
   "source": [
    "<img src=\"../../images/banners/python-advanced.png\" width=\"600\"/>"
   ]
  },
  {
   "cell_type": "markdown",
   "id": "careful-warner",
   "metadata": {},
   "source": [
    "# <img src=\"../../images/logos/python.png\" width=\"23\"/> `with` Context Manager \n"
   ]
  },
  {
   "cell_type": "markdown",
   "id": "2b613d0a",
   "metadata": {},
   "source": [
    "## <img src=\"../../images/logos/toc.png\" width=\"20\"/> Table of Contents \n",
    "* [Supporting with in Your Own Objects](#supporting_with_in_your_own_objects)\n",
    "* [Writing Pretty APIs With Context Managers](#writing_pretty_apis_with_context_managers)\n",
    "    * [Solution](#solution)\n",
    "* [Things to Remember](#things_to_remember)\n",
    "\n",
    "---"
   ]
  },
  {
   "cell_type": "markdown",
   "id": "american-currency",
   "metadata": {},
   "source": [
    "The `with` statement in Python is regarded as an obscure feature by some. But when you peek behind the scenes of the underlying Context Manager protocol you’ll see there’s little “magic” involved."
   ]
  },
  {
   "cell_type": "markdown",
   "id": "rising-scientist",
   "metadata": {},
   "source": [
    "So what’s the with statement good for? **It helps simplify some common resource management patterns by abstracting their functionality and allowing them to be factored out and reused**."
   ]
  },
  {
   "cell_type": "markdown",
   "id": "peaceful-bachelor",
   "metadata": {},
   "source": [
    "In turn this helps you write more expressive code and makes it easier to avoid resource leaks in your programs."
   ]
  },
  {
   "cell_type": "markdown",
   "id": "dangerous-samba",
   "metadata": {},
   "source": [
    "A good way to see this feature used effectively is by looking at examples in the Python standard library. A well-known example involves the `open()` function:\n",
    "\n",
    "```python\n",
    "with open('hello.txt', 'w') as f:\n",
    "    f.write('hello, world!')\n",
    "```"
   ]
  },
  {
   "cell_type": "markdown",
   "id": "rental-frequency",
   "metadata": {},
   "source": [
    "Opening files using the `with` statement is generally recommended because it ensures that open file descriptors are closed automatically after program execution leaves the context of the with statement. Internally, the above code sample translates to something like this:\n",
    "\n",
    "```python\n",
    "f = open('hello.txt', 'w')\n",
    "try:\n",
    "    f.write('hello, world')\n",
    "finally:\n",
    "    f.close()\n",
    "```"
   ]
  },
  {
   "cell_type": "markdown",
   "id": "remarkable-prototype",
   "metadata": {},
   "source": [
    "You can already tell that this is quite a bit more verbose. Note that the `try...finally` statement is significant. It wouldn’t be enough to just write something like this:\n",
    "\n",
    "```python\n",
    "f = open('hello.txt', 'w')\n",
    "f.write('hello, world')\n",
    "f.close()\n",
    "```"
   ]
  },
  {
   "cell_type": "markdown",
   "id": "forced-valentine",
   "metadata": {},
   "source": [
    "This implementation won’t guarantee the file is closed if there’s an exception during the `f.write()` call—and therefore our program might leak a file descriptor. That’s why the with statement is so useful. It makes acquiring and releasing resources properly a breeze."
   ]
  },
  {
   "cell_type": "markdown",
   "id": "breeding-scene",
   "metadata": {},
   "source": [
    "Another good example where the with statement is used effectively in the Python standard library is the `threading.Lock` class (threading and multiprocessing will be covered later):\n",
    "\n",
    "```python\n",
    "some_lock = threading.Lock()\n",
    "\n",
    "# Harmful:\n",
    "some_lock.acquire()\n",
    "try:\n",
    "    # Do something...\n",
    "finally:\n",
    "    some_lock.release()\n",
    "\n",
    "# Better:\n",
    "with some_lock:\n",
    "    # Do something...\n",
    "```"
   ]
  },
  {
   "cell_type": "markdown",
   "id": "subtle-ridge",
   "metadata": {},
   "source": [
    "In both cases using a `with` statement allows you to abstract away most of the resource handling logic. Instead of having to write an explicit `try...finally` statement each time, with takes care of that for us."
   ]
  },
  {
   "cell_type": "markdown",
   "id": "better-queen",
   "metadata": {},
   "source": [
    "The with statement can make code dealing with system resources more readable. It also helps avoid bugs or leaks by making it almost impossible to forget cleaning up or releasing a resource after we’re done with it."
   ]
  },
  {
   "cell_type": "markdown",
   "id": "nervous-factor",
   "metadata": {},
   "source": [
    "<a class=\"anchor\" id=\"supporting_with_in_your_own_objects\"></a>\n",
    "## Supporting `with` in Your Own Objects (Class-Based)"
   ]
  },
  {
   "cell_type": "markdown",
   "id": "copyrighted-collectible",
   "metadata": {},
   "source": [
    "Now, there’s nothing special or magical about the `open()` function and the fact that they can be used with a with statement. You can provide the same functionality in your own classes and functions by implementing so-called context managers."
   ]
  },
  {
   "cell_type": "markdown",
   "id": "meaningful-calculator",
   "metadata": {},
   "source": [
    "What’s a context manager? It’s a simple “protocol” (or interface) that your object needs to follow so it can be used with the with statement. Basically all you need to do is add `__enter__` and `__exit__` methods to an object if you want it to function as a context manager. Python will call these two methods at the appropriate times in the resource management cycle."
   ]
  },
  {
   "cell_type": "markdown",
   "id": "possible-holmes",
   "metadata": {},
   "source": [
    "Let’s take a look at what this would look like in practical terms. Here’s how a simple implementation of the `open()` context manager might look like:"
   ]
  },
  {
   "cell_type": "code",
   "execution_count": 4,
   "id": "romantic-minimum",
   "metadata": {},
   "outputs": [],
   "source": [
    "class ManagedFile:\n",
    "    def __init__(self, name):\n",
    "        self.name = name\n",
    "\n",
    "    def __enter__(self):\n",
    "        print(\"Calling __enter__...\")\n",
    "        self.file = open(self.name, 'w')\n",
    "        return self.file\n",
    "\n",
    "    def __exit__(self, exc_type, exc_val, exc_tb):\n",
    "        print(\"Calling __exit__...\")\n",
    "        if self.file:\n",
    "            self.file.close()"
   ]
  },
  {
   "cell_type": "markdown",
   "id": "positive-mapping",
   "metadata": {},
   "source": [
    "Our `ManagedFile` class follows the context manager protocol and now supports the with statement, just like the original `open()` example did:"
   ]
  },
  {
   "cell_type": "code",
   "execution_count": 5,
   "id": "mechanical-safety",
   "metadata": {},
   "outputs": [
    {
     "name": "stdout",
     "output_type": "stream",
     "text": [
      "Calling __enter__...\n",
      "Calling __exit__...\n"
     ]
    }
   ],
   "source": [
    "with ManagedFile('hello.txt') as f:\n",
    "    f.write('hello, world!')\n",
    "    f.write('bye now')"
   ]
  },
  {
   "cell_type": "markdown",
   "id": "curious-reset",
   "metadata": {},
   "source": [
    "Python calls `__enter__` when execution enters the context of the with statement and it’s time to acquire the resource. When execution leaves the context again, Python calls `__exit__` to free up the resource."
   ]
  },
  {
   "cell_type": "markdown",
   "id": "0e20cdb2-99be-4dd4-b90b-8cecf26f915f",
   "metadata": {},
   "source": [
    "## Context Manager Utilities"
   ]
  },
  {
   "cell_type": "markdown",
   "id": "b3464398-9a2b-4e07-bfa6-184cf6e0a5d1",
   "metadata": {},
   "source": [
    "Creating context managers the traditional way, by writing a class with `__enter__()` and `__exit__()` methods, is not difficult. But sometimes it is more overhead than you need just to manage a trivial bit of context. In those sorts of situations, you can use the `contextmanager()` decorator to convert a generator function into a context manager."
   ]
  },
  {
   "cell_type": "markdown",
   "id": "outstanding-sigma",
   "metadata": {},
   "source": [
    "The `contextlib` utility module in the standard library provides a few more abstractions built on top of the basic context manager protocol. This can make your life a little easier if your use cases matches what’s offered by contextlib."
   ]
  },
  {
   "cell_type": "markdown",
   "id": "a2a22767-952d-4ceb-bceb-76723dbe0213",
   "metadata": {},
   "source": [
    "### From Generator to Context Manager (Generator-Based)"
   ]
  },
  {
   "cell_type": "markdown",
   "id": "e5007427-00b4-4253-9f5f-9a861157d76a",
   "metadata": {},
   "source": [
    "Can the `__exit__` be called before `__enter__`? Obviously no. So the `__enter__` should always be called before the `__exit__`. What does that tell you? There is some sequencing. What does that suggest you? Generators!"
   ]
  },
  {
   "cell_type": "markdown",
   "id": "462b5207-f15b-4544-a824-06ada5cbe51c",
   "metadata": {},
   "source": [
    "You can use the `contextlib.contextmanager` decorator to define a generator-based factory function for a resource that will then automatically support the with statement. The function being decorated must return a generator-iterator when called. The generator should initialize the context, yield exactly one time, then clean up the context. The value yielded, if any, is bound to the variable in the as clause of the with statement. Exceptions from within the with block are re-raised inside the generator, so they can be handled there."
   ]
  },
  {
   "cell_type": "markdown",
   "id": "5ad9567b-ae36-4186-bfab-e62da419b40c",
   "metadata": {},
   "source": [
    "Here’s what rewriting our `ManagedFile` context manager with this technique looks like:"
   ]
  },
  {
   "cell_type": "code",
   "execution_count": 6,
   "id": "useful-shooting",
   "metadata": {},
   "outputs": [],
   "source": [
    "from contextlib import contextmanager\n",
    "\n",
    "@contextmanager\n",
    "def managed_file(name):\n",
    "    try:\n",
    "        f = open(name, 'w')\n",
    "        yield f\n",
    "    finally:\n",
    "        f.close()"
   ]
  },
  {
   "cell_type": "code",
   "execution_count": 10,
   "id": "signal-slide",
   "metadata": {},
   "outputs": [],
   "source": [
    "with managed_file('hello.txt') as f:\n",
    "    f.write('hello, world!')\n",
    "    f.write('bye now')"
   ]
  },
  {
   "cell_type": "markdown",
   "id": "aboriginal-income",
   "metadata": {},
   "source": [
    "In this case, `managed_file()` is a generator that first acquires the resource. Then it temporarily suspends its own executing and yields the resource so it can be used by the caller. When the caller leaves the with context, the generator continues to execute so that any remaining clean up steps can happen and the resource gets released back to the system."
   ]
  },
  {
   "cell_type": "markdown",
   "id": "3c8f6597-161e-46b7-a6c1-67c305e13526",
   "metadata": {},
   "source": [
    "If an unhandled exception occurs in the block, it is reraised inside the generator at the point where the yield occurred. Thus, you can use a try…except…finally statement to trap the error (if any), or ensure that some cleanup takes place."
   ]
  },
  {
   "cell_type": "markdown",
   "id": "0572069b-0d44-41a2-a6f5-14b50f2b0b71",
   "metadata": {},
   "source": [
    "If you are wondering how `contextmanager` works under the hood, here is a python implementation:"
   ]
  },
  {
   "cell_type": "code",
   "execution_count": 37,
   "id": "611ab1c9-febd-4014-b6d6-36fa7afb6024",
   "metadata": {},
   "outputs": [],
   "source": [
    "class contextmanager:\n",
    "    def __init__(self, gen):\n",
    "        self.gen = gen\n",
    "        \n",
    "    def __call__(self, *args, **kwargs):\n",
    "        self.args, self.kwargs = args, kwargs\n",
    "        return self\n",
    "\n",
    "    def __enter__(self):\n",
    "        self.gen_instance = self.gen(*self.args, **self.kwargs)\n",
    "        return next(self.gen_instance)\n",
    "        \n",
    "    def __exit__(self, *args):\n",
    "        next(self.gen_instance, None)"
   ]
  },
  {
   "cell_type": "code",
   "execution_count": 30,
   "id": "53ddacf1-3a02-439a-b2f5-dc4b5c48a713",
   "metadata": {},
   "outputs": [],
   "source": [
    "@contextmanager\n",
    "def managed_file(name):\n",
    "    try:\n",
    "        f = open(name, 'w')\n",
    "        yield f\n",
    "    finally:\n",
    "        f.close()"
   ]
  },
  {
   "cell_type": "code",
   "execution_count": 31,
   "id": "8882baba-2ce8-4fff-b890-5908f5ef6b3b",
   "metadata": {},
   "outputs": [],
   "source": [
    "with managed_file('hello.txt') as f:\n",
    "    f.write('hello, world!')\n",
    "    f.write('bye now')"
   ]
  },
  {
   "cell_type": "markdown",
   "id": "9415bf88-be41-4062-a592-b3f6e03a8067",
   "metadata": {},
   "source": [
    "`contextmanager` now can decorate a generator with the `__call__` method which is basically running:\n",
    "\n",
    "```python\n",
    "generator = contextmanager(generator)\n",
    "```\n",
    "\n",
    "Now generator is a `contextmanager` object that has `__enter__` and `__exit__`, so it can be used using `with`. Calling `with generator(g_input) as f` runs:\n",
    "1. `__call__` method to store the generator arguments and return the `contexmanager` object.\n",
    "2. `__enter__`  creates a new generator instance implicitly with the stored arguments in `self.args` and `self.kwargs` and calls next on generator.\n",
    "3. When execution leaves the context again, `__exit__` is called which calls next on generator again."
   ]
  },
  {
   "cell_type": "markdown",
   "id": "speaking-guest",
   "metadata": {},
   "source": [
    "Both the class-based implementations and the generator-based are practically equivalent. Depending on which one you find more readable you might prefer one over the other."
   ]
  },
  {
   "cell_type": "markdown",
   "id": "single-union",
   "metadata": {},
   "source": [
    "A downside of the `@contextmanager`-based implementation might be that it requires understanding of advanced Python concepts, like decorators and generators."
   ]
  },
  {
   "cell_type": "markdown",
   "id": "543a382e-f56b-4306-ad36-f1ffa62f9fc1",
   "metadata": {},
   "source": [
    "### Supress Exceptions with `contextlib.suppress`"
   ]
  },
  {
   "cell_type": "markdown",
   "id": "e4228c11-e2bf-42fb-8303-40e9e5593bdb",
   "metadata": {},
   "source": [
    "Return a context manager that suppresses any of the specified exceptions if they occur in the body of a `with` statement and then resumes execution with the first statement following the end of the `with` statement."
   ]
  },
  {
   "cell_type": "markdown",
   "id": "3162a69c-1923-4b9d-8e93-6e7e62627913",
   "metadata": {},
   "source": [
    "As with any other mechanism that completely suppresses exceptions, this context manager should be used only to cover very specific errors where silently continuing with program execution is known to be the right thing to do."
   ]
  },
  {
   "cell_type": "markdown",
   "id": "667b5569-8558-475e-8434-da92f5bbaf19",
   "metadata": {},
   "source": [
    "For example:"
   ]
  },
  {
   "cell_type": "code",
   "execution_count": 13,
   "id": "c479b4a8-9510-40f7-9ac8-b880e3dae7d9",
   "metadata": {},
   "outputs": [],
   "source": [
    "from contextlib import suppress\n",
    "import os\n",
    "\n",
    "with suppress(FileNotFoundError):\n",
    "    os.remove('somefile.tmp')\n",
    "\n",
    "with suppress(FileNotFoundError):\n",
    "    os.remove('someotherfile.tmp')"
   ]
  },
  {
   "cell_type": "markdown",
   "id": "f63efaab-15b2-4fb4-8a00-40f605b27d0f",
   "metadata": {},
   "source": [
    "This code is equivalent to:"
   ]
  },
  {
   "cell_type": "code",
   "execution_count": 14,
   "id": "97f2e63a-122d-41b3-b63c-953e30d846bc",
   "metadata": {},
   "outputs": [],
   "source": [
    "try:\n",
    "    os.remove('somefile.tmp')\n",
    "except FileNotFoundError:\n",
    "    pass\n",
    "\n",
    "try:\n",
    "    os.remove('someotherfile.tmp')\n",
    "except FileNotFoundError:\n",
    "    pass"
   ]
  },
  {
   "cell_type": "markdown",
   "id": "6197ccb2-9693-4c8b-82b4-60aedcf33e52",
   "metadata": {},
   "source": [
    "### Null Context with `contextlib.nullcontext(enter_result=None)`"
   ]
  },
  {
   "cell_type": "markdown",
   "id": "906e4497-3438-4fe9-8e84-9fbe750168fb",
   "metadata": {},
   "source": [
    "Return a context manager that returns `enter_result` from `__enter__`, but otherwise does nothing. It is intended to be used as a stand-in for an optional context manager, for example:"
   ]
  },
  {
   "cell_type": "code",
   "execution_count": 16,
   "id": "09da8c12-6110-4316-86bd-21707b2ce9a5",
   "metadata": {},
   "outputs": [],
   "source": [
    "def myfunction(arg, ignore_exceptions=False):\n",
    "    if ignore_exceptions:\n",
    "        # Use suppress to ignore all exceptions.\n",
    "        cm = contextlib.suppress(Exception)\n",
    "    else:\n",
    "        # Do not ignore any exceptions, cm has no effect.\n",
    "        cm = contextlib.nullcontext()\n",
    "\n",
    "    with cm:\n",
    "        # Do something\n",
    "        pass"
   ]
  },
  {
   "cell_type": "markdown",
   "id": "9d5c46b8-5963-4386-b539-006477a2313f",
   "metadata": {},
   "source": [
    "An example using `enter_result`:"
   ]
  },
  {
   "cell_type": "code",
   "execution_count": 17,
   "id": "3024297d-a55f-4762-a1d0-7ae0ada216e4",
   "metadata": {},
   "outputs": [],
   "source": [
    "def process_file(file_or_path):\n",
    "    if isinstance(file_or_path, str):\n",
    "        # If string, open file\n",
    "        cm = open(file_or_path)\n",
    "    else:\n",
    "        # Caller is responsible for closing file\n",
    "        cm = nullcontext(file_or_path)\n",
    "\n",
    "    with cm as file:\n",
    "        # Perform processing on the file\n",
    "        pass"
   ]
  },
  {
   "cell_type": "markdown",
   "id": "comfortable-recipe",
   "metadata": {},
   "source": [
    "<a class=\"anchor\" id=\"writing_pretty_apis_with_context_managers\"></a>\n",
    "## Writing Pretty APIs With Context Managers"
   ]
  },
  {
   "cell_type": "markdown",
   "id": "designed-terror",
   "metadata": {},
   "source": [
    "Context managers are quite flexible and if you use the with statement creatively you can define convenient APIs for your modules and classes."
   ]
  },
  {
   "cell_type": "markdown",
   "id": "material-durham",
   "metadata": {},
   "source": [
    "For example, what if the “resource” we wanted to manage was text indentation levels in some kind of report generator program? What if we could write code like this to do it:\n",
    "\n",
    "```python\n",
    "with Indenter() as indent:\n",
    "    indent.print_('hi!')\n",
    "    with indent:\n",
    "        indent.print_('hello')\n",
    "        with indent:\n",
    "            indent.print_('bonjour')\n",
    "    indent.print_('hey')\n",
    "```"
   ]
  },
  {
   "cell_type": "markdown",
   "id": "oriental-hebrew",
   "metadata": {},
   "source": [
    "This almost reads like a domain-specific language (DSL) for indenting text. Also, notice how this code enters and leaves the same context manager multiple times to change indentation levels. Running this code snippet should lead to the following output and print neatly formatted text:\n",
    "\n",
    "```bash\n",
    "hi!\n",
    "    hello\n",
    "        bonjour\n",
    "hey\n",
    "```"
   ]
  },
  {
   "cell_type": "markdown",
   "id": "structured-sussex",
   "metadata": {},
   "source": [
    "How would you implement a context manager to support this functionality?"
   ]
  },
  {
   "cell_type": "markdown",
   "id": "velvet-terrace",
   "metadata": {},
   "source": [
    "By the way, this could be a great exercise to wrap your head around how context managers work. So before you check out my implementation below you might take some time and try to implement this yourself as a learning exercise."
   ]
  },
  {
   "cell_type": "markdown",
   "id": "coated-planner",
   "metadata": {},
   "source": [
    "<a class=\"anchor\" id=\"solution\"></a>\n",
    "### Solution"
   ]
  },
  {
   "cell_type": "markdown",
   "id": "hidden-binding",
   "metadata": {},
   "source": [
    "Ready? Here’s how we might implement this functionality using a class-based context manager:"
   ]
  },
  {
   "cell_type": "code",
   "execution_count": 44,
   "id": "composite-trout",
   "metadata": {},
   "outputs": [],
   "source": [
    "class Indenter:\n",
    "    def __init__(self):\n",
    "        self.level = 0\n",
    "\n",
    "    def __enter__(self):\n",
    "        self.level += 1\n",
    "        return self\n",
    "\n",
    "    def __exit__(self, exc_type, exc_val, exc_tb):\n",
    "        self.level -= 1\n",
    "\n",
    "    def print(self, text):\n",
    "        print('    ' * self.level + text)"
   ]
  },
  {
   "cell_type": "code",
   "execution_count": 30,
   "id": "impressive-radio",
   "metadata": {},
   "outputs": [
    {
     "name": "stdout",
     "output_type": "stream",
     "text": [
      "    hi!\n",
      "        hello\n",
      "            bonjour\n",
      "    hey\n"
     ]
    }
   ],
   "source": [
    "with Indenter() as indent:\n",
    "    indent.print('hi!')\n",
    "    with indent:\n",
    "        indent.print('hello')\n",
    "        with indent:\n",
    "            indent.print('bonjour')\n",
    "    indent.print('hey')"
   ]
  },
  {
   "cell_type": "markdown",
   "id": "recovered-watch",
   "metadata": {},
   "source": [
    "Another good exercise would be trying to refactor this code to be generator-based."
   ]
  },
  {
   "cell_type": "markdown",
   "id": "green-sampling",
   "metadata": {},
   "source": [
    "<a class=\"anchor\" id=\"things_to_remember\"></a>\n",
    "## Things to Remember\n",
    "- The `with` statement simplifies exception handling by encapsulating standard uses of `try/finally` statements in so-called Context Managers.\n",
    "- Most commonly it is used to manage the safe acquisition and release of system resources. Resources are acquired by the `with` statement and released automatically when execution leaves the `with` context.\n",
    "- Using `with` effectively can help you avoid resource leaks and make your code easier to read."
   ]
  }
 ],
 "metadata": {
  "kernelspec": {
   "display_name": "Python 3",
   "language": "python",
   "name": "python3"
  },
  "language_info": {
   "codemirror_mode": {
    "name": "ipython",
    "version": 3
   },
   "file_extension": ".py",
   "mimetype": "text/x-python",
   "name": "python",
   "nbconvert_exporter": "python",
   "pygments_lexer": "ipython3",
   "version": "3.8.11"
  }
 },
 "nbformat": 4,
 "nbformat_minor": 5
}
