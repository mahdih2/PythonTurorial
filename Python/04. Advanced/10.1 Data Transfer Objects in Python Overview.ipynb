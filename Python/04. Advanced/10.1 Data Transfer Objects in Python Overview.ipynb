{
 "cells": [
  {
   "cell_type": "markdown",
   "id": "c971eccd-9bda-4ef0-8302-1495844aa5c2",
   "metadata": {},
   "source": [
    "<img src=\"../../images/banners/python-advanced.png\" width=\"600\"/>"
   ]
  },
  {
   "cell_type": "markdown",
   "id": "14c4173b-53c6-4037-bffb-62221c3c462b",
   "metadata": {},
   "source": [
    "# <img src=\"../../images/logos/python.png\" width=\"23\"/> Records, Structs, and Data Transfer Objects in Python Overview"
   ]
  },
  {
   "cell_type": "markdown",
   "id": "742ddf33-068d-4b3f-a848-09e6bfcbed19",
   "metadata": {},
   "source": [
    "## <img src=\"../../images/logos/toc.png\" width=\"20\"/> Table of Contents \n",
    "* [Transfer Objects](#transfer_objects)\n",
    "    * [`dict` Built-in](#dict_built_in)\n",
    "    * [`tuple` Built-in](#tuple_built_in)\n",
    "    * [Writing a Custom Class](#writing_a_custom_class)\n",
    "    * [`collections.namedtuple` Class](#namedtuple)\n",
    "    * [`types.SimpleNamespace` Class](#simple_namespace)\n",
    "* [Which type should I use for data objects in Python?\n",
    "](#which_type_to_use)\n",
    "\n",
    "---"
   ]
  },
  {
   "cell_type": "markdown",
   "id": "32f64d51-762f-47db-9642-8a3322197365",
   "metadata": {},
   "source": [
    "A record is a collection of fields, possibly of different data types, typically in a fixed number and sequence. The fields of a record may also be called members, particularly in object-oriented programming; fields may also be called elements, though this risks confusion with the elements of a collection."
   ]
  },
  {
   "cell_type": "markdown",
   "id": "01a2ffae-c418-4da6-a2af-3f32fb2eaf9d",
   "metadata": {},
   "source": [
    "For example, a date could be stored as a record containing a numeric year field, a month field represented as a string, and a numeric day-of-month field. A personnel record might contain a name, a salary, and a rank. A Circle record might contain a center and a radius—in this instance, the center itself might be represented as a point record containing x and y coordinates."
   ]
  },
  {
   "cell_type": "markdown",
   "id": "c26f4f66-3b4b-4778-ba33-92aea5490680",
   "metadata": {},
   "source": [
    "Records are distinguished from arrays by the fact that their number of fields is typically fixed, each field has a name, and that each field may have a different type."
   ]
  },
  {
   "cell_type": "markdown",
   "id": "ed28e986-2bf1-4e4d-9505-4543b13207dd",
   "metadata": {},
   "source": [
    "Python provides several data types you can use to implement records, structs, and data transfer objects. In this article you’ll get a quick look at each implementation and its unique characteristics. At the end you’ll find a summary and a decision making guide that will help you make your own pick."
   ]
  },
  {
   "cell_type": "markdown",
   "id": "abbf93aa-46dc-4af4-a0d1-8d5568e19b35",
   "metadata": {},
   "source": [
    "<a class=\"anchor\" id=\"transfer_objects\"></a>\n",
    "## Transfer Objects"
   ]
  },
  {
   "cell_type": "markdown",
   "id": "68a96931-b8e4-4e48-b282-7d46fcb94b4a",
   "metadata": {},
   "source": [
    "<a class=\"anchor\" id=\"dict_built_in\"></a>\n",
    "### `dict` Built-in"
   ]
  },
  {
   "cell_type": "markdown",
   "id": "08798df0-1edf-4d05-a6cd-22f1c8b9a705",
   "metadata": {},
   "source": [
    "Python dictionaries store an arbitrary number of objects, each identified by a unique key. Dictionaries are often also called “maps” or “associative arrays” and allow the efficient lookup, insertion, and deletion of any object associated with a given key."
   ]
  },
  {
   "cell_type": "markdown",
   "id": "dace9d59-a465-462e-a587-f603e21e551b",
   "metadata": {},
   "source": [
    "Using dictionaries as a record data type or data object in Python is possible. Dictionaries are easy to create in Python as they have their own syntactic sugar built into the language in the form of dictionary literals. The dictionary syntax is concise and quite convenient to type."
   ]
  },
  {
   "cell_type": "markdown",
   "id": "abe3d650-dfeb-42e9-9fb6-75554e7e12aa",
   "metadata": {},
   "source": [
    "Data objects created using dictionaries are mutable and there’s little protection against misspelled field names, as fields can be added and removed freely at any time. Both of these properties can introduce surprising bugs and there’s always a trade-off to be made between convenience and error resilience."
   ]
  },
  {
   "cell_type": "code",
   "execution_count": 1,
   "id": "08e18afc-d4df-4598-8b08-fc245c11a02d",
   "metadata": {},
   "outputs": [],
   "source": [
    "car1 = {\n",
    "    'color': 'red',\n",
    "    'mileage': 3812.4,\n",
    "    'automatic': True,\n",
    "}\n",
    "car2 = {\n",
    "    'color': 'blue',\n",
    "    'mileage': 40231.0,\n",
    "    'automatic': False,\n",
    "}"
   ]
  },
  {
   "cell_type": "code",
   "execution_count": 2,
   "id": "4fc2d15e-c446-41c9-80df-752d38e636c9",
   "metadata": {},
   "outputs": [
    {
     "data": {
      "text/plain": [
       "{'color': 'blue', 'mileage': 40231.0, 'automatic': False}"
      ]
     },
     "execution_count": 2,
     "metadata": {},
     "output_type": "execute_result"
    }
   ],
   "source": [
    "# Dicts have a nice repr:\n",
    "car2"
   ]
  },
  {
   "cell_type": "code",
   "execution_count": 3,
   "id": "534cfbf5-9856-4302-91ec-7c360a4bd2a8",
   "metadata": {},
   "outputs": [
    {
     "data": {
      "text/plain": [
       "40231.0"
      ]
     },
     "execution_count": 3,
     "metadata": {},
     "output_type": "execute_result"
    }
   ],
   "source": [
    "# Get mileage:\n",
    "car2['mileage']"
   ]
  },
  {
   "cell_type": "code",
   "execution_count": 4,
   "id": "79d4fd16-710d-445e-ad72-8f890c4c94ec",
   "metadata": {},
   "outputs": [
    {
     "data": {
      "text/plain": [
       "{'color': 'blue', 'mileage': 12, 'automatic': False, 'windshield': 'broken'}"
      ]
     },
     "execution_count": 4,
     "metadata": {},
     "output_type": "execute_result"
    }
   ],
   "source": [
    "# Dicts are mutable:\n",
    "car2['mileage'] = 12\n",
    "car2['windshield'] = 'broken'\n",
    "car2"
   ]
  },
  {
   "cell_type": "code",
   "execution_count": 5,
   "id": "5cb058db-60f9-4d02-92cd-4ee9b0d791e6",
   "metadata": {},
   "outputs": [],
   "source": [
    "# No protection against wrong field names,\n",
    "# or missing/extra fields:\n",
    "car3 = {\n",
    "    'colr': 'green',\n",
    "    'automatic': False,\n",
    "    'windshield': 'broken',\n",
    "}"
   ]
  },
  {
   "cell_type": "markdown",
   "id": "886210e4-1940-402d-ad6e-f7b35220f502",
   "metadata": {},
   "source": [
    "<a class=\"anchor\" id=\"tuple_built_in\"></a>\n",
    "### `tuple` Built-in"
   ]
  },
  {
   "cell_type": "markdown",
   "id": "d896c816-0e18-42bc-86d7-7a3535ec75ea",
   "metadata": {},
   "source": [
    "Python’s tuples are a simple data structure for grouping arbitrary objects. Tuples are immutable—they cannot be modified once they’ve been created."
   ]
  },
  {
   "cell_type": "markdown",
   "id": "73898ee0-edf4-40c9-b515-51eb3bfe6d47",
   "metadata": {},
   "source": [
    "Performance import diswise, tuples take up slightly less memory than lists in CPython and they’re faster to construct at instantiation time. As you can see in the bytecode disassembly below, constructing a tuple constant takes a single LOAD_CONST opcode while constructing a list object with the same contents requires several more operations:"
   ]
  },
  {
   "cell_type": "code",
   "execution_count": 6,
   "id": "210488c2-5fbc-4ec1-801f-d3c42f33bf7f",
   "metadata": {},
   "outputs": [],
   "source": [
    "import dis"
   ]
  },
  {
   "cell_type": "code",
   "execution_count": 7,
   "id": "b9edb393-dcc6-4de9-b9cd-58b4a6b554a0",
   "metadata": {},
   "outputs": [
    {
     "name": "stdout",
     "output_type": "stream",
     "text": [
      "  1           0 LOAD_CONST               0 ((23, 'a', 'b', 'c'))\n",
      "              2 RETURN_VALUE\n"
     ]
    }
   ],
   "source": [
    "dis.dis(compile(\"(23, 'a', 'b', 'c')\", '', 'eval'))"
   ]
  },
  {
   "cell_type": "code",
   "execution_count": 8,
   "id": "edad2cf6-12d6-4704-98f4-b1655131151d",
   "metadata": {},
   "outputs": [
    {
     "name": "stdout",
     "output_type": "stream",
     "text": [
      "  1           0 LOAD_CONST               0 (23)\n",
      "              2 LOAD_CONST               1 ('a')\n",
      "              4 LOAD_CONST               2 ('b')\n",
      "              6 LOAD_CONST               3 ('c')\n",
      "              8 BUILD_LIST               4\n",
      "             10 RETURN_VALUE\n"
     ]
    }
   ],
   "source": [
    "dis.dis(compile(\"[23, 'a', 'b', 'c']\", '', 'eval'))"
   ]
  },
  {
   "cell_type": "markdown",
   "id": "a86879c9-f8fa-47a0-8641-e68b84fc69ba",
   "metadata": {},
   "source": [
    "However you shouldn’t place too much emphasis on these differences. In practice the performance difference will often be negligible and trying to squeeze out extra performance out of a program by switching from lists to tuples will likely be the wrong approach."
   ]
  },
  {
   "cell_type": "markdown",
   "id": "7d73d320-1c28-4692-87be-f09870d962de",
   "metadata": {},
   "source": [
    "A potential downside of plain tuples is that the data you store in them can only be pulled out by accessing it through integer indexes. You can’t give names to individual properties stored in a tuple. This can impact code readability."
   ]
  },
  {
   "cell_type": "markdown",
   "id": "ead94038-62bf-4ca7-9d45-248d1e91f547",
   "metadata": {},
   "source": [
    "Also, a tuple is always an ad-hoc structure. It’s difficult to ensure that two tuples have the same number of fields and the same properties stored on them."
   ]
  },
  {
   "cell_type": "markdown",
   "id": "c0706a19-d446-4747-91c3-6f27b88b4548",
   "metadata": {},
   "source": [
    "This makes it easy to introduce “slip-of-the-mind” bugs by mixing up the field order, for example. Therefore I would recommend you keep the number of fields stored in a tuple as low as possible."
   ]
  },
  {
   "cell_type": "code",
   "execution_count": 9,
   "id": "fce6a422-8d5d-46c6-b5e6-89ea1eff171e",
   "metadata": {},
   "outputs": [],
   "source": [
    "# Fields: color, mileage, automatic\n",
    "car1 = ('red', 3812.4, True)\n",
    "car2 = ('blue', 40231.0, False)"
   ]
  },
  {
   "cell_type": "code",
   "execution_count": 10,
   "id": "e640fde2-8453-4ec9-8234-564616662414",
   "metadata": {},
   "outputs": [
    {
     "data": {
      "text/plain": [
       "('red', 3812.4, True)"
      ]
     },
     "execution_count": 10,
     "metadata": {},
     "output_type": "execute_result"
    }
   ],
   "source": [
    "# Tuple instances have a nice repr:\n",
    "car1"
   ]
  },
  {
   "cell_type": "code",
   "execution_count": 11,
   "id": "73f66ca2-a2a1-429b-a62b-06134a8b8cbc",
   "metadata": {},
   "outputs": [
    {
     "data": {
      "text/plain": [
       "('blue', 40231.0, False)"
      ]
     },
     "execution_count": 11,
     "metadata": {},
     "output_type": "execute_result"
    }
   ],
   "source": [
    "car2"
   ]
  },
  {
   "cell_type": "code",
   "execution_count": 12,
   "id": "46ebc359-cfce-489d-ab15-14f6426fe3aa",
   "metadata": {},
   "outputs": [
    {
     "data": {
      "text/plain": [
       "40231.0"
      ]
     },
     "execution_count": 12,
     "metadata": {},
     "output_type": "execute_result"
    }
   ],
   "source": [
    "# Get mileage:\n",
    "car2[1]"
   ]
  },
  {
   "cell_type": "code",
   "execution_count": 13,
   "id": "b3cd59fd-4bf6-4782-8f6b-ff5e4afbc9a2",
   "metadata": {},
   "outputs": [
    {
     "ename": "TypeError",
     "evalue": "'tuple' object does not support item assignment",
     "output_type": "error",
     "traceback": [
      "\u001b[0;31m---------------------------------------------------------------------------\u001b[0m",
      "\u001b[0;31mTypeError\u001b[0m                                 Traceback (most recent call last)",
      "\u001b[0;32m<ipython-input-13-f66c7b696481>\u001b[0m in \u001b[0;36m<module>\u001b[0;34m\u001b[0m\n\u001b[1;32m      1\u001b[0m \u001b[0;31m# Tuples are immutable:\u001b[0m\u001b[0;34m\u001b[0m\u001b[0;34m\u001b[0m\u001b[0;34m\u001b[0m\u001b[0m\n\u001b[0;32m----> 2\u001b[0;31m \u001b[0mcar2\u001b[0m\u001b[0;34m[\u001b[0m\u001b[0;36m1\u001b[0m\u001b[0;34m]\u001b[0m \u001b[0;34m=\u001b[0m \u001b[0;36m12\u001b[0m\u001b[0;34m\u001b[0m\u001b[0;34m\u001b[0m\u001b[0m\n\u001b[0m",
      "\u001b[0;31mTypeError\u001b[0m: 'tuple' object does not support item assignment"
     ]
    }
   ],
   "source": [
    "# Tuples are immutable:\n",
    "car2[1] = 12"
   ]
  },
  {
   "cell_type": "code",
   "execution_count": null,
   "id": "75147e60-f169-431f-b2b5-58b592014ec8",
   "metadata": {},
   "outputs": [],
   "source": [
    "# No protection against missing/extra fields\n",
    "# or a wrong order:\n",
    "car3 = (3431.5, 'green', True, 'silver')"
   ]
  },
  {
   "cell_type": "markdown",
   "id": "0b7b42fc-0a52-49cc-bf8e-efe7872d1ce8",
   "metadata": {},
   "source": [
    "<a class=\"anchor\" id=\"writing_a_custom_class\"></a>\n",
    "### Writing a Custom Class"
   ]
  },
  {
   "cell_type": "markdown",
   "id": "9c51f679-12d8-46d8-a7be-dd7a05bb6286",
   "metadata": {},
   "source": [
    "Classes allow you to define reusable “blueprints” for data objects to ensure each object provides the same set of fields."
   ]
  },
  {
   "cell_type": "markdown",
   "id": "4fde0ff1-c6d4-4fb5-90e3-946d656deedc",
   "metadata": {},
   "source": [
    "Using regular Python classes as record data types is feasible, but it also takes manual work to get the convenience features of other implementations. For example, adding new fields to the `__init__` constructor is verbose and takes time."
   ]
  },
  {
   "cell_type": "markdown",
   "id": "597de381-6346-4fa4-b9bb-0aeaa2bdddfb",
   "metadata": {},
   "source": [
    "Also, the default string representation for objects instantiated from custom classes is not very helpful. To fix that you may have to add your own `__repr__` method, which again is usually quite verbose and must be updated every time you add a new field."
   ]
  },
  {
   "cell_type": "markdown",
   "id": "bf15a1ec-e0d7-4048-b958-72bc98152f75",
   "metadata": {},
   "source": [
    "Fields stored on classes are mutable and new fields can be added freely, which may or may not be what you intend. It’s possible to provide more access control and to create read-only fields using the @property decorator, but this requires writing more glue code."
   ]
  },
  {
   "cell_type": "markdown",
   "id": "d3c0c4de-95ee-47a2-904b-ba5753d9c398",
   "metadata": {},
   "source": [
    "Writing a custom class is a great option whenever you’d like to add business logic and behavior to your record objects using methods. But this means these objects are technically no longer plain data objects."
   ]
  },
  {
   "cell_type": "code",
   "execution_count": 1,
   "id": "65c66c81-1795-456a-8a7c-896854408596",
   "metadata": {},
   "outputs": [],
   "source": [
    "class Car:\n",
    "    def __init__(self, color, mileage, automatic):\n",
    "        self.color = color\n",
    "        self.mileage = mileage\n",
    "        self.automatic = automatic"
   ]
  },
  {
   "cell_type": "code",
   "execution_count": 2,
   "id": "926eed35-d730-4c9c-bc54-abf40218b45d",
   "metadata": {},
   "outputs": [],
   "source": [
    "car1 = Car('red', 3812.4, True)\n",
    "car2 = Car('blue', 40231.0, False)"
   ]
  },
  {
   "cell_type": "code",
   "execution_count": 3,
   "id": "e1764150-aad4-464a-a923-59e18a54568d",
   "metadata": {},
   "outputs": [
    {
     "data": {
      "text/plain": [
       "40231.0"
      ]
     },
     "execution_count": 3,
     "metadata": {},
     "output_type": "execute_result"
    }
   ],
   "source": [
    "# Get the mileage:\n",
    "car2.mileage"
   ]
  },
  {
   "cell_type": "code",
   "execution_count": 4,
   "id": "d966cf80-2382-4c05-9294-a42aba9780e7",
   "metadata": {},
   "outputs": [],
   "source": [
    "# Classes are mutable:\n",
    "car2.mileage = 12\n",
    "car2.windshield = 'broken'"
   ]
  },
  {
   "cell_type": "code",
   "execution_count": 5,
   "id": "de95ca67-d969-4509-90dd-f879b82607f0",
   "metadata": {},
   "outputs": [
    {
     "data": {
      "text/plain": [
       "<__main__.Car at 0x7fbfa814d250>"
      ]
     },
     "execution_count": 5,
     "metadata": {},
     "output_type": "execute_result"
    }
   ],
   "source": [
    "# String representation is not very useful\n",
    "# (must add a manually written __repr__ method):\n",
    "car1"
   ]
  },
  {
   "cell_type": "markdown",
   "id": "cf443594-a893-4e1b-bfe3-4cf4d1d5ea61",
   "metadata": {},
   "source": [
    "<a class=\"anchor\" id=\"namedtuple\"></a>\n",
    "### `collections.namedtuple` Class"
   ]
  },
  {
   "cell_type": "markdown",
   "id": "1dc17fd2-6cea-48bc-8c09-c289d9383e78",
   "metadata": {},
   "source": [
    "The namedtuple class available in Python 2.6+ provides an extension of the built-in tuple data type. Similarly to defining a custom class, using namedtuple allows you to define reusable “blueprints” for your records that ensure the correct field names are used."
   ]
  },
  {
   "cell_type": "markdown",
   "id": "b7ba0094-8bfc-49c1-bb87-ef89937bd86a",
   "metadata": {},
   "source": [
    "Namedtuples are immutable just like regular tuples. This means you cannot add new fields or modify existing fields after the namedtuple instance was created."
   ]
  },
  {
   "cell_type": "markdown",
   "id": "13b92d9d-e565-4a8b-852e-1b4317f21cd8",
   "metadata": {},
   "source": [
    "Besides that, namedtuples are, well…named tuples. Each object stored in them can be accessed through a unique identifier. This frees you from having to remember integer indexes, or resorting to workarounds like defining integer constants as mnemonics for your indexes."
   ]
  },
  {
   "cell_type": "markdown",
   "id": "038c324c-141f-44aa-9815-b19d66e7f754",
   "metadata": {},
   "source": [
    "Namedtuple objects are implemented as regular Python classes internally. When it comes to memory usage they are also “better” than regular classes and just as memory efficient as regular tuples:"
   ]
  },
  {
   "cell_type": "code",
   "execution_count": null,
   "id": "dafb59ae-47b5-46b2-aa88-73bcdd6554d9",
   "metadata": {},
   "outputs": [],
   "source": [
    "from collections import namedtuple\n",
    "from sys import getsizeof"
   ]
  },
  {
   "cell_type": "code",
   "execution_count": null,
   "id": "e9671c68-a428-4072-b231-d9d793e03cb2",
   "metadata": {},
   "outputs": [],
   "source": [
    "p1 = namedtuple('Point', 'x y z')(1, 2, 3)\n",
    "p2 = (1, 2, 3)"
   ]
  },
  {
   "cell_type": "code",
   "execution_count": null,
   "id": "a245ff84-7521-4f02-ae03-dddbf1063aa1",
   "metadata": {},
   "outputs": [],
   "source": [
    "getsizeof(p1)"
   ]
  },
  {
   "cell_type": "code",
   "execution_count": null,
   "id": "0aff8682-c9ce-4f12-8554-e0609b6372e7",
   "metadata": {},
   "outputs": [],
   "source": [
    "getsizeof(p2)"
   ]
  },
  {
   "cell_type": "markdown",
   "id": "7bd5363b-fbd4-4d00-a185-01403e821ab5",
   "metadata": {},
   "source": [
    "Namedtuples can be an easy way to clean up your code and to make it more readable by enforcing a better structure for your data."
   ]
  },
  {
   "cell_type": "markdown",
   "id": "fa06bc97-3553-4db3-8f70-c73f3aa070ea",
   "metadata": {},
   "source": [
    "I find that going from ad-hoc data types like dictionaries with a fixed format to namedtuples helps me express the intent of my code more clearly. Often when I apply this refactoring I magically come up with a better solution for the problem I’m facing."
   ]
  },
  {
   "cell_type": "markdown",
   "id": "105ea47e-0e66-40c8-8bd8-7e6094040203",
   "metadata": {},
   "source": [
    "Using namedtuples over unstructured tuples and dicts can also make my coworkers’ lives easier because namedtuples make the data passed around “self-documenting”, at least to a degree."
   ]
  },
  {
   "cell_type": "code",
   "execution_count": null,
   "id": "2abcb5f2-38ba-4546-8573-69f87af9cd4d",
   "metadata": {},
   "outputs": [],
   "source": [
    "from collections import namedtuple"
   ]
  },
  {
   "cell_type": "code",
   "execution_count": null,
   "id": "d34a6033-59c5-4ce3-8557-b649fa48509a",
   "metadata": {},
   "outputs": [],
   "source": [
    "Car = namedtuple('Car' , 'color mileage automatic')"
   ]
  },
  {
   "cell_type": "code",
   "execution_count": null,
   "id": "8dbc2c20-4923-45c2-8c56-a8330d8661cb",
   "metadata": {},
   "outputs": [],
   "source": [
    "car1 = Car('red', 3812.4, True)"
   ]
  },
  {
   "cell_type": "code",
   "execution_count": null,
   "id": "cac6f128-af1b-4047-9106-968be52799da",
   "metadata": {},
   "outputs": [],
   "source": [
    "# Instances have a nice repr:\n",
    "car1"
   ]
  },
  {
   "cell_type": "code",
   "execution_count": null,
   "id": "9555b5f1-c2fb-4df7-a0da-179d590ceef1",
   "metadata": {},
   "outputs": [],
   "source": [
    "# Accessing fields\n",
    "car1.mileage"
   ]
  },
  {
   "cell_type": "code",
   "execution_count": null,
   "id": "98a25504-bc35-4891-a304-e13eaf58aee9",
   "metadata": {},
   "outputs": [],
   "source": [
    "# Fields are immtuable:\n",
    "car1.mileage = 12"
   ]
  },
  {
   "cell_type": "code",
   "execution_count": null,
   "id": "3613f624-fa89-4ad3-9a29-6e04bbd84fc6",
   "metadata": {},
   "outputs": [],
   "source": [
    "car1.windshield = 'broken'"
   ]
  },
  {
   "cell_type": "markdown",
   "id": "3cba29db-14a3-4f73-8dad-6ac5cf251d01",
   "metadata": {},
   "source": [
    "<a class=\"anchor\" id=\"simple_namespace\"></a>\n",
    "### `types.SimpleNamespace` Class"
   ]
  },
  {
   "cell_type": "markdown",
   "id": "54f77110-a899-4c1d-9206-c547711232f2",
   "metadata": {},
   "source": [
    "Here’s one more “esoteric” choice for implementing data objects in Python. This class was added in Python 3.3 and it provides attribute access to its namespace. It also includes a meaningful `__repr__` by default."
   ]
  },
  {
   "cell_type": "markdown",
   "id": "52454a52-93d7-4da5-810c-5ce27ffb918c",
   "metadata": {},
   "source": [
    "As its name proclaims, SimpleNamespace is simple—it’s basically a glorified dictionary that allows attribute access and prints nicely. Attributes can be added, modified, and deleted freely."
   ]
  },
  {
   "cell_type": "code",
   "execution_count": null,
   "id": "0c37d4f6-04e0-4dbf-96c8-6e7001922f12",
   "metadata": {},
   "outputs": [],
   "source": [
    "from types import SimpleNamespace\n",
    "car1 = SimpleNamespace(color='red', mileage=3812.4, automatic=True)"
   ]
  },
  {
   "cell_type": "code",
   "execution_count": null,
   "id": "ac8f6269-dced-41ae-9879-5bf5d8d58159",
   "metadata": {},
   "outputs": [],
   "source": [
    "# The default repr:\n",
    "car1"
   ]
  },
  {
   "cell_type": "code",
   "execution_count": null,
   "id": "c631d236-d1a1-48a0-b3b4-05536dd60a67",
   "metadata": {},
   "outputs": [],
   "source": [
    "# Instances are mutable\n",
    "car1.mileage = 12\n",
    "car1.windshield = 'broken'\n",
    "del car1.automatic\n",
    "car1"
   ]
  },
  {
   "cell_type": "markdown",
   "id": "ec0008f1-a9d9-494e-b3b2-89f7da18f758",
   "metadata": {},
   "source": [
    "<a class=\"anchor\" id=\"which_type_to_use\"></a>\n",
    "## Which type should I use for data objects in Python?"
   ]
  },
  {
   "cell_type": "markdown",
   "id": "8299d664-5725-4e83-ad61-0e6389559ae6",
   "metadata": {},
   "source": [
    "As you’ve seen there’s quite a number of different options to implement records or data objects in Python. Generally your decision will depend on your use case:\n",
    "\n",
    "> **Note:** There is also `typing.NamedTuple` and `struct.Struct` that are not covered here. "
   ]
  },
  {
   "cell_type": "markdown",
   "id": "27f0d6c1-3e54-44d1-ad3b-d6ea8845856c",
   "metadata": {},
   "source": [
    "- **You only have a few (2-3) fields:** Using a plain tuple object may be okay because the field order is easy to remember or field names are superfluous. For example, think of an `(x, y, z)` point in 3D space.\n",
    "\n",
    "- **You need immutable fields:** In this case plain tuples, `collections.namedtuple`, `typing.NamedTuple` would all make good options for implementing this type of data object.\n",
    "\n",
    "- **You need to lock down field names to avoid typos:** `collections.namedtuple` and `typing.NamedTuple` are your friends.\n",
    "\n",
    "- **You want to keep things simple:** A plain dictionary object might be a good choice due to the convenient syntax that closely resembles JSON.\n",
    "\n",
    "- **You need full control over your data structure:** It’s time to write a custom class with `@property` setters and getters.\n",
    "\n",
    "- **You need to add behavior (methods) to the object:** You should write a custom class. Either from scratch or by extending `collections.namedtuple` or `typing.NamedTuple`."
   ]
  }
 ],
 "metadata": {
  "kernelspec": {
   "display_name": "Python 3",
   "language": "python",
   "name": "python3"
  },
  "language_info": {
   "codemirror_mode": {
    "name": "ipython",
    "version": 3
   },
   "file_extension": ".py",
   "mimetype": "text/x-python",
   "name": "python",
   "nbconvert_exporter": "python",
   "pygments_lexer": "ipython3",
   "version": "3.8.11"
  }
 },
 "nbformat": 4,
 "nbformat_minor": 5
}
