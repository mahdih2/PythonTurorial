{
 "cells": [
  {
   "cell_type": "markdown",
   "id": "38fe8175-0215-495a-b49f-97556ba85e9a",
   "metadata": {},
   "source": [
    "<img src=\"../../images/banners/python-oop.png\" width=\"600\"/>"
   ]
  },
  {
   "cell_type": "markdown",
   "id": "676d1ad1-5e29-40ba-9e79-ba4b922fc681",
   "metadata": {},
   "source": [
    "# <img src=\"../../images/logos/python.png\" width=\"23\"/> Type Hierarchy in Python"
   ]
  },
  {
   "cell_type": "markdown",
   "id": "23b46a34-eb8e-4550-8843-4c7758e69005",
   "metadata": {
    "tags": []
   },
   "source": [
    "## <img src=\"../../images/logos/toc.png\" width=\"20\"/> Table of Contents \n",
    "* [Python Classes](#python-classes)\n",
    "    * [Python 2 Classes](#python-2-classes)\n",
    "    * [Python 3 Classes](#python-3-classes)\n",
    "* [Inheritance from `object`](#inheritance-from-object)\n",
    "* [Objects and Types in Python](#objects-and-types-in-python)\n",
    "* [Metaclass in Python](#metaclass-in-python)\n",
    "\n",
    "---"
   ]
  },
  {
   "cell_type": "markdown",
   "id": "556581e4-4ae9-47b9-ae95-2976b15cab80",
   "metadata": {},
   "source": [
    "<a class=\"anchor\" id=\"python-classes\"></a>\n",
    "## Python Classes"
   ]
  },
  {
   "cell_type": "markdown",
   "id": "ea0d7a6f-04a1-4daf-83f7-d8719e886eee",
   "metadata": {},
   "source": [
    "<a class=\"anchor\" id=\"python-2-classes\"></a>\n",
    "### Python 2 Classes"
   ]
  },
  {
   "cell_type": "markdown",
   "id": "5436ce0d-d6cf-469c-933e-c9a5616c5688",
   "metadata": {},
   "source": [
    "In Python 2.x (from 2.2 onwards) there's two styles of classes depending on the presence or absence of object as a base-class:\n",
    "\n",
    "1. \"classic\" style classes: they don't have object as a base class:\n",
    "```python\n",
    ">>> class ClassicSpam:      # no base class\n",
    "...     pass\n",
    ">>> ClassicSpam.__bases__\n",
    "()\n",
    "```\n",
    "\n",
    "2 \"new\" style classes: they have, directly or indirectly (e.g inherit from a built-in type), object as a base class:\n",
    "```python\n",
    ">>> class NewSpam(object):           # directly inherit from object\n",
    "...    pass\n",
    ">>> NewSpam.__bases__\n",
    "(<type 'object'>,)\n",
    ">>> class IntSpam(int):              # indirectly inherit from object...\n",
    "...    pass\n",
    ">>> IntSpam.__bases__\n",
    "(<type 'int'>,) \n",
    ">>> IntSpam.__bases__[0].__bases__   # ... because int inherits from object  \n",
    "(<type 'object'>,)\n",
    "```"
   ]
  },
  {
   "cell_type": "markdown",
   "id": "4298dcf6-51af-464c-b879-d721f0909bc9",
   "metadata": {},
   "source": [
    "Without a doubt, when writing a class you'll always want to go for new-style classes. The perks of doing so are numerous, to list some of them:\n",
    "\n",
    "- Support for descriptors. Specifically, the following constructs are made possible with descriptors:\n",
    "- `classmethod`: A method that receives the class as an implicit argument instead of the instance.\n",
    "- `staticmethod`: A method that does not receive the implicit argument self as a first argument.\n",
    "- properties with property: Create functions for managing the getting, setting and deleting of an attribute.\n",
    "- `__slots__`: Saves memory consumptions of a class and also results in faster attribute access. Of course, it does impose limitations.\n",
    "- The `__new__` static method: lets you customize how new class instances are created.\n",
    "- Method resolution order (MRO): in what order the base classes of a class will be searched when trying to resolve which method to call.\n",
    "- Related to MRO, super calls. Also see, super() considered super."
   ]
  },
  {
   "cell_type": "markdown",
   "id": "056c4209-62cf-44a9-baa8-2bbf8eff92a3",
   "metadata": {},
   "source": [
    "If you don't inherit from object, forget these. A more exhaustive description of the previous bullet points along with other perks of \"new\" style classes can be found [here](https://www.python.org/download/releases/2.2.3/descrintro/)."
   ]
  },
  {
   "cell_type": "markdown",
   "id": "aa3cc90d-16dc-45d0-8500-0581925fd7f4",
   "metadata": {},
   "source": [
    "One of the downsides of new-style classes is that the class itself is more memory demanding. Unless you're creating many class objects, though, I doubt this would be an issue and it's a negative sinking in a sea of positives."
   ]
  },
  {
   "cell_type": "markdown",
   "id": "3bf05a4e-2657-422f-8452-3454a80fe45d",
   "metadata": {},
   "source": [
    "<a class=\"anchor\" id=\"python-3-classes\"></a>\n",
    "### Python 3 Classes"
   ]
  },
  {
   "cell_type": "markdown",
   "id": "eb0ddfa2-8802-46dc-a0b7-fcd1fb898b09",
   "metadata": {},
   "source": [
    "In Python 3, things are simplified. Only new-style classes exist (referred to plainly as classes) so, the only difference in adding object is requiring you to type in 8 more characters. This:"
   ]
  },
  {
   "cell_type": "code",
   "execution_count": 1,
   "id": "562c58f7-0d4e-4616-b9a8-e336d2f1d60e",
   "metadata": {},
   "outputs": [],
   "source": [
    "class ClassicSpam:\n",
    "    pass"
   ]
  },
  {
   "cell_type": "markdown",
   "id": "18a0f4ff-bb86-4c18-951c-31d6741feaaf",
   "metadata": {},
   "source": [
    "is completely equivalent (apart from their name!) to this:"
   ]
  },
  {
   "cell_type": "code",
   "execution_count": 2,
   "id": "e5a4b392-1b01-43c2-9e0d-2467d077fdc1",
   "metadata": {},
   "outputs": [],
   "source": [
    "class NewSpam(object):\n",
    "     pass"
   ]
  },
  {
   "cell_type": "markdown",
   "id": "34acecbd-047e-4e37-9bf2-abfa6221daf0",
   "metadata": {},
   "source": [
    "and to this:"
   ]
  },
  {
   "cell_type": "code",
   "execution_count": 3,
   "id": "c6e41fc0-b094-4b7f-918e-ff262f3fa792",
   "metadata": {},
   "outputs": [],
   "source": [
    "class Spam():\n",
    "    pass"
   ]
  },
  {
   "cell_type": "markdown",
   "id": "2888220b-ad03-4951-be35-b11df16ee9e8",
   "metadata": {},
   "source": [
    "All have object in their __bases__."
   ]
  },
  {
   "cell_type": "code",
   "execution_count": 4,
   "id": "c88da708-f466-4399-bc7f-7988a983cdb5",
   "metadata": {},
   "outputs": [
    {
     "data": {
      "text/plain": [
       "[True, True, True]"
      ]
     },
     "execution_count": 4,
     "metadata": {},
     "output_type": "execute_result"
    }
   ],
   "source": [
    "[object in cls.__bases__ for cls in {Spam, NewSpam, ClassicSpam}]"
   ]
  },
  {
   "cell_type": "markdown",
   "id": "b7cd16a3-eb14-4fe0-a154-3d92cd6da122",
   "metadata": {},
   "source": [
    "<a class=\"anchor\" id=\"inheritance-from-object\"></a>\n",
    "## Inheritance from `object`"
   ]
  },
  {
   "cell_type": "markdown",
   "id": "607f51ac-a1d0-4c52-9caa-7b96eecacb9c",
   "metadata": {},
   "source": [
    "In Python3, all classes implicitly inherit from the built-in object base class. The object class provides some common methods, such as `__init__`, `__str__`, and `__new__`, that can be overridden by the child class. Consider the code below, for example:"
   ]
  },
  {
   "cell_type": "code",
   "execution_count": 8,
   "id": "af89a6fe-12e1-43aa-affc-b3a4c4a3ddeb",
   "metadata": {},
   "outputs": [],
   "source": [
    "class Human:\n",
    "    pass"
   ]
  },
  {
   "cell_type": "markdown",
   "id": "5e742eee-286a-44e9-9415-164e3a83c3de",
   "metadata": {},
   "source": [
    "In the above code, the `Human` class does not define any attributes or methods. However, by default, the `Human` class inherits the `object` base class and as a result it has all the attributes and methods defined by the object base class. We can check all the attributes and the methods inherited or defined by the Human class using the dir function."
   ]
  },
  {
   "cell_type": "code",
   "execution_count": 9,
   "id": "8a6a556c-1500-4daf-b008-e4327879976c",
   "metadata": {},
   "outputs": [
    {
     "data": {
      "text/plain": [
       "['__class__',\n",
       " '__delattr__',\n",
       " '__dict__',\n",
       " '__dir__',\n",
       " '__doc__',\n",
       " '__eq__',\n",
       " '__format__',\n",
       " '__ge__',\n",
       " '__getattribute__',\n",
       " '__gt__',\n",
       " '__hash__',\n",
       " '__init__',\n",
       " '__init_subclass__',\n",
       " '__le__',\n",
       " '__lt__',\n",
       " '__module__',\n",
       " '__ne__',\n",
       " '__new__',\n",
       " '__reduce__',\n",
       " '__reduce_ex__',\n",
       " '__repr__',\n",
       " '__setattr__',\n",
       " '__sizeof__',\n",
       " '__str__',\n",
       " '__subclasshook__',\n",
       " '__weakref__']"
      ]
     },
     "execution_count": 9,
     "metadata": {},
     "output_type": "execute_result"
    }
   ],
   "source": [
    "dir(Human)"
   ]
  },
  {
   "cell_type": "markdown",
   "id": "acb835d4-cb78-47c4-86db-addc0de35544",
   "metadata": {},
   "source": [
    "The `dir` function's output shows that the `Human` class has lots of methods and attributes, most of which are available to the `Human` class from the `object` base class. Python provides a `__bases__` attribute on each class that can be used to obtain a list of classes the given class inherits."
   ]
  },
  {
   "cell_type": "markdown",
   "id": "c6a78fe1-11e3-465c-994f-66d9635984eb",
   "metadata": {},
   "source": [
    "> The `__bases__` property of the class contains a list of all the base classes that the given class inherits."
   ]
  },
  {
   "cell_type": "markdown",
   "id": "ce9be830-212b-4f8c-9f82-c9d2a5ba8d93",
   "metadata": {},
   "source": [
    "The above output shows that the `Human` class has `object` as a base class. We can also look at the attributes and methods defined by the `object` class using the `dir` function."
   ]
  },
  {
   "cell_type": "code",
   "execution_count": 10,
   "id": "1890b2f4-ecfe-4e81-a77f-4e84952d3bdb",
   "metadata": {},
   "outputs": [
    {
     "data": {
      "text/plain": [
       "['__class__',\n",
       " '__delattr__',\n",
       " '__dir__',\n",
       " '__doc__',\n",
       " '__eq__',\n",
       " '__format__',\n",
       " '__ge__',\n",
       " '__getattribute__',\n",
       " '__gt__',\n",
       " '__hash__',\n",
       " '__init__',\n",
       " '__init_subclass__',\n",
       " '__le__',\n",
       " '__lt__',\n",
       " '__ne__',\n",
       " '__new__',\n",
       " '__reduce__',\n",
       " '__reduce_ex__',\n",
       " '__repr__',\n",
       " '__setattr__',\n",
       " '__sizeof__',\n",
       " '__str__',\n",
       " '__subclasshook__']"
      ]
     },
     "execution_count": 10,
     "metadata": {},
     "output_type": "execute_result"
    }
   ],
   "source": [
    "dir(object)"
   ]
  },
  {
   "cell_type": "markdown",
   "id": "ba5dab29-d38c-43d1-9b78-5c4c041fa653",
   "metadata": {},
   "source": [
    "As discussed, the above definition of the `Human` class is equivalent to the following code; here, we are explicitly inheriting the `object` base class. Although you can explicitly inherit the `object` base class, it's not required!"
   ]
  },
  {
   "cell_type": "code",
   "execution_count": 12,
   "id": "f7eb3599-a787-4dc8-8569-8ee717be0e5c",
   "metadata": {},
   "outputs": [],
   "source": [
    "class Human(object):\n",
    "    pass"
   ]
  },
  {
   "cell_type": "markdown",
   "id": "f605773c-f947-4f93-94eb-2efaabc9109e",
   "metadata": {},
   "source": [
    "object base class provides `__init__` and `__new__` methods that are used for creating and initializing objects of a class."
   ]
  },
  {
   "cell_type": "markdown",
   "id": "e354dfb5-1846-4400-8af2-5f0427ec516a",
   "metadata": {},
   "source": [
    "<img src=\"./images/human-object.svg\" width=\"100\"/>"
   ]
  },
  {
   "cell_type": "markdown",
   "id": "0a5f8d07-7eb2-4710-8922-b43fccf98d22",
   "metadata": {},
   "source": [
    "<a class=\"anchor\" id=\"objects-and-types-in-python\"></a>\n",
    "## Objects and Types in Python"
   ]
  },
  {
   "cell_type": "markdown",
   "id": "25f0aa0d-fcee-4e13-b09e-1832267a7fd7",
   "metadata": {},
   "source": [
    "Python is an object-oriented programming language. Everything in Python is an object or an instance. Classes, functions, and even simple data types, such as integer and float, are also objects of some class in Python. Each object has a class from which it is instantiated. To get the class or the type of object, Python provides us with the `type` function and `__class__` property defined on the object itself."
   ]
  },
  {
   "cell_type": "code",
   "execution_count": 13,
   "id": "d0eb1feb-3b77-4d05-a104-20251d358377",
   "metadata": {},
   "outputs": [
    {
     "data": {
      "text/plain": [
       "int"
      ]
     },
     "execution_count": 13,
     "metadata": {},
     "output_type": "execute_result"
    }
   ],
   "source": [
    "a = 9\n",
    "type(a)"
   ]
  },
  {
   "cell_type": "code",
   "execution_count": 14,
   "id": "da2b8a43-9c8f-4a54-9359-cce73384b3c8",
   "metadata": {},
   "outputs": [
    {
     "data": {
      "text/plain": [
       "float"
      ]
     },
     "execution_count": 14,
     "metadata": {},
     "output_type": "execute_result"
    }
   ],
   "source": [
    "b = 9.0\n",
    "type(b)"
   ]
  },
  {
   "cell_type": "markdown",
   "id": "20a18b47-b3f5-4632-b65d-d0f3a7645e08",
   "metadata": {},
   "source": [
    "We can also use the `__class__` property of the object to find the type or class of the object."
   ]
  },
  {
   "cell_type": "code",
   "execution_count": 16,
   "id": "6561013b-7842-4759-983b-3a0465db262f",
   "metadata": {},
   "outputs": [
    {
     "data": {
      "text/plain": [
       "int"
      ]
     },
     "execution_count": 16,
     "metadata": {},
     "output_type": "execute_result"
    }
   ],
   "source": [
    "a.__class__"
   ]
  },
  {
   "cell_type": "code",
   "execution_count": 17,
   "id": "be11de50-3ced-4973-8a64-bf6a8e7a695a",
   "metadata": {},
   "outputs": [
    {
     "data": {
      "text/plain": [
       "float"
      ]
     },
     "execution_count": 17,
     "metadata": {},
     "output_type": "execute_result"
    }
   ],
   "source": [
    "b.__class__"
   ]
  },
  {
   "cell_type": "markdown",
   "id": "0da399ca-f58c-4ecc-9dc3-8cbad8135652",
   "metadata": {},
   "source": [
    "After simple data types, let's now understand the `type` function and `__class__` attribute with the help of a user-defined class, `Human`. Consider the `Human` class defined below:"
   ]
  },
  {
   "cell_type": "code",
   "execution_count": 18,
   "id": "bae4b383-3c29-4c7d-a0be-c5be8b345bad",
   "metadata": {},
   "outputs": [],
   "source": [
    "class Human:\n",
    "    pass"
   ]
  },
  {
   "cell_type": "code",
   "execution_count": 19,
   "id": "d7e38638-699e-452b-9c93-bcc4dc7ba232",
   "metadata": {},
   "outputs": [],
   "source": [
    "human_obj = Human()"
   ]
  },
  {
   "cell_type": "markdown",
   "id": "f642794f-fc52-49a2-9e6a-fff8e85951ad",
   "metadata": {},
   "source": [
    "The above code creates an instance `human_obj` of the `Human` class. We can find out the class (or type of `human_obj`) from which `human_obj` was created using either the `type` function or the `__class__` property of the `human_obj` object."
   ]
  },
  {
   "cell_type": "code",
   "execution_count": 20,
   "id": "95a9b1fd-cafa-47ae-9c8f-6f9f3e7ed185",
   "metadata": {},
   "outputs": [
    {
     "data": {
      "text/plain": [
       "__main__.Human"
      ]
     },
     "execution_count": 20,
     "metadata": {},
     "output_type": "execute_result"
    }
   ],
   "source": [
    "type(human_obj)"
   ]
  },
  {
   "cell_type": "code",
   "execution_count": 21,
   "id": "d3715c1e-5830-4b3b-838a-ad5439a9e94c",
   "metadata": {},
   "outputs": [
    {
     "data": {
      "text/plain": [
       "__main__.Human"
      ]
     },
     "execution_count": 21,
     "metadata": {},
     "output_type": "execute_result"
    }
   ],
   "source": [
    "human_obj.__class__"
   ]
  },
  {
   "cell_type": "markdown",
   "id": "f694b9a9-9bff-4756-9090-bebb8538e987",
   "metadata": {},
   "source": [
    "The output of `type(human_obj)` and `human_obj.__class__` shows that `human_obj` is of type `Human` (i.e., `human_obj` has been created from the `Human` class)."
   ]
  },
  {
   "cell_type": "markdown",
   "id": "70fd55ea-0ba9-4c23-9b0d-811b56dd3819",
   "metadata": {},
   "source": [
    "As functions are also objects in Python, we can find their type or class using the type function or the `__class__` attribute."
   ]
  },
  {
   "cell_type": "code",
   "execution_count": 23,
   "id": "efb33251-5ed2-4d45-88b0-8972189c2f3b",
   "metadata": {},
   "outputs": [],
   "source": [
    "def simple_function():\n",
    "    pass"
   ]
  },
  {
   "cell_type": "code",
   "execution_count": 24,
   "id": "8a0ae728-1da9-48e2-a594-e301d2d32f1e",
   "metadata": {},
   "outputs": [
    {
     "data": {
      "text/plain": [
       "function"
      ]
     },
     "execution_count": 24,
     "metadata": {},
     "output_type": "execute_result"
    }
   ],
   "source": [
    "type(simple_function)"
   ]
  },
  {
   "cell_type": "code",
   "execution_count": 25,
   "id": "0eadf68d-b105-444f-8946-762b4c447e3d",
   "metadata": {},
   "outputs": [
    {
     "data": {
      "text/plain": [
       "function"
      ]
     },
     "execution_count": 25,
     "metadata": {},
     "output_type": "execute_result"
    }
   ],
   "source": [
    "simple_function.__class__"
   ]
  },
  {
   "cell_type": "markdown",
   "id": "3ac73dce-360f-41fb-9bc1-94626a81d7d1",
   "metadata": {},
   "source": [
    "Thus, `simple_function` is an object of the class `function`."
   ]
  },
  {
   "cell_type": "markdown",
   "id": "27cdedaa-b54f-45ee-be72-50c8c475a088",
   "metadata": {},
   "source": [
    "**Classes from which objects are created are also objects in Python.** "
   ]
  },
  {
   "cell_type": "markdown",
   "id": "f4d66b01-41cb-44a9-968f-6e3670abc110",
   "metadata": {},
   "source": [
    "For example, the Human class (from which `human_obj` was created) is an object in itself. Yes, you heard it right! Even classes have a class from which they are created or instantiated. As soon as you use the keyword class, Python executes it and creates an object. The instruction:"
   ]
  },
  {
   "cell_type": "code",
   "execution_count": 36,
   "id": "e32a05b2-129e-491e-8893-89da1f4b9361",
   "metadata": {},
   "outputs": [],
   "source": [
    "class Human:\n",
    "    pass"
   ]
  },
  {
   "cell_type": "markdown",
   "id": "45c5434b-9083-4bd0-a4f4-493e3fe9b980",
   "metadata": {},
   "source": [
    "creates in memory an object with the name `Human`."
   ]
  },
  {
   "cell_type": "markdown",
   "id": "fbf7746e-583b-4281-a3e2-09eab765484f",
   "metadata": {},
   "source": [
    "Let's find out the type or class of the `Human` class."
   ]
  },
  {
   "cell_type": "code",
   "execution_count": 27,
   "id": "3c713f2e-f118-4822-969c-8cb5c2a591c9",
   "metadata": {},
   "outputs": [
    {
     "data": {
      "text/plain": [
       "type"
      ]
     },
     "execution_count": 27,
     "metadata": {},
     "output_type": "execute_result"
    }
   ],
   "source": [
    "type(Human)"
   ]
  },
  {
   "cell_type": "code",
   "execution_count": 28,
   "id": "2524f757-9c94-40d5-8f74-549b5254f087",
   "metadata": {},
   "outputs": [
    {
     "data": {
      "text/plain": [
       "type"
      ]
     },
     "execution_count": 28,
     "metadata": {},
     "output_type": "execute_result"
    }
   ],
   "source": [
    "Human.__class__"
   ]
  },
  {
   "cell_type": "markdown",
   "id": "f0502e48-2fad-4121-a547-aa0bacc7431e",
   "metadata": {},
   "source": [
    "Thus, the above code shows that the Human class and every other class in Python are objects of the class `type`. This `type` is a class and is different from the `type` function that returns the type of object. The `type` class, from which all the classes are created, is called the **Metaclass** in Python. Let's learn more about metaclass."
   ]
  },
  {
   "cell_type": "markdown",
   "id": "3ce85c8c-2b9e-47f2-ac72-bf5d1789f5f0",
   "metadata": {},
   "source": [
    "<a class=\"anchor\" id=\"metaclass-in-python\"></a>\n",
    "## Metaclass in Python"
   ]
  },
  {
   "cell_type": "markdown",
   "id": "2a7427d8-5b81-4690-a141-2d469d86ec86",
   "metadata": {},
   "source": [
    "Metaclass is a class from which classes are instantiated or metaclass is a class of a class."
   ]
  },
  {
   "cell_type": "markdown",
   "id": "dd43038f-714b-4f7d-908d-a91fd4265738",
   "metadata": {},
   "source": [
    "Earlier in the article, we checked that variables `a` and `b` are objects of classes `int` and `float`, respectively. As `int` and `float` are classes, they should have a class or metaclass from which they are created."
   ]
  },
  {
   "cell_type": "code",
   "execution_count": 29,
   "id": "511c6279-5eae-47e0-8474-204c9f84ccc6",
   "metadata": {},
   "outputs": [
    {
     "data": {
      "text/plain": [
       "type"
      ]
     },
     "execution_count": 29,
     "metadata": {},
     "output_type": "execute_result"
    }
   ],
   "source": [
    "type(int)"
   ]
  },
  {
   "cell_type": "code",
   "execution_count": 30,
   "id": "1d8a3a4a-fcd6-4f9a-82c3-057a7cebdfe9",
   "metadata": {},
   "outputs": [
    {
     "data": {
      "text/plain": [
       "type"
      ]
     },
     "execution_count": 30,
     "metadata": {},
     "output_type": "execute_result"
    }
   ],
   "source": [
    "type(float)"
   ]
  },
  {
   "cell_type": "code",
   "execution_count": 31,
   "id": "c745294a-6404-4ed5-a731-197333f63fe7",
   "metadata": {},
   "outputs": [
    {
     "data": {
      "text/plain": [
       "type"
      ]
     },
     "execution_count": 31,
     "metadata": {},
     "output_type": "execute_result"
    }
   ],
   "source": [
    "type(object)"
   ]
  },
  {
   "cell_type": "markdown",
   "id": "1522998d-ce5f-49b9-b15b-a3dece00341e",
   "metadata": {},
   "source": [
    "Thus, the `type` class is the metaclass of `int` and `float` classes. The `type` class is even the metaclass for the built-in `object` class, which is the base class for all the classes in Python. As `type` itself is a class, what is the metaclass of the `type` class? The `type` class is a metaclass of itself!"
   ]
  },
  {
   "cell_type": "code",
   "execution_count": 33,
   "id": "8188a73f-1938-4c64-a6b1-1f958abdf42f",
   "metadata": {},
   "outputs": [
    {
     "data": {
      "text/plain": [
       "type"
      ]
     },
     "execution_count": 33,
     "metadata": {},
     "output_type": "execute_result"
    }
   ],
   "source": [
    "type(type)"
   ]
  },
  {
   "cell_type": "markdown",
   "id": "b6e46f27-3d63-4994-b914-839ff574f55b",
   "metadata": {},
   "source": [
    "<img src=\"./images/human-metaclass.svg\" width=\"500\"/>"
   ]
  },
  {
   "cell_type": "markdown",
   "id": "15c07167-57cf-4bfd-b157-a7b9260dd913",
   "metadata": {},
   "source": [
    "Metaclass is the least talked about topic and is not normally used very much in daily programming. I delve into this topic because metaclass plays an essential role in the object creation process."
   ]
  },
  {
   "cell_type": "markdown",
   "id": "ca065df4-7499-48e1-b100-a33f9452be80",
   "metadata": {},
   "source": [
    "The two important concepts that we have covered so far are as follows:\n",
    "\n",
    "- All classes in Python are objects of the type class, and this type class is called Metaclass.\n",
    "- Each class in Python, by default, inherits from the `object` base class."
   ]
  },
  {
   "cell_type": "markdown",
   "id": "3257c189-5494-4474-b693-1cd3b3f137ac",
   "metadata": {},
   "source": [
    "<img src=\"./images/human-object-metaclass.svg\" width=\"600\"/>"
   ]
  },
  {
   "cell_type": "markdown",
   "id": "74bfc8e3-c7a5-4ec5-8d8b-634593c032b0",
   "metadata": {},
   "source": [
    "`type` and `object` are special in that they are the base of the type hierarchy. Everything is an instance of `object`. Every type/class is an instance of `type`. So `type` is an instance of `object` and `object` is also an instance of `type`. There is also a cycle: `type` and `object` are instances of each other. This kind of mutual inheritance is not normally possible, but that's the way it is for these fundamental types in Python: they break the rules."
   ]
  },
  {
   "cell_type": "code",
   "execution_count": 4,
   "id": "c05d0deb-9057-48cb-a69f-abd138c0ad2a",
   "metadata": {},
   "outputs": [
    {
     "data": {
      "text/plain": [
       "(True, True)"
      ]
     },
     "execution_count": 4,
     "metadata": {},
     "output_type": "execute_result"
    }
   ],
   "source": [
    "isinstance(type, object), isinstance(object, type)"
   ]
  },
  {
   "cell_type": "code",
   "execution_count": 12,
   "id": "a4d6fd10-f737-4c5b-b649-dbf97ecb2fd2",
   "metadata": {},
   "outputs": [
    {
     "data": {
      "text/plain": [
       "(True, True)"
      ]
     },
     "execution_count": 12,
     "metadata": {},
     "output_type": "execute_result"
    }
   ],
   "source": [
    "isinstance(object, object), isinstance(type, type)"
   ]
  },
  {
   "cell_type": "code",
   "execution_count": 14,
   "id": "9353bc28-b04c-4256-9f18-ffabbda72fbb",
   "metadata": {},
   "outputs": [
    {
     "data": {
      "text/plain": [
       "(False, True)"
      ]
     },
     "execution_count": 14,
     "metadata": {},
     "output_type": "execute_result"
    }
   ],
   "source": [
    "issubclass(object, type), issubclass(type, object)"
   ]
  },
  {
   "cell_type": "markdown",
   "id": "9a3253b9-0f3e-462d-81ea-a596e7fdb53a",
   "metadata": {},
   "source": [
    "Below is the diagram for a **class hierarchy** in python:"
   ]
  },
  {
   "cell_type": "markdown",
   "id": "2cd2348b-3c88-475e-b6ed-aa27259fc5b4",
   "metadata": {},
   "source": [
    "<img src=\"./images/inheritance-tree.svg\" width=\"900\"/>"
   ]
  }
 ],
 "metadata": {
  "kernelspec": {
   "display_name": "Python 3",
   "language": "python",
   "name": "python3"
  },
  "language_info": {
   "codemirror_mode": {
    "name": "ipython",
    "version": 3
   },
   "file_extension": ".py",
   "mimetype": "text/x-python",
   "name": "python",
   "nbconvert_exporter": "python",
   "pygments_lexer": "ipython3",
   "version": "3.8.11"
  }
 },
 "nbformat": 4,
 "nbformat_minor": 5
}
