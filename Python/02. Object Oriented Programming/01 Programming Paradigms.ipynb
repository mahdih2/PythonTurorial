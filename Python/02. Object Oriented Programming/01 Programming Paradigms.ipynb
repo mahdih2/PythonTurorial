{
 "cells": [
  {
   "cell_type": "markdown",
   "metadata": {},
   "source": [
    "<img src=\"../../images/banners/python-oop.png\" width=\"600\"/>"
   ]
  },
  {
   "cell_type": "markdown",
   "metadata": {},
   "source": [
    "# <img src=\"../../images/logos/python.png\" width=\"23\"/> Programming Paradigms\n"
   ]
  },
  {
   "cell_type": "markdown",
   "metadata": {},
   "source": [
    "## <img src=\"../../images/logos/toc.png\" width=\"20\"/> Table of Contents \n",
    "* [Programming Paradigms](#programming_paradigms)\n",
    "* [Imperative vs Declarative Control Flow](#imperative_vs_declarative)\n",
    "\n",
    "---"
   ]
  },
  {
   "cell_type": "markdown",
   "metadata": {},
   "source": [
    "Python is an outstanding programming language that allows you to write code in different paradigms or combine them into a 'multi-paradigmatic' approach.\n",
    "\n",
    "But what does that even mean? Let’s define what a programming paradigm is first."
   ]
  },
  {
   "cell_type": "markdown",
   "metadata": {},
   "source": [
    "<a class=\"anchor\" id=\"programming_paradigms\"></a>\n",
    "## Programming Paradigms"
   ]
  },
  {
   "cell_type": "markdown",
   "metadata": {},
   "source": [
    "A programming paradigm can be termed as an approach or a style of writing code. Most of the modern programming languages fall into two general paradigms: imperative (procedural, OOP etc.) and declarative(functional etc.)."
   ]
  },
  {
   "cell_type": "markdown",
   "metadata": {},
   "source": [
    "Popular examples of declarative languages are database query languages such as SQL, markup languages like HTML and CSS, and in functional and logic programming languages.\n",
    "\n",
    "Popular examples of imperative languages are Java,C++ and C#"
   ]
  },
  {
   "cell_type": "markdown",
   "metadata": {},
   "source": [
    "The easiest way to explain the difference between declarative and imperative code, would be that imperative code focuses on writing an explicit sequence of commands to describe **how** you want the computer to do things, and declarative code focuses on specifying the result of **what** you want."
   ]
  },
  {
   "cell_type": "markdown",
   "metadata": {},
   "source": [
    "In other words, declarative programming is a paradigm describing **WHAT** the program does, without explicitly specifying its control flow. Imperative programming is a paradigm describing **HOW** the program should do something by explicitly specifying each instruction (or statement) step by step, which mutate the program's state."
   ]
  },
  {
   "cell_type": "markdown",
   "metadata": {},
   "source": [
    "This \"what vs how\" is often used to compare both of these approaches because... Well, it is actually a good way to describe them."
   ]
  },
  {
   "cell_type": "markdown",
   "metadata": {},
   "source": [
    "Granted, at the end of the day, everything compiles to instructions for the CPU. So in a way, **declarative programming is a layer of abstraction on top of imperative programming**."
   ]
  },
  {
   "cell_type": "markdown",
   "metadata": {},
   "source": [
    "The transformation from declarative to \"imperative code\" is generally made by engines, interpreters, or compilers. For example, SQL is a declarative language. When using the ` SELECT * FROM users WHERE id <= 100` query, we are expressing (or declaring) what we want: the first 100 users ever registered in the database. The way how these rows are retrieved is completely delegated to the SQL engine:\n",
    "- can it use an index to accelerate the query?\n",
    "- Should/Can it use multiple CPU cores to finish earlier?"
   ]
  },
  {
   "cell_type": "markdown",
   "metadata": {},
   "source": [
    "<img src=\"../images/sql-imperative-declarative.png\" width=\"500\"/>"
   ]
  },
  {
   "cell_type": "markdown",
   "metadata": {},
   "source": [
    "From a developer's point of view, we have no idea how these data are actually retrieved. And we don't really care, unless we are investigating some performance issues. All we care about is telling the program what data we want to retrieve, and not how to do it. The engine/compiler is smart enough to find the most optimal way to do that anyway."
   ]
  },
  {
   "cell_type": "markdown",
   "metadata": {},
   "source": [
    "For languages that use a declarative paradigm (e.g. SQL), this \"underlying imperative world\" is abstracted/hidden to the developers. It is something we don't have to worry about."
   ]
  },
  {
   "cell_type": "markdown",
   "metadata": {},
   "source": [
    "For languages that are multi-paradigms (e.g. JavaScript, Scala), there is still the possibility to write imperative code. This allows us to write declarative code based on imperative code that we wrote ourselves. "
   ]
  },
  {
   "cell_type": "markdown",
   "metadata": {},
   "source": [
    "<img src=\"../images/multi-paradigmatic.png\" width=\"500\"/>"
   ]
  },
  {
   "cell_type": "markdown",
   "metadata": {},
   "source": [
    "This explanation may sound a little confusing at first, but with a super easy example it'll become much clearer."
   ]
  },
  {
   "cell_type": "markdown",
   "metadata": {},
   "source": [
    "This would be the implementation of taking an array of numbers as an input and returning a new array with each number multiplied by 2 in both declarative and imperative ways:"
   ]
  },
  {
   "cell_type": "code",
   "execution_count": 2,
   "metadata": {},
   "outputs": [],
   "source": [
    "mylist = [1, 2, 3]"
   ]
  },
  {
   "cell_type": "code",
   "execution_count": 3,
   "metadata": {},
   "outputs": [],
   "source": [
    "# imperative\n",
    "def double(mylist):\n",
    "    double_list = []\n",
    "    for num in mylist:\n",
    "        double_list.append(num * 2)\n",
    "        \n",
    "    return double_list\n",
    "\n",
    "double_list = double(mylist)"
   ]
  },
  {
   "cell_type": "code",
   "execution_count": 4,
   "metadata": {},
   "outputs": [],
   "source": [
    "# declarative\n",
    "double_list = map(lambda num: num * 2, mylist)"
   ]
  },
  {
   "cell_type": "markdown",
   "metadata": {},
   "source": [
    "As you can see, the declarative mapping does the same thing, but abstracts the flow control away using the functional `map` utility, which allows you to express the flow of data more clearly without any comparisons or state keeping (even though the `map()` method does the state-keeping itself). This is enabled due to Python's support for Higher-Order functions and lambda expressions."
   ]
  },
  {
   "cell_type": "markdown",
   "metadata": {},
   "source": [
    "Generally, built in Object and Array methods (map, filter, reduce etc.) are becoming more and more popular in modern Python, because generic utilities that act on many data types are quite suitable for a weakly typed language like Python."
   ]
  },
  {
   "cell_type": "markdown",
   "metadata": {},
   "source": [
    "## Imperative vs Declarative Control Flow"
   ]
  },
  {
   "cell_type": "markdown",
   "metadata": {},
   "source": [
    "Imperative procedural and object-oriented languages use reserved words that act on blocks, such as if, while, and for, to implement control flow."
   ]
  },
  {
   "cell_type": "markdown",
   "metadata": {},
   "source": [
    "If I would have a task to go through an array of vegetables and return an array with all peppers, imperatively I could write it by using this common approach:"
   ]
  },
  {
   "cell_type": "code",
   "execution_count": 6,
   "metadata": {},
   "outputs": [],
   "source": [
    "my_veggies = ['potatoes', 'peppers', 'hot-peppers']"
   ]
  },
  {
   "cell_type": "code",
   "execution_count": 8,
   "metadata": {},
   "outputs": [
    {
     "data": {
      "text/plain": [
       "['peppers', 'hot-peppers']"
      ]
     },
     "execution_count": 8,
     "metadata": {},
     "output_type": "execute_result"
    }
   ],
   "source": [
    "# Imperative\n",
    "def get_peppers(vegetables):\n",
    "    veggies = []\n",
    "    for veggie in vegetables:\n",
    "        if 'peppers' in veggie.lower():\n",
    "            veggies.append(veggie)\n",
    "            \n",
    "    return veggies\n",
    "\n",
    "get_peppers(my_veggies)"
   ]
  },
  {
   "cell_type": "code",
   "execution_count": 10,
   "metadata": {},
   "outputs": [
    {
     "data": {
      "text/plain": [
       "['peppers', 'hot-peppers']"
      ]
     },
     "execution_count": 10,
     "metadata": {},
     "output_type": "execute_result"
    }
   ],
   "source": [
    "# Declarative\n",
    "list(filter(lambda veggie: 'peppers' in veggie.lower(), my_veggies))"
   ]
  },
  {
   "cell_type": "markdown",
   "metadata": {},
   "source": [
    "### Pros and Cons"
   ]
  },
  {
   "cell_type": "markdown",
   "metadata": {},
   "source": [
    "#### Imperative"
   ]
  },
  {
   "cell_type": "markdown",
   "metadata": {},
   "source": [
    "|Pros|Cons|\n",
    "|:--|:--|\n",
    "|The syntax is easier to grasp for programmers coming from most languages.|The code is usually longer.|\n",
    "|Using the imperative code flow enables more control over what occurs in the blocks, including stopping the loops when needed.|The code is not generic and reusable.|\n",
    "|Developers are usually more comfortable with this way of programming|Code is harder to read.|\n",
    "|Shorter debugging, due to smaller stack traces.|Harder debugging overall, due to state mutations and \"less-controlled\" changes to the world.|"
   ]
  },
  {
   "cell_type": "markdown",
   "metadata": {},
   "source": [
    "#### Declarative"
   ]
  },
  {
   "cell_type": "markdown",
   "metadata": {},
   "source": [
    "|Pros|Cons|\n",
    "|:--|:--|\n",
    "|The code is usually shorter.|Developers are usually less comfortable with this way of programming|\n",
    "|Code is very generic and reusable.|Longer debugging, due to bigger stack traces|\n",
    "|Code is clearer and easier to read.||\n",
    "|Declarative code is very appropriate for many Python frameworks and state management systems such as Django. In javascript we can name React.||"
   ]
  },
  {
   "cell_type": "markdown",
   "metadata": {},
   "source": [
    "As software developers, we compose software. There are multiple approaches we can take compose software, and Python's multi-paradigmatic approach enables the ability to write code in many different styles. There is no \"better\" or \"worse\" approach for writing code, but being aware of different paradigms can help us become better coders."
   ]
  },
  {
   "cell_type": "markdown",
   "metadata": {},
   "source": [
    "> [Read on Programming Paradigms](https://www.freecodecamp.org/news/what-exactly-is-a-programming-paradigm/#:~:text=The%20term%20programming%20paradigm%20refers,that%20strategy%20is%20a%20paradigm.)"
   ]
  }
 ],
 "metadata": {
  "kernelspec": {
   "display_name": "Python 3",
   "language": "python",
   "name": "python3"
  },
  "language_info": {
   "codemirror_mode": {
    "name": "ipython",
    "version": 3
   },
   "file_extension": ".py",
   "mimetype": "text/x-python",
   "name": "python",
   "nbconvert_exporter": "python",
   "pygments_lexer": "ipython3",
   "version": "3.8.11"
  }
 },
 "nbformat": 4,
 "nbformat_minor": 4
}
