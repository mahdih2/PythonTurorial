{
 "cells": [
  {
   "cell_type": "markdown",
   "id": "9dc49eb2",
   "metadata": {},
   "source": [
    "<img src=\"../../images/banners/python-before-start.png\" width=\"600\"/>"
   ]
  },
  {
   "cell_type": "markdown",
   "id": "5608d44c-6dc9-4e4b-b942-a1701a5d8698",
   "metadata": {},
   "source": [
    "# <img src=\"../../images/logos/python.png\" width=\"23\"/> Pip vs Conda \n"
   ]
  },
  {
   "cell_type": "markdown",
   "id": "77345a1c",
   "metadata": {},
   "source": [
    "## <img src=\"../../images/logos/toc.png\" width=\"20\"/> Table of Contents \n",
    "* [Pip: Python libraries only](#pip:_python_libraries_only)\n",
    "* [Conda: Any dependency can be a Conda package (almost)](#conda:_any_dependency_can_be_a_conda_package_(almost))\n",
    "* [Why Conda packages everything](#why_conda_packages_everything)\n",
    "* [Beyond pure Python: Packaging compiled extensions](#beyond_pure_python:_packaging_compiled_extensions)\n",
    "    * [Solution #1: Compile it yourself](#solution_#1:_compile_it_yourself)\n",
    "    * [Solution #2: Pip wheels](#solution_#2:_pip_wheels)\n",
    "    * [Solution #3: Conda packages](#solution_#3:_conda_packages)\n",
    "    * [Summary: pip vs Conda](#summary:_pip_vs_conda)\n",
    "* [PyPI vs. Conda-Forge](#pypi_vs._conda-forge)\n",
    "    * [PyPI](#pypi)\n",
    "    * [Conda-Forge](#conda-forge)\n",
    "* [Dealing with PyPI-only packages in Conda](#dealing_with_pypi-only_packages_in_conda)\n",
    "    * [Install pip packages in a Conda environment](#install_pip_packages_in_a_conda_environment)\n",
    "    * [Package it for Conda-Forge yourself](#package_it_for_conda-forge_yourself)\n",
    "    * [Summary: PyPI vs. Conda-Forge](#summary:_pypi_vs._conda-forge)\n",
    "* [Which should you use?](#which_should_you_use?)\n",
    "\n",
    "---"
   ]
  },
  {
   "cell_type": "markdown",
   "id": "da9bf819-565d-46ec-936c-e7dd304d0dff",
   "metadata": {},
   "source": [
    "If you’re using Python in the world of data science or scientific computing, you will soon discover that Python has two different packaging systems: pip and Conda. Which raises some questions:\n",
    "\n",
    "- How are they different?\n",
    "- What are the tradeoffs between the two?\n",
    "- Which should you use?"
   ]
  },
  {
   "cell_type": "markdown",
   "id": "91fe7e31-acc2-4033-b66e-d038181a9ffb",
   "metadata": {},
   "source": [
    "**The fundamental difference between pip and Conda packaging is what they put in packages.**"
   ]
  },
  {
   "cell_type": "markdown",
   "id": "add5fdfe-6e7c-4bbd-95ab-e29125fdd8aa",
   "metadata": {},
   "source": [
    "Pip packages are Python libraries like NumPy or matplotlib.\n",
    "Conda packages include Python libraries (NumPy or matplotlib), C libraries (libjpeg), and executables (like C compilers, and even the Python interpreter itself)."
   ]
  },
  {
   "cell_type": "markdown",
   "id": "e31e8208-590e-491f-b2b5-3e2b660ada7c",
   "metadata": {},
   "source": [
    "<a class=\"anchor\" id=\"pip:_python_libraries_only\"></a>\n",
    "\n",
    "## Pip: Python libraries only"
   ]
  },
  {
   "cell_type": "markdown",
   "id": "f3f95d5d-6f9f-432a-b014-b1a23630856f",
   "metadata": {},
   "source": [
    "For example, let’s say you want to install Python 3.9 with NumPy, Pandas, and the gnuplot rendering tool, a tool that is unrelated to Python. Here’s what the pip `requirements.txt` would look like:\n",
    "\n",
    "```\n",
    "numpy\n",
    "pandas\n",
    "```"
   ]
  },
  {
   "cell_type": "markdown",
   "id": "2006f390-f86e-4aab-ba38-244912eaf99d",
   "metadata": {},
   "source": [
    "Installing Python and gnuplot is out of scope for pip. You as a user must deal with this yourself. Both the Python interpreter and gnuplot need to come from system packages, in this case Ubuntu’s packages."
   ]
  },
  {
   "cell_type": "markdown",
   "id": "de891b7d-aa87-43ad-b903-07740a15f0b0",
   "metadata": {},
   "source": [
    "<a class=\"anchor\" id=\"conda:_any_dependency_can_be_a_conda_package_(almost)\"></a>\n",
    "\n",
    "## Conda: Any dependency can be a Conda package (almost)"
   ]
  },
  {
   "cell_type": "markdown",
   "id": "eed3e030-a3b7-402d-b940-663ecfbd3838",
   "metadata": {},
   "source": [
    "With Conda, Python and gnuplot are just more Conda packages, no different than NumPy or Pandas. The `environment.yml` that corresponds (somewhat) to the `requirements.txt` we saw above will include all of these packages:"
   ]
  },
  {
   "cell_type": "markdown",
   "id": "8168931d-8cf9-4789-a9e5-c46f4a802357",
   "metadata": {},
   "source": [
    "```\n",
    "name: myenv\n",
    "channels:\n",
    "  - conda-forge\n",
    "dependencies:\n",
    "  - python=3.9\n",
    "  - numpy\n",
    "  - pandas\n",
    "  - gnuplot\n",
    "```"
   ]
  },
  {
   "cell_type": "markdown",
   "id": "10d153b8-0108-42fe-8308-21d2a011242b",
   "metadata": {},
   "source": [
    "Conda only relies on the operating system for basic facilities, like the standard C library. Everything above that is Conda packages, not system packages."
   ]
  },
  {
   "cell_type": "markdown",
   "id": "806db4cb-16bc-47c9-9425-9a08901056c3",
   "metadata": {},
   "source": [
    "<a class=\"anchor\" id=\"why_conda_packages_everything\"></a>\n",
    "\n",
    "## Why Conda packages everything"
   ]
  },
  {
   "cell_type": "markdown",
   "id": "ee024477-4a08-40cd-a376-3196f7341a62",
   "metadata": {},
   "source": [
    "Why did Conda make the decision to package everything, Python interpreter included? How does this benefit you? In part it’s about portability and reproducibility.\n",
    "\n",
    "- Portability across operating systems: Instead of installing Python in three different ways on Linux, macOS, and Windows, you can use the same environment.yml on all three.\n",
    "- Reproducibility: It’s possible to pin almost the whole stack, from the Python interpreter upwards.\n",
    "- Consistent configuration: You don’t need to install system packages and Python packages in two different ways; (almost) everything can go in one file, the environment.yml.\n",
    "\n",
    "But it also addresses another problem: how to deal with Python libraries that require compiled code. That’s a big enough topic that it gets a whole new section, next."
   ]
  },
  {
   "cell_type": "markdown",
   "id": "0014ce29-5fdd-41d3-90cc-a274406187dd",
   "metadata": {},
   "source": [
    "<a class=\"anchor\" id=\"beyond_pure_python:_packaging_compiled_extensions\"></a>\n",
    "\n",
    "## Beyond pure Python: Packaging compiled extensions"
   ]
  },
  {
   "cell_type": "markdown",
   "id": "9e7b40e0-0e4c-4eef-8eac-947c8b9874ea",
   "metadata": {},
   "source": [
    "In the early days of Python packaging, a package included just the source code that needed to be installed. For pure Python packages, this worked fine, and still does. But what happens when you need to compile some Rust or C or C++ or Fortran code as part of building the package?"
   ]
  },
  {
   "cell_type": "markdown",
   "id": "44541c2d-b763-4e5c-a782-c20fbd494da7",
   "metadata": {},
   "source": [
    "<a class=\"anchor\" id=\"solution_#1:_compile_it_yourself\"></a>\n",
    "\n",
    "### Solution #1: Compile it yourself"
   ]
  },
  {
   "cell_type": "markdown",
   "id": "cebf07a1-c0df-49d2-ae4a-5bedabbfc0bf",
   "metadata": {},
   "source": [
    "The original solution was to have each user compile the code themselves at install time. This can be quite slow, wastes resources, is often painful to configure, and still doesn’t solve a big part of the problem: shared library dependencies."
   ]
  },
  {
   "cell_type": "markdown",
   "id": "3c683015-9b87-4fcd-85ac-f32bb8b39b70",
   "metadata": {},
   "source": [
    "The Pillow image graphics library, for example, relies on third party shared libraries like libpng and libjpeg. In order to compile Pillow yourself, you have to install all of them, plus their development headers. On Linux or macOS you can install the system packages or the Homebrew packages; for Windows this can be more difficult. But you’re going to have to write different configuration for every single OS and even Linux distribution."
   ]
  },
  {
   "cell_type": "markdown",
   "id": "c72c574b-9023-4a02-93b1-98154d1c3987",
   "metadata": {},
   "source": [
    "<a class=\"anchor\" id=\"solution_#2:_pip_wheels\"></a>\n",
    "\n",
    "### Solution #2: Pip wheels"
   ]
  },
  {
   "cell_type": "markdown",
   "id": "60389856-bb6c-47d4-b02a-d1f283ff9673",
   "metadata": {},
   "source": [
    "The way pip solves this problem is with packages called “wheels” that can include compiled code. In order to deal with shared library dependencies like libpng, any shared library external dependencies get bundled inside the wheel itself."
   ]
  },
  {
   "cell_type": "markdown",
   "id": "fa072ed9-1396-4687-973f-ecca0e480fa6",
   "metadata": {},
   "source": [
    "For example, let’s look at a Pillow wheel for Linux; a wheel is just a ZIP file so we can use standard ZIP tools:\n",
    "\n",
    "```\n",
    "$ zipinfo Pillow.whl\n",
    "...\n",
    "Pillow.libs/libpng16-213e245f.so.16.37.0\n",
    "Pillow.libs/libjpeg-183418da.so.9.4.0\n",
    "...\n",
    "PIL/FpxImagePlugin.py\n",
    "PIL/PalmImagePlugin.py\n",
    "...\n",
    "PIL/_imagingcms.cpython-39-x86_64-linux-gnu.so\n",
    "...\n",
    "```"
   ]
  },
  {
   "cell_type": "markdown",
   "id": "ccfe2bfa-66ee-4699-83f3-e5f1c130ffd0",
   "metadata": {},
   "source": [
    "The wheel includes both Python code, a compiled Python extension, and third-party shared libraries like libpng and libjpeg. This can sometimes make packages larger, as multiple copies of third-party shared libraries may be installed, one per wheel."
   ]
  },
  {
   "cell_type": "markdown",
   "id": "d6e05b98-f848-464a-b708-ebe3b2dfd669",
   "metadata": {},
   "source": [
    "<a class=\"anchor\" id=\"solution_#3:_conda_packages\"></a>\n",
    "\n",
    "### Solution #3: Conda packages"
   ]
  },
  {
   "cell_type": "markdown",
   "id": "59b77bfd-5cff-424c-81eb-4b9acc4098cb",
   "metadata": {},
   "source": [
    "Conda packages take a different approach to third-party shared libraries. `libjpeg` and `libpng` are packaged as additional Conda packages:\n",
    "\n",
    "```\n",
    "$ conda install -c conda-forge pillow\n",
    "...\n",
    "The following NEW packages will be INSTALLED:\n",
    "\n",
    "...\n",
    "  jpeg               conda-forge/linux-64::jpeg-9d-h36c2ea0_0\n",
    "...\n",
    "  libpng             conda-forge/linux-64::libpng-1.6.37-h21135ba_2\n",
    "...\n",
    "  pillow             conda-forge/linux-64::pillow-7.2.0-py38h9776b28_2\n",
    "  zstd               conda-forge/linux-64::zstd-1.5.0-ha95c52a_0\n",
    "...\n",
    "```"
   ]
  },
  {
   "cell_type": "markdown",
   "id": "3613f421-d1e1-44be-94c8-8f7c1e95ea87",
   "metadata": {},
   "source": [
    "Those installed libjpeg and libpng can then be depended on by other installed packages. They’re not wheel-specific, they’re available to any package in the Conda environment."
   ]
  },
  {
   "cell_type": "markdown",
   "id": "d026b840-c308-4923-b401-d3d324fc35ba",
   "metadata": {},
   "source": [
    "Conda can do this because it’s not a packaging system only for Python code; it can just as easily package shared libraries or executables."
   ]
  },
  {
   "cell_type": "markdown",
   "id": "45c20eaf-3ef9-485f-a9aa-fdbcefc7e5fe",
   "metadata": {},
   "source": [
    "<a class=\"anchor\" id=\"summary:_pip_vs_conda\"></a>\n",
    "\n",
    "### Summary: pip vs Conda"
   ]
  },
  {
   "cell_type": "markdown",
   "id": "630f0b5a-210d-4c26-b381-47734c7a936d",
   "metadata": {},
   "source": [
    "||pip|Conda|\n",
    "|:--|:--|:--|\n",
    "|Installs Python | No | Yes, as package|\n",
    "|3rd-party shared libraries | Inside the wheel | Yes, as package |\n",
    "|Executables and tools | No | Yes, as package |\n",
    "|Python source code | Yes, as package | Yes, as package |"
   ]
  },
  {
   "cell_type": "markdown",
   "id": "43473dff-8e8e-457d-98b5-b0d5c9d736d5",
   "metadata": {},
   "source": [
    "<a class=\"anchor\" id=\"pypi_vs._conda-forge\"></a>\n",
    "\n",
    "## PyPI vs. Conda-Forge"
   ]
  },
  {
   "cell_type": "markdown",
   "id": "f33f02dc-aeb6-4ba0-b2d6-91fda1196952",
   "metadata": {},
   "source": [
    "Another fundamental difference between pip and Conda is less about the tools themselves, and more about the package repositories they rely on and how they work. In particular, most Python programs will rely on open source libraries, and these need to be downloaded from somewhere. For these, pip relies on PyPI, whereas Conda supports multiple different “channels” hosted on Anaconda."
   ]
  },
  {
   "cell_type": "markdown",
   "id": "25392d42-9461-4459-b90e-c7ab885742e0",
   "metadata": {},
   "source": [
    "The default Conda channel is maintained by Anaconda Inc, the company that created Conda. It tends to have limited package selection and be somewhat less up-to-date, with some potential benefits regarding stability and GPU support. Beyond that I don’t know that much about it."
   ]
  },
  {
   "cell_type": "markdown",
   "id": "e0eb768e-62e8-4f5f-847e-63e3a5fb8dfe",
   "metadata": {},
   "source": [
    "But there’s also the Conda-Forge community channel, which packages far more packages, tends to be up-to-date, and is where you probably want to get your Conda packages most of the time. You can mix packages from the default channel and Conda-Forge, if you want the default channel’s GPU packages."
   ]
  },
  {
   "cell_type": "markdown",
   "id": "1ae8b6dd-7a58-4753-8d0b-afb4e0cfe67e",
   "metadata": {},
   "source": [
    "Let’s compare PyPI with Conda-Forge."
   ]
  },
  {
   "cell_type": "markdown",
   "id": "557ead61-7231-4c03-95af-1b6ef0f3b026",
   "metadata": {},
   "source": [
    "<a class=\"anchor\" id=\"pypi\"></a>\n",
    "\n",
    "### PyPI"
   ]
  },
  {
   "cell_type": "markdown",
   "id": "040392bd-30c1-42fc-adae-213ffbd7af2e",
   "metadata": {},
   "source": [
    "Packages on PyPI are typically uploaded by the author of the Python package. For example, The author of the [Fil memory profiler](https://pythonspeed.com/fil/), also created the [PyPI package](https://pypi.org/project/filprofiler/)."
   ]
  },
  {
   "cell_type": "markdown",
   "id": "a5b1b35c-eacf-4acb-a188-3913ffee7b4f",
   "metadata": {},
   "source": [
    "Each package maintainer might compile or build their packages in their own idiosyncratic way, maintaining their own build infrastructure, choosing their own compilation options, and so on."
   ]
  },
  {
   "cell_type": "markdown",
   "id": "1ca8b49a-4112-4e4f-99f1-c19f3bee4936",
   "metadata": {},
   "source": [
    "For example, NumPy can rely on multiple different BLAS libraries for fast linear algebra operations. The maintainers have chosen to build their PyPI packages with OpenBLAS; if you want another option, like Intel’s (maybe?) faster MKL, you’re out of luck unless you’re willing to compile the code yourself."
   ]
  },
  {
   "cell_type": "markdown",
   "id": "97ee31e8-6a64-4ae4-8987-5fd1ee696b1f",
   "metadata": {},
   "source": [
    "<a class=\"anchor\" id=\"conda-forge\"></a>\n",
    "\n",
    "### Conda-Forge"
   ]
  },
  {
   "cell_type": "markdown",
   "id": "b1c318e3-bc81-4088-af56-2d31655937ae",
   "metadata": {},
   "source": [
    "Conda-Forge is a community project where package maintainers can be different than the original author of the package. For example, I have commit access to the typeguard Conda-Forge recipe even though I am not a maintainer of the typeguard library."
   ]
  },
  {
   "cell_type": "markdown",
   "id": "b94e94c5-a1c1-4560-a959-d8ddb4e60c34",
   "metadata": {},
   "source": [
    "Instead of custom builds done differently by each package maintainer, Conda-Forge has centralized build systems that recompile libraries, update recipe repositories, and in general automate everything massively. When a new version of Python 3 comes out, for example, a centralized update will happen, all the individual package maintainers will get PRs adding new packages; on PyPI this is up to individual maintainers to figure out."
   ]
  },
  {
   "cell_type": "markdown",
   "id": "411e5477-52d6-439c-a232-07ebe6e77d9d",
   "metadata": {},
   "source": [
    "Because of packaging infrastructure is centralized, Conda-Forge is able to [let you choose which BLAS to use](https://conda-forge.org/docs/maintainer/knowledge_base.html?highlight=mesa#switching-blas-implementation), and it will be used for NumPy and SciPy and whatever other packages you use that rely on BLAS."
   ]
  },
  {
   "cell_type": "markdown",
   "id": "8166ddfa-9e9c-4a9a-9614-478b6122c0c9",
   "metadata": {},
   "source": [
    "<a class=\"anchor\" id=\"dealing_with_pypi-only_packages_in_conda\"></a>\n",
    "\n",
    "## Dealing with PyPI-only packages in Conda"
   ]
  },
  {
   "cell_type": "markdown",
   "id": "d1380899-ee4e-4837-9a6a-e6d1ff317a24",
   "metadata": {},
   "source": [
    "While Conda-Forge has many packages, it doesn’t have all of them; many Python packages can only be found on PyPI. You can deal with lack of these packages in a number of ways."
   ]
  },
  {
   "cell_type": "markdown",
   "id": "96962050-5075-47f8-a7bb-086d7056e708",
   "metadata": {},
   "source": [
    "<a class=\"anchor\" id=\"install_pip_packages_in_a_conda_environment\"></a>\n",
    "\n",
    "### Install pip packages in a Conda environment"
   ]
  },
  {
   "cell_type": "markdown",
   "id": "f50e4e7c-b228-433a-9b57-0d277c19d16c",
   "metadata": {},
   "source": [
    "Conda environments are wrappers around virtualenvs; as such you can just call pip install yourself. If you’re using an environment.yml to install your Conda packages, you can also add pip packages:\n",
    "```\n",
    "name: myenv\n",
    "channels:\n",
    "  - conda-forge\n",
    "dependencies:\n",
    "  - python=3.9\n",
    "  - numpy\n",
    "  - pandas\n",
    "  - gnuplot\n",
    "  - pip:\n",
    "      # Package that is only on PyPI\n",
    "      - sandu \n",
    "```"
   ]
  },
  {
   "cell_type": "markdown",
   "id": "78c3c1d4-f828-417c-a865-7e23037ae0f0",
   "metadata": {},
   "source": [
    "<a class=\"anchor\" id=\"package_it_for_conda-forge_yourself\"></a>\n",
    "\n",
    "### Package it for Conda-Forge yourself"
   ]
  },
  {
   "cell_type": "markdown",
   "id": "f2e5e4bc-e61f-42d4-95d6-55e0605239c7",
   "metadata": {},
   "source": [
    "Because Conda-Forge does not require maintainers of the code to do the packaging, anyone can volunteer to add a package to Conda-Forge. That includes you!"
   ]
  },
  {
   "cell_type": "markdown",
   "id": "e3bc8c29-af49-4627-984e-f5c68f524866",
   "metadata": {},
   "source": [
    "For many Python packages it’s surprisingly easy process, and it’s quite automated, so handling new releases is often as easy as approving an automatically-created PR."
   ]
  },
  {
   "cell_type": "markdown",
   "id": "e97c6d61-bce0-4d95-b272-5636f014b545",
   "metadata": {},
   "source": [
    "<a class=\"anchor\" id=\"summary:_pypi_vs._conda-forge\"></a>\n",
    "\n",
    "### Summary: PyPI vs. Conda-Forge"
   ]
  },
  {
   "cell_type": "markdown",
   "id": "c99b58d6-fcbd-47b3-ab67-839b62fe111e",
   "metadata": {},
   "source": [
    "| | PyPI| Conda-Forge|\n",
    "|:--|:--|:--|\n",
    "|Who creates package?| Author of code| Anyone|\n",
    "|Build infrastructure| Maintained by author| Centralized|\n",
    "|Open source Python libraries| Essentially all| Many|\n",
    "|Other open source tools|None| Many|\n",
    "|Windows/Linux/macOS packages| Usually, but up to maintainer| Almost always|"
   ]
  },
  {
   "cell_type": "markdown",
   "id": "06a81b05-4d03-49fe-a332-a405da32de87",
   "metadata": {},
   "source": [
    "<a class=\"anchor\" id=\"which_should_you_use?\"></a>\n",
    "\n",
    "## Which should you use?"
   ]
  },
  {
   "cell_type": "markdown",
   "id": "50969510-5750-4e2d-acd9-b5f03f5915d8",
   "metadata": {},
   "source": [
    "So which should you use, pip or Conda? For general Python computing, pip and PyPI are usually fine, and the surrounding tooling tends to be better."
   ]
  },
  {
   "cell_type": "markdown",
   "id": "522f0102-0fe8-41ac-a0a5-e67843f1d228",
   "metadata": {},
   "source": [
    "For data science or scientific computing, however, Conda’s ability to package third-party libraries, and the centralized infrastructure provided by Conda-Forge, means setup of complex packages will often be easier. In the end, which works best for you will depend on your situation and requirements; quite possibly both will be fine."
   ]
  }
 ],
 "metadata": {
  "kernelspec": {
   "display_name": "Python 3",
   "language": "python",
   "name": "python3"
  },
  "language_info": {
   "codemirror_mode": {
    "name": "ipython",
    "version": 3
   },
   "file_extension": ".py",
   "mimetype": "text/x-python",
   "name": "python",
   "nbconvert_exporter": "python",
   "pygments_lexer": "ipython3",
   "version": "3.8.11"
  }
 },
 "nbformat": 4,
 "nbformat_minor": 5
}
