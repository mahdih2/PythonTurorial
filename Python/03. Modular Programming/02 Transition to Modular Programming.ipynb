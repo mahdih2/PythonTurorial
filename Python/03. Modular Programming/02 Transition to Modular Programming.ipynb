{
 "cells": [
  {
   "cell_type": "markdown",
   "id": "bd50b2d6-5ec6-42d1-957d-1fced6d7f67e",
   "metadata": {},
   "source": [
    "<img src=\"../../images/banners/python-modular.png\" width=\"600\"/>"
   ]
  },
  {
   "cell_type": "markdown",
   "id": "2c6a8f8b-68dc-402b-a6bf-76675feff854",
   "metadata": {},
   "source": [
    "# <img src=\"../../images/logos/python.png\" width=\"23\"/> Transition to Modular Programming"
   ]
  },
  {
   "cell_type": "markdown",
   "id": "34476a2c-2b60-4ab6-8b7a-d2267f1ff0ef",
   "metadata": {},
   "source": [
    "## <img src=\"../../images/logos/toc.png\" width=\"20\"/> Table of Contents \n",
    "* [Interacting with Python through an IDE](#interacting_with_python_through_an_ide)\n",
    "* [Text Editors](#text_editors)\n",
    "    * [VSCode](#vscode)\n",
    "    * [VSCode Installation](#vscode-installation)\n",
    "    * [VSCode Extensions](#vscode-extensions)\n",
    "\n",
    "---"
   ]
  },
  {
   "cell_type": "markdown",
   "id": "dae0d564-f27c-4dfa-ae7f-aa8c98082fa5",
   "metadata": {},
   "source": [
    "You may start coding in notebooks, but once your project gets larger, you will need to start using your code more places. At this point, you will want to split your core code into regular Python modules, import them into your notebooks, and use the notebooks as an interface to them"
   ]
  },
  {
   "cell_type": "markdown",
   "id": "6a682e59-f82b-49d4-976a-9a6b79cd191c",
   "metadata": {},
   "source": [
    "<a class=\"anchor\" id=\"interacting_with_python_through_an_ide\"></a>\n",
    "## Interacting with Python through an IDE"
   ]
  },
  {
   "cell_type": "markdown",
   "id": "dadb0d09-c666-4ce2-8664-53d86f728bcf",
   "metadata": {},
   "source": [
    "An Integrated Development Environment (IDE) is an application that more or less combines all the functionality you have seen so far. IDEs usually provide REPL capability as well as an editor with which you can create and modify code to then submit to the interpreter for execution."
   ]
  },
  {
   "cell_type": "markdown",
   "id": "f604e37c-5d12-476f-9f39-112c6ff9aeec",
   "metadata": {},
   "source": [
    "You may also find cool features such as:\n",
    "\n",
    "- **Syntax highlighting:** IDEs often colorize different syntax elements in the code to make it easier to read.\n",
    "- **Context-sensitive help:** Advanced IDEs can display related information from the Python documentation or even suggested fixes for common types of code errors.\n",
    "- **Code-completion:** Some IDEs can complete partially typed pieces of code (like function names) for you—a great time-saver and convenience feature.\n",
    "- **Debugging:** A debugger allows you to run code step-by-step and inspect program data as you go. This is invaluable when you are trying to determine why a program is behaving improperly, as will inevitably happen."
   ]
  },
  {
   "cell_type": "markdown",
   "id": "39ea3181-8894-478a-b9b3-00c74596d4a1",
   "metadata": {},
   "source": [
    "<a class=\"anchor\" id=\"text_editors\"></a>\n",
    "## Text Editors"
   ]
  },
  {
   "cell_type": "markdown",
   "id": "25ced301-7237-41de-9192-3cf184341462",
   "metadata": {},
   "source": [
    "Text editors with sophisticated built-in capabilities and specific functionalities designed to ease and speed up the process of editing code are referred to as code editors. An IDE is a collection of software development tools that are intended to simplify the process of coding."
   ]
  },
  {
   "cell_type": "markdown",
   "id": "a760b0ae-a09b-4cd2-afd8-ede9ca9b012a",
   "metadata": {},
   "source": [
    "General editors for any text files:\n",
    "- Work with a variety of file types.\n",
    "- Can be customized with plugins and add-ons.\n",
    "- Keep in mind, most are not desinged with only Python in mind."
   ]
  },
  {
   "cell_type": "markdown",
   "id": "a0971760-3602-41ed-a803-fd96b6514db3",
   "metadata": {},
   "source": [
    "Most popular: VSCode, Submile Text, and Atom.\n",
    "- Download and install **[VSCode](https://code.visualstudio.com/download)**. For WSL you just need to install it in your Windows OS and it will automatically download and install it in WSL the first time you run `code` in your WSL terminal."
   ]
  },
  {
   "cell_type": "markdown",
   "id": "99132b73-da3d-44b9-8bb5-2e1fa4ff496b",
   "metadata": {},
   "source": [
    "<a class=\"anchor\" id=\"vscode\"></a>\n",
    "### VSCode"
   ]
  },
  {
   "cell_type": "markdown",
   "id": "ad78c197-15ce-4ef1-b341-a6fb9c188edb",
   "metadata": {},
   "source": [
    "Visual Studio Code, also commonly referred to as VS Code, is a source-code editor made by Microsoft for Windows, Linux and macOS. Features include support for debugging, syntax highlighting, intelligent code completion, snippets, code refactoring, and embedded Git. Visual Studio Code is a very popular coding editor used by millions of developers around the world."
   ]
  },
  {
   "cell_type": "markdown",
   "id": "ea31b2bb-7e68-4233-ba10-2db94db68077",
   "metadata": {},
   "source": [
    "The editor has rapidly gained popularity among developers, ranking as the most popular development environment overall in [Stack Overflow’s 2021 Developer Survey](https://insights.stackoverflow.com/survey/2021#most-popular-technologies-new-collab-tools)."
   ]
  },
  {
   "cell_type": "markdown",
   "id": "7a7cee03-c050-4a41-83c1-3b540c50a25e",
   "metadata": {},
   "source": [
    "<img src=\"./images/editor-popularity.png\" width=\"600\" />"
   ]
  },
  {
   "cell_type": "markdown",
   "id": "7e6221d4-4ae9-4b8a-9007-a8a5fec611d7",
   "metadata": {},
   "source": [
    "<a class=\"anchor\" id=\"vscode-installation\"></a>\n",
    "### VSCode Installation"
   ]
  },
  {
   "cell_type": "markdown",
   "id": "8ab39a35-6d05-4851-89bb-1b0381ccd8d9",
   "metadata": {},
   "source": [
    "**Windows, Linux, and MacOS:**\n",
    "- Visual Studio Code is free and available on your favorite platform - Linux, macOS, and Windows. Download it from [here](https://code.visualstudio.com/download) and install it on your machine.\n",
    "\n",
    "**WSL:**\n",
    "- To use Visual Studio Code with the Windows Subsystem for Linux, please install Visual Studio Code in Windows and uninstall the Linux version in WSL. You can then use the code command in a WSL terminal just as you would in a normal command prompt."
   ]
  },
  {
   "cell_type": "markdown",
   "id": "13e76e48-9534-437b-a51c-fbb1298a87d4",
   "metadata": {},
   "source": [
    "<a class=\"anchor\" id=\"vscode-extensions\"></a>\n",
    "### VSCode Extensions"
   ]
  },
  {
   "cell_type": "markdown",
   "id": "0910993b-819f-48ed-a093-55ede983e108",
   "metadata": {},
   "source": [
    "There are literally thousands of extensions in the VS Code marketplace with new ones coming seemingly every single day! Extensions can serve many purposes. From extension-like UI themes to programming language support, debugging, Git integration, and even Spotify players! Extensions are very important because they make the VS Code what it currently is, a very capable piece of software. Without them, VS Code would be not much beyond glorified text editor with good design and basic autocompletion here and there."
   ]
  },
  {
   "cell_type": "markdown",
   "id": "c71a96c3-12f8-4bc3-bce3-001e83d2070b",
   "metadata": {},
   "source": [
    "Extensions are really important to customizing your software to suit your personal needs. So please use them!"
   ]
  },
  {
   "cell_type": "markdown",
   "id": "d33e31fe-e778-4b20-889a-a4a3a83bd5c6",
   "metadata": {},
   "source": [
    "For Git we will use the following extensions:\n",
    "- Git Graph: https://marketplace.visualstudio.com/items?itemName=mhutchie.git-graph\n",
    "- Git Lens: https://marketplace.visualstudio.com/items?itemName=eamodio.gitlens"
   ]
  },
  {
   "cell_type": "markdown",
   "id": "40696abd-a04c-4511-a7ee-1c5f5799e962",
   "metadata": {},
   "source": [
    "We highly recommend you to install the following extensions as well for a better theme (this is a personal preference and completely optional):\n",
    "- [Material Theme Icons](https://marketplace.visualstudio.com/items?itemName=Equinusocio.vsc-material-theme-icons)\n",
    "- [Material Theme](https://marketplace.visualstudio.com/items?itemName=Equinusocio.vsc-material-theme)\n",
    "- [Material Icon Theme](https://marketplace.visualstudio.com/items?itemName=PKief.material-icon-theme)\n",
    "- [Dark + Material](https://marketplace.visualstudio.com/items?itemName=vangware.dark-plus-material)"
   ]
  }
 ],
 "metadata": {
  "kernelspec": {
   "display_name": "Python 3",
   "language": "python",
   "name": "python3"
  },
  "language_info": {
   "codemirror_mode": {
    "name": "ipython",
    "version": 3
   },
   "file_extension": ".py",
   "mimetype": "text/x-python",
   "name": "python",
   "nbconvert_exporter": "python",
   "pygments_lexer": "ipython3",
   "version": "3.8.11"
  }
 },
 "nbformat": 4,
 "nbformat_minor": 5
}
