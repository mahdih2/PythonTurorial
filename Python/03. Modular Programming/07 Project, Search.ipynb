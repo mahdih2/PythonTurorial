{
 "cells": [
  {
   "cell_type": "markdown",
   "id": "7cf82284-9811-4728-9efc-52cab994200a",
   "metadata": {},
   "source": [
    "<img src=\"../../images/banners/python-modular.png\" width=\"600\"/>"
   ]
  },
  {
   "cell_type": "markdown",
   "id": "04e2d35e-b9d3-4083-b136-65f240e93150",
   "metadata": {},
   "source": [
    "# <img src=\"../../images/logos/python.png\" width=\"23\"/> Project: Word Cloud\n"
   ]
  },
  {
   "cell_type": "markdown",
   "id": "e178f6a1-05df-4d91-8767-f981d4564f4a",
   "metadata": {},
   "source": [
    "## <img src=\"../../images/logos/toc.png\" width=\"20\"/> Table of Contents \n",
    "* [What is a search engine?](#search-engine)\n",
    "* [Data](#data)\n",
    "* [Text PreProcessing](#text-preprocessing)\n",
    "* [Indexing](#indexing)\n",
    "* [Search](#search)\n",
    "\n",
    "---"
   ]
  },
  {
   "cell_type": "markdown",
   "id": "7a199ff5-7b94-4c23-9e07-28fd03e71742",
   "metadata": {},
   "source": [
    "<a class=\"anchor\" id=\"search-engine\"></a>\n",
    "\n",
    "## What is a search engine?"
   ]
  },
  {
   "cell_type": "markdown",
   "id": "65476196-037f-4356-8f4c-3ffffe2183b5",
   "metadata": {},
   "source": [
    "A search engine is a software program that helps users locate information in the worldwide web. A search engine normally has three basic steps which are crawling, indexing and ranking. The crawling stage is where the program crawls the web in a predefined method collecting data such as images, links and stuff. The indexing stage is where the collected data is then stored in a data structure and finally, we have the ranking stage where the collected data is then ranked by relevance in that the higher the ranking the more accurate the answer."
   ]
  },
  {
   "cell_type": "markdown",
   "id": "8ce104a5-b4d7-4dca-80d5-a45375b8671f",
   "metadata": {},
   "source": [
    "We will be building our super simple search engine using python dictionary."
   ]
  },
  {
   "cell_type": "markdown",
   "id": "862877c6-a5f3-4047-98ff-de536e3225f9",
   "metadata": {},
   "source": [
    "<a class=\"anchor\" id=\"data\"></a>\n",
    "\n",
    "## Data"
   ]
  },
  {
   "cell_type": "markdown",
   "id": "bad6fd2c-9203-45df-acca-063719ce20ba",
   "metadata": {},
   "source": [
    "Text documents are located in `data/documents`."
   ]
  },
  {
   "cell_type": "code",
   "execution_count": 1,
   "id": "163f34e3-3dd0-4089-8063-eaaa092bd59f",
   "metadata": {},
   "outputs": [],
   "source": [
    "from pathlib import Path"
   ]
  },
  {
   "cell_type": "code",
   "execution_count": 2,
   "id": "95d9961f-b8ec-4d2e-86e8-d4d72e714e53",
   "metadata": {},
   "outputs": [],
   "source": [
    "data = {}\n",
    "\n",
    "for doc_path in Path('data/documents').iterdir():\n",
    "    if doc_path.suffix != '.txt':\n",
    "        continue\n",
    "        \n",
    "    with open(doc_path) as f:\n",
    "        doc_name = doc_path.stem.split('_')\n",
    "        doc_name = ' '.join(doc_name).title()\n",
    "        data[doc_name] = f.read()"
   ]
  },
  {
   "cell_type": "markdown",
   "id": "0eb03568-9dac-410a-a5b5-d69dc777a290",
   "metadata": {},
   "source": [
    "<a class=\"anchor\" id=\"text-preprocessing\"></a>\n",
    "\n",
    "## Text PreProcessing"
   ]
  },
  {
   "cell_type": "code",
   "execution_count": 3,
   "id": "e6890c30-0aec-4804-82b9-f155344d7c8a",
   "metadata": {},
   "outputs": [],
   "source": [
    "from abc import ABC, abstractmethod\n",
    "import string"
   ]
  },
  {
   "cell_type": "code",
   "execution_count": 4,
   "id": "0525307c-9947-4d5e-8f2f-b58d2262e095",
   "metadata": {},
   "outputs": [],
   "source": [
    "class TextProcessor:\n",
    "    @abstractmethod\n",
    "    def transform(self, text):\n",
    "        pass"
   ]
  },
  {
   "cell_type": "code",
   "execution_count": 5,
   "id": "a1ad15e4-740b-42df-9825-14017b9671d5",
   "metadata": {},
   "outputs": [],
   "source": [
    "class ConvertCase(TextProcessor):\n",
    "    def __init__(self, casing='lower'):\n",
    "        self.casing = casing\n",
    "        \n",
    "    def transform(self, text):\n",
    "        if self.casing == 'lower':\n",
    "            return text.lower()\n",
    "        elif self.casing == 'upper':\n",
    "            return text.upper()\n",
    "        elif self.casing == 'title':\n",
    "            return text.title()"
   ]
  },
  {
   "cell_type": "code",
   "execution_count": 6,
   "id": "19693072-e1d7-4200-8603-ea466200c0dd",
   "metadata": {},
   "outputs": [],
   "source": [
    "class RemoveDigit:\n",
    "    def transform(self, text):\n",
    "        return ''.join(char if not char.isdigit() else ' ' for char in text)"
   ]
  },
  {
   "cell_type": "code",
   "execution_count": 7,
   "id": "2b036f0f-38f9-4406-b25d-9f4a35d077fc",
   "metadata": {},
   "outputs": [],
   "source": [
    "class RemovePunkt:\n",
    "    def transform(self, text):\n",
    "        return ''.join(char if not char in string.punctuation else ' ' for char in text)"
   ]
  },
  {
   "cell_type": "code",
   "execution_count": 8,
   "id": "799060a7-bd12-4737-92c0-6f8d3082bba6",
   "metadata": {},
   "outputs": [],
   "source": [
    "class RemoveSpace:\n",
    "    def transform(self, text):\n",
    "        return ' '.join(text.split())"
   ]
  },
  {
   "cell_type": "code",
   "execution_count": 9,
   "id": "ad59a2c5-77ae-4948-a2ae-bb1ea56aa885",
   "metadata": {},
   "outputs": [],
   "source": [
    "class TextPipeline:\n",
    "    def __init__(self, *args):\n",
    "        self.transformers = args\n",
    "        \n",
    "    def transform(self, text):\n",
    "        for tf in self.transformers:\n",
    "            text = tf.transform(text)\n",
    "        return text\n",
    "        \n",
    "    def __str__(self):\n",
    "        transformers = ' -> '.join([tf.__class__.__name__ for tf in self.transformers])\n",
    "        return f'Pipeline: [{transformers}]'"
   ]
  },
  {
   "cell_type": "code",
   "execution_count": 10,
   "id": "b86f7c25-1557-4623-8e0f-59544a86839d",
   "metadata": {},
   "outputs": [],
   "source": [
    "pipe = TextPipeline(ConvertCase(), RemoveDigit(), RemovePunkt(), RemoveSpace())"
   ]
  },
  {
   "cell_type": "code",
   "execution_count": 11,
   "id": "0aab4a5e-e788-4561-af16-5fe42d87fe11",
   "metadata": {},
   "outputs": [
    {
     "data": {
      "text/plain": [
       "'here is my text'"
      ]
     },
     "execution_count": 11,
     "metadata": {},
     "output_type": "execute_result"
    }
   ],
   "source": [
    "pipe.transform('1. Here is my Text!!!')"
   ]
  },
  {
   "cell_type": "code",
   "execution_count": 12,
   "id": "3d450b87-3c19-49bc-8091-4e5b1ea0b273",
   "metadata": {},
   "outputs": [],
   "source": [
    "processed_data = {\n",
    "    doc_name: pipe.transform(content) for doc_name, content in data.items()\n",
    "}"
   ]
  },
  {
   "cell_type": "markdown",
   "id": "6737dd2a-51ba-49b1-8453-a83d45ad3e4c",
   "metadata": {},
   "source": [
    "<a class=\"anchor\" id=\"indexing\"></a>\n",
    "\n",
    "## Indexing"
   ]
  },
  {
   "cell_type": "code",
   "execution_count": 13,
   "id": "4bb4f328-b6bf-41af-8506-5b14b45e9b3b",
   "metadata": {},
   "outputs": [],
   "source": [
    "stop_words = open('data/stop_words.txt').readlines()\n",
    "stop_words = list(map(str.strip, stop_words))\n",
    "stop_words = list(map(pipe.transform, stop_words))"
   ]
  },
  {
   "cell_type": "code",
   "execution_count": 14,
   "id": "723298ed-de0c-416a-a627-fcc15a0f4104",
   "metadata": {},
   "outputs": [],
   "source": [
    "index = {}\n",
    "\n",
    "for doc_name, content in data.items():\n",
    "    for word in content.split():\n",
    "        word = pipe.transform(word)\n",
    "        \n",
    "        # Empty Words\n",
    "        if not word:\n",
    "            continue\n",
    "\n",
    "        # Ignore Stop Words\n",
    "        if word in stop_words:\n",
    "            continue\n",
    "\n",
    "        # Add to index\n",
    "        if index.get(word):\n",
    "            index[word].add(doc_name)\n",
    "        else:\n",
    "            index[word] = {doc_name, }"
   ]
  },
  {
   "cell_type": "markdown",
   "id": "6dec3e64-5ff6-4fae-98b5-8850d547c0d3",
   "metadata": {},
   "source": [
    "<a class=\"anchor\" id=\"search\"></a>\n",
    "\n",
    "## Search"
   ]
  },
  {
   "cell_type": "code",
   "execution_count": 15,
   "id": "6b4c5f07-7596-4970-be57-c3ce5ea71c70",
   "metadata": {},
   "outputs": [],
   "source": [
    "from termcolor import colored\n",
    "from collections import Counter"
   ]
  },
  {
   "cell_type": "code",
   "execution_count": 16,
   "id": "c3093bbe-dd38-463d-9d2e-95f13fafb822",
   "metadata": {},
   "outputs": [],
   "source": [
    "def print_success(text):\n",
    "    print(colored(text, 'green'))"
   ]
  },
  {
   "cell_type": "code",
   "execution_count": 17,
   "id": "dba5df06-538a-4bad-b13b-3e9acf037ba2",
   "metadata": {},
   "outputs": [
    {
     "name": "stdin",
     "output_type": "stream",
     "text": [
      "Search to find a doc (q to quit): q\n"
     ]
    }
   ],
   "source": [
    "TOP_N = 3\n",
    "while True:\n",
    "    # Get user input\n",
    "    search_input = input('Search to find a doc (q to quit):')\n",
    "    if search_input.lower() == 'q':\n",
    "        break\n",
    "    search_input = pipe.transform(search_input)\n",
    "\n",
    "    # Get input tokens\n",
    "    search_tokens = search_input.split()\n",
    "\n",
    "    # Get relevant documents\n",
    "    docs = []\n",
    "    for token in search_tokens:\n",
    "        docs.extend(index.get(token, []))\n",
    "        \n",
    "    # Rank documents\n",
    "    docs_counter = Counter(docs).most_common()\n",
    "    docs = [d[0] for d in docs_counter][:TOP_N]\n",
    "    \n",
    "    # Print the results\n",
    "    for doc in docs:\n",
    "        print_success(f'- {doc}')"
   ]
  }
 ],
 "metadata": {
  "kernelspec": {
   "display_name": "Python 3",
   "language": "python",
   "name": "python3"
  },
  "language_info": {
   "codemirror_mode": {
    "name": "ipython",
    "version": 3
   },
   "file_extension": ".py",
   "mimetype": "text/x-python",
   "name": "python",
   "nbconvert_exporter": "python",
   "pygments_lexer": "ipython3",
   "version": "3.8.11"
  }
 },
 "nbformat": 4,
 "nbformat_minor": 5
}
