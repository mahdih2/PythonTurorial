{
 "cells": [
  {
   "cell_type": "markdown",
   "id": "c94cec0c-ba3a-4a43-b07b-c86480e40d43",
   "metadata": {},
   "source": [
    "<img src=\"../../images/banners/python-modular.png\" width=\"600\"/>"
   ]
  },
  {
   "cell_type": "markdown",
   "id": "ef1a3f94-fe6e-4cf3-b303-e92dad2ed0e9",
   "metadata": {},
   "source": [
    "# <img src=\"../../images/logos/python.png\" width=\"23\"/> Project: Wordle\n"
   ]
  },
  {
   "cell_type": "markdown",
   "id": "9a47eb01-49cd-44b0-bf85-693892789e00",
   "metadata": {},
   "source": [
    "## <img src=\"../../images/logos/toc.png\" width=\"20\"/> Table of Contents \n",
    "* [Rules](#rules)\n",
    "* [TODO](#todo)\n",
    "* [Tips](#tips)\n",
    "* [Test](#test)\n",
    "\n",
    "---"
   ]
  },
  {
   "cell_type": "markdown",
   "id": "f81a9d8a-2805-483a-a82c-6fa960a81dfd",
   "metadata": {},
   "source": [
    "Wordle is a word game, which recently got very popular and was added to NYT Games website. It is developed by Josh Wardle. You can find the original game [here](https://www.nytimes.com/games/wordle/index.html). However, you can only play it once a day."
   ]
  },
  {
   "cell_type": "markdown",
   "id": "3efa4ed5-7f66-426f-8b18-12fe3fc377ac",
   "metadata": {},
   "source": [
    "Luckily, in this version of Wordle that you are going to be programming, you will be able to play as many times as you want in a day. Moreover, you will be allowed to see which words could potentially be the right answer. What is more, you will be using a bigger data set than the actual Wordle, which basically involves all the 5 letter words in a Scrabble dictionary."
   ]
  },
  {
   "cell_type": "markdown",
   "id": "17ef8f15-5e2b-41b5-91c7-852da8fe48ac",
   "metadata": {},
   "source": [
    "<a class=\"anchor\" id=\"rules\"></a>\n",
    "\n",
    "## Rules"
   ]
  },
  {
   "cell_type": "markdown",
   "id": "eafc79dd-f544-460f-b151-188362f520b5",
   "metadata": {},
   "source": [
    "- The player enters a random 5-letter word.\n",
    "- If the random word is the word to be guessed, the game is over. The player receives a congratulations message.\n",
    "- If the random word isn’t the word to be guessed, the player is informed about whether the right letter is at the right place and if some of the letters are in the word but wrongly placed.\n",
    "- Based on this, the player has 6 tries to guess the word.\n",
    "- At the end of the 6 attempts, if the player fails to guess the right word, the word is revealed."
   ]
  },
  {
   "cell_type": "markdown",
   "id": "24b588c7-6adf-43a8-a8a8-dd338cd47369",
   "metadata": {},
   "source": [
    "<a class=\"anchor\" id=\"todo\"></a>\n",
    "\n",
    "## TODO"
   ]
  },
  {
   "cell_type": "markdown",
   "id": "951c7bc1-5eab-4293-8a5a-141c219461f7",
   "metadata": {},
   "source": [
    "1. Read the possible words from the txt file and save them on a list.\n",
    "2. Make sure that the user can enter input exactly 6 times.\n",
    "3. Make sure that regardless of the case, the input is processed correctly.\n",
    "4. Make sure that you use appropriate data structures for valid characters, invalid positions, and invalid characters.\n",
    "5. Use the random module to make sure the word to be guessed is randomly chosen.\n",
    "6. Cluster the potential words accordingly and reveal it to the player each round.\n",
    "7. In case the player first guesses the right letter at the wrong place, and later on gets the place right, remove that from your valid characters invalid positions."
   ]
  },
  {
   "cell_type": "markdown",
   "id": "d36fae6c-a086-49f5-accf-6843a5008c1c",
   "metadata": {},
   "source": [
    "<a class=\"anchor\" id=\"tips\"></a>\n",
    "\n",
    "## Tips"
   ]
  },
  {
   "cell_type": "markdown",
   "id": "9eb0d001-1daa-42d6-9a9f-aa8e1e767cb4",
   "metadata": {},
   "source": [
    "- At the very beginning each of the words have a chance of being the word to be guessed.\n",
    "- A word is invalid, when there are invalid letters in it or when there is a valid letter at the wrong place.\n",
    "- A word is possible, when it isn’t invalid and contains the correctly guessed letter at the right place.\n",
    "- You can initiate a random number by:\n",
    "\n",
    "```python\n",
    "from random import randint, seed\n",
    "seed()\n",
    "```"
   ]
  },
  {
   "cell_type": "markdown",
   "id": "7c314af9-ed0d-4a64-8fab-95707ea8723b",
   "metadata": {},
   "source": [
    "<a class=\"anchor\" id=\"test\"></a>\n",
    "\n",
    "## Test"
   ]
  },
  {
   "cell_type": "markdown",
   "id": "e3342c88-9f42-441b-900a-c133c790353a",
   "metadata": {},
   "source": [
    "If the word to be guessed is _BUIST_ and if I guess first _MILKY_, my cluster of potential words should consist of 1127 words. If I then go ahead and guess _POUND_, my cluster of potential words should consist of only 52 words. If I go ahead and guess _RATES_, my cluster should consist of only 3 words and they should be `['BUIST', 'BUSTI', 'QUIST']`."
   ]
  },
  {
   "cell_type": "markdown",
   "id": "fa1c8553-a906-4352-9f1a-c865d561f4ea",
   "metadata": {},
   "source": [
    "## Solution"
   ]
  },
  {
   "cell_type": "markdown",
   "id": "cd9f4877-edd7-4f69-9991-38b2e150af7b",
   "metadata": {},
   "source": [
    "### Build Data"
   ]
  },
  {
   "cell_type": "markdown",
   "id": "937aa52e-b45a-44f4-bb10-c26c3fc915f8",
   "metadata": {},
   "source": [
    "First, we need to download a corpus of english (or any language you are interested in) words. By a simple google search, you can find many datasets. However, we want to use a dataset that has frequency information as well. Words frequency data tell us how popular a word is and to control the difficulty level of the game, we can use top popular words to make it easy or rare words to make it difficult to guess."
   ]
  },
  {
   "cell_type": "markdown",
   "id": "6fd888c1-12a9-4dfe-b3f8-97f7b4f89b30",
   "metadata": {},
   "source": [
    "For the purpose of this project, we use data in [Kaggle English Word Frequency](https://www.kaggle.com/datasets/rtatman/english-word-frequency). This dataset contains the counts of the 333,333 most commonly-used single words on the English language web, as derived from the Google Web Trillion Word Corpus."
   ]
  },
  {
   "cell_type": "markdown",
   "id": "ee9511b8-bf4a-4325-a96a-8ab1a12db2ae",
   "metadata": {},
   "source": [
    "Dataset file is in `.csv` version which you may not know how to work with, so we convert it to a comma separated `.txt` file."
   ]
  },
  {
   "cell_type": "code",
   "execution_count": 1,
   "id": "deaf7c10-c33f-45a0-b532-f578165d9c80",
   "metadata": {},
   "outputs": [],
   "source": [
    "# Downloaded file is located in data/words_frequency.txt\n",
    "file_path = 'data/words_frequency.txt'"
   ]
  },
  {
   "cell_type": "markdown",
   "id": "fc9e7902-7bbc-4e9b-ad97-e4489f6e1f91",
   "metadata": {},
   "source": [
    "We need to filter the top N words that have M letters. We choose 10_000 and 5 for N and M respectively, but you can select any values to make your game more or less fun/difficult."
   ]
  },
  {
   "cell_type": "code",
   "execution_count": 2,
   "id": "2b69180b-b387-4aa0-8210-d08abe993603",
   "metadata": {},
   "outputs": [],
   "source": [
    "def generate_word_frequency(file_path, word_len: int = 5, limit: int = 1000):\n",
    "    \"\"\"\n",
    "    Generate top words (top `limit` words) that have word_len letters.\n",
    "\n",
    "    :param file_path: Words frequency data txt file\n",
    "    :param word_len: Word length (M)\n",
    "    :param limit: Top N words\n",
    "    :return: List of words\n",
    "    \"\"\"\n",
    "    # Build data\n",
    "    words_freq = []\n",
    "    with open(file_path) as f:\n",
    "        for line in f:\n",
    "            word, frequency = line.split(', ')\n",
    "            frequency = int(frequency)\n",
    "            words_freq.append((word, frequency))\n",
    "\n",
    "    # `word_len` letters words\n",
    "    words_freq = list(filter(\n",
    "        lambda w_freq: len(w_freq[0]) == word_len, words_freq\n",
    "    ))\n",
    "            \n",
    "    # Sort data\n",
    "    words_freq = sorted(words_freq, key=lambda w_freq: w_freq[1], reverse=True)\n",
    "\n",
    "    # Limit data\n",
    "    words_freq = words_freq[:limit]\n",
    "\n",
    "    # Drop frequency data and only keep the words\n",
    "    words = [w_freq[0] for w_freq in words_freq]\n",
    "    \n",
    "    return words"
   ]
  },
  {
   "cell_type": "code",
   "execution_count": 3,
   "id": "390cf944-c9f1-4563-8a5b-5a26bd49eb59",
   "metadata": {},
   "outputs": [],
   "source": [
    "word_len = 5\n",
    "limit = 10_000\n",
    "\n",
    "words = generate_word_frequency(file_path, 5, 10_000)"
   ]
  },
  {
   "cell_type": "code",
   "execution_count": 4,
   "id": "d232242f-1819-475d-8994-6a77fb093347",
   "metadata": {},
   "outputs": [
    {
     "data": {
      "text/plain": [
       "['about',\n",
       " 'other',\n",
       " 'which',\n",
       " 'their',\n",
       " 'there',\n",
       " 'first',\n",
       " 'would',\n",
       " 'these',\n",
       " 'click',\n",
       " 'price']"
      ]
     },
     "execution_count": 4,
     "metadata": {},
     "output_type": "execute_result"
    }
   ],
   "source": [
    "words[:10]"
   ]
  },
  {
   "cell_type": "markdown",
   "id": "c5ebfb5f-8490-4b41-81b1-ae184543ee28",
   "metadata": {},
   "source": [
    "### Select a Random Word"
   ]
  },
  {
   "cell_type": "markdown",
   "id": "211bc474-2753-4409-bb59-8d67de2932c7",
   "metadata": {},
   "source": [
    "To select a random word from a list of words, we can use the `random.choice` function from the `random` module."
   ]
  },
  {
   "cell_type": "code",
   "execution_count": 5,
   "id": "c3126cf1-8f92-4aea-92a5-e6acc2897317",
   "metadata": {},
   "outputs": [],
   "source": [
    "import random"
   ]
  },
  {
   "cell_type": "code",
   "execution_count": 6,
   "id": "e20c2b0c-368d-4ec1-9854-ebd8faba4570",
   "metadata": {},
   "outputs": [
    {
     "data": {
      "text/plain": [
       "1"
      ]
     },
     "execution_count": 6,
     "metadata": {},
     "output_type": "execute_result"
    }
   ],
   "source": [
    "random.choice([1, 2, 3])"
   ]
  },
  {
   "cell_type": "markdown",
   "id": "9aa9cebd-ae24-4d13-8c06-e373d3e50546",
   "metadata": {},
   "source": [
    "To select a random word from the list, we can use `random` library. The `choice()` method returns a randomly selected element from the specified sequence. The sequence can be a string, a range, a list, a tuple or any other kind of sequence."
   ]
  },
  {
   "cell_type": "code",
   "execution_count": 7,
   "id": "72182f33-f8d6-43c6-a8aa-f98bb132d7eb",
   "metadata": {},
   "outputs": [],
   "source": [
    "random.seed(3)"
   ]
  },
  {
   "cell_type": "code",
   "execution_count": 8,
   "id": "4e6baeb9-fa7b-4042-b4b0-332fb6a8034c",
   "metadata": {},
   "outputs": [],
   "source": [
    "word = random.choice(words)"
   ]
  },
  {
   "cell_type": "code",
   "execution_count": 9,
   "id": "8875b8a3-14e3-49fc-a5bb-ff47a803355e",
   "metadata": {},
   "outputs": [],
   "source": [
    "word = word.upper()"
   ]
  },
  {
   "cell_type": "code",
   "execution_count": 10,
   "id": "9c466c49-f5cf-4863-93ea-1a96fb20bce1",
   "metadata": {},
   "outputs": [
    {
     "data": {
      "text/plain": [
       "'DOLOR'"
      ]
     },
     "execution_count": 10,
     "metadata": {},
     "output_type": "execute_result"
    }
   ],
   "source": [
    "word"
   ]
  },
  {
   "cell_type": "markdown",
   "id": "d1620ac5-2ed1-447d-ab24-af4d193ea79d",
   "metadata": {},
   "source": [
    "If you restart the kernel and run the cell again, you will get the same result."
   ]
  },
  {
   "cell_type": "markdown",
   "id": "205b4f39-73ae-42af-af78-abbd51f6186c",
   "metadata": {},
   "source": [
    "### Wordle Run"
   ]
  },
  {
   "cell_type": "markdown",
   "id": "7dbc07b6-35fc-434d-9598-5644fcf44963",
   "metadata": {},
   "source": [
    "To implement the Wordle game, we need to do the following:\n",
    "\n",
    "1. Create a list of words\n",
    "2. Select a random word from the list\n",
    "3. Ask the user to guess the word\n",
    "4. Check if the user's guess is correct\n",
    "6. If the user's guess is correct, print a message and end the game.\n",
    "7. If the user's guess is incorrect, print a message and let the user try again.\n",
    "8. The message should tell the user which letters are valid and in the correct position, which letters are valid but in the wrong position, and which letters are invalid (not in the word).\n",
    "9. If the user has guessed incorrectly 6 times, print a message and end the game.\n"
   ]
  },
  {
   "cell_type": "markdown",
   "id": "d624f6b5-1380-473e-830f-ab78a6232a6a",
   "metadata": {},
   "source": [
    "So far we have done steps 1 and 2. We can do step 3 by using the `input` function. Step 4 can be done by using the `==` operator. Steps 6 and 7 can be done by using the `if` statement. Step 8 can be done by using the `for` loop. Step 9 can be done by using the `while` loop."
   ]
  },
  {
   "cell_type": "markdown",
   "id": "226f2be0-985c-4b2b-a9e2-66de887551a9",
   "metadata": {},
   "source": [
    "To make the game colorful, we can use `termcolor` to print the letters in different colors (Green for correct letters in the correct position, Yellow for correct letters in the wrong position, and Red for incorrect letters). To make the prints easier, we can make them into functions:"
   ]
  },
  {
   "cell_type": "code",
   "execution_count": 11,
   "id": "5f847b6c-345e-4642-823b-b2ec70ec6d09",
   "metadata": {},
   "outputs": [
    {
     "name": "stdout",
     "output_type": "stream",
     "text": [
      "Requirement already satisfied: termcolor in /Users/ali/opt/anaconda3/envs/py38/lib/python3.8/site-packages (1.1.0)\n"
     ]
    }
   ],
   "source": [
    "!pip install termcolor\n",
    "\n",
    "from termcolor import colored"
   ]
  },
  {
   "cell_type": "code",
   "execution_count": 12,
   "id": "d0cde88b-512a-475e-8f1e-bea5b98a4023",
   "metadata": {},
   "outputs": [],
   "source": [
    "def print_success(text, end='\\n'):\n",
    "    print(colored(text, 'green', attrs=['reverse']), end=end)\n",
    "\n",
    "def print_warning(text, end='\\n'):\n",
    "    print(colored(text, 'yellow', attrs=['reverse']), end=end)\n",
    "\n",
    "def print_error(text, end='\\n'):\n",
    "    print(colored(text, 'red', attrs=['reverse']), end=end)"
   ]
  },
  {
   "cell_type": "code",
   "execution_count": 13,
   "id": "fe982354-74e7-42f8-b5d6-2ccd2a699c18",
   "metadata": {},
   "outputs": [
    {
     "name": "stdout",
     "output_type": "stream",
     "text": [
      "\u001b[7m\u001b[31mError\u001b[0m\n"
     ]
    }
   ],
   "source": [
    "print_error('Error')"
   ]
  },
  {
   "cell_type": "code",
   "execution_count": 14,
   "id": "2501fb33-ae53-4bee-999f-43f2f5937cb5",
   "metadata": {},
   "outputs": [
    {
     "name": "stdout",
     "output_type": "stream",
     "text": [
      "\u001b[7m\u001b[32mSuccess\u001b[0m\n"
     ]
    }
   ],
   "source": [
    "print_success('Success')"
   ]
  },
  {
   "cell_type": "code",
   "execution_count": 15,
   "id": "b7b7ab52-6f2e-4f26-bd5e-34d1fbbb91a6",
   "metadata": {},
   "outputs": [
    {
     "name": "stdout",
     "output_type": "stream",
     "text": [
      "\u001b[7m\u001b[33mWarning\u001b[0m\n"
     ]
    }
   ],
   "source": [
    "print_warning('Warning')"
   ]
  },
  {
   "cell_type": "code",
   "execution_count": 16,
   "id": "0cd2f445-32eb-48c0-8b74-406bf193f9d7",
   "metadata": {},
   "outputs": [],
   "source": [
    "def check_word(word, guess_word):\n",
    "    for w_letter, g_letter in zip(word, guess_word):\n",
    "        if w_letter == g_letter:\n",
    "            print_success(f' {g_letter} ', end='')\n",
    "            print(' ', end='')\n",
    "        elif g_letter in word:\n",
    "            print_warning(f' {g_letter} ', end='')\n",
    "            print(' ', end='')\n",
    "        else:\n",
    "            print_error(f' {g_letter} ', end='')\n",
    "            print(' ', end='')\n",
    "    print()"
   ]
  },
  {
   "cell_type": "code",
   "execution_count": null,
   "id": "e4f80825-0880-4b76-8db2-e4428fd36bc2",
   "metadata": {},
   "outputs": [
    {
     "name": "stdin",
     "output_type": "stream",
     "text": [
      "Enter a 5 letter word (or q to exit):  apple\n"
     ]
    },
    {
     "name": "stdout",
     "output_type": "stream",
     "text": [
      "\u001b[7m\u001b[31m A \u001b[0m \u001b[7m\u001b[31m P \u001b[0m \u001b[7m\u001b[31m P \u001b[0m \u001b[7m\u001b[33m L \u001b[0m \u001b[7m\u001b[31m E \u001b[0m \n"
     ]
    },
    {
     "name": "stdin",
     "output_type": "stream",
     "text": [
      "Enter a 5 letter word (or q to exit):  color\n"
     ]
    },
    {
     "name": "stdout",
     "output_type": "stream",
     "text": [
      "\u001b[7m\u001b[31m C \u001b[0m \u001b[7m\u001b[32m O \u001b[0m \u001b[7m\u001b[32m L \u001b[0m \u001b[7m\u001b[32m O \u001b[0m \u001b[7m\u001b[32m R \u001b[0m \n"
     ]
    },
    {
     "name": "stdin",
     "output_type": "stream",
     "text": [
      "Enter a 5 letter word (or q to exit):  dolor\n"
     ]
    },
    {
     "name": "stdout",
     "output_type": "stream",
     "text": [
      "\u001b[7m\u001b[32m D \u001b[0m \u001b[7m\u001b[32m O \u001b[0m \u001b[7m\u001b[32m L \u001b[0m \u001b[7m\u001b[32m O \u001b[0m \u001b[7m\u001b[32m R \u001b[0m \n",
      "\n",
      "\u001b[7m\u001b[32m Congratulations! \u001b[0m\n"
     ]
    }
   ],
   "source": [
    "# Start Game\n",
    "num_try = 6\n",
    "success = False\n",
    "\n",
    "while num_try:\n",
    "    guess_word = input(f'Enter a {word_len} letter word (or q to exit): ')\n",
    "    if guess_word.lower() == 'q':\n",
    "        break\n",
    "    guess_word = guess_word.upper()\n",
    "\n",
    "    # Word length\n",
    "    if len(guess_word) != 5:\n",
    "        print(f'Word must have {word_len} letters. You entered {len(guess_word)}!')\n",
    "        continue\n",
    "\n",
    "    # Check valid word\n",
    "    if guess_word.lower() not in words:\n",
    "        print_warning('Word is not valid!')\n",
    "        continue\n",
    "\n",
    "    # Check valid, invalid positions, invalid characters\n",
    "    check_word(word, guess_word)\n",
    "\n",
    "    if word == guess_word:\n",
    "        print()\n",
    "        print_success(' Congratulations! ')\n",
    "        success = True\n",
    "        break\n",
    "\n",
    "    num_try -= 1\n",
    "\n",
    "if not success:\n",
    "    print_warning(f'Game over: The word was \"{word}\".')"
   ]
  },
  {
   "cell_type": "markdown",
   "id": "957dd51b-eaa5-49f8-8071-edd6f32228e0",
   "metadata": {},
   "source": [
    "### Modularization"
   ]
  },
  {
   "cell_type": "markdown",
   "id": "30192dc3-39cb-4847-a982-842a377b7517",
   "metadata": {},
   "source": [
    "We can make the code easier to read and reuse by putting it into a Wordle class and functions. We can also make the code more flexible by allowing the user to specify the number of guesses and the list of words as parameters (Do this as an exercise)."
   ]
  },
  {
   "cell_type": "markdown",
   "id": "5d4acd98-d44a-4b6e-91dc-1babf98d6a5f",
   "metadata": {},
   "source": [
    "The modularized code is available in github at [Pytopia Wordle Repo](https://github.com/pytopia/wordle)."
   ]
  }
 ],
 "metadata": {
  "kernelspec": {
   "display_name": "Python 3",
   "language": "python",
   "name": "python3"
  },
  "language_info": {
   "codemirror_mode": {
    "name": "ipython",
    "version": 3
   },
   "file_extension": ".py",
   "mimetype": "text/x-python",
   "name": "python",
   "nbconvert_exporter": "python",
   "pygments_lexer": "ipython3",
   "version": "3.8.11"
  }
 },
 "nbformat": 4,
 "nbformat_minor": 5
}
