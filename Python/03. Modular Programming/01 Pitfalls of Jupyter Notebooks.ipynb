{
 "cells": [
  {
   "cell_type": "markdown",
   "id": "4933b7cf-6377-4c2c-a6e9-b31be480e4b8",
   "metadata": {},
   "source": [
    "<img src=\"../../images/banners/python-modular.png\" width=\"600\"/>"
   ]
  },
  {
   "cell_type": "markdown",
   "id": "dccd91d9-a88c-43ac-b3e6-edd0c28f433d",
   "metadata": {},
   "source": [
    "# <img src=\"../../images/logos/python.png\" width=\"23\"/> Pitfalls of Jupyter Notebooks\n"
   ]
  },
  {
   "cell_type": "markdown",
   "id": "bd0c795c-941e-4e95-9278-72f2afe74e03",
   "metadata": {},
   "source": [
    "## <img src=\"../../images/logos/toc.png\" width=\"20\"/> Table of Contents \n",
    "* [Modularity](#modularity)\n",
    "* [Transitioning to modules](#transitioning-to-modules)\n",
    "* [Difficulty to test](#difficulty-to-test)\n",
    "* [Version control](#version-control)\n",
    "* [Hidden state is opposed to reproducibility](#hidden-state)\n",
    "* [Notebooks aren’t named by default](#no-name-by-default)\n",
    "* [Difficult to integrate into other execution systems](#difficult-to-integrate)\n",
    "* [Summary](#summary)\n",
    "\n",
    "---"
   ]
  },
  {
   "cell_type": "markdown",
   "id": "da245ae3-a068-45a7-aa72-e2ccf7672ff4",
   "metadata": {},
   "source": [
    "At this point, you should have a working Python 3 interpreter at hand. If you need help getting Python set up correctly, please refer to the previous sections on how to interact with Conda and jupyter notebook / lab. There are several ways to run Python code. So far, we have discussed how to code using Notebook Environments. "
   ]
  },
  {
   "cell_type": "markdown",
   "id": "025e930a-9f64-4ba1-b598-2e20e7c7ac43",
   "metadata": {},
   "source": [
    "Jupyter Notebooks are a great tool for research, data science type things, and teaching. But they are not perfect - they support exploration, but not other parts of the coding phase such as modularity and scaling. This page lists some common limitations and pitfalls and what you can do to avoid them. Do use notebooks if you like, but do keep in mind their limitations, how to avoid them, and you can get the best of both worlds."
   ]
  },
  {
   "cell_type": "markdown",
   "id": "7e3719b7-5553-4636-bfd9-100d1c96d475",
   "metadata": {},
   "source": [
    "<a class=\"anchor\" id=\"modularity\"></a>\n",
    "## Modularity"
   ]
  },
  {
   "cell_type": "markdown",
   "id": "5eff420a-7e1d-4b3e-ad06-bf95298de6e1",
   "metadata": {},
   "source": [
    "Code modularity is important (You'll learn what it means in details but basically it's the process of splitting code into several files), but Jupyter encourages you to put most code directly into cells so that you can best use interactive tools. But to make code the most modular, you want lots of functions, classes, etc. Put another way, the most modular code has nothing except function/class/variable/import definitions touching the left margin - but in Jupyter, almost everything touches the left margin."
   ]
  },
  {
   "cell_type": "markdown",
   "id": "df357825-7a7e-4002-a06b-c0ded06cef7c",
   "metadata": {},
   "source": [
    "Solutions:\n",
    "- Slowly work towards functions/classes/etc where appropriate, but realize it’s not as easy to inspect their insides as non-function code.\n",
    "- Be aware of the transition to modules - do it when you need to. See the next point.\n",
    "- Try to plan so it’s not too painful to make the conversion when the time comes."
   ]
  },
  {
   "cell_type": "markdown",
   "id": "0cbd8177-fc7f-4f6d-b639-f1ecb4952de6",
   "metadata": {},
   "source": [
    "<a class=\"anchor\" id=\"transitioning-to-modules\"></a>\n",
    "## Transitioning to modules"
   ]
  },
  {
   "cell_type": "markdown",
   "id": "674fe096-41bf-419b-9c57-a0b63fb127dc",
   "metadata": {},
   "source": [
    "You may start coding in notebooks, but once your project gets larger, you will need to start using your code more places. Do you copy and paste? At this point, you will want to split your core code into regular Python modules, import them into your notebooks, and use the notebooks as an interface to them - so that modules are somewhat standard working code and notebooks are the exploration and interactive layer. But when does that happen? It is difficult to make that transition unless you really try hard, because it’s easier to just keep on going."
   ]
  },
  {
   "cell_type": "markdown",
   "id": "45177ab0-64ab-48ad-914e-df2d9d4af32c",
   "metadata": {},
   "source": [
    "Solutions:\n",
    "- Remember that you will probably need to form a proper module eventually. Plan for it and do it quickly once you need to.\n",
    "- Make sure you notebooks aren’t disconnected from your own Python code in modules/packages.\n",
    "- You can set modules to automatically reload with `%load_ext autoreload`, `%autoreload 1`, and then `%aimport module_name`. Then your edits to the Python source code are immediately used without restarting and your work is not slowed down much. See more at the `IPython` docs on [`autoreload`](https://ipython.readthedocs.io/en/stable/config/extensions/autoreload.html) (note: this is Python kernel specific).\n",
    "- [importnb](https://pypi.org/project/importnb/) to import notebooks as modules - but maybe if you get to this, you need to rethink your goal."
   ]
  },
  {
   "cell_type": "code",
   "execution_count": 1,
   "id": "5863a904-2e2c-4e3c-a346-bd8404adbe2a",
   "metadata": {},
   "outputs": [],
   "source": [
    "import numpy\n",
    "\n",
    "%load_ext autoreload\n",
    "%autoreload 1\n",
    "%aimport numpy"
   ]
  },
  {
   "cell_type": "markdown",
   "id": "060f5015-8887-4667-8ed2-6d9cfaf0b6b2",
   "metadata": {},
   "source": [
    "<a class=\"anchor\" id=\"difficulty-to-test\"></a>\n",
    "## Difficulty to test"
   ]
  },
  {
   "cell_type": "markdown",
   "id": "e699e1a3-268b-4cdd-8cea-cd9013881ac0",
   "metadata": {},
   "source": [
    "For the same reasons modularity outlined above, it’s hard to test notebooks using the traditional unit testing means (if you can’t import notebooks into other modules, you can’t do much). Testing is important to ensure the accuracy of code."
   ]
  },
  {
   "cell_type": "markdown",
   "id": "e6214d4f-53fb-44dc-8242-aa80558bdcd6",
   "metadata": {},
   "source": [
    "Solution: Include mini-tests / assertions liberally. Split to modules when it is necessary - maybe you only create a proper testing system once you transition to modules."
   ]
  },
  {
   "cell_type": "markdown",
   "id": "9984fba3-4a1e-4530-b6a0-e1f8f85a7ef4",
   "metadata": {},
   "source": [
    "Solutions:\n",
    "- Various extensions to pytest that work with notebooks\n",
    "    - `nbval`, `pytest-notebook`: run notebook, check actual outputs match outputs in ipynb.\n",
    "    - pytest-ipynb: cells are unit tests\n",
    "    - This list isn’t complete or a recommendation\n",
    "- But just like with modularity above, a notebook designed to be easily testable isn’t designed for interactive work.\n",
    "- Transition to modules instead of testing in the notebook."
   ]
  },
  {
   "cell_type": "markdown",
   "id": "2845e7ae-7a06-4239-91e1-e89923f45c0a",
   "metadata": {},
   "source": [
    "<a class=\"anchor\" id=\"version-control\"></a>\n",
    "## Version control"
   ]
  },
  {
   "cell_type": "markdown",
   "id": "90ba54d5-2b28-42eb-9ed1-430c5d2809ad",
   "metadata": {},
   "source": [
    "Notebooks can’t be version controlled well, since they are JSON format. Of course, they can be version controlled (and should be), and there are a variety of good solutions so this shouldn’t stop you."
   ]
  },
  {
   "cell_type": "markdown",
   "id": "fed998d6-2214-4690-8511-f46d3935dfc4",
   "metadata": {},
   "source": [
    "Solutions:\n",
    "- Don’t let this stop you. Do version control your notebooks (and don’t forget to commit often!), even if you don’t use any of the other strategies.\n",
    "- nbdime - diffing and merging, VCS integration\n",
    "- Jupyter lab / notebook git integration work well.\n",
    "- Notebooks in other plain-text formats: Rmarkdown, Jupytext (pair notebooks with plain text versions).\n",
    "- Remember, blobs in version control is still better than nothing."
   ]
  },
  {
   "cell_type": "markdown",
   "id": "cba3637e-a8a9-4bac-86db-8e6da29a845a",
   "metadata": {},
   "source": [
    "<a class=\"anchor\" id=\"hidden-state\"></a>\n",
    "## Hidden state is opposed to reproducibility"
   ]
  },
  {
   "cell_type": "markdown",
   "id": "023a7e05-2d12-42f6-99d6-f569018b027d",
   "metadata": {},
   "source": [
    "This is a bit of an obscure one: people always say that notebooks are good for reproducibility. But they also allow you to run cells in different orders, delete cells after it has run, change code after you run it, and so on. And this is the whole point of notebooks. So it’s very easy to get into a state where you have variables defined which aren’t in your current code and you don’t remember how you got them. Since old output is saved, you might not realize this until it’s too late."
   ]
  },
  {
   "cell_type": "markdown",
   "id": "8b3fcecf-ec1a-4da5-8cad-eefc065bbb52",
   "metadata": {},
   "source": [
    "Solutions:\n",
    "- Use “Restart and run all” liberally. Unless you do, you can’t be sure that your code will reproduce your output.\n",
    "- But wait… part of the point of notebooks is that you can keep data in memory instead of recalculating each time you run. “Restart and run all” defeats the purpose of that, so… balance it out.)\n",
    "- Design for modularity and clean interfaces, even within a notebook. Don’t make a mess."
   ]
  },
  {
   "cell_type": "markdown",
   "id": "e059aa83-b755-4c03-a132-a79e9f47f22a",
   "metadata": {},
   "source": [
    "<a class=\"anchor\" id=\"no-name-by-default\"></a>\n",
    "## Notebooks aren’t named by default"
   ]
  },
  {
   "cell_type": "markdown",
   "id": "b0de0af9-59aa-4891-9b82-dbf28ecfdab6",
   "metadata": {},
   "source": [
    "This is really small, but notebooks aren’t named by default. If you don’t name them well, you will end up with a big mess. Also somewhat related, notebooks tend to purpose drift: they start for one thing then end up with a lot of random stuff in them. How do you find what you need? Obviously this isn’t specific to notebooks, but the interactive nature and modularity-second makes the problem more visible.\n",
    "\n",
    "Solutions:\n",
    "- Remember to name notebooks wells, immediately after making them.\n",
    "- Keep mind of when they start to feature drift too much, or have too many unrelated things in them. Take some time to sort your code logically once that happens."
   ]
  },
  {
   "cell_type": "markdown",
   "id": "7a836c15-ec88-40be-9c18-29d6aafc8ba4",
   "metadata": {},
   "source": [
    "<a class=\"anchor\" id=\"difficult-to-integrate\"></a>\n",
    "## Difficult to integrate into other execution systems"
   ]
  },
  {
   "cell_type": "markdown",
   "id": "0fd80682-6f30-452f-8c63-1bdbee7b6c7e",
   "metadata": {},
   "source": [
    "A notebook is designed for interactive use - you can run them from the command line with various commands. But there’s no good command line interface to pass arguments, input and output, and so on. So you write one notebook, but can’t easily turn it into a flexible script to be used many times.\n",
    "\n",
    "Solutions:\n",
    "- Modularize your code and notebooks. Use notebooks to explore, scripts to run in bulk.\n",
    "- Create command line interfaces to your libraries, use that instead of notebooks.\n",
    "- There are many different tools to parameterize and execute notebooks, if you think you can keep stuff organized:\n",
    "    - nbconvert\n",
    "    - papermill\n",
    "    - nbscript (self-advertisement)\n",
    "    - … and plenty more"
   ]
  },
  {
   "cell_type": "markdown",
   "id": "64fcaa0b-bd3f-44ce-bf88-bcee07436741",
   "metadata": {},
   "source": [
    "<a class=\"anchor\" id=\"summary\"></a>\n",
    "## Summary"
   ]
  },
  {
   "cell_type": "markdown",
   "id": "45d59321-de0a-4fdf-98ff-c34960e3321c",
   "metadata": {},
   "source": [
    "The notebooks can be great for starting projects and interactive exploration. However, as a project gets more advanced, you will eventually find that the linear nature of notebooks is a limitation because code can not really be reused. It is possible to define functions/classes within the notebook, but you lose the power of inspection (they are just seen as single blocks) and can’t share code across notebooks (and copy and paste is bad). This doesn’t mean to not use notebooks: but do keep this in mind, and once your methods are mature enough (you are using the same code in multiple places), try to move the core functions and classes out into a separate library, and import this into the day-to-day exploration notebooks. For more about problems with notebooks and how to avoid them, see this fun talk [“I don’t like notebooks” by Joel Grus](https://docs.google.com/presentation/d/1n2RlMdmv1p25Xy5thJUhkKGvjtV-dkAIsUXP-AL4ffI/edit). These problems are not specific to notebooks, and will make your science better."
   ]
  },
  {
   "cell_type": "markdown",
   "id": "659cae5f-dd33-4deb-b018-3e6fb5494369",
   "metadata": {},
   "source": [
    "In a cluster environment, notebooks are inefficient for big calculations because you must reserve your resources in advance, but most of the time the notebooks are not using all their resources. Instead, use notebooks for exploration and light calculation. When you need to scale up and run on the cluster, separate the calculation from the exploration. Best is to create actual programs (start, run, end, non-interactive) and [submit those to the queue](https://scicomp.aalto.fi/triton/tut/serial/). Use notebooks to explore and process the output. A general rule of thumb is “if you would be upset that your notebook restarted, it’s time to split out the calculation”."
   ]
  },
  {
   "cell_type": "markdown",
   "id": "8de8b25a-1ef4-4d7a-a09b-860b1e31961c",
   "metadata": {},
   "source": [
    "Notebooks are hard to version control, so you should look at the [Jupyter diff and merge tools](https://github.com/jupyter/nbdime). Just because notebooks is interactive doesn’t mean version control is any less important! The “split core functions into a library” is also related: that library should be in version control at least."
   ]
  },
  {
   "cell_type": "markdown",
   "id": "639d413f-5214-4911-a8a1-697eac2ec783",
   "metadata": {},
   "source": [
    "Don’t open the same notebook more than once at the same time - you will get conflicts."
   ]
  }
 ],
 "metadata": {
  "kernelspec": {
   "display_name": "Python 3",
   "language": "python",
   "name": "python3"
  },
  "language_info": {
   "codemirror_mode": {
    "name": "ipython",
    "version": 3
   },
   "file_extension": ".py",
   "mimetype": "text/x-python",
   "name": "python",
   "nbconvert_exporter": "python",
   "pygments_lexer": "ipython3",
   "version": "3.8.11"
  }
 },
 "nbformat": 4,
 "nbformat_minor": 5
}
