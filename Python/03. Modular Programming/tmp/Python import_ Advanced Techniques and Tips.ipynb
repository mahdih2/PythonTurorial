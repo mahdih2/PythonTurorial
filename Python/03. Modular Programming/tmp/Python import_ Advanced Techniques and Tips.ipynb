{
 "cells": [
  {
   "cell_type": "markdown",
   "id": "539d7ad8",
   "metadata": {},
   "source": [
    "<img src=\"../../images/banners/python-modular.png\" width=\"600\"/>"
   ]
  },
  {
   "cell_type": "markdown",
   "id": "ec07729c",
   "metadata": {},
   "source": [
    "# <img src=\"../../images/logos/python.png\" width=\"23\"/> Python import: Advanced Techniques and Tips \n"
   ]
  },
  {
   "cell_type": "markdown",
   "id": "5cbb9134",
   "metadata": {},
   "source": [
    "## <img src=\"../../images/logos/toc.png\" width=\"20\"/> Table of Contents \n",
    "* [Basic Python `import`](#basic_python_`import`)\n",
    "    * [Modules](#modules)\n",
    "    * [Packages](#packages)\n",
    "    * [Absolute and Relative Imports](#absolute_and_relative_imports)\n",
    "    * [Python’s Import Path](#python’s_import_path)\n",
    "    * [Example: Structure Your Imports](#example:_structure_your_imports)\n",
    "    * [Create and Install a Local Package](#create_and_install_a_local_package)\n",
    "    * [Namespace Packages](#namespace_packages)\n",
    "    * [Imports Style Guide](#imports_style_guide)\n",
    "* [Resource Imports](#resource_imports)\n",
    "    * [Introducing `importlib.resources`](#introducing_`importlib.resources`)\n",
    "    * [Example: Use Data Files](#example:_use_data_files)\n",
    "    * [Example: Add Icons to Tkinter GUIs](#example:_add_icons_to_tkinter_guis)\n",
    "* [Dynamic Imports](#dynamic_imports)\n",
    "    * [Using `importlib`](#using_`importlib`)\n",
    "    * [Example: Factory Method With Namespace Packages](#example:_factory_method_with_namespace_packages)\n",
    "    * [Example: A Package of Plugins](#example:_a_package_of_plugins)\n",
    "* [The Python Import System](#the_python_import_system)\n",
    "    * [Import Internals](#import_internals)\n",
    "    * [Example: Singletons as Modules](#example:_singletons_as_modules)\n",
    "    * [Reloading Modules](#reloading_modules)\n",
    "    * [Finders and Loaders](#finders_and_loaders)\n",
    "    * [Example: Automatically Install From PyPI](#example:_automatically_install_from_pypi)\n",
    "    * [Example: Import Data Files](#example:_import_data_files)\n",
    "* [Import Tips and Tricks](#import_tips_and_tricks)\n",
    "    * [Handle Packages Across Python Versions](#handle_packages_across_python_versions)\n",
    "    * [Handle Missing Packages: Use an Alternative](#handle_missing_packages:_use_an_alternative)\n",
    "    * [Handle Missing Packages: Use a Mock Instead](#handle_missing_packages:_use_a_mock_instead)\n",
    "    * [Import Scripts as Modules](#import_scripts_as_modules)\n",
    "    * [Run Python Scripts From ZIP Files](#run_python_scripts_from_zip_files)\n",
    "    * [Handle Cyclical Imports](#handle_cyclical_imports)\n",
    "    * [Profile Imports](#profile_imports)\n",
    "* [Conclusion](#conclusion)\n",
    "\n",
    "---"
   ]
  },
  {
   "cell_type": "markdown",
   "id": "ae178be0",
   "metadata": {},
   "source": [
    "In Python, you use the **`import`** keyword to make code in one **module** available in another. Imports in Python are important for **structuring your code** effectively. Using imports properly will make you more productive, allowing you to reuse code while keeping your projects maintainable."
   ]
  },
  {
   "cell_type": "markdown",
   "id": "12ea9952",
   "metadata": {},
   "source": [
    "This tutorial will provide a thorough overview of Python’s `import` statement and how it works. The import system is powerful, and you’ll learn how to harness this power. While you’ll cover many of the concepts behind Python’s import system, this tutorial is mostly example driven. You’ll learn from several code examples throughout."
   ]
  },
  {
   "cell_type": "markdown",
   "id": "b2cb2f79",
   "metadata": {},
   "source": [
    "**In this tutorial, you’ll learn how to:**"
   ]
  },
  {
   "cell_type": "markdown",
   "id": "ff0454f1",
   "metadata": {},
   "source": [
    "- Use **modules**, **packages**, and **namespace packages**\n",
    "- Handle **resources** and **data files** inside your packages\n",
    "- Import modules **dynamically** at runtime\n",
    "- **Customize** Python’s import system\n"
   ]
  },
  {
   "cell_type": "markdown",
   "id": "6d7b25fb",
   "metadata": {},
   "source": [
    "Throughout the tutorial, you’ll see examples of how to play with the Python import machinery in order to work most efficiently. While all the code is shown in the tutorial, you can also download it by clicking the box below:"
   ]
  },
  {
   "cell_type": "markdown",
   "id": "dee04bf1",
   "metadata": {},
   "source": [
    "<a class=\"anchor\" id=\"basic_python_`import`\"></a>\n",
    "\n",
    "## Basic Python `import`"
   ]
  },
  {
   "cell_type": "markdown",
   "id": "05aa82b6",
   "metadata": {},
   "source": [
    "Python code is organized into both [modules and packages](https://realpython.com/python-modules-packages). This section will explain how they differ and how you can work with them."
   ]
  },
  {
   "cell_type": "markdown",
   "id": "a3188c78",
   "metadata": {},
   "source": [
    "Later in the tutorial, you’ll see some advanced and lesser-known uses of Python’s import system. However, let’s get started with the basics: importing modules and packages."
   ]
  },
  {
   "cell_type": "markdown",
   "id": "ce53d608",
   "metadata": {},
   "source": [
    "<a class=\"anchor\" id=\"modules\"></a>\n",
    "\n",
    "### Modules"
   ]
  },
  {
   "cell_type": "markdown",
   "id": "5cf148da",
   "metadata": {},
   "source": [
    "The [Python.org glossary](https://docs.python.org/glossary.html) defines **module** as follows:\n",
    "\n",
    "> An object that serves as an organizational unit of Python code. Modules have a namespace containing arbitrary Python objects. Modules are loaded into Python by the process of importing. ([Source](https://docs.python.org/glossary.html#term-module))"
   ]
  },
  {
   "cell_type": "markdown",
   "id": "5b401869",
   "metadata": {},
   "source": [
    "In practice, a module usually corresponds to one `.py` file containing Python code."
   ]
  },
  {
   "cell_type": "markdown",
   "id": "3c2247a2",
   "metadata": {},
   "source": [
    "The true power of modules is that they can be imported and reused in other code. Consider the following example:"
   ]
  },
  {
   "cell_type": "code",
   "execution_count": 2,
   "id": "70745559",
   "metadata": {},
   "outputs": [
    {
     "data": {
      "text/plain": [
       "3.141592653589793"
      ]
     },
     "execution_count": 2,
     "metadata": {},
     "output_type": "execute_result"
    }
   ],
   "source": [
    ">>> import math\n",
    ">>> math.pi\n",
    "3.141592653589793"
   ]
  },
  {
   "cell_type": "markdown",
   "id": "167fe484",
   "metadata": {},
   "source": [
    "In the first line, `import math`, you import the code in the [`math` module](https://realpython.com/python-math-module/) and make it available to use. In the second line, you access the `pi` [variable](https://realpython.com/python-variables/) within the `math` module. `math` is part of [Python’s standard library](https://docs.python.org/library/index.html), which means that it’s always available to import when you’re running Python."
   ]
  },
  {
   "cell_type": "markdown",
   "id": "1f1bfabd",
   "metadata": {},
   "source": [
    "Note that you write `math.pi` and not just simply `pi`. In addition to being a module, `math` acts as a [**namespace**](https://realpython.com/python-namespaces-scope/) that keeps all the attributes of the module together. Namespaces are useful for keeping your code readable and organized. In the words of Tim Peters:"
   ]
  },
  {
   "cell_type": "markdown",
   "id": "0757b278",
   "metadata": {},
   "source": [
    "You can list the contents of a namespace with `dir()`:"
   ]
  },
  {
   "cell_type": "code",
   "execution_count": 1,
   "id": "85f17e12",
   "metadata": {},
   "outputs": [
    {
     "data": {
      "text/plain": [
       "['__doc__', Ellipsis, 'nan', 'pi', 'pow', Ellipsis]"
      ]
     },
     "execution_count": 1,
     "metadata": {},
     "output_type": "execute_result"
    }
   ],
   "source": [
    ">>> import math\n",
    ">>> dir()\n",
    "['__annotations__', '__builtins__', ..., 'math']\n",
    "\n",
    ">>> dir(math)\n",
    "['__doc__', ..., 'nan', 'pi', 'pow', ...]"
   ]
  },
  {
   "cell_type": "markdown",
   "id": "555b3070",
   "metadata": {},
   "source": [
    "Using `dir()` without any argument shows what’s in the global namespace. To see the contents of the `math` namespace, you use `dir(math)`."
   ]
  },
  {
   "cell_type": "markdown",
   "id": "15352118",
   "metadata": {},
   "source": [
    "You’ve already seen the most straightforward use of `import`. However, there are other ways to use it that allow you to import specific parts of a module and to rename the module as you import it."
   ]
  },
  {
   "cell_type": "markdown",
   "id": "ddafb31d",
   "metadata": {},
   "source": [
    "The following code imports only the `pi` variable from the `math` module:"
   ]
  },
  {
   "cell_type": "code",
   "execution_count": null,
   "id": "6b0220d7",
   "metadata": {},
   "outputs": [],
   "source": [
    ">>> from math import pi\n",
    ">>> pi\n",
    "3.141592653589793\n",
    "\n",
    ">>> math.pi\n",
    "NameError: name 'math' is not defined"
   ]
  },
  {
   "cell_type": "markdown",
   "id": "71a84713",
   "metadata": {},
   "source": [
    "Note that this places `pi` in the global namespace and not within a `math` namespace."
   ]
  },
  {
   "cell_type": "markdown",
   "id": "0716b223",
   "metadata": {},
   "source": [
    "You can also rename modules and attributes as they’re imported:"
   ]
  },
  {
   "cell_type": "code",
   "execution_count": null,
   "id": "c5049cb9",
   "metadata": {},
   "outputs": [],
   "source": [
    ">>> import math as m\n",
    ">>> m.pi\n",
    "3.141592653589793\n",
    "\n",
    ">>> from math import pi as PI\n",
    ">>> PI\n",
    "3.141592653589793"
   ]
  },
  {
   "cell_type": "markdown",
   "id": "9592f940",
   "metadata": {},
   "source": [
    "For more details about the syntax for importing modules, check out [Python Modules and Packages – An Introduction](https://realpython.com/python-modules-packages/#the-import-statement)."
   ]
  },
  {
   "cell_type": "markdown",
   "id": "789b12d5",
   "metadata": {},
   "source": [
    "<a class=\"anchor\" id=\"packages\"></a>\n",
    "\n",
    "### Packages"
   ]
  },
  {
   "cell_type": "markdown",
   "id": "72cb6c9d",
   "metadata": {},
   "source": [
    "You can use a package to further organize your modules. The Python.org glossary defines **package** as follows:\n",
    "> A Python module which can contain submodules or recursively, subpackages. Technically, a package is a Python module with an __path__ attribute. ([Source](https://docs.python.org/glossary.html#term-package))"
   ]
  },
  {
   "cell_type": "markdown",
   "id": "f8ef4a04",
   "metadata": {},
   "source": [
    "Note that a package is still a module. As a user, you usually don’t need to worry about whether you’re importing a module or a package."
   ]
  },
  {
   "cell_type": "markdown",
   "id": "a97568ac",
   "metadata": {},
   "source": [
    "In practice, a package typically corresponds to a file directory containing Python files and other directories. To create a Python package yourself, you create a directory and a [file named `__init__.py`](https://docs.python.org/reference/import.html#regular-packages) inside it. The `__init__.py` file contains the contents of the package when it’s treated as a module. It can be left empty."
   ]
  },
  {
   "cell_type": "markdown",
   "id": "bf99f97c",
   "metadata": {},
   "source": [
    "In general, submodules and subpackages aren’t imported when you import a package. However, you can use `__init__.py` to include any or all submodules and subpackages if you want. To show a few examples of this behavior, you’ll create a package for saying [`Hello world`](http://helloworldcollection.de/) in a few different languages. The package will consist of the following directories and files:"
   ]
  },
  {
   "cell_type": "markdown",
   "id": "877424cc",
   "metadata": {},
   "source": [
    "```\n",
    "world/\n",
    "│\n",
    "├── africa/\n",
    "│   ├── __init__.py\n",
    "│   └── zimbabwe.py\n",
    "│\n",
    "├── europe/\n",
    "│   ├── __init__.py\n",
    "│   ├── greece.py\n",
    "│   ├── norway.py\n",
    "│   └── spain.py\n",
    "│\n",
    "└── __init__.py\n",
    "```"
   ]
  },
  {
   "cell_type": "markdown",
   "id": "bfaf4d00",
   "metadata": {},
   "source": [
    "Each country file [prints](https://realpython.com/python-print/) out a greeting, while the `__init__.py` files selectively import some of the subpackages and submodules. The exact contents of the files are as follows:"
   ]
  },
  {
   "cell_type": "code",
   "execution_count": null,
   "id": "311a7e32",
   "metadata": {},
   "outputs": [],
   "source": [
    "# world/africa/__init__.py  (Empty file)\n",
    "\n",
    "# world/africa/zimbabwe.py\n",
    "print(\"Shona: Mhoroyi vhanu vese\")\n",
    "print(\"Ndebele: Sabona mhlaba\")\n",
    "\n",
    "# world/europe/__init__.py\n",
    "from . import greece\n",
    "from . import norway\n",
    "\n",
    "# world/europe/greece.py\n",
    "print(\"Greek: Γειά σας Κόσμε\")\n",
    "\n",
    "# world/europe/norway.py\n",
    "print(\"Norwegian: Hei verden\")\n",
    "\n",
    "# world/europe/spain.py\n",
    "print(\"Castellano: Hola mundo\")\n",
    "\n",
    "# world/__init__.py\n",
    "from . import africa"
   ]
  },
  {
   "cell_type": "markdown",
   "id": "25abd6f3",
   "metadata": {},
   "source": [
    "Note that `world/__init__.py` imports only `africa` and not `europe`. Similarly, `world/africa/__init__.py` doesn’t import anything, while `world/europe/__init__.py` imports `greece` and `norway` but not `spain`. Each country module will print a greeting when it’s imported."
   ]
  },
  {
   "cell_type": "markdown",
   "id": "cc697448",
   "metadata": {},
   "source": [
    "Let’s play with the `world` package at the interactive prompt to get a better understanding of how the subpackages and submodules behave:"
   ]
  },
  {
   "cell_type": "code",
   "execution_count": null,
   "id": "7ce94d08",
   "metadata": {},
   "outputs": [],
   "source": [
    ">>>>>> import world\n",
    ">>> world\n",
    "<module 'world' from 'world/__init__.py'>\n",
    "\n",
    ">>> # The africa subpackage has been automatically imported\n",
    ">>> world.africa\n",
    "<module 'world.africa' from 'world/africa/__init__.py'>\n",
    "\n",
    ">>> # The europe subpackage has not been imported\n",
    ">>> world.europe\n",
    "AttributeError: module 'world' has no attribute 'europe'"
   ]
  },
  {
   "cell_type": "markdown",
   "id": "a025547e",
   "metadata": {},
   "source": [
    "When `europe` is imported, the `europe.greece` and `europe.norway` modules are imported as well. You can see this because the country modules print a greeting when they’re imported:"
   ]
  },
  {
   "cell_type": "code",
   "execution_count": null,
   "id": "fcdfba2b",
   "metadata": {},
   "outputs": [],
   "source": [
    ">>>>>> # Import europe explicitly\n",
    ">>> from world import europe\n",
    "Greek: Γειά σας Κόσμε\n",
    "Norwegian: Hei verden\n",
    "\n",
    ">>> # The greece submodule has been automatically imported\n",
    ">>> europe.greece\n",
    "<module 'world.europe.greece' from 'world/europe/greece.py'>\n",
    "\n",
    ">>> # Because world is imported, europe is also found in the world namespace\n",
    ">>> world.europe.norway\n",
    "<module 'world.europe.norway' from 'world/europe/norway.py'>\n",
    "\n",
    ">>> # The spain submodule has not been imported\n",
    ">>> europe.spain\n",
    "AttributeError: module 'world.europe' has no attribute 'spain'\n",
    "\n",
    ">>> # Import spain explicitly inside the world namespace\n",
    ">>> import world.europe.spain\n",
    "Castellano: Hola mundo\n",
    "\n",
    ">>> # Note that spain is also available directly inside the europe namespace\n",
    ">>> europe.spain\n",
    "<module 'world.europe.spain' from 'world/europe/spain.py'>\n",
    "\n",
    ">>> # Importing norway doesn't do the import again (no output), but adds\n",
    ">>> # norway to the global namespace\n",
    ">>> from world.europe import norway\n",
    ">>> norway\n",
    "<module 'world.europe.norway' from 'world/europe/norway.py'>"
   ]
  },
  {
   "cell_type": "markdown",
   "id": "70604221",
   "metadata": {},
   "source": [
    "The `world/africa/__init__.py` file is empty. This means that importing the `world.africa` package creates the namespace but has no other effect:"
   ]
  },
  {
   "cell_type": "code",
   "execution_count": null,
   "id": "4c5e972e",
   "metadata": {},
   "outputs": [],
   "source": [
    ">>>>>> # Even though africa has been imported, zimbabwe has not\n",
    ">>> world.africa.zimbabwe\n",
    "AttributeError: module 'world.africa' has no attribute 'zimbabwe'\n",
    "\n",
    ">>> # Import zimbabwe explicitly into the global namespace\n",
    ">>> from world.africa import zimbabwe\n",
    "Shona: Mhoroyi vhanu vese\n",
    "Ndebele: Sabona mhlaba\n",
    "\n",
    ">>> # The zimbabwe submodule is now available\n",
    ">>> zimbabwe\n",
    "<module 'world.africa.zimbabwe' from 'world/africa/zimbabwe.py'>\n",
    "\n",
    ">>> # Note that zimbabwe can also be reached through the africa subpackage\n",
    ">>> world.africa.zimbabwe\n",
    "<module 'world.africa.zimbabwe' from 'world/africa/zimbabwe.py'>"
   ]
  },
  {
   "cell_type": "markdown",
   "id": "2a9c2633",
   "metadata": {},
   "source": [
    "Remember, importing a module both loads the contents and creates a namespace containing the contents. The last few examples show that it’s possible for the same module to be part of different namespaces."
   ]
  },
  {
   "cell_type": "markdown",
   "id": "d4588672",
   "metadata": {},
   "source": [
    "It’s fairly common to import subpackages and submodules in an `__init__.py` file to make them more readily available to your users. You can see [one example of this](https://github.com/psf/requests/blob/v2.23.0/requests/__init__.py#L112) in the popular [`requests` package](https://realpython.com/python-requests/)."
   ]
  },
  {
   "cell_type": "markdown",
   "id": "ca94c8b5",
   "metadata": {},
   "source": [
    "<a class=\"anchor\" id=\"absolute_and_relative_imports\"></a>\n",
    "\n",
    "### Absolute and Relative Imports"
   ]
  },
  {
   "cell_type": "markdown",
   "id": "2697b3ba",
   "metadata": {},
   "source": [
    "Recall the source code of `world/__init__.py` in the earlier example:"
   ]
  },
  {
   "cell_type": "code",
   "execution_count": null,
   "id": "d3d2f27b",
   "metadata": {},
   "outputs": [],
   "source": [
    "from . import africa"
   ]
  },
  {
   "cell_type": "markdown",
   "id": "954403c4",
   "metadata": {},
   "source": [
    "You’ve already seen `from...import` statements such as `from math import pi`, but what does the dot (`.`) in `from . import africa` mean?"
   ]
  },
  {
   "cell_type": "markdown",
   "id": "00908de4",
   "metadata": {},
   "source": [
    "The dot refers to the current package, and the statement is an example of a **relative import**. You can read it as “From the current package, import the subpackage `africa`.”"
   ]
  },
  {
   "cell_type": "markdown",
   "id": "e00bc6a6",
   "metadata": {},
   "source": [
    "There’s an equivalent **absolute import** statement in which you explicitly name the current package:"
   ]
  },
  {
   "cell_type": "code",
   "execution_count": null,
   "id": "7380b491",
   "metadata": {},
   "outputs": [],
   "source": [
    "from world import africa"
   ]
  },
  {
   "cell_type": "markdown",
   "id": "7d3cf633",
   "metadata": {},
   "source": [
    "In fact, all imports in `world` could have been done explicitly with similar absolute imports."
   ]
  },
  {
   "cell_type": "markdown",
   "id": "57d3762b",
   "metadata": {},
   "source": [
    "Relative imports must be in the form `from...import`, and the location you’re importing from must start with a dot."
   ]
  },
  {
   "cell_type": "markdown",
   "id": "3a45fa43",
   "metadata": {},
   "source": [
    "The [PEP 8 style guide](https://www.python.org/dev/peps/pep-0008/#imports) recommends using absolute imports in general. However, relative imports are an alternative for organizing package hierarchies. For more information, see [Absolute vs Relative Imports in Python](https://realpython.com/absolute-vs-relative-python-imports/)."
   ]
  },
  {
   "cell_type": "markdown",
   "id": "74b36671",
   "metadata": {},
   "source": [
    "<a class=\"anchor\" id=\"python’s_import_path\"></a>\n",
    "\n",
    "### Python’s Import Path"
   ]
  },
  {
   "cell_type": "markdown",
   "id": "c3e45506",
   "metadata": {},
   "source": [
    "How does Python find the modules and packages it imports? You’ll see more details about the mechanics of the Python import system [later](#import-internals). For now, just know that Python looks for modules and packages in its [**import path**](https://docs.python.org/glossary.html#term-import-path). This is a list of locations that are searched for modules to import."
   ]
  },
  {
   "cell_type": "markdown",
   "id": "f138d846",
   "metadata": {},
   "source": [
    "You can inspect Python’s import path by printing `sys.path`. Broadly speaking, this list will contain three different kinds of locations:"
   ]
  },
  {
   "cell_type": "markdown",
   "id": "caf15333",
   "metadata": {},
   "source": [
    "1. The directory of the current script (or the current directory if there’s no script, such as when Python is running interactively)\n",
    "2. The contents of the `PYTHONPATH` environment variable\n",
    "3. Other, installation-dependent directories\n"
   ]
  },
  {
   "cell_type": "markdown",
   "id": "564719c7",
   "metadata": {},
   "source": [
    "Typically, Python will start at the beginning of the list of locations and look for a given module in each location until the first match. Since the script directory or the current directory is always first in this list, you can make sure that your scripts find your self-made modules and packages by organizing your directories and being careful about which directory you run Python from."
   ]
  },
  {
   "cell_type": "markdown",
   "id": "f42c351a",
   "metadata": {},
   "source": [
    "However, you should also be careful that you don’t create modules that **shadow**, or hide, other important modules. As an example, say that you define the following `math` module:"
   ]
  },
  {
   "cell_type": "code",
   "execution_count": null,
   "id": "2ba64ede",
   "metadata": {},
   "outputs": [],
   "source": [
    "# math.py\n",
    "\n",
    "def double(number):\n",
    "    return 2 * number"
   ]
  },
  {
   "cell_type": "markdown",
   "id": "5d38a208",
   "metadata": {},
   "source": [
    "Using this module works as expected:"
   ]
  },
  {
   "cell_type": "code",
   "execution_count": null,
   "id": "66078d8a",
   "metadata": {},
   "outputs": [],
   "source": [
    ">>>>>> import math\n",
    ">>> math.double(3.14)\n",
    "6.28"
   ]
  },
  {
   "cell_type": "markdown",
   "id": "46346bd8",
   "metadata": {},
   "source": [
    "But this module also shadows the `math` module that’s included in the standard library. Unfortunately, that means our earlier example of looking up the value of π no longer works:"
   ]
  },
  {
   "cell_type": "code",
   "execution_count": null,
   "id": "6b80cb32",
   "metadata": {},
   "outputs": [],
   "source": [
    ">>>>>> import math\n",
    ">>> math.pi\n",
    "Traceback (most recent call last):\n",
    "  File \"<stdin>\", line 1, in <module>\n",
    "AttributeError: module 'math' has no attribute 'pi'\n",
    "\n",
    ">>> math\n",
    "<module 'math' from 'math.py'>"
   ]
  },
  {
   "cell_type": "markdown",
   "id": "166a119d",
   "metadata": {},
   "source": [
    "The problem is that Python now searches your new `math` module for `pi` instead of searching the `math` module in the standard library. "
   ]
  },
  {
   "cell_type": "markdown",
   "id": "657d7811",
   "metadata": {},
   "source": [
    "To avoid these kinds of issues, you should be careful with the names of your modules and packages. In particular, your top-level module and package names should be unique. If `math` is defined as a submodule within a package, then it won’t shadow the built-in module."
   ]
  },
  {
   "cell_type": "markdown",
   "id": "290b638d",
   "metadata": {},
   "source": [
    "<a class=\"anchor\" id=\"example:_structure_your_imports\"></a>\n",
    "\n",
    "### Example: Structure Your Imports"
   ]
  },
  {
   "cell_type": "markdown",
   "id": "19ea492f",
   "metadata": {},
   "source": [
    "While it’s possible to organize your imports by using the current directory as well as by manipulating `PYTHONPATH` and even `sys.path`, the process is often unruly and prone to errors. To see a typical example, consider the following application:"
   ]
  },
  {
   "cell_type": "markdown",
   "id": "183a5853",
   "metadata": {},
   "source": [
    "```\n",
    "structure/\n",
    "│\n",
    "├── files.py\n",
    "└── structure.py\n",
    "```"
   ]
  },
  {
   "cell_type": "markdown",
   "id": "fc661cb6",
   "metadata": {},
   "source": [
    "The app will re-create a given file structure by creating directories and empty files. The `structure.py` file contains the main script, and `files.py` is a library module with a few functions for dealing with files. The following is an example of output from the app, in this case by running it in the `structure` directory:"
   ]
  },
  {
   "cell_type": "markdown",
   "id": "b664524d",
   "metadata": {},
   "source": [
    "```sh\n",
    "$ python structure.py .\n",
    "Create file: /home/gahjelle/structure/001/structure.py\n",
    "Create file: /home/gahjelle/structure/001/files.py\n",
    "Create file: /home/gahjelle/structure/001/__pycache__/files.cpython-38.pyc\n",
    "```"
   ]
  },
  {
   "cell_type": "markdown",
   "id": "63e955d6",
   "metadata": {},
   "source": [
    "The two source code files as well as the automatically created `.pyc` file are re-created inside a new directory named `001`. "
   ]
  },
  {
   "cell_type": "markdown",
   "id": "4348919c",
   "metadata": {},
   "source": [
    "Now take a look at the source code. The main functionality of the app is defined in `structure.py`:"
   ]
  },
  {
   "cell_type": "code",
   "execution_count": null,
   "id": "7b35f973",
   "metadata": {},
   "outputs": [],
   "source": [
    "# structure/structure.py\n",
    "\n",
    "# Standard library imports\n",
    "import pathlib\n",
    "import sys\n",
    "\n",
    "# Local imports\n",
    "import files\n",
    "\n",
    "def main():\n",
    "    # Read path from command line\n",
    "    try:\n",
    "        root = pathlib.Path(sys.argv[1]).resolve()\n",
    "    except IndexError:\n",
    "        print(\"Need one argument: the root of the original file tree\")\n",
    "        raise SystemExit()\n",
    "\n",
    "    # Re-create the file structure\n",
    "    new_root = files.unique_path(pathlib.Path.cwd(), \"{:03d}\")\n",
    "    for path in root.rglob(\"*\"):\n",
    "        if path.is_file() and new_root not in path.parents:\n",
    "            rel_path = path.relative_to(root)\n",
    "            files.add_empty_file(new_root / rel_path)\n",
    "\n",
    "if __name__ == \"__main__\":\n",
    "    main()"
   ]
  },
  {
   "cell_type": "markdown",
   "id": "75356ff5",
   "metadata": {},
   "source": [
    "In **lines 12 to 16**, you read a root path from the command line. In the above example you use a dot, which means the current directory. This path will be used as the `root` of the file hierarchy that you’ll re-create."
   ]
  },
  {
   "cell_type": "markdown",
   "id": "9a8b5633",
   "metadata": {},
   "source": [
    "The actual work happens in **lines 19 to 23**. First, you create a unique path, `new_root`, that will be the root of your new file hierarchy. Then you loop through all paths below the original `root` and re-create them as empty files inside the new file hierarchy. "
   ]
  },
  {
   "cell_type": "markdown",
   "id": "e9bbb708",
   "metadata": {},
   "source": [
    "For manipulating paths like this, `pathlib` in the standard library is quite useful. For more details on how it’s used, check out [Python 3’s `pathlib` Module: Taming the File System](https://realpython.com/python-pathlib/)."
   ]
  },
  {
   "cell_type": "markdown",
   "id": "8a1e6e72",
   "metadata": {},
   "source": [
    "On **line 26**, you call `main()`. You’ll learn more about the `if` test on **line 25** [later](#import-scripts-as-modules). For now, you should know that the special variable `__name__` has the value `__main__` inside scripts, but it gets the name of the module inside imported modules. For more information on `__name__`, check out [Defining Main Functions in Python](https://realpython.com/python-main-function/#use-__name__-to-control-the-execution-of-your-code)."
   ]
  },
  {
   "cell_type": "markdown",
   "id": "d244ba17",
   "metadata": {},
   "source": [
    "Note that you import `files` on **line 8**. This library module contains two utility functions:"
   ]
  },
  {
   "cell_type": "code",
   "execution_count": null,
   "id": "6431b9d6",
   "metadata": {},
   "outputs": [],
   "source": [
    "# structure/files.py\n",
    "\n",
    "def unique_path(directory, name_pattern):\n",
    "    \"\"\"Find a path name that does not already exist\"\"\"\n",
    "    counter = 0\n",
    "    while True:\n",
    "        counter += 1\n",
    "        path = directory / name_pattern.format(counter)\n",
    "        if not path.exists():\n",
    "            return path\n",
    "\n",
    "def add_empty_file(path):\n",
    "    \"\"\"Create an empty file at the given path\"\"\"\n",
    "    print(f\"Create file: {path}\")\n",
    "    path.parent.mkdir(parents=True, exist_ok=True)\n",
    "    path.touch()"
   ]
  },
  {
   "cell_type": "markdown",
   "id": "f369e2ee",
   "metadata": {},
   "source": [
    "`unique_path()` [uses a counter](https://realpython.com/python-pathlib/#create-a-unique-file-name) to find a path that doesn’t already exist. In the app, you use it to find a unique subdirectory to use as the `new_root` of the re-created file hierarchy. Next, `add_empty_file()` makes sure all necessary directories are created before creating an empty file using [`.touch()`](https://docs.python.org/library/pathlib.html#pathlib.Path.touch)."
   ]
  },
  {
   "cell_type": "markdown",
   "id": "eb5310d8",
   "metadata": {},
   "source": [
    "Have a look at the import of `files` again:"
   ]
  },
  {
   "cell_type": "code",
   "execution_count": null,
   "id": "d0814131",
   "metadata": {},
   "outputs": [],
   "source": [
    "# Local imports\n",
    "import files"
   ]
  },
  {
   "cell_type": "markdown",
   "id": "401b332f",
   "metadata": {},
   "source": [
    "It looks quite innocent. However, as the project grows, this line will cause you some headaches. Even though you import `files` from the `structure` project, the import is **absolute**: it doesn’t start with a dot. This means that `files` must be found in the import path for the import to work. "
   ]
  },
  {
   "cell_type": "markdown",
   "id": "466e0d1f",
   "metadata": {},
   "source": [
    "Luckily, the directory containing the current script is always in Python’s import path, so this works fine for now. However, if your project gains some traction, then it may be used in other ways. "
   ]
  },
  {
   "cell_type": "markdown",
   "id": "257d9b3f",
   "metadata": {},
   "source": [
    "For example, someone might want to import the script into a [Jupyter Notebook](https://realpython.com/jupyter-notebook-introduction/) and run it from there. Or they may want to reuse the `files` library in another project. They may even [create an executable with PyInstaller](https://realpython.com/pyinstaller-python/) to more easily distribute it. Unfortunately, any of these scenarios can create issues with the import of `files`."
   ]
  },
  {
   "cell_type": "markdown",
   "id": "678734ea",
   "metadata": {},
   "source": [
    "To see an example, you can follow the PyInstaller guide and [create an entry point to your application](https://realpython.com/pyinstaller-python/#preparing-your-project). Add an extra directory outside your application directory:"
   ]
  },
  {
   "cell_type": "markdown",
   "id": "e441793b",
   "metadata": {},
   "source": [
    "```\n",
    "structure/\n",
    "│\n",
    "├── structure/\n",
    "│   ├── files.py\n",
    "│   └── structure.py\n",
    "│\n",
    "└── cli.py\n",
    "```"
   ]
  },
  {
   "cell_type": "markdown",
   "id": "4b2267f9",
   "metadata": {},
   "source": [
    "In the outer directory, create the entry point script, `cli.py`:"
   ]
  },
  {
   "cell_type": "code",
   "execution_count": null,
   "id": "a7091699",
   "metadata": {},
   "outputs": [],
   "source": [
    "# cli.py\n",
    "\n",
    "from structure.structure import main\n",
    "\n",
    "if __name__ == \"__main__\":\n",
    "    main()"
   ]
  },
  {
   "cell_type": "markdown",
   "id": "121577c5",
   "metadata": {},
   "source": [
    "This script will import `main()` from your original script and run it. Note that `main()` isn’t run when `structure` is imported because of the `if` test on **line 25** in `structure.py`. That means you need to run `main()` explicitly."
   ]
  },
  {
   "cell_type": "markdown",
   "id": "dbbf4dd6",
   "metadata": {},
   "source": [
    "In theory, this should work similarly to running the app directly:"
   ]
  },
  {
   "cell_type": "markdown",
   "id": "d0cd7fa0",
   "metadata": {},
   "source": [
    "```sh\n",
    "$ python cli.py structure\n",
    "Traceback (most recent call last):\n",
    "  File \"cli.py\", line 1, in <module>\n",
    "    from structure.structure import main\n",
    "  File \"/home/gahjelle/structure/structure/structure.py\", line 8, in <module>\n",
    "    import files\n",
    "ModuleNotFoundError: No module named 'files'\n",
    "```"
   ]
  },
  {
   "cell_type": "markdown",
   "id": "b4257b2e",
   "metadata": {},
   "source": [
    "Why didn’t that work? Suddenly, the import of `files` raises an error. "
   ]
  },
  {
   "cell_type": "markdown",
   "id": "702e3ccc",
   "metadata": {},
   "source": [
    "The problem is that by starting the app with `cli.py`, you’ve changed the location of the current script, which in turn changes the import path. `files` is no longer on the import path, so it can’t be imported absolutely."
   ]
  },
  {
   "cell_type": "markdown",
   "id": "7c9a4440",
   "metadata": {},
   "source": [
    "One possible solution is to change Python’s import path:"
   ]
  },
  {
   "cell_type": "code",
   "execution_count": null,
   "id": "7591cde4",
   "metadata": {},
   "outputs": [],
   "source": [
    "# Local imports\n",
    "sys.path.insert(0, str(pathlib.Path(__file__).parent))\n",
    "import files"
   ]
  },
  {
   "cell_type": "markdown",
   "id": "979adef8",
   "metadata": {},
   "source": [
    "This works because the import path includes the folder containing `structure.py` and `files.py`. The issue with this approach is that your import path can get very messy and hard to understand. "
   ]
  },
  {
   "cell_type": "markdown",
   "id": "0a5096eb",
   "metadata": {},
   "source": [
    "In practice, you’re re-creating a feature of early Python versions called **implicit relative imports**. These were removed from the language by [PEP 328](https://www.python.org/dev/peps/pep-0328/) with the following rationale:"
   ]
  },
  {
   "cell_type": "markdown",
   "id": "f7970239",
   "metadata": {},
   "source": [
    "Another solution is to use a relative import instead. Change the import in `structure.py` as follows:"
   ]
  },
  {
   "cell_type": "code",
   "execution_count": null,
   "id": "cf5c54a1",
   "metadata": {},
   "outputs": [],
   "source": [
    "# Local imports\n",
    "from . import files"
   ]
  },
  {
   "cell_type": "markdown",
   "id": "4a23c0b3",
   "metadata": {},
   "source": [
    "You can now start your app through the entry point script:"
   ]
  },
  {
   "cell_type": "markdown",
   "id": "6339761a",
   "metadata": {},
   "source": [
    "```sh\n",
    "$ python cli.py structure\n",
    "Create file: /home/gahjelle/structure/001/structure.py\n",
    "Create file: /home/gahjelle/structure/001/files.py\n",
    "Create file: /home/gahjelle/structure/001/__pycache__/structure.cpython-38.pyc\n",
    "Create file: /home/gahjelle/structure/001/__pycache__/files.cpython-38.pyc\n",
    "```"
   ]
  },
  {
   "cell_type": "markdown",
   "id": "29fc318c",
   "metadata": {},
   "source": [
    "Unfortunately, you can no longer call the app directly:"
   ]
  },
  {
   "cell_type": "markdown",
   "id": "9cbc799d",
   "metadata": {},
   "source": [
    "```sh\n",
    "$ python structure.py .\n",
    "Traceback (most recent call last):\n",
    "  File \"structure.py\", line 8, in <module>\n",
    "    from . import files\n",
    "ImportError: cannot import name 'files' from '__main__' (structure.py)\n",
    "```"
   ]
  },
  {
   "cell_type": "markdown",
   "id": "af2ca26f",
   "metadata": {},
   "source": [
    "The problem is that [relative imports are resolved differently in scripts](https://www.python.org/dev/peps/pep-0328/#relative-imports-and-name) than are imported modules. Of course, you could go back and restore the absolute import before running the script directly, or you could even do some `try...except` acrobatics to import files absolutely or relatively depending on what works."
   ]
  },
  {
   "cell_type": "markdown",
   "id": "75155e98",
   "metadata": {},
   "source": [
    "There’s even an [officially sanctioned hack](https://www.python.org/dev/peps/pep-0366/) to make relative imports work in scripts. Unfortunately, this also forces you to change `sys.path` in most cases. To quote [Raymond Hettinger](https://twitter.com/raymondh):"
   ]
  },
  {
   "cell_type": "markdown",
   "id": "2ce71275",
   "metadata": {},
   "source": [
    "Indeed, a better—and more stable—solution is to play along with Python’s import and packaging system and install your project as a local package [using `pip`](https://realpython.com/what-is-pip/)."
   ]
  },
  {
   "cell_type": "markdown",
   "id": "e7c2f7fe",
   "metadata": {},
   "source": [
    "<a class=\"anchor\" id=\"create_and_install_a_local_package\"></a>\n",
    "\n",
    "### Create and Install a Local Package"
   ]
  },
  {
   "cell_type": "markdown",
   "id": "8ed00255",
   "metadata": {},
   "source": [
    "When you install a package from [PyPI](https://pypi.org/), that package is available to all scripts in your environment. However, you can also install packages from your local computer, and they’ll also be made available in the same way."
   ]
  },
  {
   "cell_type": "markdown",
   "id": "db325df2",
   "metadata": {},
   "source": [
    "Creating a local package doesn’t involve much overhead. First, create minimal [`setup.cfg`](https://setuptools.readthedocs.io/en/latest/setuptools.html#configuring-setup-using-setup-cfg-files) and [`setup.py`](https://snarky.ca/what-the-heck-is-pyproject-toml/#how-to-use-pyproject-toml-with-setuptools) files in the outer `structure` directory:"
   ]
  },
  {
   "cell_type": "code",
   "execution_count": null,
   "id": "8aaa6f37",
   "metadata": {},
   "outputs": [],
   "source": [
    "# setup.cfg\n",
    "\n",
    "[metadata]\n",
    "name = local_structure\n",
    "version = 0.1.0\n",
    "\n",
    "[options]\n",
    "packages = structure\n",
    "\n",
    "# setup.py\n",
    "\n",
    "import setuptools\n",
    "\n",
    "setuptools.setup()"
   ]
  },
  {
   "cell_type": "markdown",
   "id": "e693c145",
   "metadata": {},
   "source": [
    "In theory, the `name` and `version` can be whatever you like. However, they’ll be used by `pip` when referring to your package, so you should choose values that are recognizable and don’t collide with other packages you use. "
   ]
  },
  {
   "cell_type": "markdown",
   "id": "cad457df",
   "metadata": {},
   "source": [
    "One tip is to give all such local packages a common prefix like `local_` or your username. `packages` should list the directory or directories containing your source code. You can then install the package locally using `pip`:"
   ]
  },
  {
   "cell_type": "markdown",
   "id": "e7832e8f",
   "metadata": {},
   "source": [
    "```sh\n",
    "$ python -m pip install -e .\n",
    "```"
   ]
  },
  {
   "cell_type": "markdown",
   "id": "57fca7b2",
   "metadata": {},
   "source": [
    "This command will install the package to your system. `structure` will then be found on Python’s import path, meaning you can use it anywhere without having to worry about the script directory, relative imports, or other complications. The `-e` option stands for **editable**, which is important because it allows you to change the source code of your package without reinstalling it."
   ]
  },
  {
   "cell_type": "markdown",
   "id": "4566cdb1",
   "metadata": {},
   "source": [
    "Now that `structure` is installed on your system, you can use the following import statement:"
   ]
  },
  {
   "cell_type": "code",
   "execution_count": null,
   "id": "a8c6d425",
   "metadata": {},
   "outputs": [],
   "source": [
    "# Local imports\n",
    "from structure import files"
   ]
  },
  {
   "cell_type": "markdown",
   "id": "804b04aa",
   "metadata": {},
   "source": [
    "This will work no matter how you end up calling your application."
   ]
  },
  {
   "cell_type": "markdown",
   "id": "17f680e4",
   "metadata": {},
   "source": [
    "While it’s a good idea to separate scripts and libraries, all Python files can be both executed and imported. In a [later section](#import-scripts-as-modules), you’ll learn more about how to create modules that handle both well."
   ]
  },
  {
   "cell_type": "markdown",
   "id": "e0e30550",
   "metadata": {},
   "source": [
    "<a class=\"anchor\" id=\"namespace_packages\"></a>\n",
    "\n",
    "### Namespace Packages"
   ]
  },
  {
   "cell_type": "markdown",
   "id": "ce74cff4",
   "metadata": {},
   "source": [
    "Python modules and packages are very closely related to files and directories. This sets Python apart from many other programming languages in which packages merely act as namespaces without enforcing how the source code is organized. See the discussion in [PEP 402](https://www.python.org/dev/peps/pep-0402/#the-problem) for examples."
   ]
  },
  {
   "cell_type": "markdown",
   "id": "a42478ed",
   "metadata": {},
   "source": [
    "**Namespace packages** have been available in Python since version 3.3. These are less dependent on the underlying file hierarchy. In particular, namespace packages can be split across multiple directories. A namespace package is created automatically if you have a directory containing a `.py` file but no `__init__.py`. See [PEP 420](https://www.python.org/dev/peps/pep-0420/) for a detailed explanation."
   ]
  },
  {
   "cell_type": "markdown",
   "id": "cbecdef4",
   "metadata": {},
   "source": [
    "To get a better understanding of why namespace packages can be useful, let’s try to implement one. As a motivating example, you’ll have another go at the problem solved in [The Factory Method Pattern and Its Implementation in Python](https://realpython.com/factory-method-python/): given a `Song` object, you want to convert it to one of several string representations. In other words, you want to **serialize** `Song` objects."
   ]
  },
  {
   "cell_type": "markdown",
   "id": "3022d82f",
   "metadata": {},
   "source": [
    "To be more concrete, you want to implement code that works something like this:"
   ]
  },
  {
   "cell_type": "code",
   "execution_count": null,
   "id": "fa9da0f3",
   "metadata": {},
   "outputs": [],
   "source": [
    ">>>>>> song = Song(song_id=\"1\", title=\"The Same River\", artist=\"Riverside\")\n",
    ">>> song.serialize()\n",
    "'{\"id\": \"1\", \"title\": \"The Same River\", \"artist\": \"Riverside\"}'"
   ]
  },
  {
   "cell_type": "markdown",
   "id": "a504977b",
   "metadata": {},
   "source": [
    "Let’s assume that you’re lucky and come across a [third-party implementation](https://realpython.com/factory-method-python/#an-object-serialization-example) of several of the formats that you need to serialize to, and it’s organized as a namespace package:"
   ]
  },
  {
   "cell_type": "markdown",
   "id": "ab7022eb",
   "metadata": {},
   "source": [
    "```\n",
    "third_party/\n",
    "│\n",
    "└── serializers/\n",
    "    ├── json.py\n",
    "    └── xml.py\n",
    "```"
   ]
  },
  {
   "cell_type": "markdown",
   "id": "bf599f3e",
   "metadata": {},
   "source": [
    "The file `json.py` contains code that can serialize an object to the [JSON format](https://realpython.com/python-json/):"
   ]
  },
  {
   "cell_type": "code",
   "execution_count": null,
   "id": "bc2b3d26",
   "metadata": {},
   "outputs": [],
   "source": [
    "# third_party/serializers/json.py\n",
    "\n",
    "import json\n",
    "\n",
    "class JsonSerializer:\n",
    "    def __init__(self):\n",
    "        self._current_object = None\n",
    "\n",
    "    def start_object(self, object_name, object_id):\n",
    "        self._current_object = dict(id=object_id)\n",
    "\n",
    "    def add_property(self, name, value):\n",
    "        self._current_object[name] = value\n",
    "\n",
    "    def __str__(self):\n",
    "        return json.dumps(self._current_object)"
   ]
  },
  {
   "cell_type": "markdown",
   "id": "ca6b208c",
   "metadata": {},
   "source": [
    "This serializer interface is a bit limited, but it’ll be enough to demonstrate how namespace packages work."
   ]
  },
  {
   "cell_type": "markdown",
   "id": "e51f51ef",
   "metadata": {},
   "source": [
    "The file `xml.py` contains a similar `XmlSerializer` that can convert an object to [XML](https://www.xml.com/axml/axml.html):"
   ]
  },
  {
   "cell_type": "code",
   "execution_count": null,
   "id": "38bad62a",
   "metadata": {},
   "outputs": [],
   "source": [
    "# third_party/serializers/xml.py\n",
    "\n",
    "import xml.etree.ElementTree as et\n",
    "\n",
    "class XmlSerializer:\n",
    "    def __init__(self):\n",
    "        self._element = None\n",
    "\n",
    "    def start_object(self, object_name, object_id):\n",
    "        self._element = et.Element(object_name, attrib={\"id\": object_id})\n",
    "\n",
    "    def add_property(self, name, value):\n",
    "        prop = et.SubElement(self._element, name)\n",
    "        prop.text = value\n",
    "\n",
    "    def __str__(self):\n",
    "        return et.tostring(self._element, encoding=\"unicode\")"
   ]
  },
  {
   "cell_type": "markdown",
   "id": "982f5fdc",
   "metadata": {},
   "source": [
    "Note that both of these classes implement the same interface with `.start_object()`, `.add_property()`, and `.__str__()` methods."
   ]
  },
  {
   "cell_type": "markdown",
   "id": "3dbadf99",
   "metadata": {},
   "source": [
    "You then create a `Song` class that can use these serializers:"
   ]
  },
  {
   "cell_type": "code",
   "execution_count": null,
   "id": "b46c2f8f",
   "metadata": {},
   "outputs": [],
   "source": [
    "# song.py\n",
    "\n",
    "class Song:\n",
    "    def __init__(self, song_id, title, artist):\n",
    "        self.song_id = song_id\n",
    "        self.title = title\n",
    "        self.artist = artist\n",
    "\n",
    "    def serialize(self, serializer):\n",
    "        serializer.start_object(\"song\", self.song_id)\n",
    "        serializer.add_property(\"title\", self.title)\n",
    "        serializer.add_property(\"artist\", self.artist)\n",
    "\n",
    "        return str(serializer)"
   ]
  },
  {
   "cell_type": "markdown",
   "id": "d6f55217",
   "metadata": {},
   "source": [
    "A `Song` is defined by its ID, title, and artist. Note that `.serialize()` doesn’t need to know which format it converts to because it uses the common interface defined earlier."
   ]
  },
  {
   "cell_type": "markdown",
   "id": "419aeb16",
   "metadata": {},
   "source": [
    "Assuming that you’ve installed the third-party `serializers` package, you can use it as follows:"
   ]
  },
  {
   "cell_type": "code",
   "execution_count": null,
   "id": "79d13b1e",
   "metadata": {},
   "outputs": [],
   "source": [
    ">>>>>> from serializers.json import JsonSerializer\n",
    ">>> from serializers.xml import XmlSerializer\n",
    ">>> from song import Song\n",
    ">>> song = Song(song_id=\"1\", title=\"The Same River\", artist=\"Riverside\")\n",
    "\n",
    ">>> song.serialize(JsonSerializer())\n",
    "'{\"id\": \"1\", \"title\": \"The Same River\", \"artist\": \"Riverside\"}'\n",
    "\n",
    ">>> song.serialize(XmlSerializer())\n",
    "'<song id=\"1\"><title>The Same River</title><artist>Riverside</artist></song>'"
   ]
  },
  {
   "cell_type": "markdown",
   "id": "4620757e",
   "metadata": {},
   "source": [
    "By providing different serializer objects to `.serialize()`, you get different representations of your song."
   ]
  },
  {
   "cell_type": "markdown",
   "id": "46151067",
   "metadata": {},
   "source": [
    "So far, so good. However, now you realize that you also need to convert your songs to a [YAML](https://yaml.org/) representation, which is not supported in the third-party library. Enter the magic of namespace packages: you can add your own `YamlSerializer` to the `serializers` package without touching the third-party library."
   ]
  },
  {
   "cell_type": "markdown",
   "id": "cf8b6862",
   "metadata": {},
   "source": [
    "First, create a directory on your local file system called `serializers`. It’s important that the name of the directory matches the name of the namespace package that you’re customizing:"
   ]
  },
  {
   "cell_type": "markdown",
   "id": "080d715a",
   "metadata": {},
   "source": [
    "```\n",
    "local/\n",
    "│\n",
    "└── serializers/\n",
    "    └── yaml.py\n",
    "```"
   ]
  },
  {
   "cell_type": "markdown",
   "id": "189dfd68",
   "metadata": {},
   "source": [
    "In the `yaml.py` file, you define your own `YamlSerializer`. You base this on the [`PyYAML` package](https://pypi.org/project/PyYAML/), which must be installed from PyPI:"
   ]
  },
  {
   "cell_type": "markdown",
   "id": "ccaa403d",
   "metadata": {},
   "source": [
    "```sh\n",
    "$ python -m pip install PyYAML\n",
    "```"
   ]
  },
  {
   "cell_type": "markdown",
   "id": "511ff07e",
   "metadata": {},
   "source": [
    "Since YAML and JSON are quite similar formats, you can reuse most of the implementation of `JsonSerializer`:"
   ]
  },
  {
   "cell_type": "code",
   "execution_count": null,
   "id": "2ff1f863",
   "metadata": {},
   "outputs": [],
   "source": [
    "# local/serializers/yaml.py\n",
    "\n",
    "import yaml\n",
    "from serializers.json import JsonSerializer\n",
    "\n",
    "class YamlSerializer(JsonSerializer):\n",
    "    def __str__(self):\n",
    "        return yaml.dump(self._current_object)"
   ]
  },
  {
   "cell_type": "markdown",
   "id": "34579452",
   "metadata": {},
   "source": [
    "Note that the `YamlSerializer` is based on the `JsonSerializer`, which is imported from `serializers` itself. Since both `json` and `yaml` are part of the same namespace package, you could even use a relative import: `from .json import JsonSerializer`."
   ]
  },
  {
   "cell_type": "markdown",
   "id": "af9f1f2e",
   "metadata": {},
   "source": [
    "Continuing the above example, you can now convert the song to YAML as well:"
   ]
  },
  {
   "cell_type": "code",
   "execution_count": null,
   "id": "47e2dee7",
   "metadata": {},
   "outputs": [],
   "source": [
    ">>>>>> from serializers.yaml import YamlSerializer\n",
    ">>> song.serialize(YamlSerializer())\n",
    "\"artist: Riverside\\nid: '1'\\ntitle: The Same River\\n\""
   ]
  },
  {
   "cell_type": "markdown",
   "id": "00ac6d11",
   "metadata": {},
   "source": [
    "Just like regular modules and packages, namespace packages must be found on the Python import path. If you were following along with the previous examples, then you might have had issues with Python not finding `serializers`. In actual code, you would have used `pip` to install the third-party library, so it would be in your path automatically."
   ]
  },
  {
   "cell_type": "markdown",
   "id": "f4e2ce52",
   "metadata": {},
   "source": [
    "You should also make sure that your local library is available like a normal package. As explained above, you can do this either by running Python from the proper directory or by using `pip` to install the local library as well."
   ]
  },
  {
   "cell_type": "markdown",
   "id": "eb9df7a4",
   "metadata": {},
   "source": [
    "In this example, you’re testing how to integrate a fake third-party package with your local package. If `third_party` were a real package, then you would download it from PyPI using `pip`. Since this isn’t possible, you can simulate it by installing `third_party` locally like you did in the [`structure` example earlier](#example-structure-your-imports)."
   ]
  },
  {
   "cell_type": "markdown",
   "id": "b3e365b9",
   "metadata": {},
   "source": [
    "Alternatively, you can mess with your import path. Put the `third_party` and `local` directories inside the same folder, then customize your Python path as follows:"
   ]
  },
  {
   "cell_type": "code",
   "execution_count": null,
   "id": "a0a7e034",
   "metadata": {},
   "outputs": [],
   "source": [
    ">>>>>> import sys\n",
    ">>> sys.path.extend([\"third_party\", \"local\"])\n",
    "\n",
    ">>> from serializers import json, xml, yaml\n",
    ">>> json\n",
    "<module 'serializers.json' from 'third_party/serializers/json.py'>\n",
    "\n",
    ">>> yaml\n",
    "<module 'serializers.yaml' from 'local/serializers/yaml.py'>"
   ]
  },
  {
   "cell_type": "markdown",
   "id": "2396af58",
   "metadata": {},
   "source": [
    "You can now use all serializers without worrying about whether they’re defined in the third-party package or locally."
   ]
  },
  {
   "cell_type": "markdown",
   "id": "2633355f",
   "metadata": {},
   "source": [
    "<a class=\"anchor\" id=\"imports_style_guide\"></a>\n",
    "\n",
    "### Imports Style Guide"
   ]
  },
  {
   "cell_type": "markdown",
   "id": "c75e0c4e",
   "metadata": {},
   "source": [
    "[PEP 8](https://www.python.org/dev/peps/pep-0008/), the Python style guide, has a couple of [recommendations about imports](https://www.python.org/dev/peps/pep-0008/#imports). As always with Python, keeping your code both readable and maintainable is an important consideration. Here are a few general rules of thumb for how to style your imports:"
   ]
  },
  {
   "cell_type": "markdown",
   "id": "0231749d",
   "metadata": {},
   "source": [
    "- Keep imports at the top of the file.\n",
    "- Write imports on separate lines.\n",
    "- Organize imports into groups: first standard library imports, then third-party imports, and finally local application or library imports.\n",
    "- Order imports alphabetically within each group.\n",
    "- Prefer absolute imports over relative imports.\n",
    "- Avoid wildcard imports like `from module import *`.\n"
   ]
  },
  {
   "cell_type": "markdown",
   "id": "2f89b2f3",
   "metadata": {},
   "source": [
    "[`isort`](https://pypi.org/project/isort/) and [`reorder-python-imports`](https://pypi.org/project/reorder-python-imports/) are great tools for enforcing a consistent style on your imports."
   ]
  },
  {
   "cell_type": "markdown",
   "id": "ea8de80d",
   "metadata": {},
   "source": [
    "Here’s an example of an import section inside the [*Real Python* feed reader package](https://github.com/realpython/reader/blob/master/reader/feed.py):"
   ]
  },
  {
   "cell_type": "code",
   "execution_count": null,
   "id": "152ce9be",
   "metadata": {},
   "outputs": [],
   "source": [
    "# Standard library imports\n",
    "import sys\n",
    "from typing import Dict, List\n",
    "\n",
    "# Third party imports\n",
    "import feedparser\n",
    "import html2text\n",
    "\n",
    "# Reader imports\n",
    "from reader import URL"
   ]
  },
  {
   "cell_type": "markdown",
   "id": "4b6a7b1d",
   "metadata": {},
   "source": [
    "Note how this grouping makes the [dependencies](https://realpython.com/courses/managing-python-dependencies/) of this module clear: `feedparser` and `html2text` need to be installed on the system. You can generally assume that the standard library is available. Separating imports from within your package gives you some overview over the internal dependencies of your code."
   ]
  },
  {
   "cell_type": "markdown",
   "id": "c64558d7",
   "metadata": {},
   "source": [
    "There are cases in which it makes sense to bend these rules a little. You’ve already seen that relative imports can be an alternative to organizing package hierarchies. [Later](#handle-cyclical-imports), you’ll see how in some cases you can move imports into a function definition to break import cycles."
   ]
  },
  {
   "cell_type": "markdown",
   "id": "39bbeedd",
   "metadata": {},
   "source": [
    "<a class=\"anchor\" id=\"resource_imports\"></a>\n",
    "\n",
    "## Resource Imports"
   ]
  },
  {
   "cell_type": "markdown",
   "id": "f07b8ce7",
   "metadata": {},
   "source": [
    "Sometimes you’ll have code that depends on data files or other resources. In small scripts, this isn’t a problem—you can specify the path to your data file and carry on!"
   ]
  },
  {
   "cell_type": "markdown",
   "id": "bf4ed55a",
   "metadata": {},
   "source": [
    "However, if the resource file is important for your package and you want to distribute your package to other users, then a few challenges will arise:"
   ]
  },
  {
   "cell_type": "markdown",
   "id": "ab4fe561",
   "metadata": {},
   "source": [
    "1. \n",
    "You won’t have control over the path to the resource since that will depend on your user’s setup as well as on how the package is distributed and installed. You can try to figure out the resource path based on your package’s `__file__` or `__path__` attributes, but this may not always work as expected.\n",
    "\n",
    "\n",
    "\n",
    "2. \n",
    "Your package may [reside inside a ZIP file](#run-python-scripts-from-zip-files) or an old [`.egg` file](https://packaging.python.org/discussions/wheel-vs-egg/), in which case the resource won’t even be a physical file on the user’s system.\n",
    "\n",
    "\n",
    "\n"
   ]
  },
  {
   "cell_type": "markdown",
   "id": "7e25d208",
   "metadata": {},
   "source": [
    "There have been several attempts at solving these challenges, including [`setuptools.pkg_resources`](https://setuptools.readthedocs.io/en/latest/pkg_resources.html). However, with the introduction of `importlib.resources` into the standard library in [Python 3.7](https://realpython.com/python37-new-features/#importing-data-files-with-importlibresources), there’s now one standard way of dealing with resource files."
   ]
  },
  {
   "cell_type": "markdown",
   "id": "5489c29f",
   "metadata": {},
   "source": [
    "<a class=\"anchor\" id=\"introducing_`importlib.resources`\"></a>\n",
    "\n",
    "### Introducing `importlib.resources`"
   ]
  },
  {
   "cell_type": "markdown",
   "id": "5690b7e1",
   "metadata": {},
   "source": [
    "[`importlib.resources`](https://docs.python.org/library/importlib.html) gives access to resources within packages. In this context, a **resource** is any file located within an importable package. The file may or may not correspond to a physical file on the file system. "
   ]
  },
  {
   "cell_type": "markdown",
   "id": "222efe4f",
   "metadata": {},
   "source": [
    "This has a couple of advantages. By reusing the import system, you get a more consistent way of dealing with the files inside your packages. It also gives you easier access to resource files in other packages. The documentation sums it up nicely:"
   ]
  },
  {
   "cell_type": "markdown",
   "id": "1a89fb79",
   "metadata": {},
   "source": [
    "`importlib.resources` became part of the standard library in Python 3.7. However, on older versions of Python, a [backport is available as `importlib_resources`](https://importlib-resources.readthedocs.io/). To use the backport, install it from [PyPI](https://pypi.org/project/importlib_resources/):"
   ]
  },
  {
   "cell_type": "markdown",
   "id": "773e6563",
   "metadata": {},
   "source": [
    "```sh\n",
    "$ python -m pip install importlib_resources\n",
    "```"
   ]
  },
  {
   "cell_type": "markdown",
   "id": "00c9b98c",
   "metadata": {},
   "source": [
    "The backport is compatible with Python 2.7 as well as Python 3.4 and later versions."
   ]
  },
  {
   "cell_type": "markdown",
   "id": "e902fd7d",
   "metadata": {},
   "source": [
    "There’s one requirement when using `importlib.resources`: your resource files must be available inside a regular package. Namespace packages aren’t supported. In practice, this means that the file must be in a directory containing an `__init__.py` file."
   ]
  },
  {
   "cell_type": "markdown",
   "id": "2270524d",
   "metadata": {},
   "source": [
    "As a first example, assume you have [resources](https://www.gutenberg.org/ebooks/11) inside a package like this:"
   ]
  },
  {
   "cell_type": "markdown",
   "id": "04677029",
   "metadata": {},
   "source": [
    "```\n",
    "books/\n",
    "│\n",
    "├── __init__.py\n",
    "├── alice_in_wonderland.png\n",
    "└── alice_in_wonderland.txt\n",
    "```"
   ]
  },
  {
   "cell_type": "markdown",
   "id": "12d48cb7",
   "metadata": {},
   "source": [
    "`__init__.py` is just an empty file necessary to designate `books` as a regular package."
   ]
  },
  {
   "cell_type": "markdown",
   "id": "5f373f48",
   "metadata": {},
   "source": [
    "You can then use `open_text()` and `open_binary()` to open text and binary files, respectively:"
   ]
  },
  {
   "cell_type": "code",
   "execution_count": null,
   "id": "23bfa087",
   "metadata": {},
   "outputs": [],
   "source": [
    ">>>>>> from importlib import resources\n",
    ">>> with resources.open_text(\"books\", \"alice_in_wonderland.txt\") as fid:\n",
    "...     alice = fid.readlines()\n",
    "...\n",
    ">>> print(\"\".join(alice[:7]))\n",
    "CHAPTER I. Down the Rabbit-Hole\n",
    "\n",
    "Alice was beginning to get very tired of sitting by her sister on the\n",
    "bank, and of having nothing to do: once or twice she had peeped into the\n",
    "book her sister was reading, but it had no pictures or conversations in\n",
    "it, 'and what is the use of a book,' thought Alice 'without pictures or\n",
    "conversations?'\n",
    "\n",
    ">>> with resources.open_binary(\"books\", \"alice_in_wonderland.png\") as fid:\n",
    "...     cover = fid.read()\n",
    "...\n",
    ">>> cover[:8]  # PNG file signature\n",
    "b'\\x89PNG\\r\\n\\x1a\\n'"
   ]
  },
  {
   "cell_type": "markdown",
   "id": "3b21aa72",
   "metadata": {},
   "source": [
    "`open_text()` and `open_binary()` are equivalent to the built-in `open()` with the `mode` parameter set to `rt` and `rb`, respectively. Convenient functions for reading text or binary files directly are also available as `read_text()` and `read_binary()`. See the [official documentation](https://docs.python.org/library/importlib.html#module-importlib.resources) for more information."
   ]
  },
  {
   "cell_type": "markdown",
   "id": "cce4e37e",
   "metadata": {},
   "source": [
    "The rest of this section will show a few elaborate examples of using resource files in practice."
   ]
  },
  {
   "cell_type": "markdown",
   "id": "0d6cd17a",
   "metadata": {},
   "source": [
    "<a class=\"anchor\" id=\"example:_use_data_files\"></a>\n",
    "\n",
    "### Example: Use Data Files"
   ]
  },
  {
   "cell_type": "markdown",
   "id": "e838915b",
   "metadata": {},
   "source": [
    "As a more complete example of using data files, you’ll see how to implement a quiz program based on [United Nations population data](https://population.un.org/wpp/). First, create a `data` package and download [`WPP2019_TotalPopulationBySex.csv`](https://population.un.org/wpp/Download/Files/1_Indicators%20(Standard)/CSV_FILES/WPP2019_TotalPopulationBySex.csv) from [the UN web page](https://population.un.org/wpp/Download/Standard/CSV/):"
   ]
  },
  {
   "cell_type": "markdown",
   "id": "42fb8964",
   "metadata": {},
   "source": [
    "```\n",
    "data/\n",
    "│\n",
    "├── __init__.py\n",
    "└── WPP2019_TotalPopulationBySex.csv\n",
    "```"
   ]
  },
  {
   "cell_type": "markdown",
   "id": "45e822c9",
   "metadata": {},
   "source": [
    "Open the CSV file and have a look at the data:"
   ]
  },
  {
   "cell_type": "markdown",
   "id": "4da24b31",
   "metadata": {},
   "source": [
    "```csv\n",
    "LocID,Location,VarID,Variant,Time,PopMale,PopFemale,PopTotal,PopDensity\n",
    "4,Afghanistan,2,Medium,1950,4099.243,3652.874,7752.117,11.874\n",
    "4,Afghanistan,2,Medium,1951,4134.756,3705.395,7840.151,12.009\n",
    "4,Afghanistan,2,Medium,1952,4174.45,3761.546,7935.996,12.156\n",
    "4,Afghanistan,2,Medium,1953,4218.336,3821.348,8039.684,12.315\n",
    "...\n",
    "```"
   ]
  },
  {
   "cell_type": "markdown",
   "id": "738d54f5",
   "metadata": {},
   "source": [
    "Each line contains the population of a country for a given year and a given variant, which indicates what kind of scenario is used for the projection. The file contains population projections until the year 2100."
   ]
  },
  {
   "cell_type": "markdown",
   "id": "4e4f8bb2",
   "metadata": {},
   "source": [
    "The following function reads this file and picks out the total population of each country for a given `year` and `variant`:"
   ]
  },
  {
   "cell_type": "code",
   "execution_count": null,
   "id": "7f29c024",
   "metadata": {},
   "outputs": [],
   "source": [
    "import csv\n",
    "from importlib import resources\n",
    "\n",
    "def read_population_file(year, variant=\"Medium\"):\n",
    "    population = {}\n",
    "\n",
    "    print(f\"Reading population data for {year}, {variant} scenario\")\n",
    "    with resources.open_text(\n",
    "        \"data\", \"WPP2019_TotalPopulationBySex.csv\"\n",
    "    ) as fid:\n",
    "        rows = csv.DictReader(fid)\n",
    "\n",
    "        # Read data, filter the correct year\n",
    "        for row in rows:\n",
    "            if row[\"Time\"] == year and row[\"Variant\"] == variant:\n",
    "                pop = round(float(row[\"PopTotal\"]) * 1000)\n",
    "                population[row[\"Location\"]] = pop\n",
    "\n",
    "    return population"
   ]
  },
  {
   "cell_type": "markdown",
   "id": "6b5fcbf5",
   "metadata": {},
   "source": [
    "The highlighted lines show how `importlib.resources` is used to open the data file. For more information about working with CSV files, check out [Reading and Writing CSV Files in Python](https://realpython.com/python-csv/). "
   ]
  },
  {
   "cell_type": "markdown",
   "id": "d8207324",
   "metadata": {},
   "source": [
    "The above function returns a dictionary with population numbers:"
   ]
  },
  {
   "cell_type": "code",
   "execution_count": null,
   "id": "97eb00c0",
   "metadata": {},
   "outputs": [],
   "source": [
    ">>>>>> population = read_population_file(\"2020\")\n",
    "Reading population data for 2020, Medium scenario\n",
    "\n",
    ">>> population[\"Norway\"]\n",
    "5421242"
   ]
  },
  {
   "cell_type": "markdown",
   "id": "bc863ba9",
   "metadata": {},
   "source": [
    "You can do any number of interesting things with this population dictionary, including analysis and visualizations. Here, you’ll create a quiz game that asks users to identify which country in a set is most populous. Playing the game will look something like this:"
   ]
  },
  {
   "cell_type": "markdown",
   "id": "ffb0a961",
   "metadata": {},
   "source": [
    "```sh\n",
    "$ python population_quiz.py\n",
    "\n",
    "Question 1:\n",
    "1. Tunisia\n",
    "2. Djibouti\n",
    "3. Belize\n",
    "\n",
    "Which country has the largest population? 1\n",
    "Yes, Tunisia is most populous (11,818,618)\n",
    "\n",
    "Question 2:\n",
    "1. Mozambique\n",
    "2. Ghana\n",
    "3. Hungary\n",
    "\n",
    "Which country has the largest population? 2\n",
    "No, Mozambique (31,255,435) is more populous than Ghana (31,072,945)\n",
    "\n",
    "...\n",
    "```"
   ]
  },
  {
   "cell_type": "markdown",
   "id": "9da08e30",
   "metadata": {},
   "source": [
    "The details of the implementation are too far outside the topic of this tutorial, so they won’t be discussed here. However, you can expand the section below to see the complete source code."
   ]
  },
  {
   "cell_type": "markdown",
   "id": "6ebfb5b5",
   "metadata": {},
   "source": [
    "<a class=\"anchor\" id=\"example:_add_icons_to_tkinter_guis\"></a>\n",
    "\n",
    "### Example: Add Icons to Tkinter GUIs"
   ]
  },
  {
   "cell_type": "markdown",
   "id": "7d7a8afc",
   "metadata": {},
   "source": [
    "When building graphical user interfaces (GUIs), you often need to include resource files like icons. The following example shows how you can do that using `importlib.resources`. The final app will look quite basic, but it’ll have a custom icon as well as an illustration on the *Goodbye* button:"
   ]
  },
  {
   "cell_type": "markdown",
   "id": "7c4b205a",
   "metadata": {},
   "source": [
    "<img src=\"images/python-import:-advanced-techniques-and-tips/imports-hello-gui.305aa8c61d9e.png\" width=\"600px\">"
   ]
  },
  {
   "cell_type": "markdown",
   "id": "a485f375",
   "metadata": {},
   "source": [
    "The example uses [Tkinter](https://realpython.com/python-gui-tkinter), which is a GUI package available in the standard library. It’s based on the [Tk](https://tcl.tk/) windowing system, originally developed for the Tcl programming language. There are many other GUI packages available for Python. If you’re using a different one, then you should be able [add icons to your app](https://realpython.com/python-pyqt-layout/) using ideas similar to the ones presented here."
   ]
  },
  {
   "cell_type": "markdown",
   "id": "02fcf8d2",
   "metadata": {},
   "source": [
    "In Tkinter, images are handled by the [`PhotoImage` class](http://effbot.org/tkinterbook/photoimage.htm). To create a `PhotoImage`, you pass in a path to an image file. "
   ]
  },
  {
   "cell_type": "markdown",
   "id": "d9a6d6c1",
   "metadata": {},
   "source": [
    "Remember, when distributing your package, you’re not even guaranteed that resource files will exist as physical files on the file system. `importlib.resources` solves this by providing `path()`. This function will return a [path](https://realpython.com/python-pathlib/) to the resource file, creating a temporary file if necessary. "
   ]
  },
  {
   "cell_type": "markdown",
   "id": "2ba4c4ee",
   "metadata": {},
   "source": [
    "To make sure any temporary files are cleaned up properly, you should use `path()` as a context manager using the keyword `with`:"
   ]
  },
  {
   "cell_type": "code",
   "execution_count": null,
   "id": "2834f507",
   "metadata": {},
   "outputs": [],
   "source": [
    ">>>>>> from importlib import resources\n",
    ">>> with resources.path(\"hello_gui.gui_resources\", \"logo.png\") as path:\n",
    "...     print(path)\n",
    "...\n",
    "/home/gahjelle/hello_gui/gui_resources/logo.png"
   ]
  },
  {
   "cell_type": "markdown",
   "id": "860fe503",
   "metadata": {},
   "source": [
    "For the full example, assume you have the following file hierarchy:"
   ]
  },
  {
   "cell_type": "markdown",
   "id": "093f83d8",
   "metadata": {},
   "source": [
    "```\n",
    "hello_gui/\n",
    "│\n",
    "├── gui_resources/\n",
    "│   ├── __init__.py\n",
    "│   ├── hand.png\n",
    "│   └── logo.png\n",
    "│\n",
    "└── __main__.py\n",
    "```"
   ]
  },
  {
   "cell_type": "markdown",
   "id": "f0c8f453",
   "metadata": {},
   "source": [
    "If you want to try the example yourself, then you can download these files along with the rest of the source code used in this tutorial by clicking the link below:"
   ]
  },
  {
   "cell_type": "markdown",
   "id": "b479e675",
   "metadata": {},
   "source": [
    "The code is stored in a file with the special name `__main__.py`. This name indicates that the file is the entry point for the package. Having a `__main__.py` file allows your package to be executed with `python -m`:"
   ]
  },
  {
   "cell_type": "markdown",
   "id": "fb019eae",
   "metadata": {},
   "source": [
    "```sh\n",
    "$ python -m hello_gui\n",
    "```"
   ]
  },
  {
   "cell_type": "markdown",
   "id": "3e7621ba",
   "metadata": {},
   "source": [
    "For more information on calling a package with `-m`, see [How to Publish an Open-Source Python Package to PyPI](https://realpython.com/pypi-publish-python-package/#different-ways-of-calling-a-package)."
   ]
  },
  {
   "cell_type": "markdown",
   "id": "542e70d7",
   "metadata": {},
   "source": [
    "The GUI is defined in a class called `Hello`. Note that you use `importlib.resources` to obtain the path of the image files:"
   ]
  },
  {
   "cell_type": "code",
   "execution_count": null,
   "id": "84b3a17f",
   "metadata": {},
   "outputs": [],
   "source": [
    "# hello_gui/__main__.py\n",
    "\n",
    "import tkinter as tk\n",
    "from tkinter import ttk\n",
    "\n",
    "try:\n",
    "    from importlib import resources\n",
    "except ImportError:\n",
    "    import importlib_resources as resources\n",
    "\n",
    "class Hello(tk.Tk):\n",
    "    def __init__(self, *args, **kwargs):\n",
    "        super().__init__(*args, **kwargs)\n",
    "        self.wm_title(\"Hello\")\n",
    "\n",
    "        # Read image, store a reference to it, and set it as an icon\n",
    "        with resources.path(\"hello_gui.gui_resources\", \"logo.png\") as path:\n",
    "            self._icon = tk.PhotoImage(file=path)\n",
    "        self.iconphoto(True, self._icon)\n",
    "\n",
    "        # Read image, create a button, and store a reference to the image\n",
    "        with resources.path(\"hello_gui.gui_resources\", \"hand.png\") as path:\n",
    "            hand = tk.PhotoImage(file=path)\n",
    "        button = ttk.Button(\n",
    "            self,\n",
    "            image=hand,\n",
    "            text=\"Goodbye\",\n",
    "            command=self.quit,\n",
    "            compound=tk.LEFT,  # Add the image to the left of the text\n",
    "        )\n",
    "        button._image = hand\n",
    "        button.pack(side=tk.TOP, padx=10, pady=10)\n",
    "\n",
    "if __name__ == \"__main__\":\n",
    "    hello = Hello()\n",
    "    hello.mainloop()"
   ]
  },
  {
   "cell_type": "markdown",
   "id": "e0da4be6",
   "metadata": {},
   "source": [
    "If you want to learn more about building GUIs with Tkinter, then check out [Python GUI Programming With Tkinter](https://realpython.com/python-gui-tkinter/). The official documentation also has a [nice list of resources](https://docs.python.org/library/tkinter.html) to start with, and the [tutorial at TkDocs](https://tkdocs.com/tutorial/) is another great resource that shows how to use Tk in other languages."
   ]
  },
  {
   "cell_type": "markdown",
   "id": "17a311d0",
   "metadata": {},
   "source": [
    "To make sure that the images are kept around, you should manually add a reference to them. You can see examples of this in the code above on **lines 18 and 31**."
   ]
  },
  {
   "cell_type": "markdown",
   "id": "d5db0271",
   "metadata": {},
   "source": [
    "<a class=\"anchor\" id=\"dynamic_imports\"></a>\n",
    "\n",
    "## Dynamic Imports"
   ]
  },
  {
   "cell_type": "markdown",
   "id": "8e5d15e4",
   "metadata": {},
   "source": [
    "One of Python’s defining features is that it’s a very dynamic language. Although it’s sometimes a bad idea, you can do many things to a Python program when it’s running, including adding attributes to a class, redefining methods, or changing the [docstring](https://realpython.com/documenting-python-code/#documenting-your-python-code-base-using-docstrings) of a module. For instance, you can change `print()` so that it doesn’t do anything:"
   ]
  },
  {
   "cell_type": "code",
   "execution_count": null,
   "id": "8944983b",
   "metadata": {},
   "outputs": [],
   "source": [
    ">>>>>> print(\"Hello dynamic world!\")\n",
    "Hello dynamic world!\n",
    "\n",
    ">>> # Redefine the built-in print()\n",
    ">>> print = lambda *args, **kwargs: None\n",
    "\n",
    ">>> print(\"Hush, everybody!\")\n",
    ">>> # Nothing is printed"
   ]
  },
  {
   "cell_type": "markdown",
   "id": "49f1b721",
   "metadata": {},
   "source": [
    "Technically, you’re not redefining `print()`. Instead, you’re defining *another* `print()` that shadows the built-in one. To return to using the original `print()`, you can delete your custom one with `del print`. If you’re so inclined, you can shadow any Python object that is built into the interpreter."
   ]
  },
  {
   "cell_type": "markdown",
   "id": "a4ece3ed",
   "metadata": {},
   "source": [
    "In this section, you’ll learn how to do **dynamic imports** in Python. With them, you won’t have to decide what to import until your program is running."
   ]
  },
  {
   "cell_type": "markdown",
   "id": "b9b8b472",
   "metadata": {},
   "source": [
    "<a class=\"anchor\" id=\"using_`importlib`\"></a>\n",
    "\n",
    "### Using `importlib`"
   ]
  },
  {
   "cell_type": "markdown",
   "id": "a35b0da5",
   "metadata": {},
   "source": [
    "So far, you’ve used Python’s `import` keyword to import modules and packages explicitly. However, the whole import machinery is available in the `importlib` package, and this allows you to do your imports more dynamically. The following script asks the user for the name of a module, imports that module, and prints its docstring:"
   ]
  },
  {
   "cell_type": "code",
   "execution_count": null,
   "id": "45bcc277",
   "metadata": {},
   "outputs": [],
   "source": [
    "# docreader.py\n",
    "\n",
    "import importlib\n",
    "\n",
    "module_name = input(\"Name of module? \")\n",
    "module = importlib.import_module(module_name)\n",
    "print(module.__doc__)"
   ]
  },
  {
   "cell_type": "markdown",
   "id": "0b84e392",
   "metadata": {},
   "source": [
    "`import_module()` returns a module object that you can bind to any variable. Then you can treat that variable as a regularly imported module. You can use the script like this:"
   ]
  },
  {
   "cell_type": "markdown",
   "id": "c05d2bc4",
   "metadata": {},
   "source": [
    "```sh\n",
    "$ python docreader.py\n",
    "Name of module? math\n",
    "This module is always available.  It provides access to the\n",
    "mathematical functions defined by the C standard.\n",
    "\n",
    "$ python docreader.py\n",
    "Name of module? csv\n",
    "CSV parsing and writing.\n",
    "\n",
    "This module provides classes that assist in the reading and writing\n",
    "of Comma Separated Value (CSV) files, and implements the interface\n",
    "described by PEP 305.  Although many CSV files are simple to parse,\n",
    "the format is not formally defined by a stable specification and\n",
    "is subtle enough that parsing lines of a CSV file with something\n",
    "like line.split(\",\") is bound to fail.  The module supports three\n",
    "basic APIs: reading, writing, and registration of dialects.\n",
    "\n",
    "[...]\n",
    "```"
   ]
  },
  {
   "cell_type": "markdown",
   "id": "b01eb8ed",
   "metadata": {},
   "source": [
    "In each case, the module is imported dynamically by `import_module()`."
   ]
  },
  {
   "cell_type": "markdown",
   "id": "a61def2c",
   "metadata": {},
   "source": [
    "<a class=\"anchor\" id=\"example:_factory_method_with_namespace_packages\"></a>\n",
    "\n",
    "### Example: Factory Method With Namespace Packages"
   ]
  },
  {
   "cell_type": "markdown",
   "id": "ef70466d",
   "metadata": {},
   "source": [
    "Think back to the [serializers example](#namespace-packages) from earlier. With `serializers` implemented as a namespace package, you had the ability to add custom serializers. In the [original example](https://realpython.com/factory-method-python/#an-object-serialization-example) from a previous tutorial, the serializers were made available through a serializer factory. Using `importlib`, you can do something similar."
   ]
  },
  {
   "cell_type": "markdown",
   "id": "0724cbd6",
   "metadata": {},
   "source": [
    "Add the following code to your local `serializers` namespace package:"
   ]
  },
  {
   "cell_type": "code",
   "execution_count": null,
   "id": "229b2567",
   "metadata": {},
   "outputs": [],
   "source": [
    "# local/serializers/factory.py\n",
    "\n",
    "import importlib\n",
    "\n",
    "def get_serializer(format):\n",
    "    try:\n",
    "        module = importlib.import_module(f\"serializers.{format}\")\n",
    "        serializer = getattr(module, f\"{format.title()}Serializer\")\n",
    "    except (ImportError, AttributeError):\n",
    "        raise ValueError(f\"Unknown format {format!r}\") from None\n",
    "\n",
    "    return serializer()\n",
    "\n",
    "def serialize(serializable, format):\n",
    "    serializer = get_serializer(format)\n",
    "    serializable.serialize(serializer)\n",
    "    return str(serializer)"
   ]
  },
  {
   "cell_type": "markdown",
   "id": "67db4d78",
   "metadata": {},
   "source": [
    "The `get_serializer()` factory can create serializers dynamically based on the `format` parameter, and `serialize()` can then apply the serializer to any object that implements a `.serialize()` method. "
   ]
  },
  {
   "cell_type": "markdown",
   "id": "2aa0b13e",
   "metadata": {},
   "source": [
    "The factory makes some strong assumptions about the naming of both the module and the class containing the individual serializers. In the [next section](#example-a-package-of-plugins), you’ll learn about a plugin architecture that allows more flexibility."
   ]
  },
  {
   "cell_type": "markdown",
   "id": "a3ecd59f",
   "metadata": {},
   "source": [
    "You can now re-create the earlier example as follows:"
   ]
  },
  {
   "cell_type": "code",
   "execution_count": null,
   "id": "ff475349",
   "metadata": {},
   "outputs": [],
   "source": [
    ">>>>>> from serializers import factory\n",
    ">>> from song import Song\n",
    ">>> song = Song(song_id=\"1\", title=\"The Same River\", artist=\"Riverside\")\n",
    "\n",
    ">>> factory.serialize(song, \"json\")\n",
    "'{\"id\": \"1\", \"title\": \"The Same River\", \"artist\": \"Riverside\"}'\n",
    "\n",
    ">>> factory.serialize(song, \"yaml\")\n",
    "\"artist: Riverside, id: '1', title: The Same River\\n\"\n",
    "\n",
    ">>> factory.serialize(song, \"toml\")\n",
    "ValueError: Unknown format 'toml'"
   ]
  },
  {
   "cell_type": "markdown",
   "id": "f3a9c653",
   "metadata": {},
   "source": [
    "In this case, you no longer need to explicitly import each serializer. Instead, you specify the name of a serializer with a string. The string could even be chosen by your user at runtime."
   ]
  },
  {
   "cell_type": "markdown",
   "id": "a606a8ca",
   "metadata": {},
   "source": [
    "The final example shows that you also get a decent error message if you try to serialize to a format that hasn’t been implemented."
   ]
  },
  {
   "cell_type": "markdown",
   "id": "2d761ee5",
   "metadata": {},
   "source": [
    "<a class=\"anchor\" id=\"example:_a_package_of_plugins\"></a>\n",
    "\n",
    "### Example: A Package of Plugins"
   ]
  },
  {
   "cell_type": "markdown",
   "id": "172c5e42",
   "metadata": {},
   "source": [
    "Let’s look at another example of using dynamic imports. You can use the following module to set up a flexible plugin architecture in your code. This is similar to the previous example, in which you could plug in serializers for different formats by adding new modules."
   ]
  },
  {
   "cell_type": "markdown",
   "id": "f18e4920",
   "metadata": {},
   "source": [
    "One application that uses plugins effectively is the [Glue exploratory visualization tool](http://glueviz.org). Glue can read many different data formats out of the box. However, if your data format isn’t supported, then you can write your own [custom data loader](http://docs.glueviz.org/en/stable/customizing_guide/customization.html#custom-data-loaders). "
   ]
  },
  {
   "cell_type": "markdown",
   "id": "bbfb30c6",
   "metadata": {},
   "source": [
    "You do this by adding a function that you decorate and place in a special location to make it easy for Glue to find. You don’t need to alter any part of the Glue source code. See the [documentation](http://docs.glueviz.org/) for all the details."
   ]
  },
  {
   "cell_type": "markdown",
   "id": "39e33f41",
   "metadata": {},
   "source": [
    "You can set up a similar plugin architecture that you can use in your own projects. Within the architecture, there are two levels:"
   ]
  },
  {
   "cell_type": "markdown",
   "id": "0f16de8d",
   "metadata": {},
   "source": [
    "1. **A plugin package** is a collection of related plugins corresponding to a Python package.\n",
    "2. **A plugin** is a custom behavior made available in a Python module.\n"
   ]
  },
  {
   "cell_type": "markdown",
   "id": "88c5d559",
   "metadata": {},
   "source": [
    "The `plugins` module that exposes the plugin architecture has the following functions:"
   ]
  },
  {
   "cell_type": "code",
   "execution_count": null,
   "id": "01f0d11d",
   "metadata": {},
   "outputs": [],
   "source": [
    "# plugins.py\n",
    "\n",
    "def register(func):\n",
    "    \"\"\"Decorator for registering a new plugin\"\"\"\n",
    "\n",
    "def names(package):\n",
    "    \"\"\"List all plugins in one package\"\"\"\n",
    "\n",
    "def get(package, plugin):\n",
    "    \"\"\"Get a given plugin\"\"\"\n",
    "\n",
    "def call(package, plugin, *args, **kwargs):\n",
    "    \"\"\"Call the given plugin\"\"\"\n",
    "\n",
    "def _import(package, plugin):\n",
    "    \"\"\"Import the given plugin file from a package\"\"\"\n",
    "\n",
    "def _import_all(package):\n",
    "    \"\"\"Import all plugins in a package\"\"\"\n",
    "\n",
    "def names_factory(package):\n",
    "    \"\"\"Create a names() function for one package\"\"\"\n",
    "\n",
    "def get_factory(package):\n",
    "    \"\"\"Create a get() function for one package\"\"\"\n",
    "\n",
    "def call_factory(package):\n",
    "    \"\"\"Create a call() function for one package\"\"\""
   ]
  },
  {
   "cell_type": "markdown",
   "id": "267f0d52",
   "metadata": {},
   "source": [
    "The factory functions are used to conveniently add functionality to plugin packages. You’ll see some examples of how they’re used shortly."
   ]
  },
  {
   "cell_type": "markdown",
   "id": "b1af5cb3",
   "metadata": {},
   "source": [
    "Looking at all the details of this code is outside the scope of this tutorial. If you’re interested, then you can see an implementation by expanding the section below."
   ]
  },
  {
   "cell_type": "markdown",
   "id": "13abafc2",
   "metadata": {},
   "source": [
    "Let’s look at some examples of how to use plugins. The first example is a `greeter` package that you can use to add many different greetings to your app. A full plugin architecture is definitely overkill for this example, but it shows how the plugins work. "
   ]
  },
  {
   "cell_type": "markdown",
   "id": "9abf3904",
   "metadata": {},
   "source": [
    "Assume you have the following `greeter` package:"
   ]
  },
  {
   "cell_type": "markdown",
   "id": "2b311c56",
   "metadata": {},
   "source": [
    "```\n",
    "greeter/\n",
    "│\n",
    "├── __init__.py\n",
    "├── hello.py\n",
    "├── howdy.py\n",
    "└── yo.py\n",
    "```"
   ]
  },
  {
   "cell_type": "markdown",
   "id": "bd6a6efa",
   "metadata": {},
   "source": [
    "Each `greeter` module defines a function that takes one `name` argument. Note how they’re all registered as plugins using the `@register` decorator:"
   ]
  },
  {
   "cell_type": "code",
   "execution_count": null,
   "id": "cd293e68",
   "metadata": {},
   "outputs": [],
   "source": [
    "# greeter/hello.py\n",
    "import plugins\n",
    "\n",
    "@plugins.register\n",
    "def greet(name):\n",
    "    print(f\"Hello {name}, how are you today?\")\n",
    "\n",
    "# greeter/howdy.py\n",
    "import plugins\n",
    "\n",
    "@plugins.register\n",
    "def greet(name):\n",
    "    print(f\"Howdy good {name}, honored to meet you!\")\n",
    "\n",
    "# greeter/yo.py\n",
    "import plugins\n",
    "\n",
    "@plugins.register\n",
    "def greet(name):\n",
    "    print(f\"Yo {name}, good times!\")"
   ]
  },
  {
   "cell_type": "markdown",
   "id": "9d5f7069",
   "metadata": {},
   "source": [
    "To learn more about decorators and how they’re used, check out [Primer on Python Decorators](https://realpython.com/primer-on-python-decorators/)."
   ]
  },
  {
   "cell_type": "markdown",
   "id": "547e26dd",
   "metadata": {},
   "source": [
    "To finish setting up `greeter` as a plugin package, you can use the factory functions in `plugins` to add functionality to the `greeter` package itself:"
   ]
  },
  {
   "cell_type": "code",
   "execution_count": null,
   "id": "79f75595",
   "metadata": {},
   "outputs": [],
   "source": [
    "# greeter/__init__.py\n",
    "\n",
    "import plugins\n",
    "\n",
    "greetings = plugins.names_factory(__package__)\n",
    "greet = plugins.call_factory(__package__)"
   ]
  },
  {
   "cell_type": "markdown",
   "id": "b91cc71b",
   "metadata": {},
   "source": [
    "You can now use `greetings()` and `greet()` as follows:"
   ]
  },
  {
   "cell_type": "code",
   "execution_count": null,
   "id": "676ecbac",
   "metadata": {},
   "outputs": [],
   "source": [
    ">>>>>> import greeter\n",
    ">>> greeter.greetings()\n",
    "['hello', 'howdy', 'yo']\n",
    "\n",
    ">>> greeter.greet(plugin=\"howdy\", name=\"Guido\")\n",
    "Howdy good Guido, honored to meet you!"
   ]
  },
  {
   "cell_type": "markdown",
   "id": "d648a0b5",
   "metadata": {},
   "source": [
    "Note that `greetings()` automatically discovers all the plugins that are available in the package."
   ]
  },
  {
   "cell_type": "markdown",
   "id": "778a92d5",
   "metadata": {},
   "source": [
    "You can also more dynamically choose which plugin to call. In the following example, you choose a plugin at random. However, you could also select a plugin based on a configuration file or user input:"
   ]
  },
  {
   "cell_type": "code",
   "execution_count": null,
   "id": "668c1a24",
   "metadata": {},
   "outputs": [],
   "source": [
    ">>>>>> import greeter\n",
    ">>> import random\n",
    "\n",
    ">>> greeting = random.choice(greeter.greetings())\n",
    ">>> greeter.greet(greeting, name=\"Frida\")\n",
    "Hello Frida, how are you today?\n",
    "\n",
    ">>> greeting = random.choice(greeter.greetings())\n",
    ">>> greeter.greet(greeting, name=\"Frida\")\n",
    "Yo Frida, good times!"
   ]
  },
  {
   "cell_type": "markdown",
   "id": "fe4a3761",
   "metadata": {},
   "source": [
    "To discover and call the different plugins, you need to import them. Let’s have a quick look at how `plugins` handles imports. The main work is done in the following two functions inside `plugins.py`:"
   ]
  },
  {
   "cell_type": "code",
   "execution_count": null,
   "id": "185e9be6",
   "metadata": {},
   "outputs": [],
   "source": [
    "import importlib\n",
    "import pathlib\n",
    "from importlib import resources\n",
    "\n",
    "def _import(package, plugin):\n",
    "    \"\"\"Import the given plugin file from a package\"\"\"\n",
    "    importlib.import_module(f\"{package}.{plugin}\")\n",
    "\n",
    "def _import_all(package):\n",
    "    \"\"\"Import all plugins in a package\"\"\"\n",
    "    files = resources.contents(package)\n",
    "    plugins = [f[:-3] for f in files if f.endswith(\".py\") and f[0] != \"_\"]\n",
    "    for plugin in plugins:\n",
    "        _import(package, plugin)"
   ]
  },
  {
   "cell_type": "markdown",
   "id": "9858636a",
   "metadata": {},
   "source": [
    "`_import()` looks deceptively straightforward. It uses `importlib` to import a module. But there are a couple of things also happening in the background:"
   ]
  },
  {
   "cell_type": "markdown",
   "id": "c013ce7f",
   "metadata": {},
   "source": [
    "1. Python’s import system ensures that each plugin is imported only once. \n",
    "2. `@register` decorators defined inside each plugin module register each imported plugin. \n",
    "3. In a full implementation, there would also be some error handling to deal with missing plugins.\n"
   ]
  },
  {
   "cell_type": "markdown",
   "id": "3dd7ef69",
   "metadata": {},
   "source": [
    "`_import_all()` discovers all the plugins within a package. Here’s how it works: "
   ]
  },
  {
   "cell_type": "markdown",
   "id": "8264c921",
   "metadata": {},
   "source": [
    "1. `contents()` from `importlib.resources` lists all the files inside a package. \n",
    "2. The results are filtered to find potential plugins. \n",
    "3. Each Python file not starting with an underscore is imported. \n",
    "4. Plugins in any of the files are discovered and registered.\n"
   ]
  },
  {
   "cell_type": "markdown",
   "id": "a3096de4",
   "metadata": {},
   "source": [
    "Let’s end this section with a final version of the [serializers namespace package](#example-factory-method-with-namespace-packages). One outstanding issue was that the `get_serializer()` factory made strong assumptions about the naming of the serializer classes. You can make this more flexible using plugins."
   ]
  },
  {
   "cell_type": "markdown",
   "id": "b029f91f",
   "metadata": {},
   "source": [
    "First, add a line registering each of the serializers. Here is an example of how it’s done in the `yaml` serializer:"
   ]
  },
  {
   "cell_type": "code",
   "execution_count": null,
   "id": "58e83475",
   "metadata": {},
   "outputs": [],
   "source": [
    "# local/serializers/yaml.py\n",
    "\n",
    "import plugins\n",
    "import yaml\n",
    "from serializers.json import JsonSerializer\n",
    "\n",
    "@plugins.register\n",
    "class YamlSerializer(JsonSerializer):\n",
    "    def __str__(self):\n",
    "        return yaml.dump(self._current_object)"
   ]
  },
  {
   "cell_type": "markdown",
   "id": "0ca1cc31",
   "metadata": {},
   "source": [
    "Next, update `get_serializers()` to use `plugins`:"
   ]
  },
  {
   "cell_type": "code",
   "execution_count": null,
   "id": "f2d09b35",
   "metadata": {},
   "outputs": [],
   "source": [
    "# local/serializers/factory.py\n",
    "\n",
    "import plugins\n",
    "\n",
    "get_serializer = plugins.call_factory(__package__)\n",
    "\n",
    "def serialize(serializable, format):\n",
    "    serializer = get_serializer(format)\n",
    "    serializable.serialize(serializer)\n",
    "    return str(serializer)"
   ]
  },
  {
   "cell_type": "markdown",
   "id": "cc44f365",
   "metadata": {},
   "source": [
    "You implement `get_serializer()` using `call_factory()` since that will automatically instantiate each serializer. With this refactoring, the serializers work just the same as earlier. However, you have more flexibility in naming your serializer classes."
   ]
  },
  {
   "cell_type": "markdown",
   "id": "3f03f03a",
   "metadata": {},
   "source": [
    "For more information about using plugins, check out [PyPlugs](https://pypi.org/project/pyplugs/) on PyPI and the [Plug-ins: Adding Flexibility to Your Apps](https://github.com/gahjelle/talks/tree/master/20190505_pycon_plugins/) presentation from [PyCon 2019](https://us.pycon.org/2019/)."
   ]
  },
  {
   "cell_type": "markdown",
   "id": "0eeccad1",
   "metadata": {},
   "source": [
    "<a class=\"anchor\" id=\"the_python_import_system\"></a>\n",
    "\n",
    "## The Python Import System"
   ]
  },
  {
   "cell_type": "markdown",
   "id": "c595386d",
   "metadata": {},
   "source": [
    "You’ve seen many ways to take advantage of Python’s import system. In this section, you’ll learn a bit more about what happens behind the scenes as modules and packages are imported. "
   ]
  },
  {
   "cell_type": "markdown",
   "id": "86ea732c",
   "metadata": {},
   "source": [
    "As with most parts of Python, the import system can be customized. You’ll see several ways that you can change the import system, including automatically downloading missing packages from PyPI and importing data files as if they were modules."
   ]
  },
  {
   "cell_type": "markdown",
   "id": "1d5b8318",
   "metadata": {},
   "source": [
    "<a class=\"anchor\" id=\"import_internals\"></a>\n",
    "\n",
    "### Import Internals"
   ]
  },
  {
   "cell_type": "markdown",
   "id": "b60279a9",
   "metadata": {},
   "source": [
    "The details of the Python import system are described in [the official documentation](https://docs.python.org/reference/import.html). At a high level, three things happen when you import a module (or package). The module is:"
   ]
  },
  {
   "cell_type": "markdown",
   "id": "8bf7b64a",
   "metadata": {},
   "source": [
    "1. Searched for\n",
    "2. Loaded\n",
    "3. Bound to a namespace\n"
   ]
  },
  {
   "cell_type": "markdown",
   "id": "64163323",
   "metadata": {},
   "source": [
    "For the usual imports—those done with the `import` statement—all three steps happen automatically. When you use `importlib`, however, only the first two steps are automatic. You need to bind the module to a variable or namespace yourself. "
   ]
  },
  {
   "cell_type": "markdown",
   "id": "027fdc88",
   "metadata": {},
   "source": [
    "For instance, the following methods of importing and renaming `math.pi` are roughly equivalent:"
   ]
  },
  {
   "cell_type": "code",
   "execution_count": null,
   "id": "de4e987a",
   "metadata": {},
   "outputs": [],
   "source": [
    ">>>>>> from math import pi as PI\n",
    ">>> PI\n",
    "3.141592653589793\n",
    "\n",
    ">>> import importlib\n",
    ">>> _tmp = importlib.import_module(\"math\")\n",
    ">>> PI = _tmp.pi\n",
    ">>> del _tmp\n",
    ">>> PI\n",
    "3.141592653589793"
   ]
  },
  {
   "cell_type": "markdown",
   "id": "557b1b56",
   "metadata": {},
   "source": [
    "Of course, in normal code you should prefer the former."
   ]
  },
  {
   "cell_type": "markdown",
   "id": "7bb90161",
   "metadata": {},
   "source": [
    "One thing to note is that, even when you import only one attribute from a module, the whole module is loaded and executed. The rest of the contents of the module just aren’t bound to the current namespace. One way to prove this is to have a look at what’s known as the **module cache**:"
   ]
  },
  {
   "cell_type": "code",
   "execution_count": null,
   "id": "ab6582ba",
   "metadata": {},
   "outputs": [],
   "source": [
    ">>>>>> from math import pi\n",
    ">>> pi\n",
    "3.141592653589793\n",
    "\n",
    ">>> import sys\n",
    ">>> sys.modules[\"math\"].cos(pi)\n",
    "-1.0"
   ]
  },
  {
   "cell_type": "markdown",
   "id": "d5a2e0cf",
   "metadata": {},
   "source": [
    "`sys.modules` acts as a module cache. It contains references to all modules that have been imported. "
   ]
  },
  {
   "cell_type": "markdown",
   "id": "b0d6a0b6",
   "metadata": {},
   "source": [
    "The module cache plays a very important role in the Python import system. The first place Python looks for modules when doing an import is in `sys.modules`. If a module is already available, then it isn’t loaded again."
   ]
  },
  {
   "cell_type": "markdown",
   "id": "302e72b8",
   "metadata": {},
   "source": [
    "This is a great optimization, but it’s also a necessity. If modules were reloaded each time they were imported, then you could end up with inconsistencies in certain situations, such as when the underlying source code changes while a script is running."
   ]
  },
  {
   "cell_type": "markdown",
   "id": "ba026261",
   "metadata": {},
   "source": [
    "Recall the [import path](#pythons-import-path) you saw earlier. It essentially tells Python where to search for modules. However, if Python finds a module in the module cache, then it won’t bother searching the import path for the module."
   ]
  },
  {
   "cell_type": "markdown",
   "id": "f3331bdd",
   "metadata": {},
   "source": [
    "<a class=\"anchor\" id=\"example:_singletons_as_modules\"></a>\n",
    "\n",
    "### Example: Singletons as Modules"
   ]
  },
  {
   "cell_type": "markdown",
   "id": "7fc592a2",
   "metadata": {},
   "source": [
    "In [object-oriented programming](https://realpython.com/python3-object-oriented-programming/), a **singleton** is a class with at most one instance. While it’s possible to [implement singletons in Python](https://realpython.com/primer-on-python-decorators/#creating-singletons), most good uses of singletons can be handled by modules instead. You can trust the module cache to instantiate a class only once."
   ]
  },
  {
   "cell_type": "markdown",
   "id": "5c83ce8f",
   "metadata": {},
   "source": [
    "As an example, let’s return to the United Nations population data you saw [earlier](#example-use-data-files). The following module defines a class wrapping the population data:"
   ]
  },
  {
   "cell_type": "code",
   "execution_count": null,
   "id": "6c366f1d",
   "metadata": {},
   "outputs": [],
   "source": [
    "# population.py\n",
    "\n",
    "import csv\n",
    "from importlib import resources\n",
    "\n",
    "import matplotlib.pyplot as plt\n",
    "\n",
    "class _Population:\n",
    "    def __init__(self):\n",
    "        \"\"\"Read the population file\"\"\"\n",
    "        self.data = {}\n",
    "        self.variant = \"Medium\"\n",
    "\n",
    "        print(f\"Reading population data for {self.variant} scenario\")\n",
    "        with resources.open_text(\n",
    "            \"data\", \"WPP2019_TotalPopulationBySex.csv\"\n",
    "        ) as fid:\n",
    "            rows = csv.DictReader(fid)\n",
    "\n",
    "            # Read data, filter the correct variant\n",
    "            for row in rows:\n",
    "                if int(row[\"LocID\"]) >= 900 or row[\"Variant\"] != self.variant:\n",
    "                    continue\n",
    "\n",
    "                country = self.data.setdefault(row[\"Location\"], {})\n",
    "                population = float(row[\"PopTotal\"]) * 1000\n",
    "                country[int(row[\"Time\"])] = round(population)\n",
    "\n",
    "    def get_country(self, country):\n",
    "        \"\"\"Get population data for one country\"\"\"\n",
    "        data = self.data[country]\n",
    "        years, population = zip(*data.items())\n",
    "        return years, population\n",
    "\n",
    "    def plot_country(self, country):\n",
    "        \"\"\"Plot data for one country, population in millions\"\"\"\n",
    "        years, population = self.get_country(country)\n",
    "        plt.plot(years, [p / 1e6 for p in population], label=country)\n",
    "\n",
    "    def order_countries(self, year):\n",
    "        \"\"\"Sort countries by population in decreasing order\"\"\"\n",
    "        countries = {c: self.data[c][year] for c in self.data}\n",
    "        return sorted(countries, key=lambda c: countries[c], reverse=True)\n",
    "\n",
    "# Instantiate the Singleton\n",
    "data = _Population()"
   ]
  },
  {
   "cell_type": "markdown",
   "id": "488405bc",
   "metadata": {},
   "source": [
    "Reading the data from disk takes some time. Since you don’t expect the data file to change, you instantiate the class when you load the module. The name of the class starts with an underscore to [indicate to users](https://www.python.org/dev/peps/pep-0008/#descriptive-naming-styles) that they shouldn’t use it."
   ]
  },
  {
   "cell_type": "markdown",
   "id": "61dacdcb",
   "metadata": {},
   "source": [
    "You can use the `population.data` singleton to create a [Matplotlib](https://realpython.com/python-matplotlib-guide/) graph showing the population projection for the most populous countries:"
   ]
  },
  {
   "cell_type": "code",
   "execution_count": null,
   "id": "9902b958",
   "metadata": {},
   "outputs": [],
   "source": [
    ">>>>>> import matplotlib.pyplot as plt\n",
    ">>> import population\n",
    "Reading population data for Medium scenario\n",
    "\n",
    ">>> # Pick out five most populous countries in 2050\n",
    ">>> for country in population.data.order_countries(2050)[:5]:\n",
    "...     population.data.plot_country(country)\n",
    "...\n",
    ">>> plt.legend()\n",
    ">>> plt.xlabel(\"Year\")\n",
    ">>> plt.ylabel(\"Population [Millions]\")\n",
    ">>> plt.title(\"UN Population Projections\")\n",
    ">>> plt.show()"
   ]
  },
  {
   "cell_type": "markdown",
   "id": "b7802e9e",
   "metadata": {},
   "source": [
    "This creates a chart like the following:"
   ]
  },
  {
   "cell_type": "markdown",
   "id": "1545aa06",
   "metadata": {},
   "source": [
    "<img src=\"images/python-import:-advanced-techniques-and-tips/imports-population.fa041527204c.png\" width=\"600px\">"
   ]
  },
  {
   "cell_type": "markdown",
   "id": "cb03f586",
   "metadata": {},
   "source": [
    "Note that loading the data at import time is a kind of [antipattern](https://en.wikipedia.org/wiki/Anti-pattern). Ideally, you want your imports to be as free of side effects as possible. A better approach would be to load the data lazily when you need it. You can do this quite elegantly using properties. Expand the following section to see an example."
   ]
  },
  {
   "cell_type": "markdown",
   "id": "f326a81f",
   "metadata": {},
   "source": [
    "<a class=\"anchor\" id=\"reloading_modules\"></a>\n",
    "\n",
    "### Reloading Modules"
   ]
  },
  {
   "cell_type": "markdown",
   "id": "ce656048",
   "metadata": {},
   "source": [
    "The module cache can be a little frustrating when you’re working in the interactive interpreter. It’s not trivial to reload a module after you change it. For example, take a look at the following module:"
   ]
  },
  {
   "cell_type": "code",
   "execution_count": null,
   "id": "b026a422",
   "metadata": {},
   "outputs": [],
   "source": [
    "# number.py\n",
    "\n",
    "answer = 24"
   ]
  },
  {
   "cell_type": "markdown",
   "id": "31418883",
   "metadata": {},
   "source": [
    "As part of testing and [debugging](https://realpython.com/python-debugging-pdb/) this module, you import it in a Python console:"
   ]
  },
  {
   "cell_type": "code",
   "execution_count": null,
   "id": "dc76caae",
   "metadata": {},
   "outputs": [],
   "source": [
    ">>>>>> import number\n",
    ">>> number.answer\n",
    "24"
   ]
  },
  {
   "cell_type": "markdown",
   "id": "016f943f",
   "metadata": {},
   "source": [
    "Let’s say you realize that you have a bug in your code, so you update the `number.py` file in your editor:"
   ]
  },
  {
   "cell_type": "code",
   "execution_count": null,
   "id": "f434edc2",
   "metadata": {},
   "outputs": [],
   "source": [
    "# number.py\n",
    "\n",
    "answer = 42"
   ]
  },
  {
   "cell_type": "markdown",
   "id": "c6cb9b63",
   "metadata": {},
   "source": [
    "Returning to your console, you import the updated module to see the effect of your fix:"
   ]
  },
  {
   "cell_type": "code",
   "execution_count": null,
   "id": "d569c4dd",
   "metadata": {},
   "outputs": [],
   "source": [
    ">>>>>> import number\n",
    ">>> number.answer\n",
    "24"
   ]
  },
  {
   "cell_type": "markdown",
   "id": "d6a46d64",
   "metadata": {},
   "source": [
    "Why is the answer still `24`? The module cache is doing its (now frustrating) magic: since Python imported `number` earlier, it sees no reason to load the module again even though you just changed it."
   ]
  },
  {
   "cell_type": "markdown",
   "id": "169c7607",
   "metadata": {},
   "source": [
    "The most straightforward solution to this is to exit the Python console and restart it. This forces Python to clear its module cache as well:"
   ]
  },
  {
   "cell_type": "code",
   "execution_count": null,
   "id": "c7093c2c",
   "metadata": {},
   "outputs": [],
   "source": [
    ">>>>>> import number\n",
    ">>> number.answer\n",
    "42"
   ]
  },
  {
   "cell_type": "markdown",
   "id": "13039f23",
   "metadata": {},
   "source": [
    "However, restarting the interpreter isn’t always feasible. You might be in a more complicated session that has taken you a long time to set up. If that’s the case, then you can use [`importlib.reload()`](https://docs.python.org/library/importlib.html#importlib.reload) to reload a module instead:"
   ]
  },
  {
   "cell_type": "code",
   "execution_count": null,
   "id": "674a6307",
   "metadata": {},
   "outputs": [],
   "source": [
    ">>>>>> import number\n",
    ">>> number.answer\n",
    "24\n",
    "\n",
    ">>> # Update number.py in your editor\n",
    "\n",
    ">>> import importlib\n",
    ">>> importlib.reload(number)\n",
    "<module 'number' from 'number.py'>\n",
    "\n",
    ">>> number.answer\n",
    "42"
   ]
  },
  {
   "cell_type": "markdown",
   "id": "6af6f76e",
   "metadata": {},
   "source": [
    "Note that `reload()` requires a module object, not a string like `import_module()` does. Also, be aware that `reload()` has some caveats. In particular, variables referring to objects within a module are not re-bound to new objects when that module is reloaded. See [the documentation](https://docs.python.org/library/importlib.html#importlib.reload) for more details."
   ]
  },
  {
   "cell_type": "markdown",
   "id": "99b45524",
   "metadata": {},
   "source": [
    "<a class=\"anchor\" id=\"finders_and_loaders\"></a>\n",
    "\n",
    "### Finders and Loaders"
   ]
  },
  {
   "cell_type": "markdown",
   "id": "9056b224",
   "metadata": {},
   "source": [
    "You saw [earlier](#pythons-import-path) that creating modules with the same name as standard libraries can create problems. For example, if you have a file named `math.py` in Python’s import path, then you won’t be able to import `math` from the standard library."
   ]
  },
  {
   "cell_type": "markdown",
   "id": "d09b4e4c",
   "metadata": {},
   "source": [
    "This isn’t always the case, though. Create a file named `time.py` with the following content:"
   ]
  },
  {
   "cell_type": "code",
   "execution_count": null,
   "id": "24ca990d",
   "metadata": {},
   "outputs": [],
   "source": [
    "# time.py\n",
    "\n",
    "print(\"Now's the time!\")"
   ]
  },
  {
   "cell_type": "markdown",
   "id": "ea3dd22d",
   "metadata": {},
   "source": [
    "Next, open a Python interpreter and import this new module:"
   ]
  },
  {
   "cell_type": "code",
   "execution_count": null,
   "id": "08584bfe",
   "metadata": {},
   "outputs": [],
   "source": [
    ">>>>>> import time\n",
    ">>> # Nothing is printed\n",
    "\n",
    ">>> time.ctime()\n",
    "'Mon Jun 15 14:26:12 2020'\n",
    "\n",
    ">>> time.tzname\n",
    "('CET', 'CEST')"
   ]
  },
  {
   "cell_type": "markdown",
   "id": "6e3cd3fb",
   "metadata": {},
   "source": [
    "Something weird happened. It doesn’t seem like Python imported your new `time` module. Instead, it imported the [`time` module from the standard library](https://realpython.com/python-time-module/). Why are the standard library modules behaving inconsistently? You can get a hint by inspecting the modules:"
   ]
  },
  {
   "cell_type": "code",
   "execution_count": null,
   "id": "f5fee6ed",
   "metadata": {},
   "outputs": [],
   "source": [
    ">>>>>> import math\n",
    ">>> math\n",
    "<module 'math' from '.../python/lib/python3.8/lib-dynload/math.cpython.so'>\n",
    "\n",
    ">>> import time\n",
    ">>> time\n",
    "<module 'time' (built-in)>"
   ]
  },
  {
   "cell_type": "markdown",
   "id": "b8cfee00",
   "metadata": {},
   "source": [
    "You can see that `math` is imported from a file, whereas `time` is some kind of built-in module. It seems that built-in modules aren’t shadowed by local ones."
   ]
  },
  {
   "cell_type": "markdown",
   "id": "5e907d58",
   "metadata": {},
   "source": [
    "Let’s dig even deeper into Python’s import system. This will also show why built-in modules aren’t shadowed by local ones. There are several steps involved when importing a module:"
   ]
  },
  {
   "cell_type": "markdown",
   "id": "c60b69c0",
   "metadata": {},
   "source": [
    "1. \n",
    "Python checks if the module is available in the **module cache**. If `sys.modules` contains the name of the module, then the module is already available, and the import process ends.\n",
    "\n",
    "\n",
    "\n",
    "2. \n",
    "Python starts looking for the module using several **finders**. A finder will search for the module using a given strategy. The default finders can import built-in modules, frozen modules, and modules on the import path.\n",
    "\n",
    "\n",
    "\n",
    "3. \n",
    "Python loads the module using a **loader**. Which loader Python uses is determined by the finder that located the module and is specified in something called a **module spec**.\n",
    "\n",
    "\n",
    "\n"
   ]
  },
  {
   "cell_type": "markdown",
   "id": "769c63b0",
   "metadata": {},
   "source": [
    "You can extend the Python import system by implementing your own finder and, if necessary, your own loader. You’ll see a more useful example of a finder later. For now, you’ll learn how to do basic (and possibly silly) customizations of the import system."
   ]
  },
  {
   "cell_type": "markdown",
   "id": "2b92ebd6",
   "metadata": {},
   "source": [
    "`sys.meta_path` controls which finders are called during the import process:"
   ]
  },
  {
   "cell_type": "code",
   "execution_count": null,
   "id": "d238cad1",
   "metadata": {},
   "outputs": [],
   "source": [
    ">>>>>> import sys\n",
    ">>> sys.meta_path\n",
    "[<class '_frozen_importlib.BuiltinImporter'>,\n",
    " <class '_frozen_importlib.FrozenImporter'>,\n",
    " <class '_frozen_importlib_external.PathFinder'>]"
   ]
  },
  {
   "cell_type": "markdown",
   "id": "54a9dca9",
   "metadata": {},
   "source": [
    "First, note that this answers the question from earlier: built-in modules aren’t shadowed by local modules because the built-in finder is called before the import path finder, which finds local modules. Second, note that you can customize `sys.meta_path` to your liking."
   ]
  },
  {
   "cell_type": "markdown",
   "id": "e16801a2",
   "metadata": {},
   "source": [
    "To quickly mess up your Python session, you can remove all finders:"
   ]
  },
  {
   "cell_type": "code",
   "execution_count": null,
   "id": "798d05ba",
   "metadata": {},
   "outputs": [],
   "source": [
    ">>>>>> import sys\n",
    ">>> sys.meta_path.clear()\n",
    ">>> sys.meta_path\n",
    "[]\n",
    "\n",
    ">>> import math\n",
    "Traceback (most recent call last):\n",
    "  File \"<stdin>\", line 1, in <module>\n",
    "ModuleNotFoundError: No module named 'math'\n",
    "\n",
    ">>> import importlib  # Autoimported at start-up, still in the module cache\n",
    ">>> importlib\n",
    "<module 'importlib' from '.../python/lib/python3.8/importlib/__init__.py'>"
   ]
  },
  {
   "cell_type": "markdown",
   "id": "0d95293d",
   "metadata": {},
   "source": [
    "Since there are no finders, Python can’t find or import new modules. However, Python can still import modules that are already in the module cache since it looks there before calling any finders. "
   ]
  },
  {
   "cell_type": "markdown",
   "id": "e006f01c",
   "metadata": {},
   "source": [
    "In the example above, `importlib` was already loaded under the hood before you cleared the list of finders. If you really want to make your Python session completely unusable, then you can also clear the module cache, `sys.modules`."
   ]
  },
  {
   "cell_type": "markdown",
   "id": "d4c2c9ad",
   "metadata": {},
   "source": [
    "The following is a slightly more useful example. You’ll write a finder that prints a message to the console identifying the module being imported. The example shows how to add your own finder, although it doesn’t actually attempt to find a module:"
   ]
  },
  {
   "cell_type": "code",
   "execution_count": null,
   "id": "82ca3114",
   "metadata": {},
   "outputs": [],
   "source": [
    "# debug_importer.py\n",
    "\n",
    "import sys\n",
    "\n",
    "class DebugFinder:\n",
    "    @classmethod\n",
    "    def find_spec(cls, name, path, target=None):\n",
    "        print(f\"Importing {name!r}\")\n",
    "        return None\n",
    "\n",
    "sys.meta_path.insert(0, DebugFinder)"
   ]
  },
  {
   "cell_type": "markdown",
   "id": "c0346521",
   "metadata": {},
   "source": [
    "All finders must implement a `.find_spec()` [class method](https://realpython.com/instance-class-and-static-methods-demystified/), which should try to find a given module. There are three ways that `.find_spec()` can terminate:"
   ]
  },
  {
   "cell_type": "markdown",
   "id": "f4cf9d82",
   "metadata": {},
   "source": [
    "1. By **returning `None`** if it doesn’t know how to find and load the module\n",
    "2. By **returning a module spec** specifying how to load the module\n",
    "3. By **raising a `ModuleNotFoundError`** to indicate that the module can’t be imported\n"
   ]
  },
  {
   "cell_type": "markdown",
   "id": "5448e27e",
   "metadata": {},
   "source": [
    "The `DebugFinder` prints a message to the console and then explicitly returns [`None`](https://realpython.com/null-in-python/) to indicate that other finders should figure out how to actually import the module."
   ]
  },
  {
   "cell_type": "markdown",
   "id": "90b6caa3",
   "metadata": {},
   "source": [
    "By inserting `DebugFinder` first in the list of finders, you get a running list of all modules being imported:"
   ]
  },
  {
   "cell_type": "code",
   "execution_count": null,
   "id": "61e898b8",
   "metadata": {},
   "outputs": [],
   "source": [
    ">>>>>> import debug_importer\n",
    ">>> import csv\n",
    "Importing 'csv'\n",
    "Importing 're'\n",
    "Importing 'enum'\n",
    "Importing 'sre_compile'\n",
    "Importing '_sre'\n",
    "Importing 'sre_parse'\n",
    "Importing 'sre_constants'\n",
    "Importing 'copyreg'\n",
    "Importing '_csv'"
   ]
  },
  {
   "cell_type": "markdown",
   "id": "c29ef4df",
   "metadata": {},
   "source": [
    "You can, for instance, see that importing `csv` triggers the import of several other modules that `csv` depends on. Note that the verbose option to the Python interpreter, `python -v`, gives the same information and much, much more."
   ]
  },
  {
   "cell_type": "markdown",
   "id": "76b043a4",
   "metadata": {},
   "source": [
    "For another example, say that you’re on a quest to rid the world of [regular expressions](https://realpython.com/regex-python/). (Now, [why](http://www.ex-parrot.com/~pdw/Mail-RFC822-Address.html) would you want such a thing? Regular expressions are [great](https://xkcd.com/208/)!) You could implement the following finder that bans the [`re` regular expressions module](https://docs.python.org/3/library/re.html#module-re):"
   ]
  },
  {
   "cell_type": "code",
   "execution_count": null,
   "id": "5d3f6eea",
   "metadata": {},
   "outputs": [],
   "source": [
    "# ban_importer.py\n",
    "\n",
    "import sys\n",
    "\n",
    "BANNED_MODULES = {\"re\"}\n",
    "\n",
    "class BanFinder:\n",
    "    @classmethod\n",
    "    def find_spec(cls, name, path, target=None):\n",
    "        if name in BANNED_MODULES:\n",
    "            raise ModuleNotFoundError(f\"{name!r} is banned\")\n",
    "\n",
    "sys.meta_path.insert(0, BanFinder)"
   ]
  },
  {
   "cell_type": "markdown",
   "id": "f2bc56d2",
   "metadata": {},
   "source": [
    "Raising a `ModuleNotFoundError` ensures that no finder later in the list of finders will be executed. This effectively stops you from using [regular expressions](https://regex101.com) in Python:"
   ]
  },
  {
   "cell_type": "code",
   "execution_count": null,
   "id": "7da25edd",
   "metadata": {},
   "outputs": [],
   "source": [
    ">>>>>> import ban_importer\n",
    ">>> import csv\n",
    "Traceback (most recent call last):\n",
    "  File \"<stdin>\", line 1, in <module>\n",
    "  File \".../python/lib/python3.8/csv.py\", line 6, in <module>\n",
    "    import re\n",
    "  File \"ban_importer.py\", line 11, in find_spec\n",
    "    raise ModuleNotFoundError(f\"{name!r} is banned\")\n",
    "ModuleNotFoundError: 're' is banned"
   ]
  },
  {
   "cell_type": "markdown",
   "id": "d275fc1f",
   "metadata": {},
   "source": [
    "Even though you’re importing only `csv`, that module is importing `re` behind the scenes, so an error is raised."
   ]
  },
  {
   "cell_type": "markdown",
   "id": "81f8bd2a",
   "metadata": {},
   "source": [
    "<a class=\"anchor\" id=\"example:_automatically_install_from_pypi\"></a>\n",
    "\n",
    "### Example: Automatically Install From PyPI"
   ]
  },
  {
   "cell_type": "markdown",
   "id": "6c648f1b",
   "metadata": {},
   "source": [
    "Because the Python import system is already quite powerful and useful, there are many more ways to mess it up than there are to extend it in a useful way. However, the following example can be useful in certain situations."
   ]
  },
  {
   "cell_type": "markdown",
   "id": "b299f82a",
   "metadata": {},
   "source": [
    "The [Python Package Index](https://pypi.org/) (PyPI) is your one-stop [cheese shop](https://www.youtube.com/watch?v=Hz1JWzyvv8Ap) for finding third-party modules and packages. It’s also the place from which `pip` downloads packages. "
   ]
  },
  {
   "cell_type": "markdown",
   "id": "00dae0c3",
   "metadata": {},
   "source": [
    "In other *Real Python* tutorials, you may have seen instructions to use [`python -m pip install`](https://docs.python.org/3/installing/index.html#basic-usage) to install the third-party modules and packages you need for following along with examples. Wouldn’t it be great to have Python automatically install missing modules for you?"
   ]
  },
  {
   "cell_type": "markdown",
   "id": "99e628c8",
   "metadata": {},
   "source": [
    "The following finder attempts to install modules using `pip`:"
   ]
  },
  {
   "cell_type": "code",
   "execution_count": null,
   "id": "035e4169",
   "metadata": {},
   "outputs": [],
   "source": [
    "# pip_importer.py\n",
    "\n",
    "from importlib import util\n",
    "import subprocess\n",
    "import sys\n",
    "\n",
    "class PipFinder:\n",
    "    @classmethod\n",
    "    def find_spec(cls, name, path, target=None):\n",
    "        print(f\"Module {name!r} not installed.  Attempting to pip install\")\n",
    "        cmd = f\"{sys.executable} -m pip install {name}\"\n",
    "        try:\n",
    "            subprocess.run(cmd.split(), check=True)\n",
    "        except subprocess.CalledProcessError:\n",
    "            return None\n",
    "\n",
    "        return util.find_spec(name)\n",
    "\n",
    "sys.meta_path.append(PipFinder)"
   ]
  },
  {
   "cell_type": "markdown",
   "id": "35855bad",
   "metadata": {},
   "source": [
    "Compared to the finders you saw earlier, this one is slightly more complicated. By putting this finder last in the list of finders, you know that if you call `PipFinder`, then the module won’t be found on your system. The job of `.find_spec()` is therefore just to do the `pip install`. If the installation works, then the module spec will be created and returned."
   ]
  },
  {
   "cell_type": "markdown",
   "id": "46466d8c",
   "metadata": {},
   "source": [
    "Try to use the [`parse`](https://pypi.org/project/parse/) library without installing it yourself:"
   ]
  },
  {
   "cell_type": "code",
   "execution_count": null,
   "id": "b5243ff4",
   "metadata": {},
   "outputs": [],
   "source": [
    ">>>>>> import pip_importer\n",
    ">>> import parse\n",
    "Module 'parse' not installed.  Attempting to pip install\n",
    "Collecting parse\n",
    "  Downloading parse-1.15.0.tar.gz (29 kB)\n",
    "Building wheels for collected packages: parse\n",
    "  Building wheel for parse (setup.py) ... done\n",
    "Successfully built parse\n",
    "Installing collected packages: parse\n",
    "Successfully installed parse-1.15.0\n",
    "\n",
    ">>> pattern = \"my name is {name}\"\n",
    ">>> parse.parse(pattern, \"My name is Geir Arne\")\n",
    "<Result () {'name': 'Geir Arne'}>"
   ]
  },
  {
   "cell_type": "markdown",
   "id": "acc5b651",
   "metadata": {},
   "source": [
    "Normally, `import parse` would’ve raised a `ModuleNotFoundError`, but in this case `parse` is installed and imported."
   ]
  },
  {
   "cell_type": "markdown",
   "id": "a6be68bb",
   "metadata": {},
   "source": [
    "While the `PipFinder` seemingly works, there are some challenges with this approach. One major problem is that the import name of a module doesn’t always correspond to its name on PyPI. For example, the [*Real Python* feed reader](https://pypi.org/project/realpython-reader/) is called `realpython-reader` on PyPI, but the import name is simply `reader`."
   ]
  },
  {
   "cell_type": "markdown",
   "id": "a5c6a955",
   "metadata": {},
   "source": [
    "Using `PipFinder` to import and install `reader` ends up installing the wrong package:"
   ]
  },
  {
   "cell_type": "code",
   "execution_count": null,
   "id": "2696e43c",
   "metadata": {},
   "outputs": [],
   "source": [
    ">>>>>> import pip_importer\n",
    ">>> import reader\n",
    "Module 'reader' not installed.  Attempting to pip install\n",
    "Collecting reader\n",
    "  Downloading reader-1.2-py3-none-any.whl (68 kB)\n",
    "..."
   ]
  },
  {
   "cell_type": "markdown",
   "id": "dc6bcb61",
   "metadata": {},
   "source": [
    "This could have disastrous consequences for your project."
   ]
  },
  {
   "cell_type": "markdown",
   "id": "df9967f7",
   "metadata": {},
   "source": [
    "One situation in which automatic installations can be quite helpful is when you’re running Python in the cloud with more limited control over your environment, such as when you’re running [Jupyter-style notebooks](https://realpython.com/jupyter-notebook-introduction/) at [Google Colaboratory](https://colab.research.google.com/). The Colab notebook environment is great for doing cooperative data exploration."
   ]
  },
  {
   "cell_type": "markdown",
   "id": "b59c1485",
   "metadata": {},
   "source": [
    "A typical notebook comes with many data science packages installed, including [NumPy](https://realpython.com/numpy-array-programming/), [Pandas](https://realpython.com/learning-paths/pandas-data-science/), and [Matplotlib](https://realpython.com/python-matplotlib-guide/), and you can [add new packages](https://colab.research.google.com/notebooks/snippets/importing_libraries.ipynb) with `pip`. But you can also activate automatic installation:"
   ]
  },
  {
   "cell_type": "markdown",
   "id": "731da826",
   "metadata": {},
   "source": [
    "<img src=\"images/python-import:-advanced-techniques-and-tips/imports-colab-pip_importer.9d9fd1760f1b.png\" width=\"600px\">"
   ]
  },
  {
   "cell_type": "markdown",
   "id": "fcf5fd36",
   "metadata": {},
   "source": [
    "Since `pip_importer` isn’t available locally on the Colab server, the code is copied into the first cell of the notebook."
   ]
  },
  {
   "cell_type": "markdown",
   "id": "f0ce694c",
   "metadata": {},
   "source": [
    "<a class=\"anchor\" id=\"example:_import_data_files\"></a>\n",
    "\n",
    "### Example: Import Data Files"
   ]
  },
  {
   "cell_type": "markdown",
   "id": "47b2001d",
   "metadata": {},
   "source": [
    "The final example in this section is inspired by Aleksey Bilogur’s great blog post [Import Almost Anything in Python: An Intro to Module Loaders and Finders](https://blog.quiltdata.com/import-almost-anything-in-python-an-intro-to-module-loaders-and-finders-f5e7b15cda47). You’ve [already seen](#introducing-importlibresources) how to use `importlib.resources` to import datafiles. Here, you’ll instead implement a custom loader that can import a CSV file directly."
   ]
  },
  {
   "cell_type": "markdown",
   "id": "c57dc5c8",
   "metadata": {},
   "source": [
    "[Earlier](#example-use-data-files), you worked with a huge CSV file with population data. To make the custom loader example more manageable, consider the following smaller `employees.csv` file:"
   ]
  },
  {
   "cell_type": "markdown",
   "id": "4cfd3f4c",
   "metadata": {},
   "source": [
    "```csv\n",
    "name,department,birthday month\n",
    "John Smith,Accounting,November\n",
    "Erica Meyers,IT,March\n",
    "```"
   ]
  },
  {
   "cell_type": "markdown",
   "id": "8b4868f8",
   "metadata": {},
   "source": [
    "The first line is a header naming three fields, and the following two rows of data each contain information about an employee. For more information about working with CSV files, check out [Reading and Writing CSV Files in Python](https://realpython.com/python-csv/)."
   ]
  },
  {
   "cell_type": "markdown",
   "id": "adc2843d",
   "metadata": {},
   "source": [
    "Your goal in this section is to write a finder and a loader that allow you to import the CSV file directly so that you can write code like the following:"
   ]
  },
  {
   "cell_type": "code",
   "execution_count": null,
   "id": "a4945f8e",
   "metadata": {},
   "outputs": [],
   "source": [
    ">>>>>> import csv_importer\n",
    ">>> import employees\n",
    "\n",
    ">>> employees.name\n",
    "('John Smith', 'Erica Meyers')\n",
    "\n",
    ">>> for row in employees.data:\n",
    "...     print(row[\"department\"])\n",
    "...\n",
    "Accounting\n",
    "IT\n",
    "\n",
    ">>> for name, month in zip(employees.name, employees.birthday_month):\n",
    "...     print(f\"{name} is born in {month}\")\n",
    "...\n",
    "John Smith is born in November\n",
    "Erica Meyers is born in March\n",
    "\n",
    ">>> employees.__file__\n",
    "'employees.csv'"
   ]
  },
  {
   "cell_type": "markdown",
   "id": "bc10423a",
   "metadata": {},
   "source": [
    "The job of the finder will be to search for and recognize CSV files. The loader’s job will be to import the CSV data. Often, you can implement finders and corresponding loaders in one common class. That’s the approach you’ll take here:"
   ]
  },
  {
   "cell_type": "code",
   "execution_count": null,
   "id": "4f9cabcf",
   "metadata": {},
   "outputs": [],
   "source": [
    "# csv_importer.py\n",
    "\n",
    "import csv\n",
    "import pathlib\n",
    "import re\n",
    "import sys\n",
    "from importlib.machinery import ModuleSpec\n",
    "\n",
    "class CsvImporter():\n",
    "    def __init__(self, csv_path):\n",
    "        \"\"\"Store path to CSV file\"\"\"\n",
    "        self.csv_path = csv_path\n",
    "\n",
    "    @classmethod\n",
    "    def find_spec(cls, name, path, target=None):\n",
    "        \"\"\"Look for CSV file\"\"\"\n",
    "        package, _, module_name = name.rpartition(\".\")\n",
    "        csv_file_name = f\"{module_name}.csv\"\n",
    "        directories = sys.path if path is None else path\n",
    "        for directory in directories:\n",
    "            csv_path = pathlib.Path(directory) / csv_file_name\n",
    "            if csv_path.exists():\n",
    "                return ModuleSpec(name, cls(csv_path))\n",
    "\n",
    "    def create_module(self, spec):\n",
    "        \"\"\"Returning None uses the standard machinery for creating modules\"\"\"\n",
    "        return None\n",
    "\n",
    "    def exec_module(self, module):\n",
    "        \"\"\"Executing the module means reading the CSV file\"\"\"\n",
    "        # Read CSV data and store as a list of rows\n",
    "        with self.csv_path.open() as fid:\n",
    "            rows = csv.DictReader(fid)\n",
    "            data = list(rows)\n",
    "            fieldnames = tuple(_identifier(f) for f in rows.fieldnames)\n",
    "\n",
    "        # Create a dict with each field\n",
    "        values = zip(*(row.values() for row in data))\n",
    "        fields = dict(zip(fieldnames, values))\n",
    "\n",
    "        # Add the data to the module\n",
    "        module.__dict__.update(fields)\n",
    "        module.__dict__[\"data\"] = data\n",
    "        module.__dict__[\"fieldnames\"] = fieldnames\n",
    "        module.__file__ = str(self.csv_path)\n",
    "\n",
    "    def __repr__(self):\n",
    "        \"\"\"Nice representation of the class\"\"\"\n",
    "        return f\"{self.__class__.__name__}({str(self.csv_path)!r})\"\n",
    "\n",
    "def _identifier(var_str):\n",
    "    \"\"\"Create a valid identifier from a string\n",
    "\n",
    "    See https://stackoverflow.com/a/3305731\n",
    "    \"\"\"\n",
    "    return re.sub(r\"\\W|^(?=\\d)\", \"_\", var_str)\n",
    "\n",
    "# Add the CSV importer at the end of the list of finders\n",
    "sys.meta_path.append(CsvImporter)"
   ]
  },
  {
   "cell_type": "markdown",
   "id": "463483c6",
   "metadata": {},
   "source": [
    "There’s quite a bit of code in this example! Luckily, most of the work is done in `.find_spec()` and `.exec_module()`. Let’s look at them in more detail."
   ]
  },
  {
   "cell_type": "markdown",
   "id": "ca9943a8",
   "metadata": {},
   "source": [
    "As you saw earlier, `.find_spec()` is responsible for finding the module. In this case, you’re looking for CSV files, so you create a filename with a `.csv` suffix. `name` contains the full name of the module that is imported. For example, if you use `from data import employees`, then `name` will be `data.employees`. In this case, the filename will be `employees.csv`."
   ]
  },
  {
   "cell_type": "markdown",
   "id": "5bee81ad",
   "metadata": {},
   "source": [
    "For top-level imports, `path` will be `None`. In that case, you look for the CSV file in the full import path, which will include the current working directory. If you’re importing a CSV file within a package, then `path` will be set to the path or paths of the package. If you find a matching CSV file, then a module spec is returned. This module spec tells Python to load the module using `CsvImporter`."
   ]
  },
  {
   "cell_type": "markdown",
   "id": "1b592d76",
   "metadata": {},
   "source": [
    "The CSV data is loaded by `.exec_module()`. You can use `csv.DictReader` from the standard library to do the actual parsing of the file. Like most things in Python, modules are backed by dictionaries. By adding the CSV data to `module.__dict__`, you make it available as attributes of the module. "
   ]
  },
  {
   "cell_type": "markdown",
   "id": "d0174cf8",
   "metadata": {},
   "source": [
    "For instance, adding `fieldnames` to the module dictionary on **line 44** allows you to list the field names in the CSV file as follows:"
   ]
  },
  {
   "cell_type": "code",
   "execution_count": null,
   "id": "a06459ec",
   "metadata": {},
   "outputs": [],
   "source": [
    ">>>>>> employees.fieldnames\n",
    "('name', 'department', 'birthday_month')"
   ]
  },
  {
   "cell_type": "markdown",
   "id": "855301a4",
   "metadata": {},
   "source": [
    "In general, CSV field names can contain spaces and other characters that aren’t allowed in Python attribute names. Before adding the fields as attributes on the module, you [sanitize the field names using a regular expression](https://stackoverflow.com/a/3305731). This is done in `_identifier()` starting on **line 51**."
   ]
  },
  {
   "cell_type": "markdown",
   "id": "430a4307",
   "metadata": {},
   "source": [
    "You can see an example of this effect in the `birthday_month` field name above. If you look at the original CSV file, then you’ll see that the header says `birthday month` with a space instead of an underscore."
   ]
  },
  {
   "cell_type": "markdown",
   "id": "9758307f",
   "metadata": {},
   "source": [
    "By hooking this `CsvImporter` into the Python import system, you get a fair bit of functionality for free. For example, the module cache will make sure that the data file is loaded only once."
   ]
  },
  {
   "cell_type": "markdown",
   "id": "3d1099ad",
   "metadata": {},
   "source": [
    "<a class=\"anchor\" id=\"import_tips_and_tricks\"></a>\n",
    "\n",
    "## Import Tips and Tricks"
   ]
  },
  {
   "cell_type": "markdown",
   "id": "9992dc97",
   "metadata": {},
   "source": [
    "To round out this tutorial, you’ll see a few tips about how to handle certain situations that come up from time to time. You’ll see how to deal with missing packages, cyclical imports, and even packages stored inside ZIP files."
   ]
  },
  {
   "cell_type": "markdown",
   "id": "0061847a",
   "metadata": {},
   "source": [
    "<a class=\"anchor\" id=\"handle_packages_across_python_versions\"></a>\n",
    "\n",
    "### Handle Packages Across Python Versions"
   ]
  },
  {
   "cell_type": "markdown",
   "id": "5a93a2a6",
   "metadata": {},
   "source": [
    "Sometimes you need to deal with packages that have different names depending on the Python version. You’ve already seen one example of this: [`importlib.resources`](https://realpython.com/python37-new-features/#importing-data-files-with-importlibresources) has only been available since Python 3.7. In earlier versions of Python, you need to install and use [`importlib_resources`](https://pypi.org/project/importlib_resources/) instead."
   ]
  },
  {
   "cell_type": "markdown",
   "id": "2b7d931e",
   "metadata": {},
   "source": [
    "As long as the different versions of the package are compatible, you can handle this by renaming the package with `as`:"
   ]
  },
  {
   "cell_type": "code",
   "execution_count": null,
   "id": "087d9220",
   "metadata": {},
   "outputs": [],
   "source": [
    "try:\n",
    "    from importlib import resources\n",
    "except ImportError:\n",
    "    import importlib_resources as resources"
   ]
  },
  {
   "cell_type": "markdown",
   "id": "d9fe0647",
   "metadata": {},
   "source": [
    "In the rest of the code, you can refer to `resources` and not worry about whether you’re using `importlib.resources` or `importlib_resources`."
   ]
  },
  {
   "cell_type": "markdown",
   "id": "e5ae3395",
   "metadata": {},
   "source": [
    "Normally, it’s easiest to use a `try...except` statement to figure out which version to use. Another option is to inspect the version of the Python interpreter. However, this may add some maintenance cost if you need to update the version numbers. "
   ]
  },
  {
   "cell_type": "markdown",
   "id": "83290e2b",
   "metadata": {},
   "source": [
    "You could rewrite the previous example as follows:"
   ]
  },
  {
   "cell_type": "code",
   "execution_count": null,
   "id": "ae49f780",
   "metadata": {},
   "outputs": [],
   "source": [
    "import sys\n",
    "if sys.version_info >= (3, 7):\n",
    "    from importlib import resources\n",
    "else:\n",
    "    import importlib_resources as resources"
   ]
  },
  {
   "cell_type": "markdown",
   "id": "1d498065",
   "metadata": {},
   "source": [
    "This would use `importlib.resources` on Python 3.7 and newer while falling back to `importlib_resources` on older versions of Python. See the [`flake8-2020`](https://pypi.org/project/flake8-2020/) project for good and future-proof advice on how to check which Python version is running."
   ]
  },
  {
   "cell_type": "markdown",
   "id": "7df83aa4",
   "metadata": {},
   "source": [
    "<a class=\"anchor\" id=\"handle_missing_packages:_use_an_alternative\"></a>\n",
    "\n",
    "### Handle Missing Packages: Use an Alternative"
   ]
  },
  {
   "cell_type": "markdown",
   "id": "faa82bd3",
   "metadata": {},
   "source": [
    "The following use case is closely related to the previous example. Assume there’s a compatible reimplementation of a package. The reimplementation is better optimized, so you want to use it if it’s available. However, the original package is more easily available and also delivers acceptable performance."
   ]
  },
  {
   "cell_type": "markdown",
   "id": "110d879e",
   "metadata": {},
   "source": [
    "One such example is [`quicktions`](https://pypi.org/project/quicktions/), which is an optimized version of `fractions` from the standard library. You can handle these preferences the same way you handled different package names earlier:"
   ]
  },
  {
   "cell_type": "code",
   "execution_count": null,
   "id": "78d4f7ca",
   "metadata": {},
   "outputs": [],
   "source": [
    "try:\n",
    "    from quicktions import Fraction\n",
    "except ImportError:\n",
    "    from fractions import Fraction"
   ]
  },
  {
   "cell_type": "markdown",
   "id": "edec8c82",
   "metadata": {},
   "source": [
    "This will use `quicktions` if it’s available and fall back to `fractions` if not."
   ]
  },
  {
   "cell_type": "markdown",
   "id": "9fd0c864",
   "metadata": {},
   "source": [
    "Another similar example is the [UltraJSON package](https://pypi.org/project/ujson/), an ultrafast JSON encoder and decoder that can be used as a replacement for [`json`](https://realpython.com/courses/working-json-data-python/) in the standard library:"
   ]
  },
  {
   "cell_type": "code",
   "execution_count": null,
   "id": "81af0db7",
   "metadata": {},
   "outputs": [],
   "source": [
    "try:\n",
    "    import ujson as json\n",
    "except ImportError:\n",
    "    import json"
   ]
  },
  {
   "cell_type": "markdown",
   "id": "abc61b8d",
   "metadata": {},
   "source": [
    "By renaming `ujson` to `json`, you don’t have to worry about which package was actually imported."
   ]
  },
  {
   "cell_type": "markdown",
   "id": "1c9b3599",
   "metadata": {},
   "source": [
    "<a class=\"anchor\" id=\"handle_missing_packages:_use_a_mock_instead\"></a>\n",
    "\n",
    "### Handle Missing Packages: Use a Mock Instead"
   ]
  },
  {
   "cell_type": "markdown",
   "id": "43ce98a7",
   "metadata": {},
   "source": [
    "A third, related example is adding a package that provides a nice-to-have feature that’s not strictly necessary for your app. Again, this can be solved by adding `try...except` to your imports. The extra challenge is how you will replace the optional package if it’s not available."
   ]
  },
  {
   "cell_type": "markdown",
   "id": "5a170937",
   "metadata": {},
   "source": [
    "For a concrete example, say that you’re using [Colorama](https://pypi.org/project/colorama/) to add colored text in the console. Colorama mainly consists of special string constants that add color when printed:"
   ]
  },
  {
   "cell_type": "code",
   "execution_count": null,
   "id": "bd0e6abd",
   "metadata": {},
   "outputs": [],
   "source": [
    ">>>>>> import colorama\n",
    ">>> colorama.init(autoreset=True)\n",
    "\n",
    ">>> from colorama import Back, Fore\n",
    ">>> Fore.RED\n",
    "'\\x1b[31m'\n",
    "\n",
    ">>> print(f\"{Fore.RED}Hello Color!\")\n",
    "Hello Color!\n",
    "\n",
    ">>> print(f\"{Back.RED}Hello Color!\")\n",
    "Hello Color!"
   ]
  },
  {
   "cell_type": "markdown",
   "id": "7f15e8b5",
   "metadata": {},
   "source": [
    "Unfortunately, the color doesn’t render in the example above. In your terminal it’ll look something like this:"
   ]
  },
  {
   "cell_type": "markdown",
   "id": "8d39e8c4",
   "metadata": {},
   "source": [
    "<img src=\"images/python-import:-advanced-techniques-and-tips/imports-colorama.c97ed952fe16.png\" width=\"600px\">"
   ]
  },
  {
   "cell_type": "markdown",
   "id": "3063ebd3",
   "metadata": {},
   "source": [
    "Before you start using Colorama colors, you should call `colorama.init()`. Setting `autoreset` to `True` means that the color directives will be automatically reset at the end of the string. It’s a useful setting if you want to color just one line at a time. "
   ]
  },
  {
   "cell_type": "markdown",
   "id": "20be9efa",
   "metadata": {},
   "source": [
    "If you’d rather have *all* your output be (for example) blue, then you can let `autoreset` be `False` and add `Fore.BLUE` to the beginning of your script. The following colors are available:"
   ]
  },
  {
   "cell_type": "code",
   "execution_count": null,
   "id": "4db60ab0",
   "metadata": {},
   "outputs": [],
   "source": [
    ">>>>>> from colorama import Fore\n",
    ">>> sorted(c for c in dir(Fore) if not c.startswith(\"_\"))\n",
    "['BLACK', 'BLUE', 'CYAN', 'GREEN', 'LIGHTBLACK_EX', 'LIGHTBLUE_EX',\n",
    " 'LIGHTCYAN_EX', 'LIGHTGREEN_EX', 'LIGHTMAGENTA_EX', 'LIGHTRED_EX',\n",
    " 'LIGHTWHITE_EX', 'LIGHTYELLOW_EX', 'MAGENTA', 'RED', 'RESET',\n",
    " 'WHITE', 'YELLOW']"
   ]
  },
  {
   "cell_type": "markdown",
   "id": "da5142e0",
   "metadata": {},
   "source": [
    "You can also use `colorama.Style` to control the style of your text. You can choose between `DIM`, `NORMAL`, and `BRIGHT`."
   ]
  },
  {
   "cell_type": "markdown",
   "id": "3d19cb18",
   "metadata": {},
   "source": [
    "Finally, `colorama.Cursor` provides codes for controlling the position of the cursor. You can use it to display the progress or status of a running script. The following example displays a countdown from `10`:"
   ]
  },
  {
   "cell_type": "code",
   "execution_count": null,
   "id": "2159c233",
   "metadata": {},
   "outputs": [],
   "source": [
    "# countdown.py\n",
    "\n",
    "import colorama\n",
    "from colorama import Cursor, Fore\n",
    "import time\n",
    "\n",
    "colorama.init(autoreset=True)\n",
    "countdown = [f\"{Fore.BLUE}{n}\" for n in range(10, 0, -1)]\n",
    "countdown.append(f\"{Fore.RED}Lift off!\")\n",
    "\n",
    "print(f\"{Fore.GREEN}Countdown starting:\\n\")\n",
    "for count in countdown:\n",
    "    time.sleep(1)\n",
    "    print(f\"{Cursor.UP(1)}{count} \")"
   ]
  },
  {
   "cell_type": "markdown",
   "id": "66046be1",
   "metadata": {},
   "source": [
    "Note how the counter stays in place instead of printing on separate lines as it normally would:"
   ]
  },
  {
   "cell_type": "markdown",
   "id": "fc64dc35",
   "metadata": {},
   "source": [
    "<img src=\"images/python-import:-advanced-techniques-and-tips/imports-countdown1.c1396d759b30.gif\" width=\"600px\">"
   ]
  },
  {
   "cell_type": "markdown",
   "id": "2712307f",
   "metadata": {},
   "source": [
    "Let’s get back to the task at hand. For many applications, adding color to your console output is cool but not critical. To avoid adding yet another dependency to your app, you want to use Colorama only if it’s available on the system and not break the app if it isn’t."
   ]
  },
  {
   "cell_type": "markdown",
   "id": "0f91a27d",
   "metadata": {},
   "source": [
    "To do this, you can take inspiration from [testing](https://realpython.com/python-testing/) and its use of [mocks](https://realpython.com/python-mock-library/). A mock can substitute for another object while allowing you to control its behavior. Here’s a naïve attempt at mocking Colorama:"
   ]
  },
  {
   "cell_type": "code",
   "execution_count": null,
   "id": "50bd8670",
   "metadata": {},
   "outputs": [],
   "source": [
    ">>>>>> from unittest.mock import Mock\n",
    ">>> colorama = Mock()\n",
    ">>> colorama.init(autoreset=True)\n",
    "<Mock name='mock.init()' id='139887544431728'>\n",
    "\n",
    ">>> Fore = Mock()\n",
    ">>> Fore.RED\n",
    "<Mock name='mock.RED' id='139887542331320'>\n",
    "\n",
    ">>> print(f\"{Fore.RED}Hello Color!\")\n",
    "<Mock name='mock.RED' id='139887542331320'>Hello Color!"
   ]
  },
  {
   "cell_type": "markdown",
   "id": "c24e80f6",
   "metadata": {},
   "source": [
    "This doesn’t quite work, because `Fore.RED` is represented by a string that messes up your output. Instead, you want to create an object that always renders as the empty string. "
   ]
  },
  {
   "cell_type": "markdown",
   "id": "87beee39",
   "metadata": {},
   "source": [
    "It’s possible to change the return value of `.__str__()` on `Mock` objects. However, in this case, it’s more convenient to write your own mock:"
   ]
  },
  {
   "cell_type": "code",
   "execution_count": null,
   "id": "58215ddf",
   "metadata": {},
   "outputs": [],
   "source": [
    "# optional_color.py\n",
    "\n",
    "try:\n",
    "    from colorama import init, Back, Cursor, Fore, Style\n",
    "except ImportError:\n",
    "    from collections import UserString\n",
    "\n",
    "    class ColoramaMock(UserString):\n",
    "        def __call__(self, *args, **kwargs):\n",
    "            return self\n",
    "        def __getattr__(self, key):\n",
    "            return self\n",
    "\n",
    "    init = ColoramaMock(\"\")\n",
    "    Back = Cursor = Fore = Style = ColoramaMock(\"\")"
   ]
  },
  {
   "cell_type": "markdown",
   "id": "a6932765",
   "metadata": {},
   "source": [
    "`ColoramaMock(\"\")` is an empty string that will also return the empty string when it’s called. This effectively gives us a reimplementation of Colorama, just without the colors. "
   ]
  },
  {
   "cell_type": "markdown",
   "id": "4d88cc16",
   "metadata": {},
   "source": [
    "The final trick is that `.__getattr__()` returns itself, so that all colors, styles, and cursor movements that are attributes on `Back`, `Fore`, `Style`, and `Cursor` are mocked as well."
   ]
  },
  {
   "cell_type": "markdown",
   "id": "9263f676",
   "metadata": {},
   "source": [
    "The `optional_color` module is designed to be a drop-in replacement for Colorama, so you can update the countdown example using search and replace:"
   ]
  },
  {
   "cell_type": "code",
   "execution_count": null,
   "id": "9675897f",
   "metadata": {},
   "outputs": [],
   "source": [
    "# countdown.py\n",
    "\n",
    "import optional_color\n",
    "from optional_color import Cursor, Fore\n",
    "import time\n",
    "\n",
    "optional_color.init(autoreset=True)\n",
    "countdown = [f\"{Fore.BLUE}{n}\" for n in range(10, 0, -1)]\n",
    "countdown.append(f\"{Fore.RED}Lift off!\")\n",
    "\n",
    "print(f\"{Fore.GREEN}Countdown starting:\\n\")\n",
    "for count in countdown:\n",
    "    time.sleep(1)\n",
    "    print(f\"{Cursor.UP(1)}{count} \")"
   ]
  },
  {
   "cell_type": "markdown",
   "id": "d7e2b7dc",
   "metadata": {},
   "source": [
    "If you run this script on a system in which Colorama isn’t available, then it’ll still work, but it may not look as nice:"
   ]
  },
  {
   "cell_type": "markdown",
   "id": "7ebf8912",
   "metadata": {},
   "source": [
    "<img src=\"images/python-import:-advanced-techniques-and-tips/imports-countdown2.300d48e9231d.gif\" width=\"600px\">"
   ]
  },
  {
   "cell_type": "markdown",
   "id": "908d5ef4",
   "metadata": {},
   "source": [
    "With Colorama installed, you should see the same results as earlier."
   ]
  },
  {
   "cell_type": "markdown",
   "id": "31efc361",
   "metadata": {},
   "source": [
    "<a class=\"anchor\" id=\"import_scripts_as_modules\"></a>\n",
    "\n",
    "### Import Scripts as Modules"
   ]
  },
  {
   "cell_type": "markdown",
   "id": "8dd05eb4",
   "metadata": {},
   "source": [
    "One difference between scripts and library modules is that scripts typically do something, whereas libraries provide functionality. Both scripts and libraries live inside regular Python files, and as far as Python is concerned, there’s no difference between them."
   ]
  },
  {
   "cell_type": "markdown",
   "id": "24743b1f",
   "metadata": {},
   "source": [
    "Instead, the difference is in how the file is meant to be used: should it be executed with `python file.py` or imported with `import file` inside another script?"
   ]
  },
  {
   "cell_type": "markdown",
   "id": "46ddc6e1",
   "metadata": {},
   "source": [
    "Sometimes you’ll have a module that works as both a script and a library. You could try to [refactor](https://realpython.com/python-refactoring/) your module into two different files. "
   ]
  },
  {
   "cell_type": "markdown",
   "id": "ee595298",
   "metadata": {},
   "source": [
    "One example of this in the standard library is the [`json` package](https://docs.python.org/library/json.html). You usually use it as a library, but it also comes bundled with a script that can prettify JSON files. Assume you have the following [`colors.json` file](https://www.sitepoint.com/colors-json-example/):"
   ]
  },
  {
   "cell_type": "markdown",
   "id": "f637c242",
   "metadata": {},
   "source": [
    "```json\n",
    "{\"colors\": [{\"color\": \"blue\", \"category\": \"hue\", \"type\": \"primary\",\n",
    "\"code\": {\"rgba\": [0,0,255,1], \"hex\": \"#00F\"}}, {\"color\": \"yellow\",\n",
    "\"category\": \"hue\", \"type\": \"primary\", \"code\": {\"rgba\": [255,255,0,1],\n",
    "\"hex\": \"#FF0\"}}]}\n",
    "```"
   ]
  },
  {
   "cell_type": "markdown",
   "id": "b807f860",
   "metadata": {},
   "source": [
    "As JSON is often read only by machines, many JSON files aren’t formatted in a readable fashion. In fact, it’s quite common for JSON files to consist of one very long line of text. "
   ]
  },
  {
   "cell_type": "markdown",
   "id": "4ee8ffe9",
   "metadata": {},
   "source": [
    "`json.tool` is a script that uses the `json` library to format JSON in a more readable fashion:"
   ]
  },
  {
   "cell_type": "markdown",
   "id": "bcd1f32e",
   "metadata": {},
   "source": [
    "```sh\n",
    "$ python -m json.tool colors.json --sort-keys\n",
    "{\n",
    "    \"colors\": [\n",
    "        {\n",
    "            \"category\": \"hue\",\n",
    "            \"code\": {\n",
    "                \"hex\": \"#00F\",\n",
    "                \"rgba\": [\n",
    "                    0,\n",
    "                    0,\n",
    "                    255,\n",
    "                    1\n",
    "                ]\n",
    "            },\n",
    "            \"color\": \"blue\",\n",
    "            \"type\": \"primary\"\n",
    "        },\n",
    "        {\n",
    "            \"category\": \"hue\",\n",
    "            \"code\": {\n",
    "                \"hex\": \"#FF0\",\n",
    "                \"rgba\": [\n",
    "                    255,\n",
    "                    255,\n",
    "                    0,\n",
    "                    1\n",
    "                ]\n",
    "            },\n",
    "            \"color\": \"yellow\",\n",
    "            \"type\": \"primary\"\n",
    "        }\n",
    "    ]\n",
    "}\n",
    "```"
   ]
  },
  {
   "cell_type": "markdown",
   "id": "75cb2879",
   "metadata": {},
   "source": [
    "Now the structure of the JSON file becomes much less complicated to grasp. You can use the `--sort-keys` option to sort keys alphabetically."
   ]
  },
  {
   "cell_type": "markdown",
   "id": "1ff2f0c9",
   "metadata": {},
   "source": [
    "While it’s good practice to split scripts and libraries, Python has an idiom that makes it possible to treat a module as both a script and a library at the same time. As [noted earlier](#example-structure-your-imports), the value of the special `__name__` module variable is set at runtime based on whether the module is imported or run as a script."
   ]
  },
  {
   "cell_type": "markdown",
   "id": "12083cd5",
   "metadata": {},
   "source": [
    "Let’s test it out! Create the following file:"
   ]
  },
  {
   "cell_type": "code",
   "execution_count": null,
   "id": "08d1886f",
   "metadata": {},
   "outputs": [],
   "source": [
    "# name.py\n",
    "\n",
    "print(__name__)"
   ]
  },
  {
   "cell_type": "markdown",
   "id": "40524c8f",
   "metadata": {},
   "source": [
    "If you run this file, then you’ll see that `__name__` is set to the special value `__main__`:"
   ]
  },
  {
   "cell_type": "markdown",
   "id": "d110da5c",
   "metadata": {},
   "source": [
    "```sh\n",
    "$ python name.py\n",
    "__main__\n",
    "```"
   ]
  },
  {
   "cell_type": "markdown",
   "id": "76130b80",
   "metadata": {},
   "source": [
    "However, if you import the module, then `__name__` is set to the name of the module:"
   ]
  },
  {
   "cell_type": "code",
   "execution_count": null,
   "id": "1c53bc9b",
   "metadata": {},
   "outputs": [],
   "source": [
    ">>>>>> import name\n",
    "name"
   ]
  },
  {
   "cell_type": "markdown",
   "id": "ca24658f",
   "metadata": {},
   "source": [
    "This behavior is leveraged in the following pattern:"
   ]
  },
  {
   "cell_type": "code",
   "execution_count": null,
   "id": "323a04a1",
   "metadata": {},
   "outputs": [],
   "source": [
    "def main():\n",
    "    ...\n",
    "\n",
    "if __name__ == \"__main__\":\n",
    "    main()"
   ]
  },
  {
   "cell_type": "markdown",
   "id": "a5bff172",
   "metadata": {},
   "source": [
    "Let’s use this in a bigger example. In an attempt to [keep you young](https://en.wikipedia.org/wiki/Fountain_of_Youth), the following script will replace any “old” age (`25` or above) with `24`:"
   ]
  },
  {
   "cell_type": "code",
   "execution_count": null,
   "id": "336a182e",
   "metadata": {},
   "outputs": [],
   "source": [
    "# feel_young.py\n",
    "\n",
    "def make_young(text):\n",
    "    words = [replace_by_age(w) for w in text.split()]\n",
    "    return \" \".join(words)\n",
    "\n",
    "def replace_by_age(word, new_age=24, age_range=(25, 120)):\n",
    "    if word.isdigit() and int(word) in range(*age_range):\n",
    "        return str(new_age)\n",
    "    return word\n",
    "\n",
    "if __name__ == \"__main__\":\n",
    "    text = input(\"Tell me something: \")\n",
    "    print(make_young(text))"
   ]
  },
  {
   "cell_type": "markdown",
   "id": "07e454fd",
   "metadata": {},
   "source": [
    "You can run this as a script, and it will interactively make the age you type younger:"
   ]
  },
  {
   "cell_type": "markdown",
   "id": "5f0692b3",
   "metadata": {},
   "source": [
    "```sh\n",
    "$ python feel_young.py\n",
    "Tell me something: Forever young - Bob is 79 years old\n",
    "Forever young - Bob is 24 years old\n",
    "```"
   ]
  },
  {
   "cell_type": "markdown",
   "id": "0cf2cc64",
   "metadata": {},
   "source": [
    "You can also use the module as an importable library. The `if` test on **line 12** makes sure that there are no side effects when you import the library. Only the functions `make_young()` and `replace_by_age()` are defined. You can, for instance, use this library as follows:"
   ]
  },
  {
   "cell_type": "code",
   "execution_count": null,
   "id": "b06fae2a",
   "metadata": {},
   "outputs": [],
   "source": [
    ">>>>>> from feel_young import make_young\n",
    "\n",
    ">>> headline = \"Twice As Many 100-Year-Olds\"\n",
    ">>> make_young(headline)\n",
    "'Twice As Many 24-Year-Olds'"
   ]
  },
  {
   "cell_type": "markdown",
   "id": "9752ae4d",
   "metadata": {},
   "source": [
    "Without the protection of the `if` test, the import would have triggered the interactive `input()` and made `feel_young` very hard to use as a library."
   ]
  },
  {
   "cell_type": "markdown",
   "id": "6ef51fe7",
   "metadata": {},
   "source": [
    "<a class=\"anchor\" id=\"run_python_scripts_from_zip_files\"></a>\n",
    "\n",
    "### Run Python Scripts From ZIP Files"
   ]
  },
  {
   "cell_type": "markdown",
   "id": "24cfb3c5",
   "metadata": {},
   "source": [
    "A slightly obscure feature of Python is that it can [run scripts packaged into ZIP files](https://www.python.org/dev/peps/pep-0273/). The main advantage of this is that you can distribute a full package as a single file. "
   ]
  },
  {
   "cell_type": "markdown",
   "id": "265d773b",
   "metadata": {},
   "source": [
    "Note, however, that this still requires Python to be installed on the system. If you want to distribute your Python application as a stand-alone executable file, then see [Using PyInstaller to Easily Distribute Python Applications](https://realpython.com/pyinstaller-python/)."
   ]
  },
  {
   "cell_type": "markdown",
   "id": "03294e55",
   "metadata": {},
   "source": [
    "If you [give the Python interpreter a ZIP file](https://snarky.ca/the-many-ways-to-pass-code-to-python-from-the-terminal/#executing-a-zip-file), then it’ll look for a file named `__main__.py` inside the ZIP archive, extract it, and run it. As a basic example, create the following `__main__.py` file:"
   ]
  },
  {
   "cell_type": "code",
   "execution_count": null,
   "id": "08ef18f0",
   "metadata": {},
   "outputs": [],
   "source": [
    "# __main__.py\n",
    "\n",
    "print(f\"Hello from {__file__}\")"
   ]
  },
  {
   "cell_type": "markdown",
   "id": "fec37d11",
   "metadata": {},
   "source": [
    "This will print a message when you run it:"
   ]
  },
  {
   "cell_type": "markdown",
   "id": "c33f50ef",
   "metadata": {},
   "source": [
    "```sh\n",
    "$ python __main__.py\n",
    "Hello from __main__.py\n",
    "```"
   ]
  },
  {
   "cell_type": "markdown",
   "id": "9068dd3c",
   "metadata": {},
   "source": [
    "Now add it to a ZIP archive. You may be able to do this on the command line:"
   ]
  },
  {
   "cell_type": "markdown",
   "id": "63c785f9",
   "metadata": {},
   "source": [
    "```sh\n",
    "$ zip hello.zip __main__.py\n",
    "  adding: __main__.py (stored 0%)\n",
    "```"
   ]
  },
  {
   "cell_type": "markdown",
   "id": "00e3fdde",
   "metadata": {},
   "source": [
    "On Windows, you can instead use [point and click](https://support.microsoft.com/en-us/help/14200/windows-compress-uncompress-zip-files). Select the file in the File Explorer, then right-click and select *Send to → Compressed (zipped) folder*. "
   ]
  },
  {
   "cell_type": "markdown",
   "id": "68e598bf",
   "metadata": {},
   "source": [
    "Since `__main__` isn’t a very descriptive name, you named the ZIP file `hello.zip`. You can now call it directly with Python:"
   ]
  },
  {
   "cell_type": "markdown",
   "id": "2be7bc09",
   "metadata": {},
   "source": [
    "```sh\n",
    "$ python hello.zip\n",
    "Hello from hello.zip/__main__.py\n",
    "```"
   ]
  },
  {
   "cell_type": "markdown",
   "id": "c0cec516",
   "metadata": {},
   "source": [
    "Note that your script is aware that it lives inside `hello.zip`. Furthermore, the root of your ZIP file is added to Python’s import path so that your scripts can import other modules inside the same ZIP file."
   ]
  },
  {
   "cell_type": "markdown",
   "id": "1ffa1391",
   "metadata": {},
   "source": [
    "Think back to the earlier example in which you [created a quiz based on population data](#example-use-data-files). It’s possible to distribute this whole application as a single ZIP file. `importlib.resources` will make sure the data file is extracted from the ZIP archive when it’s needed. "
   ]
  },
  {
   "cell_type": "markdown",
   "id": "638b10d1",
   "metadata": {},
   "source": [
    "The app consists of the following files:"
   ]
  },
  {
   "cell_type": "markdown",
   "id": "7b4d59b9",
   "metadata": {},
   "source": [
    "```\n",
    "population_quiz/\n",
    "│\n",
    "├── data/\n",
    "│   ├── __init__.py\n",
    "│   └── WPP2019_TotalPopulationBySex.csv\n",
    "│\n",
    "└── population_quiz.py\n",
    "```"
   ]
  },
  {
   "cell_type": "markdown",
   "id": "c1095850",
   "metadata": {},
   "source": [
    "You could add these to a ZIP file in the same way you did above. However, Python comes with a tool called [`zipapp`](https://docs.python.org/library/zipapp.html) that streamlines the process of packing applications into ZIP archives. You use it as follows:"
   ]
  },
  {
   "cell_type": "markdown",
   "id": "d680086f",
   "metadata": {},
   "source": [
    "```sh\n",
    "$ python -m zipapp population_quiz -m population_quiz:main\n",
    "```"
   ]
  },
  {
   "cell_type": "markdown",
   "id": "a22b43ca",
   "metadata": {},
   "source": [
    "This command essentially does two things: it creates an entry point and packages your application. "
   ]
  },
  {
   "cell_type": "markdown",
   "id": "c2be0131",
   "metadata": {},
   "source": [
    "Remember that you needed a `__main__.py` file as an entry point inside your ZIP archive. If you supply the `-m` option with information about how your app should be started, then `zipapp` creates this file for you. In this example, the generated `__main__.py` looks like this:"
   ]
  },
  {
   "cell_type": "code",
   "execution_count": null,
   "id": "66934d0d",
   "metadata": {},
   "outputs": [],
   "source": [
    "# -*- coding: utf-8 -*-\n",
    "import population_quiz\n",
    "population_quiz.main()"
   ]
  },
  {
   "cell_type": "markdown",
   "id": "2e5917d4",
   "metadata": {},
   "source": [
    "This `__main__.py` is packaged, along with the contents of the `population_quiz` directory, into a ZIP archive named `population_quiz.pyz`. The `.pyz` suffix signals that this is a Python file wrapped into a ZIP archive."
   ]
  },
  {
   "cell_type": "markdown",
   "id": "e9d5cff9",
   "metadata": {},
   "source": [
    "On Windows, `.pyz` files should already be registered as Python files. On Mac and Linux, you can have `zipapp` create executable files by using the `-p` interpreter option and specifying which interpreter to use:"
   ]
  },
  {
   "cell_type": "markdown",
   "id": "8ee232df",
   "metadata": {},
   "source": [
    "```sh\n",
    "$ python -m zipapp population_quiz -m population_quiz:main \\\n",
    ">   -p \"/usr/bin/env python\"\n",
    "```"
   ]
  },
  {
   "cell_type": "markdown",
   "id": "99118a50",
   "metadata": {},
   "source": [
    "The `-p` option adds a **shebang** (`#!`) that [tells the operating system how to run the file](https://realpython.com/run-python-scripts/#using-the-script-filename). Additionally, it makes the `.pyz` file executable so that you can run the file just by typing its name:"
   ]
  },
  {
   "cell_type": "markdown",
   "id": "2c51b318",
   "metadata": {},
   "source": [
    "```sh\n",
    "$ ./population_quiz.pyz\n",
    "Reading population data for 2020, Medium scenario\n",
    "\n",
    "Question 1:\n",
    "1. Timor-Leste\n",
    "2. Viet Nam\n",
    "3. Bermuda\n",
    "\n",
    "Which country has the largest population?\n",
    "```"
   ]
  },
  {
   "cell_type": "markdown",
   "id": "dd2c6712",
   "metadata": {},
   "source": [
    "Notice the `./` in front of the filename. This is a typical trick on Mac and Linux to run executable files in the current directory. If you move the file to a directory on your `PATH`, or if you’re using Windows, then you should be able to use only the filename: `population_quiz.pyz`."
   ]
  },
  {
   "cell_type": "markdown",
   "id": "49ce8792",
   "metadata": {},
   "source": [
    "Let’s close this section by looking at a nice effect of using `importlib.resources`. Remember that you used the following code to open the data file:"
   ]
  },
  {
   "cell_type": "code",
   "execution_count": null,
   "id": "3b9ba2bf",
   "metadata": {},
   "outputs": [],
   "source": [
    "from importlib import resources\n",
    "\n",
    "with resources.open_text(\"data\", \"WPP2019_TotalPopulationBySex.csv\") as fid:\n",
    "    ..."
   ]
  },
  {
   "cell_type": "markdown",
   "id": "37eb718c",
   "metadata": {},
   "source": [
    "A more common way to open data files is to locate them based on your module’s `__file__` attribute:"
   ]
  },
  {
   "cell_type": "code",
   "execution_count": null,
   "id": "27610e0e",
   "metadata": {},
   "outputs": [],
   "source": [
    "import pathlib\n",
    "\n",
    "DATA_DIR = pathlib.Path(__file__).parent / \"data\"\n",
    "with open(DATA_DIR / \"WPP2019_TotalPopulationBySex.csv\") as fid:\n",
    "    ..."
   ]
  },
  {
   "cell_type": "markdown",
   "id": "2a55341e",
   "metadata": {},
   "source": [
    "This approach usually works well. However, it falls apart when your application is packed into a ZIP file:"
   ]
  },
  {
   "cell_type": "markdown",
   "id": "701af52f",
   "metadata": {},
   "source": [
    "```sh\n",
    "$ python population_quiz.pyz\n",
    "Reading population data for 2020, Medium scenario\n",
    "Traceback (most recent call last):\n",
    "  ...\n",
    "NotADirectoryError: 'population_quiz.pyz/data/WPP2019_TotalPopulationBySex.csv'\n",
    "```"
   ]
  },
  {
   "cell_type": "markdown",
   "id": "799eac3e",
   "metadata": {},
   "source": [
    "Your data file is inside the ZIP archive, so `open()` isn’t able to open it. `importlib.resources`, on the other hand, will extract your data to a temporary file before opening it."
   ]
  },
  {
   "cell_type": "markdown",
   "id": "8d11fdab",
   "metadata": {},
   "source": [
    "<a class=\"anchor\" id=\"handle_cyclical_imports\"></a>\n",
    "\n",
    "### Handle Cyclical Imports"
   ]
  },
  {
   "cell_type": "markdown",
   "id": "839b777e",
   "metadata": {},
   "source": [
    "A cyclical import happens when you have two or more modules importing each other. More concretely, imagine that the module `yin` uses `import yang` and the module `yang` similarly imports `yin`."
   ]
  },
  {
   "cell_type": "markdown",
   "id": "e140ccde",
   "metadata": {},
   "source": [
    "<img src=\"images/python-import:-advanced-techniques-and-tips/imports-cyclical.4ab1975c7073.png\" width=\"600px\">"
   ]
  },
  {
   "cell_type": "markdown",
   "id": "e8286a0e",
   "metadata": {},
   "source": [
    "Python’s import system is to some extent designed to handle import cycles. For instance, the following code—while not very useful—runs fine:"
   ]
  },
  {
   "cell_type": "code",
   "execution_count": null,
   "id": "5a8de681",
   "metadata": {},
   "outputs": [],
   "source": [
    "# yin.py\n",
    "\n",
    "print(f\"Hello from yin\")\n",
    "import yang\n",
    "print(f\"Goodbye from yin\")\n",
    "\n",
    "# yang.py\n",
    "\n",
    "print(f\"Hello from yang\")\n",
    "import yin\n",
    "print(f\"Goodbye from yang\")"
   ]
  },
  {
   "cell_type": "markdown",
   "id": "699c1ca6",
   "metadata": {},
   "source": [
    "Trying to import `yin` in the interactive interpreter imports `yang` as well:"
   ]
  },
  {
   "cell_type": "code",
   "execution_count": null,
   "id": "4fdb6b5c",
   "metadata": {},
   "outputs": [],
   "source": [
    ">>>>>> import yin\n",
    "Hello from yin\n",
    "Hello from yang\n",
    "Goodbye from yang\n",
    "Goodbye from yin"
   ]
  },
  {
   "cell_type": "markdown",
   "id": "10baa1de",
   "metadata": {},
   "source": [
    "Note that `yang` is imported in the middle of the import of `yin`, precisely at the `import yang` statement in the source code of `yin`. The reason this doesn’t end up in endless [recursion](https://realpython.com/python-thinking-recursively/) is our old friend the module cache. "
   ]
  },
  {
   "cell_type": "markdown",
   "id": "269fc624",
   "metadata": {},
   "source": [
    "When you type `import yin`, a reference to `yin` is added to the module cache even before `yin` is loaded. When `yang` tries to import `yin` later, it simply uses the reference in the module cache."
   ]
  },
  {
   "cell_type": "markdown",
   "id": "13bd547c",
   "metadata": {},
   "source": [
    "You can also have modules that do something slightly more useful. If you define attributes and functions in your modules, then it all still works:"
   ]
  },
  {
   "cell_type": "code",
   "execution_count": null,
   "id": "36d593db",
   "metadata": {},
   "outputs": [],
   "source": [
    "# yin.py\n",
    "\n",
    "print(f\"Hello from yin\")\n",
    "import yang\n",
    "number = 42\n",
    "\n",
    "def combine():\n",
    "    return number + yang.number\n",
    "\n",
    "print(f\"Goodbye from yin\")\n",
    "\n",
    "# yang.py\n",
    "\n",
    "print(f\"Hello from yang\")\n",
    "import yin\n",
    "number = 24\n",
    "\n",
    "def combine():\n",
    "    return number + yin.number\n",
    "\n",
    "print(f\"Goodbye from yang\")"
   ]
  },
  {
   "cell_type": "markdown",
   "id": "b905e2b8",
   "metadata": {},
   "source": [
    "Importing `yin` works the same as before:"
   ]
  },
  {
   "cell_type": "code",
   "execution_count": null,
   "id": "cd5fdf52",
   "metadata": {},
   "outputs": [],
   "source": [
    ">>>>>> import yin\n",
    "Hello from yin\n",
    "Hello from yang\n",
    "Goodbye from yang\n",
    "Goodbye from yin"
   ]
  },
  {
   "cell_type": "markdown",
   "id": "c99bfef9",
   "metadata": {},
   "source": [
    "The issues associated with recursive imports start popping up when you actually use the other module at import time instead of just defining functions that will use the other module later. Add one line to `yang.py`:"
   ]
  },
  {
   "cell_type": "code",
   "execution_count": null,
   "id": "f2098421",
   "metadata": {},
   "outputs": [],
   "source": [
    "# yin.py\n",
    "\n",
    "print(f\"Hello from yin\")\n",
    "import yang\n",
    "number = 42\n",
    "\n",
    "def combine():\n",
    "    return number + yang.number\n",
    "\n",
    "print(f\"Goodbye from yin\")\n",
    "\n",
    "# yang.py\n",
    "\n",
    "print(f\"Hello from yang\")\n",
    "import yin\n",
    "number = 24\n",
    "\n",
    "def combine():\n",
    "    return number + yin.number\n",
    "\n",
    "print(f\"yin and yang combined is {combine()}\")\n",
    "print(f\"Goodbye from yang\")"
   ]
  },
  {
   "cell_type": "markdown",
   "id": "d3c45bcf",
   "metadata": {},
   "source": [
    "Now Python gets confused by the import:"
   ]
  },
  {
   "cell_type": "code",
   "execution_count": null,
   "id": "70f87454",
   "metadata": {},
   "outputs": [],
   "source": [
    ">>>>>> import yin\n",
    "Hello from yin\n",
    "Hello from yang\n",
    "Traceback (most recent call last):\n",
    "  ...\n",
    "  File \".../yang.py\", line 8, in combine\n",
    "    return number + yin.number\n",
    "AttributeError: module 'yin' has no attribute 'number'"
   ]
  },
  {
   "cell_type": "markdown",
   "id": "ddd776ea",
   "metadata": {},
   "source": [
    "The error message may seem a bit puzzling at first. Looking back at the source code, you can confirm that `number` is defined in the `yin` module. "
   ]
  },
  {
   "cell_type": "markdown",
   "id": "08402c1c",
   "metadata": {},
   "source": [
    "The problem is that `number` isn’t defined in `yin` at the time `yang` gets imported. Consequently, `yin.number` is used by the call to `combine()`."
   ]
  },
  {
   "cell_type": "markdown",
   "id": "9e8cc631",
   "metadata": {},
   "source": [
    "To add to the confusion, you’ll have no issues importing `yang`:"
   ]
  },
  {
   "cell_type": "code",
   "execution_count": null,
   "id": "258cc71a",
   "metadata": {},
   "outputs": [],
   "source": [
    ">>>>>> import yang\n",
    "Hello from yang\n",
    "Hello from yin\n",
    "Goodbye from yin\n",
    "yin and yang combined is 66\n",
    "Goodbye from yang"
   ]
  },
  {
   "cell_type": "markdown",
   "id": "0a256161",
   "metadata": {},
   "source": [
    "By the time `yang` calls `combine()`, `yin` is fully imported and `yin.number` is well defined. As a final twist, because of the module cache you saw earlier, `import yin` might work if you do some other imports first:"
   ]
  },
  {
   "cell_type": "code",
   "execution_count": null,
   "id": "a9ac441d",
   "metadata": {},
   "outputs": [],
   "source": [
    ">>>>>> import yang\n",
    "Hello from yang\n",
    "Hello from yin\n",
    "Goodbye from yin\n",
    "yin and yang combined is 66\n",
    "Goodbye from yang\n",
    "\n",
    ">>> yin\n",
    "Traceback (most recent call last):\n",
    "  File \"<stdin>\", line 1, in <module>\n",
    "NameError: name 'yin' is not defined\n",
    "\n",
    ">>> import yin\n",
    ">>> yin.combine()\n",
    "66"
   ]
  },
  {
   "cell_type": "markdown",
   "id": "f892c85a",
   "metadata": {},
   "source": [
    "So how can you avoid being bogged down and confused by cyclical imports? Having two or more modules importing each other is often a sign that you can improve the design of your modules. "
   ]
  },
  {
   "cell_type": "markdown",
   "id": "1e8bef8d",
   "metadata": {},
   "source": [
    "Often, the easiest time to fix cyclical imports is *before* you implement them. If you see cycles in your architecture sketches, have a closer look and **try to break the cycles**."
   ]
  },
  {
   "cell_type": "markdown",
   "id": "b201bb88",
   "metadata": {},
   "source": [
    "Still, there are times when it’s reasonable to introduce an import cycle. As you saw above, this isn’t a problem so long as your modules define only attributes, functions, classes, and so on. The second tip—which is also good design practice—is to **keep your modules free of side effects at import time**."
   ]
  },
  {
   "cell_type": "markdown",
   "id": "2e566bbc",
   "metadata": {},
   "source": [
    "If you really need modules with import cycles and side effects, there’s still another way out: **do your imports locally inside functions**. "
   ]
  },
  {
   "cell_type": "markdown",
   "id": "60091493",
   "metadata": {},
   "source": [
    "Note that in the following code, `import yang` is done inside `combine()`. This has two consequences. First, `yang` is available only inside the `combine()` function. More importantly, the import doesn’t happen until you call `combine()` after `yin` has been fully imported:"
   ]
  },
  {
   "cell_type": "code",
   "execution_count": null,
   "id": "0816ba65",
   "metadata": {},
   "outputs": [],
   "source": [
    "# yin.py\n",
    "\n",
    "print(f\"Hello from yin\")\n",
    "number = 42\n",
    "\n",
    "def combine():\n",
    "    import yang\n",
    "    return number + yang.number\n",
    "\n",
    "print(f\"Goodbye from yin\")\n",
    "\n",
    "# yang.py\n",
    "\n",
    "print(f\"Hello from yang\")\n",
    "import yin\n",
    "number = 24\n",
    "\n",
    "def combine():\n",
    "    return number + yin.number\n",
    "\n",
    "print(f\"yin and yang combined is {combine()}\")\n",
    "print(f\"Goodbye from yang\")"
   ]
  },
  {
   "cell_type": "markdown",
   "id": "a826f9db",
   "metadata": {},
   "source": [
    "Now there are no issues importing and using `yin`:"
   ]
  },
  {
   "cell_type": "code",
   "execution_count": null,
   "id": "628ffe33",
   "metadata": {},
   "outputs": [],
   "source": [
    ">>>>>> import yin\n",
    "Hello from yin\n",
    "Goodbye from yin\n",
    "\n",
    ">>> yin.combine()\n",
    "Hello from yang\n",
    "yin and yang combined is 66\n",
    "Goodbye from yang\n",
    "66"
   ]
  },
  {
   "cell_type": "markdown",
   "id": "464253e9",
   "metadata": {},
   "source": [
    "Notice that `yang` is, in fact, not imported until you call `combine()`. For another perspective on cyclical imports, see [Fredrik Lundh’s classic note](https://effbot.org/zone/import-confusion.htm#circular-imports)."
   ]
  },
  {
   "cell_type": "markdown",
   "id": "1e2d1ae0",
   "metadata": {},
   "source": [
    "<a class=\"anchor\" id=\"profile_imports\"></a>\n",
    "\n",
    "### Profile Imports"
   ]
  },
  {
   "cell_type": "markdown",
   "id": "37eae90b",
   "metadata": {},
   "source": [
    "One concern when importing several modules and packages is that it will add to the startup time of your script. Depending on your application, this may or may not be critical."
   ]
  },
  {
   "cell_type": "markdown",
   "id": "894f6aea",
   "metadata": {},
   "source": [
    "Since the release of [Python 3.7](https://realpython.com/python37-new-features/#developer-tricks), you’ve had a quick way of knowing how much time it takes to import packages and modules. Python 3.7 supports the `-X importtime` command-line option, which measures and prints how much time each module takes to import:"
   ]
  },
  {
   "cell_type": "markdown",
   "id": "c224d50c",
   "metadata": {},
   "source": [
    "```sh\n",
    "$ python -X importtime -c \"import datetime\"\n",
    "import time: self [us] | cumulative | imported package\n",
    "...\n",
    "import time:        87 |         87 |   time\n",
    "import time:       180 |        180 |   math\n",
    "import time:       234 |        234 |   _datetime\n",
    "import time:       820 |       1320 | datetime\n",
    "```"
   ]
  },
  {
   "cell_type": "markdown",
   "id": "ae5b5c64",
   "metadata": {},
   "source": [
    "The `cumulative` column shows the cumulative time of import (in microseconds) on a per-package basis. You can read the listing as follows: Python spent `1320` microseconds to fully import `datetime`, which involved importing `time`, `math`, and the C implementation `_datetime` as well. "
   ]
  },
  {
   "cell_type": "markdown",
   "id": "13b1e1f5",
   "metadata": {},
   "source": [
    "The `self` column shows the time it took to import only the given module, excluding any recursive imports. You can see that `time` took `87` microseconds to import, `math` took `180`, `_datetime` took `234`, and the import of `datetime` itself took `820` microseconds. All in all, this adds up to a cumulative time of `1320` microseconds (within rounding errors)."
   ]
  },
  {
   "cell_type": "markdown",
   "id": "002a8ca5",
   "metadata": {},
   "source": [
    "Have a look at the `countdown.py` example from the [Colorama section](#handle-missing-packages-use-a-mock-instead):"
   ]
  },
  {
   "cell_type": "markdown",
   "id": "0ed14309",
   "metadata": {},
   "source": [
    "```sh\n",
    "$ python3.7 -X importtime countdown.py\n",
    "import time: self [us] | cumulative | imported package\n",
    "...\n",
    "import time:       644 |       7368 |       colorama.ansitowin32\n",
    "import time:       310 |      11969 |     colorama.initialise\n",
    "import time:       333 |      12301 |   colorama\n",
    "import time:       297 |      12598 | optional_color\n",
    "import time:       119 |        119 | time\n",
    "```"
   ]
  },
  {
   "cell_type": "markdown",
   "id": "3cfe682c",
   "metadata": {},
   "source": [
    "In this example, importing `optional_color` took almost 0.013 seconds. Most of that time was spent importing Colorama and its dependencies. The `self` column shows the import time excluding nested imports."
   ]
  },
  {
   "cell_type": "markdown",
   "id": "f5ccd211",
   "metadata": {},
   "source": [
    "For an extreme example, consider the [`population` singleton from earlier](#example-singletons-as-modules). Because it’s loading a big data file, it’s extremely slow to import. To test this, you can run `import population` as a script with the `-c` option:"
   ]
  },
  {
   "cell_type": "markdown",
   "id": "a1685ce6",
   "metadata": {},
   "source": [
    "```sh\n",
    "$ python3.7 -X importtime -c \"import population\"\n",
    "import time: self [us] | cumulative | imported package\n",
    "...\n",
    "import time:      4933 |     322111 |   matplotlib.pyplot\n",
    "import time:      1474 |       1474 |     typing\n",
    "import time:       420 |       1894 |   importlib.resources\n",
    "Reading population data for Medium scenario\n",
    "import time:   1593774 |    1921024 | population\n",
    "```"
   ]
  },
  {
   "cell_type": "markdown",
   "id": "52762c39",
   "metadata": {},
   "source": [
    "In this case, it takes almost 2 seconds to import `population`, of which about 1.6 seconds are spent in the module itself, mainly for loading the data file. "
   ]
  },
  {
   "cell_type": "markdown",
   "id": "c4de0250",
   "metadata": {},
   "source": [
    "`-X importtime` is a great tool for optimizing your imports. If you need to do more general monitoring and optimization of your code, then check out [Python Timer Functions: Three Ways to Monitor Your Code](https://realpython.com/python-timer/)."
   ]
  },
  {
   "cell_type": "markdown",
   "id": "9e8b2a0a",
   "metadata": {},
   "source": [
    "<a class=\"anchor\" id=\"conclusion\"></a>\n",
    "\n",
    "## Conclusion"
   ]
  },
  {
   "cell_type": "markdown",
   "id": "d7bd906d",
   "metadata": {},
   "source": [
    "In this tutorial, you’ve gotten to know the Python import system. Like many things in Python, it’s fairly straightforward to use for basic tasks like importing modules and packages. At the same time, the import system is quite complex, flexible, and extendable. You’ve learned several import-related tricks that you can take advantage of in your own code. "
   ]
  },
  {
   "cell_type": "markdown",
   "id": "096b37b0",
   "metadata": {},
   "source": [
    "**In this tutorial, you’ve learned how to:**"
   ]
  },
  {
   "cell_type": "markdown",
   "id": "1589d3e3",
   "metadata": {},
   "source": [
    "- Create **namespace packages**\n",
    "- Import **resources** and **data files**\n",
    "- Decide what to import **dynamically** at runtime\n",
    "- **Extend** Python’s import system\n",
    "- Handle different **versions** of packages\n"
   ]
  },
  {
   "cell_type": "markdown",
   "id": "a032a411",
   "metadata": {},
   "source": [
    "Throughout the tutorial, you’ve seen many links to further info. The most authoritative source on the Python import system is the official documentation:"
   ]
  },
  {
   "cell_type": "markdown",
   "id": "0ec640db",
   "metadata": {},
   "source": [
    "- [The import system](https://docs.python.org/reference/import.html)\n",
    "- [The `importlib` package](https://docs.python.org/library/importlib.html)\n",
    "- [PEP 420: Implicit namespace packages](https://www.python.org/dev/peps/pep-0420/)\n",
    "- [Importing modules](https://docs.python.org/library/modules.html)\n"
   ]
  },
  {
   "cell_type": "markdown",
   "id": "81b09fc0",
   "metadata": {},
   "source": [
    "You can put your knowledge of Python imports to use by following along with the examples in this tutorial. Click the link below for access to the source code:"
   ]
  }
 ],
 "metadata": {
  "kernelspec": {
   "display_name": "Python 3",
   "language": "python",
   "name": "python3"
  },
  "language_info": {
   "codemirror_mode": {
    "name": "ipython",
    "version": 3
   },
   "file_extension": ".py",
   "mimetype": "text/x-python",
   "name": "python",
   "nbconvert_exporter": "python",
   "pygments_lexer": "ipython3",
   "version": "3.8.11"
  }
 },
 "nbformat": 4,
 "nbformat_minor": 5
}
