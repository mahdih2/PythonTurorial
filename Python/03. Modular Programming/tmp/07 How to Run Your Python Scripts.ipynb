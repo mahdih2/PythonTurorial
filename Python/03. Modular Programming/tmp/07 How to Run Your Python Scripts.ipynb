{
 "cells": [
  {
   "cell_type": "markdown",
   "id": "499703b3",
   "metadata": {},
   "source": [
    "<img src=\"../../images/banners/python-modular.png\" width=\"600\"/>"
   ]
  },
  {
   "cell_type": "markdown",
   "id": "ae856323",
   "metadata": {},
   "source": [
    "# <img src=\"../../images/logos/python.png\" width=\"23\"/> How to Run Your Python Scripts \n"
   ]
  },
  {
   "cell_type": "markdown",
   "id": "14b9f975",
   "metadata": {},
   "source": [
    "## <img src=\"../../images/logos/toc.png\" width=\"20\"/> Table of Contents \n",
    "* [Scripts vs Modules](#scripts_vs_modules)\n",
    "* [What’s the Python Interpreter?](#what’s_the_python_interpreter?)\n",
    "* [How to Run Python Code Interactively](#how_to_run_python_code_interactively)\n",
    "* [How Does the Interpreter Run Python Scripts?](#how_does_the_interpreter_run_python_scripts?)\n",
    "* [How to Run Python Scripts Using the Command-Line](#how_to_run_python_scripts_using_the_command-line)\n",
    "    * [Using the `python` Command](#using_the_`python`_command)\n",
    "    * [Redirecting the Output](#redirecting_the_output)\n",
    "    * [Running Modules With the `-m` Option](#running_modules_with_the_`-m`_option)\n",
    "    * [Using the Script Filename](#using_the_script_filename)\n",
    "* [How to Run Python Scripts Interactively](#how_to_run_python_scripts_interactively)\n",
    "    * [Taking Advantage of `import`](#taking_advantage_of_`import`)\n",
    "    * [Using `importlib` and `imp`](#using_`importlib`_and_`imp`)\n",
    "    * [Using `runpy.run_module()` and `runpy.run_path()`](#using_`runpy.run_module()`_and_`runpy.run_path()`)\n",
    "    * [Hacking `exec()`](#hacking_`exec()`)\n",
    "    * [Using `execfile()` (Python 2.x Only)](#using_`execfile()`_(python_2.x_only))\n",
    "* [How to Run Python Scripts From an IDE or a Text Editor](#how_to_run_python_scripts_from_an_ide_or_a_text_editor)\n",
    "* [How to Run Python Scripts From a File Manager](#how_to_run_python_scripts_from_a_file_manager)\n",
    "* [Conclusion](#conclusion)\n",
    "\n",
    "---"
   ]
  },
  {
   "cell_type": "markdown",
   "id": "8cde4771",
   "metadata": {},
   "source": [
    "One of the most important skills you need to build as a Python developer is to be able to run Python scripts and code. This is going to be the only way for you to know if your code works as you planned. It’s even the only way of knowing if your code works at all!"
   ]
  },
  {
   "cell_type": "markdown",
   "id": "2022e1c6",
   "metadata": {},
   "source": [
    "This step-by-step tutorial will guide you through a series of ways to run Python scripts, depending on your environment, platform, needs, and skills as a programmer."
   ]
  },
  {
   "cell_type": "markdown",
   "id": "0941c23a",
   "metadata": {},
   "source": [
    "**You’ll have the opportunity to learn how to run Python scripts by using:**"
   ]
  },
  {
   "cell_type": "markdown",
   "id": "34d3ea8d",
   "metadata": {},
   "source": [
    "- The operating system command-line or terminal\n",
    "- The Python interactive mode\n",
    "- The IDE or text editor you like best\n",
    "- The file manager of your system, by double-clicking on the icon of your script\n"
   ]
  },
  {
   "cell_type": "markdown",
   "id": "b62a062a",
   "metadata": {},
   "source": [
    "This way, you’ll get the knowledge and skills you’ll need to make your development cycle more productive and flexible."
   ]
  },
  {
   "cell_type": "markdown",
   "id": "0048a5fd",
   "metadata": {},
   "source": [
    "<a class=\"anchor\" id=\"scripts_vs_modules\"></a>\n",
    "\n",
    "## Scripts vs Modules"
   ]
  },
  {
   "cell_type": "markdown",
   "id": "63890754",
   "metadata": {},
   "source": [
    "In computing, the word script is used to refer to a file containing a logical sequence of orders or a batch processing file. This is usually a simple program, stored in a plain text file."
   ]
  },
  {
   "cell_type": "markdown",
   "id": "2a145c4d",
   "metadata": {},
   "source": [
    "Scripts are always processed by some kind of interpreter, which is responsible for executing each command sequentially."
   ]
  },
  {
   "cell_type": "markdown",
   "id": "760f58a0",
   "metadata": {},
   "source": [
    "A plain text file containing Python code that is intended to be directly executed by the user is usually called **script**, which is an informal term that means **top-level program file**."
   ]
  },
  {
   "cell_type": "markdown",
   "id": "ecb285fc",
   "metadata": {},
   "source": [
    "On the other hand, a plain text file, which contains Python code that is designed to be imported and used from another Python file, is called **module**."
   ]
  },
  {
   "cell_type": "markdown",
   "id": "6a4ef51d",
   "metadata": {},
   "source": [
    "So, the main difference between a [module](https://realpython.com/python-modules-packages/) and a script is that **modules are meant to be imported**, while **scripts are made to be directly executed**."
   ]
  },
  {
   "cell_type": "markdown",
   "id": "50a0eb51",
   "metadata": {},
   "source": [
    "In either case, the important thing is to know how to run the Python code you write into your modules and scripts."
   ]
  },
  {
   "cell_type": "markdown",
   "id": "686e05e1",
   "metadata": {},
   "source": [
    "<a class=\"anchor\" id=\"what’s_the_python_interpreter?\"></a>\n",
    "\n",
    "## What’s the Python Interpreter?"
   ]
  },
  {
   "cell_type": "markdown",
   "id": "441a9511",
   "metadata": {},
   "source": [
    "Python is an excellent programming language that allows you to be productive in a [wide variety of fields](https://realpython.com/what-can-i-do-with-python/)."
   ]
  },
  {
   "cell_type": "markdown",
   "id": "781e9d0c",
   "metadata": {},
   "source": [
    "Python is also a piece of software called an **interpreter**. The interpreter is the program you’ll need to run Python code and scripts. Technically, the interpreter is a layer of software that works between your program and your computer hardware to get your code running."
   ]
  },
  {
   "cell_type": "markdown",
   "id": "623bc073",
   "metadata": {},
   "source": [
    "Depending on the Python implementation you use, the interpreter can be:"
   ]
  },
  {
   "cell_type": "markdown",
   "id": "151d1c85",
   "metadata": {},
   "source": [
    "- A program written in [C](https://realpython.com/c-for-python-programmers/), like [CPython](https://www.python.org/about/), which is the core implementation of the language\n",
    "- A program written in [Java](https://realpython.com/oop-in-python-vs-java/), like [Jython](http://www.jython.org/index.html)\n",
    "- A program written in Python itself, like [PyPy](https://realpython.com/pypy-faster-python/)\n",
    "- A program implemented in .NET, like [IronPython](http://ironpython.net/)\n"
   ]
  },
  {
   "cell_type": "markdown",
   "id": "5326f43b",
   "metadata": {},
   "source": [
    "Whatever form the interpreter takes, the code you write will always be run by this program. Therefore, the first condition to be able to run Python scripts is to [have the interpreter correctly installed on your system](https://realpython.com/installing-python/)."
   ]
  },
  {
   "cell_type": "markdown",
   "id": "ea63a75a",
   "metadata": {},
   "source": [
    "The interpreter is able to run Python code in two different ways:"
   ]
  },
  {
   "cell_type": "markdown",
   "id": "7169b4ee",
   "metadata": {},
   "source": [
    "- As a script or module\n",
    "- As a piece of code typed into an interactive session\n"
   ]
  },
  {
   "cell_type": "markdown",
   "id": "79cd4de4",
   "metadata": {},
   "source": [
    "<a class=\"anchor\" id=\"how_to_run_python_code_interactively\"></a>\n",
    "\n",
    "## How to Run Python Code Interactively"
   ]
  },
  {
   "cell_type": "markdown",
   "id": "f83e6b8c",
   "metadata": {},
   "source": [
    "A widely used way to run Python code is through an interactive session. To start a Python interactive session, just open a command-line or terminal and then type in `python`, or `python3` depending on your Python installation, and then hit `Enter`."
   ]
  },
  {
   "cell_type": "markdown",
   "id": "e11a8844",
   "metadata": {},
   "source": [
    "Here’s an example of how to do this on Linux:"
   ]
  },
  {
   "cell_type": "markdown",
   "id": "6eef24ae",
   "metadata": {},
   "source": [
    "```sh\n",
    "$ python3\n",
    "Python 3.6.7 (default, Oct 22 2018, 11:32:17)\n",
    "[GCC 8.2.0] on linux\n",
    "Type \"help\", \"copyright\", \"credits\" or \"license\" for more information.\n",
    ">>>\n",
    "```"
   ]
  },
  {
   "cell_type": "markdown",
   "id": "c6281b5a",
   "metadata": {},
   "source": [
    "The standard prompt for the interactive mode is `>>>`, so as soon as you see these characters, you’ll know you are in."
   ]
  },
  {
   "cell_type": "markdown",
   "id": "f821d632",
   "metadata": {},
   "source": [
    "Now, you can write and run Python code as you wish, with the only drawback being that when you close the session, your code will be gone."
   ]
  },
  {
   "cell_type": "markdown",
   "id": "a71e8c22",
   "metadata": {},
   "source": [
    "When you work interactively, every expression and statement you type in is evaluated and executed immediately:"
   ]
  },
  {
   "cell_type": "code",
   "execution_count": null,
   "id": "4bbcbe1b",
   "metadata": {},
   "outputs": [],
   "source": [
    ">>> print('Hello World!')\n",
    "Hello World!\n",
    ">>> 2 + 5\n",
    "7\n",
    ">>> print('Welcome to Real Python!')\n",
    "Welcome to Real Python!"
   ]
  },
  {
   "cell_type": "markdown",
   "id": "ed3814cd",
   "metadata": {},
   "source": [
    "An interactive session will allow you to test every piece of code you write, which makes it an awesome development tool and an excellent place to experiment with the language and test Python code on the fly."
   ]
  },
  {
   "cell_type": "markdown",
   "id": "0cf82bf5",
   "metadata": {},
   "source": [
    "To exit interactive mode, you can use one of the following options:"
   ]
  },
  {
   "cell_type": "markdown",
   "id": "7fd74de0",
   "metadata": {},
   "source": [
    "- `quit()` or `exit()`, which are built-in functions\n",
    "- The `Ctrl`+`Z` and `Enter` key combination on Windows, or just `Ctrl`+`D` on Unix-like systems\n"
   ]
  },
  {
   "cell_type": "markdown",
   "id": "bdee1d83",
   "metadata": {},
   "source": [
    "If you’ve never worked with the command-line or terminal, then you can try this:"
   ]
  },
  {
   "cell_type": "markdown",
   "id": "d8f4cb69",
   "metadata": {},
   "source": [
    "- \n",
    "On Windows, the command-line is usually known as command prompt or MS-DOS console, and it is a program called `cmd.exe`. The path to this program can vary significantly from one system version to another.\n",
    "\n",
    "\n",
    "A quick way to get access to it is by pressing the `Win`+`R` key combination, which will take you to the *Run* dialog. Once you’re there, type in `cmd` and press `Enter`.\n",
    "\n",
    "\n",
    "\n",
    "- \n",
    "On GNU/Linux (and other Unixes), there are several applications that give you access to the system command-line. Some of the most popular are xterm, Gnome Terminal, and Konsole. These are tools that run a shell or terminal like Bash, ksh, csh, and so on.\n",
    "\n",
    "\n",
    "In this case, the path to these applications is much more varied and depends on the distribution and even on the desktop environment you use. So, you’ll need to read your system documentation.\n",
    "\n",
    "\n",
    "\n",
    "- \n",
    "On Mac OS X, you can access the system terminal from *Applications → Utilities → Terminal*.\n",
    "\n",
    "\n",
    "\n"
   ]
  },
  {
   "cell_type": "markdown",
   "id": "bc4165d5",
   "metadata": {},
   "source": [
    "<a class=\"anchor\" id=\"how_does_the_interpreter_run_python_scripts?\"></a>\n",
    "\n",
    "## How Does the Interpreter Run Python Scripts?"
   ]
  },
  {
   "cell_type": "markdown",
   "id": "58be4d12",
   "metadata": {},
   "source": [
    "When you try to run Python scripts, a multi-step process begins. In this process the interpreter will:"
   ]
  },
  {
   "cell_type": "markdown",
   "id": "923c1b3a",
   "metadata": {},
   "source": [
    "1. **Process the statements of your script in a sequential fashion**\n",
    "2. **Compile the source code to an intermediate format known as bytecode**\n",
    "\n",
    "This bytecode is a translation of the code into a lower-level language that’s platform-independent. Its purpose is to optimize code execution. So, the next time the interpreter runs your code, it’ll bypass this compilation step. Strictly speaking, this code optimization is only for modules (imported files), not for executable scripts.\n",
    "\n",
    "3. **Ship off the code for execution**\n",
    "\n",
    "At this point, something known as a Python Virtual Machine (PVM) comes into action. The PVM is the runtime engine of Python. It is a cycle that iterates over the instructions of your bytecode to run them one by one.\n",
    "The PVM is not an isolated component of Python. It’s just part of the Python system you’ve installed on your machine. Technically, the PVM is the last step of what is called the Python interpreter."
   ]
  },
  {
   "cell_type": "markdown",
   "id": "e5b747cf",
   "metadata": {},
   "source": [
    "The whole process to run Python scripts is known as the **Python Execution Model**."
   ]
  },
  {
   "cell_type": "markdown",
   "id": "c5bab202",
   "metadata": {},
   "source": [
    "<a class=\"anchor\" id=\"how_to_run_python_scripts_using_the_command-line\"></a>\n",
    "\n",
    "## How to Run Python Scripts Using the Command-Line"
   ]
  },
  {
   "cell_type": "markdown",
   "id": "678fafaf",
   "metadata": {},
   "source": [
    "A Python interactive session will allow you to write a lot of lines of code, but once you close the session, you lose everything you’ve written. That’s why the usual way of writing Python programs is by using plain text files. By convention, those files will use the `.py` extension. (On Windows systems the extension can also be `.pyw`.)"
   ]
  },
  {
   "cell_type": "markdown",
   "id": "d41f3533",
   "metadata": {},
   "source": [
    "Python code files can be created with any plain text editor. If you are new to Python programming, you can try [Sublime Text](https://realpython.com/products/sublime-python/), which is a powerful and easy-to-use editor, but you can use any editor you like."
   ]
  },
  {
   "cell_type": "markdown",
   "id": "96266de1",
   "metadata": {},
   "source": [
    "To keep moving forward in this tutorial, you’ll need to create a test script. Open your favorite text editor and write the following code:"
   ]
  },
  {
   "cell_type": "code",
   "execution_count": null,
   "id": "5146e42e",
   "metadata": {},
   "outputs": [],
   "source": [
    "#!/usr/bin/env python3\n",
    "\n",
    "print('Hello World!')"
   ]
  },
  {
   "cell_type": "markdown",
   "id": "3d1850d8",
   "metadata": {},
   "source": [
    "Save the file in your working directory with the name `hello.py`. With the test script ready, you can continue reading."
   ]
  },
  {
   "cell_type": "markdown",
   "id": "f75f12a7",
   "metadata": {},
   "source": [
    "<a class=\"anchor\" id=\"using_the_`python`_command\"></a>\n",
    "\n",
    "### Using the `python` Command"
   ]
  },
  {
   "cell_type": "markdown",
   "id": "fdaace53",
   "metadata": {},
   "source": [
    "To run Python scripts with the `python` command, you need to open a command-line and type in the word `python`, or `python3` if you have both versions, followed by the path to your script, just like this:"
   ]
  },
  {
   "cell_type": "markdown",
   "id": "fb467d78",
   "metadata": {},
   "source": [
    "```sh\n",
    "$ python3 hello.py\n",
    "Hello World!\n",
    "```"
   ]
  },
  {
   "cell_type": "markdown",
   "id": "8ca0ff81",
   "metadata": {},
   "source": [
    "If everything works okay, after you press `Enter`, you’ll see the phrase `Hello World!` on your screen. That’s it! You’ve just run your first Python script!"
   ]
  },
  {
   "cell_type": "markdown",
   "id": "f47c2c41",
   "metadata": {},
   "source": [
    "If this doesn’t work right, maybe you’ll need to check your system `PATH`, your Python installation, the way you created the `hello.py` script, the place where you saved it, and so on."
   ]
  },
  {
   "cell_type": "markdown",
   "id": "38828f61",
   "metadata": {},
   "source": [
    "This is the most basic and practical way to run Python scripts."
   ]
  },
  {
   "cell_type": "markdown",
   "id": "59acd6e7",
   "metadata": {},
   "source": [
    "<a class=\"anchor\" id=\"redirecting_the_output\"></a>\n",
    "\n",
    "### Redirecting the Output"
   ]
  },
  {
   "cell_type": "markdown",
   "id": "a7c4bf90",
   "metadata": {},
   "source": [
    "Sometimes it’s useful to save the output of a script for later analysis. Here’s how you can do that:"
   ]
  },
  {
   "cell_type": "markdown",
   "id": "5ae63da1",
   "metadata": {},
   "source": [
    "```sh\n",
    "$ python3 hello.py > output.txt\n",
    "```"
   ]
  },
  {
   "cell_type": "markdown",
   "id": "ae701ad8",
   "metadata": {},
   "source": [
    "This operation redirects the output of your script to `output.txt`, rather than to the standard system output (`stdout`). The process is commonly known as stream redirection and is available on both Windows and Unix-like systems."
   ]
  },
  {
   "cell_type": "markdown",
   "id": "ee86c813",
   "metadata": {},
   "source": [
    "If `output.txt` doesn’t exist, then it’s automatically created. On the other hand, if the file already exists, then its contents will be replaced with the new output."
   ]
  },
  {
   "cell_type": "markdown",
   "id": "a7f390dd",
   "metadata": {},
   "source": [
    "Finally, if you want to add the output of consecutive executions to the end of `output.txt`, then you must use two angle brackets (`>>`) instead of one, just like this:"
   ]
  },
  {
   "cell_type": "markdown",
   "id": "5e8f5436",
   "metadata": {},
   "source": [
    "```sh\n",
    "$ python3 hello.py >> output.txt\n",
    "```"
   ]
  },
  {
   "cell_type": "markdown",
   "id": "c241a715",
   "metadata": {},
   "source": [
    "Now, the output will be appended to the end of `output.txt`."
   ]
  },
  {
   "cell_type": "markdown",
   "id": "0368d303",
   "metadata": {},
   "source": [
    "<a class=\"anchor\" id=\"running_modules_with_the_`-m`_option\"></a>\n",
    "\n",
    "### Running Modules With the `-m` Option"
   ]
  },
  {
   "cell_type": "markdown",
   "id": "98a19300",
   "metadata": {},
   "source": [
    "Python offers a series of command-line options that you can use according to your needs. For example, if you want to run a Python module, you can use the command `python -m <module-name>`."
   ]
  },
  {
   "cell_type": "markdown",
   "id": "0a1fd275",
   "metadata": {},
   "source": [
    "The `-m` option searches `sys.path` for the module name and runs its content as `__main__`:"
   ]
  },
  {
   "cell_type": "markdown",
   "id": "5fbed55f",
   "metadata": {},
   "source": [
    "```sh\n",
    "$ python3 -m hello\n",
    "Hello World!\n",
    "```"
   ]
  },
  {
   "cell_type": "markdown",
   "id": "e8787c66",
   "metadata": {},
   "source": [
    "<a class=\"anchor\" id=\"using_the_script_filename\"></a>\n",
    "\n",
    "### Using the Script Filename"
   ]
  },
  {
   "cell_type": "markdown",
   "id": "65ae72dd",
   "metadata": {},
   "source": [
    "On recent versions of Windows, it is possible to run Python scripts by simply entering the name of the file containing the code at the command prompt:"
   ]
  },
  {
   "cell_type": "markdown",
   "id": "a7248ff7",
   "metadata": {},
   "source": [
    "```doscon\n",
    "C:\\devspace> hello.py\n",
    "Hello World!\n",
    "```"
   ]
  },
  {
   "cell_type": "markdown",
   "id": "64cb683c",
   "metadata": {},
   "source": [
    "This is possible because Windows uses the system registry and the file association to determine which program to use for running a particular file."
   ]
  },
  {
   "cell_type": "markdown",
   "id": "d3cee8fc",
   "metadata": {},
   "source": [
    "On Unix-like systems, such as GNU/Linux, you can achieve something similar. You’ll only have to add a first line with the text `#!/usr/bin/env python`, just as you did with `hello.py`."
   ]
  },
  {
   "cell_type": "markdown",
   "id": "2c4f1ec4",
   "metadata": {},
   "source": [
    "For Python, this is a simple comment, but for the operating system, this line indicates what program must be used to run the file."
   ]
  },
  {
   "cell_type": "markdown",
   "id": "d6431272",
   "metadata": {},
   "source": [
    "This line begins with the `#!` character combination, which is commonly called **hash bang** or **shebang**, and continues with the path to the interpreter."
   ]
  },
  {
   "cell_type": "markdown",
   "id": "ff982b3b",
   "metadata": {},
   "source": [
    "There are two ways to specify the path to the interpreter:"
   ]
  },
  {
   "cell_type": "markdown",
   "id": "9da83005",
   "metadata": {},
   "source": [
    "- **`#!/usr/bin/python`:** writing the absolute path\n",
    "- **`#!/usr/bin/env python`:** using the operating system `env` command, which locates and executes Python by searching the `PATH` environment variable\n"
   ]
  },
  {
   "cell_type": "markdown",
   "id": "4e317c5f",
   "metadata": {},
   "source": [
    "This last option is useful if you bear in mind that not all Unix-like systems locate the interpreter in the same place."
   ]
  },
  {
   "cell_type": "markdown",
   "id": "20e871bf",
   "metadata": {},
   "source": [
    "Finally, to execute a script like this one, you need to assign execution permissions to it and then type in the filename at the command-line."
   ]
  },
  {
   "cell_type": "markdown",
   "id": "e8b450d3",
   "metadata": {},
   "source": [
    "Here’s an example of how to do this:"
   ]
  },
  {
   "cell_type": "markdown",
   "id": "0939c05f",
   "metadata": {},
   "source": [
    "```sh\n",
    "$ # Assign execution permissions\n",
    "$ chmod +x hello.py\n",
    "$ # Run the script by using its filename\n",
    "$ ./hello.py\n",
    "Hello World!\n",
    "```"
   ]
  },
  {
   "cell_type": "markdown",
   "id": "ac050bb9",
   "metadata": {},
   "source": [
    "With execution permissions and the shebang line properly configured, you can run the script by simply typing its filename at the command-line."
   ]
  },
  {
   "cell_type": "markdown",
   "id": "f4530b3d",
   "metadata": {},
   "source": [
    "Finally, you need to note that if your script isn’t located at your current working directory, you’ll have to use the file path for this method to work correctly."
   ]
  },
  {
   "cell_type": "markdown",
   "id": "aabceb75",
   "metadata": {},
   "source": [
    "<a class=\"anchor\" id=\"how_to_run_python_scripts_interactively\"></a>\n",
    "\n",
    "## How to Run Python Scripts Interactively"
   ]
  },
  {
   "cell_type": "markdown",
   "id": "e7f4e71d",
   "metadata": {},
   "source": [
    "It is also possible to run Python scripts and modules from an interactive session. This option offers you a variety of possibilities."
   ]
  },
  {
   "cell_type": "markdown",
   "id": "a37d0584",
   "metadata": {},
   "source": [
    "<a class=\"anchor\" id=\"taking_advantage_of_`import`\"></a>\n",
    "\n",
    "### Taking Advantage of `import`"
   ]
  },
  {
   "cell_type": "markdown",
   "id": "edf99fac",
   "metadata": {},
   "source": [
    "When you [import a module](https://realpython.com/absolute-vs-relative-python-imports/), what really happens is that you load its contents for later access and use. The interesting thing about this process is that [`import`](https://realpython.com/absolute-vs-relative-python-imports/) runs the code as its final step."
   ]
  },
  {
   "cell_type": "markdown",
   "id": "fb9abffa",
   "metadata": {},
   "source": [
    "When the module contains only classes, functions, variables, and constants definitions, you probably won’t be aware that the code was actually run, but when the module includes calls to functions, methods, or other statements that generate visible results, then you’ll witness its execution."
   ]
  },
  {
   "cell_type": "markdown",
   "id": "b04fe498",
   "metadata": {},
   "source": [
    "This provides you with another option to run Python scripts:"
   ]
  },
  {
   "cell_type": "code",
   "execution_count": null,
   "id": "44846f60",
   "metadata": {},
   "outputs": [],
   "source": [
    ">>> import hello\n",
    "Hello World!"
   ]
  },
  {
   "cell_type": "markdown",
   "id": "8c90b404",
   "metadata": {},
   "source": [
    "You’ll have to note that this option works only once per session. After the first `import`, successive `import` executions do nothing, even if you modify the content of the module. This is because `import` operations are expensive and therefore run only once. Here’s an example:"
   ]
  },
  {
   "cell_type": "code",
   "execution_count": null,
   "id": "83730b08",
   "metadata": {},
   "outputs": [],
   "source": [
    ">>> import hello  # Do nothing\n",
    ">>> import hello  # Do nothing again"
   ]
  },
  {
   "cell_type": "markdown",
   "id": "2d67afb0",
   "metadata": {},
   "source": [
    "These two `import` operations do nothing, because Python knows that `hello` has already been imported."
   ]
  },
  {
   "cell_type": "markdown",
   "id": "8de25d68",
   "metadata": {},
   "source": [
    "There are some requirements for this method to work:"
   ]
  },
  {
   "cell_type": "markdown",
   "id": "4bb85874",
   "metadata": {},
   "source": [
    "- The file with the Python code must be located in your current working directory.\n",
    "- The file must be in the [Python Module Search Path (PMSP)](https://realpython.com/python-modules-packages/#the-module-search-path), where Python looks for the modules and packages you import.\n"
   ]
  },
  {
   "cell_type": "markdown",
   "id": "21b85f60",
   "metadata": {},
   "source": [
    "To know what’s in your current PMSP, you can run the following code:"
   ]
  },
  {
   "cell_type": "code",
   "execution_count": null,
   "id": "9f13bfe3",
   "metadata": {},
   "outputs": [],
   "source": [
    ">>> import sys\n",
    ">>> for path in sys.path:\n",
    "...     print(path)\n",
    "...\n",
    "/usr/lib/python36.zip\n",
    "/usr/lib/python3.6\n",
    "/usr/lib/python3.6/lib-dynload\n",
    "/usr/local/lib/python3.6/dist-packages\n",
    "/usr/lib/python3/dist-packages"
   ]
  },
  {
   "cell_type": "markdown",
   "id": "b94a2f76",
   "metadata": {},
   "source": [
    "Running this code, you’ll get the list of directories and `.zip` files where Python searches the modules you import."
   ]
  },
  {
   "cell_type": "markdown",
   "id": "51cce302",
   "metadata": {},
   "source": [
    "<a class=\"anchor\" id=\"using_`importlib`_and_`imp`\"></a>\n",
    "\n",
    "### Using `importlib` and `imp`"
   ]
  },
  {
   "cell_type": "markdown",
   "id": "4d7be3db",
   "metadata": {},
   "source": [
    "In the [Python Standard Library](https://docs.python.org/3/library/index.html), you can find [`importlib`](https://docs.python.org/3/library/importlib.html), which is a module that provides `import_module()`."
   ]
  },
  {
   "cell_type": "markdown",
   "id": "4fe4d18b",
   "metadata": {},
   "source": [
    "With `import_module()`, you can emulate an `import` operation and, therefore, execute any module or script. Take a look at this example:"
   ]
  },
  {
   "cell_type": "code",
   "execution_count": null,
   "id": "f4249d2f",
   "metadata": {},
   "outputs": [],
   "source": [
    ">>> import importlib\n",
    ">>> importlib.import_module('hello')\n",
    "Hello World!\n",
    "<module 'hello' from '/home/username/hello.py'>"
   ]
  },
  {
   "cell_type": "markdown",
   "id": "68930532",
   "metadata": {},
   "source": [
    "Once you’ve imported a module for the first time, you won’t be able to continue using `import` to run it. In this case, you can use `importlib.reload()`, which will force the interpreter to re-import the module again, just like in the following code:"
   ]
  },
  {
   "cell_type": "code",
   "execution_count": null,
   "id": "bd4e3bbf",
   "metadata": {},
   "outputs": [],
   "source": [
    ">>> import hello  # First import\n",
    "Hello World!\n",
    ">>> import hello  # Second import, which does nothing\n",
    ">>> import importlib\n",
    ">>> importlib.reload(hello)\n",
    "Hello World!\n",
    "<module 'hello' from '/home/username/hello.py'>"
   ]
  },
  {
   "cell_type": "markdown",
   "id": "2b671631",
   "metadata": {},
   "source": [
    "An important point to note here is that the argument of `reload()` has to be the name of a module object, not a string:"
   ]
  },
  {
   "cell_type": "code",
   "execution_count": null,
   "id": "3c08e488",
   "metadata": {},
   "outputs": [],
   "source": [
    ">>> importlib.reload('hello')\n",
    "Traceback (most recent call last):\n",
    "    ...\n",
    "TypeError: reload() argument must be a module"
   ]
  },
  {
   "cell_type": "markdown",
   "id": "fc5276d3",
   "metadata": {},
   "source": [
    "If you use a string as an argument, then `reload()` will raise a `TypeError` exception."
   ]
  },
  {
   "cell_type": "markdown",
   "id": "e86a1391",
   "metadata": {},
   "source": [
    "`importlib.reload()` comes in handy when you are modifying a module and want to test if your changes work, without leaving the current interactive session."
   ]
  },
  {
   "cell_type": "markdown",
   "id": "8d5564e8",
   "metadata": {},
   "source": [
    "Finally, if you are using Python 2.x, then you’ll have `imp`, which is a module that provides a function called `reload()`. `imp.reload()` works similarly to `importlib.reload()`. Here’s an example:"
   ]
  },
  {
   "cell_type": "code",
   "execution_count": null,
   "id": "f5c25581",
   "metadata": {},
   "outputs": [],
   "source": [
    ">>> import hello  # First import\n",
    "Hello World!\n",
    ">>> import hello  # Second import, which does nothing\n",
    ">>> import imp\n",
    ">>> imp.reload(hello)\n",
    "Hello World!\n",
    "<module 'hello' from '/home/username/hello.py'>"
   ]
  },
  {
   "cell_type": "markdown",
   "id": "6e777da8",
   "metadata": {},
   "source": [
    "In Python 2.x, `reload()` is a built-in function. In versions 2.6 and 2.7, it is also included in `imp`, to aid the transition to 3.x."
   ]
  },
  {
   "cell_type": "markdown",
   "id": "448d9025",
   "metadata": {},
   "source": [
    "<a class=\"anchor\" id=\"using_`runpy.run_module()`_and_`runpy.run_path()`\"></a>\n",
    "\n",
    "### Using `runpy.run_module()` and `runpy.run_path()`"
   ]
  },
  {
   "cell_type": "markdown",
   "id": "dbbc2199",
   "metadata": {},
   "source": [
    "The Standard Library includes a module called [`runpy`](https://docs.python.org/3/library/runpy.html). In this module, you can find `run_module()`, which is a function that allows you to run modules without importing them first. This function returns the `globals` dictionary of the executed module."
   ]
  },
  {
   "cell_type": "markdown",
   "id": "e5476013",
   "metadata": {},
   "source": [
    "Here’s an example of how you can use it:"
   ]
  },
  {
   "cell_type": "code",
   "execution_count": null,
   "id": "139f0b98",
   "metadata": {},
   "outputs": [],
   "source": [
    ">>> runpy.run_module(mod_name='hello')\n",
    "Hello World!\n",
    "{'__name__': 'hello',\n",
    "    ...\n",
    "'_': None}}"
   ]
  },
  {
   "cell_type": "markdown",
   "id": "c834c857",
   "metadata": {},
   "source": [
    "The module is located using a standard `import` mechanism and then executed on a fresh module [namespace](https://realpython.com/python-namespaces-scope/)."
   ]
  },
  {
   "cell_type": "markdown",
   "id": "aa9753fe",
   "metadata": {},
   "source": [
    "The first argument of `run_module()` must be a string with the absolute name of the module (without the `.py` extension)."
   ]
  },
  {
   "cell_type": "markdown",
   "id": "756f1a4e",
   "metadata": {},
   "source": [
    "On the other hand, `runpy` also provides `run_path()`, which will allow you to run a module by providing its location in the filesystem:"
   ]
  },
  {
   "cell_type": "code",
   "execution_count": null,
   "id": "174ee6b0",
   "metadata": {},
   "outputs": [],
   "source": [
    ">>> import runpy\n",
    ">>> runpy.run_path(path_name='hello.py')\n",
    "Hello World!\n",
    "{'__name__': '<run_path>',\n",
    "    ...\n",
    "'_': None}}"
   ]
  },
  {
   "cell_type": "markdown",
   "id": "0b847a52",
   "metadata": {},
   "source": [
    "Like `run_module()`, `run_path()` returns the `globals` dictionary of the executed module."
   ]
  },
  {
   "cell_type": "markdown",
   "id": "cc5267a0",
   "metadata": {},
   "source": [
    "The `path_name` parameter must be a string and can refer to the following:"
   ]
  },
  {
   "cell_type": "markdown",
   "id": "fab5d248",
   "metadata": {},
   "source": [
    "- The location of a Python source file\n",
    "- The location of a compiled bytecode file\n",
    "- The value of a valid entry in the `sys.path`, containing a `__main__` module (`__main__.py` file)\n"
   ]
  },
  {
   "cell_type": "markdown",
   "id": "6e60adc4",
   "metadata": {},
   "source": [
    "<a class=\"anchor\" id=\"hacking_`exec()`\"></a>\n",
    "\n",
    "### Hacking `exec()`"
   ]
  },
  {
   "cell_type": "markdown",
   "id": "1f91c3b2",
   "metadata": {},
   "source": [
    "So far, you’ve seen the most commonly used ways to run Python scripts. In this section, you’ll see how to do that by using `exec()`, which is a built-in function that supports the dynamic execution of Python code."
   ]
  },
  {
   "cell_type": "markdown",
   "id": "a1000c7e",
   "metadata": {},
   "source": [
    "`exec()` provides an alternative way for running your scripts:"
   ]
  },
  {
   "cell_type": "code",
   "execution_count": null,
   "id": "108eb63b",
   "metadata": {},
   "outputs": [],
   "source": [
    ">>> exec(open('hello.py').read())\n",
    "'Hello World!'"
   ]
  },
  {
   "cell_type": "markdown",
   "id": "49bad820",
   "metadata": {},
   "source": [
    "This statement opens `hello.py`, reads its content, and sends it to `exec()`, which finally runs the code."
   ]
  },
  {
   "cell_type": "markdown",
   "id": "7b88cfcd",
   "metadata": {},
   "source": [
    "The above example is a little bit out there. It’s just a “hack” that shows you how versatile and flexible Python can be."
   ]
  },
  {
   "cell_type": "markdown",
   "id": "bed9fd78",
   "metadata": {},
   "source": [
    "<a class=\"anchor\" id=\"using_`execfile()`_(python_2.x_only)\"></a>\n",
    "\n",
    "### Using `execfile()` (Python 2.x Only)"
   ]
  },
  {
   "cell_type": "markdown",
   "id": "5816977b",
   "metadata": {},
   "source": [
    "If you prefer to use Python 2.x, you can use a built-in function called `execfile()`, which is able to run Python scripts."
   ]
  },
  {
   "cell_type": "markdown",
   "id": "327100c1",
   "metadata": {},
   "source": [
    "The first argument of `execfile()` has to be a string containing the path to the file you want to run. Here’s an example:"
   ]
  },
  {
   "cell_type": "code",
   "execution_count": null,
   "id": "85d5e1b1",
   "metadata": {},
   "outputs": [],
   "source": [
    ">>> execfile('hello.py')\n",
    "Hello World!"
   ]
  },
  {
   "cell_type": "markdown",
   "id": "192faf7d",
   "metadata": {},
   "source": [
    "Here, `hello.py` is parsed and evaluated as a sequence of Python statements."
   ]
  },
  {
   "cell_type": "markdown",
   "id": "c284a4c1",
   "metadata": {},
   "source": [
    "<a class=\"anchor\" id=\"how_to_run_python_scripts_from_an_ide_or_a_text_editor\"></a>\n",
    "\n",
    "## How to Run Python Scripts From an IDE or a Text Editor"
   ]
  },
  {
   "cell_type": "markdown",
   "id": "858616a6",
   "metadata": {},
   "source": [
    "When developing larger and more complex applications, it is recommended that you use an [integrated development environment (IDE) or an advanced text editor](https://realpython.com/python-ides-code-editors-guide/)."
   ]
  },
  {
   "cell_type": "markdown",
   "id": "f57f7252",
   "metadata": {},
   "source": [
    "Most of these programs offer the possibility of running your scripts from inside the environment itself. It is common for them to include a *Run* or *Build* command, which is usually available from the tool bar or from the main menu."
   ]
  },
  {
   "cell_type": "markdown",
   "id": "68b997d4",
   "metadata": {},
   "source": [
    "Python’s standard distribution includes [IDLE](https://docs.python.org/3/library/idle.html) as the default IDE, and you can use it to write, debug, modify, and run your modules and scripts."
   ]
  },
  {
   "cell_type": "markdown",
   "id": "1fc48bab",
   "metadata": {},
   "source": [
    "Other IDEs such as Eclipse-PyDev, PyCharm, Eric, and NetBeans also allow you to run Python scripts from inside the environment."
   ]
  },
  {
   "cell_type": "markdown",
   "id": "1b57edf5",
   "metadata": {},
   "source": [
    "Advanced text editors like [Sublime Text](https://www.sublimetext.com) and [Visual Studio Code](https://code.visualstudio.com/docs) also allow you to run your scripts."
   ]
  },
  {
   "cell_type": "markdown",
   "id": "2788b4c6",
   "metadata": {},
   "source": [
    "To grasp the details of how to run Python scripts from your preferred IDE or editor, you can take a look at its documentation."
   ]
  },
  {
   "cell_type": "markdown",
   "id": "8646ac30",
   "metadata": {},
   "source": [
    "<a class=\"anchor\" id=\"how_to_run_python_scripts_from_a_file_manager\"></a>\n",
    "\n",
    "## How to Run Python Scripts From a File Manager"
   ]
  },
  {
   "cell_type": "markdown",
   "id": "2adfe9f2",
   "metadata": {},
   "source": [
    "Running a script by double-clicking on its icon in a file manager is another possible way to run your Python scripts. This option may not be widely used in the development stage, but it may be used when you release your code for production."
   ]
  },
  {
   "cell_type": "markdown",
   "id": "71d21cbb",
   "metadata": {},
   "source": [
    "In order to be able to run your scripts with a double-click, you must satisfy some conditions that will depend on your operating system."
   ]
  },
  {
   "cell_type": "markdown",
   "id": "4cf773eb",
   "metadata": {},
   "source": [
    "Windows, for example, associates the extensions `.py` and `.pyw` with the programs `python.exe` and `pythonw.exe` respectively. This allows you to run your scripts by double-clicking on them."
   ]
  },
  {
   "cell_type": "markdown",
   "id": "f4855dac",
   "metadata": {},
   "source": [
    "When you have a script with a command-line interface, it is likely that you only see the flash of a black window on your screen. To avoid this annoying situation, you can add a statement like `input('Press Enter to Continue...')` at the end of the script. This way, the program will stop until you press `Enter`."
   ]
  },
  {
   "cell_type": "markdown",
   "id": "481bdb41",
   "metadata": {},
   "source": [
    "This trick has its drawbacks, though. For example, if your script has any error, the execution will be aborted before reaching the `input()` statement, and you still won’t be able to see the result."
   ]
  },
  {
   "cell_type": "markdown",
   "id": "22b77e13",
   "metadata": {},
   "source": [
    "On Unix-like systems, you’ll probably be able to run your scripts by double-clicking on them in your file manager. To achieve this, your script must have execution permissions, and you’ll need to use the shebang trick you’ve already seen. Likewise, you may not see any results on screen when it comes to command-line interface scripts."
   ]
  },
  {
   "cell_type": "markdown",
   "id": "c335dcea",
   "metadata": {},
   "source": [
    "Because the execution of scripts through double-click has several limitations and depends on many factors (such as the operating system, the file manager, execution permissions, file associations), it is recommended that you see it as a viable option for scripts already debugged and ready to go into production."
   ]
  },
  {
   "cell_type": "markdown",
   "id": "dbdd6600",
   "metadata": {},
   "source": [
    "<a class=\"anchor\" id=\"conclusion\"></a>\n",
    "\n",
    "## Conclusion"
   ]
  },
  {
   "cell_type": "markdown",
   "id": "4b9d7708",
   "metadata": {},
   "source": [
    "With the reading of this tutorial, you have acquired the knowledge and skills you need to be able to run Python scripts and code in several ways and in a variety of situations and development environments."
   ]
  },
  {
   "cell_type": "markdown",
   "id": "510ac519",
   "metadata": {},
   "source": [
    "**You are now able to run Python scripts from:**"
   ]
  },
  {
   "cell_type": "markdown",
   "id": "0e163cd8",
   "metadata": {},
   "source": [
    "- The operating system command-line or terminal\n",
    "- The Python interactive mode\n",
    "- The IDE or text editor you like best\n",
    "- The file manager of your system, by double-clicking on the icon of your script\n"
   ]
  },
  {
   "cell_type": "markdown",
   "id": "689db5d3",
   "metadata": {},
   "source": [
    "These skills will make your development process much faster, as well as more productive and flexible."
   ]
  }
 ],
 "metadata": {
  "kernelspec": {
   "display_name": "Python 3 (ipykernel)",
   "language": "python",
   "name": "python3"
  },
  "language_info": {
   "codemirror_mode": {
    "name": "ipython",
    "version": 3
   },
   "file_extension": ".py",
   "mimetype": "text/x-python",
   "name": "python",
   "nbconvert_exporter": "python",
   "pygments_lexer": "ipython3",
   "version": "3.7.10"
  }
 },
 "nbformat": 4,
 "nbformat_minor": 5
}
