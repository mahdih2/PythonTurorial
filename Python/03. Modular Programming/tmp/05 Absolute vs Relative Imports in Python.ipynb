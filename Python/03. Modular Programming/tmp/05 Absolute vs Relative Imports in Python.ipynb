{
 "cells": [
  {
   "cell_type": "markdown",
   "id": "f0a245a6",
   "metadata": {},
   "source": [
    "<img src=\"../../images/banners/python-modular.png\" width=\"600\"/>"
   ]
  },
  {
   "cell_type": "markdown",
   "id": "ce531af5",
   "metadata": {},
   "source": [
    "# <img src=\"../../images/logos/python.png\" width=\"23\"/> Absolute vs Relative Imports in Python \n"
   ]
  },
  {
   "cell_type": "markdown",
   "id": "3bcad41d",
   "metadata": {},
   "source": [
    "## <img src=\"../../images/logos/toc.png\" width=\"20\"/> Table of Contents \n",
    "* [A Quick Recap on Imports](#a_quick_recap_on_imports)\n",
    "    * [How Imports Work](#how_imports_work)\n",
    "    * [Syntax of Import Statements](#syntax_of_import_statements)\n",
    "    * [Styling of Import Statements](#styling_of_import_statements)\n",
    "* [Absolute Imports](#absolute_imports)\n",
    "    * [Syntax and Practical Examples](#syntax_and_practical_examples)\n",
    "    * [Pros and Cons of Absolute Imports](#pros_and_cons_of_absolute_imports)\n",
    "* [Relative Imports](#relative_imports)\n",
    "    * [Syntax and Practical Examples](#syntax_and_practical_examples)\n",
    "    * [Pros and Cons of Relative Imports](#pros_and_cons_of_relative_imports)\n",
    "* [Conclusion](#conclusion)\n",
    "\n",
    "---"
   ]
  },
  {
   "cell_type": "markdown",
   "id": "2988f7c3",
   "metadata": {},
   "source": [
    "If you’ve worked on a Python project that has more than one file, chances are you’ve had to use an import statement before."
   ]
  },
  {
   "cell_type": "markdown",
   "id": "d99cffde",
   "metadata": {},
   "source": [
    "Even for Pythonistas with a couple of projects under their belt, imports can be confusing! You’re probably reading this because you’d like to gain a deeper understanding of imports in Python, particularly absolute and relative imports."
   ]
  },
  {
   "cell_type": "markdown",
   "id": "64721bae",
   "metadata": {},
   "source": [
    "In this tutorial, you’ll learn the differences between the two, as well as their pros and cons. Let’s dive right in!"
   ]
  },
  {
   "cell_type": "markdown",
   "id": "87a12a6e",
   "metadata": {},
   "source": [
    "<a class=\"anchor\" id=\"a_quick_recap_on_imports\"></a>\n",
    "\n",
    "## A Quick Recap on Imports"
   ]
  },
  {
   "cell_type": "markdown",
   "id": "821ccdc0",
   "metadata": {},
   "source": [
    "You need to have a good understanding of Python modules and packages (covered in previous sections) to know how imports work. A Python module is a file that has a `.py` extension, and a Python package is any folder that has modules inside it (or, in Python 2, a folder that contains an `__init__.py` file)."
   ]
  },
  {
   "cell_type": "markdown",
   "id": "eb3b15cd",
   "metadata": {},
   "source": [
    "What happens when you have code in one module that needs to access code in another module or package? You import it!"
   ]
  },
  {
   "cell_type": "markdown",
   "id": "96d615e5",
   "metadata": {},
   "source": [
    "<a class=\"anchor\" id=\"how_imports_work\"></a>\n",
    "\n",
    "### How Imports Work"
   ]
  },
  {
   "cell_type": "markdown",
   "id": "7b910cc2",
   "metadata": {},
   "source": [
    "But how exactly do imports work? Let’s say you import a module `abc` like so:"
   ]
  },
  {
   "cell_type": "code",
   "execution_count": null,
   "id": "c3b65884",
   "metadata": {},
   "outputs": [],
   "source": [
    "import abc"
   ]
  },
  {
   "cell_type": "markdown",
   "id": "b072b9c2",
   "metadata": {},
   "source": [
    "The first thing Python will do is look up the name `abc` in [`sys.modules`](https://docs.python.org/3/library/sys.html#sys.modules). This is a cache of all modules that have been previously imported."
   ]
  },
  {
   "cell_type": "markdown",
   "id": "5fdbe463",
   "metadata": {},
   "source": [
    "If the name isn’t found in the module cache, Python will proceed to search through a list of built-in modules. These are modules that come pre-installed with Python and can be found in the [Python Standard Library](https://docs.python.org/3/library/). If the name still isn’t found in the built-in modules, Python then searches for it in a list of directories defined by [`sys.path`](https://docs.python.org/3/library/sys.html#sys.path). This list usually includes the current directory, which is searched first."
   ]
  },
  {
   "cell_type": "markdown",
   "id": "453fe639",
   "metadata": {},
   "source": [
    "When Python finds the module, it binds it to a name in the local scope. This means that `abc` is now defined and can be used in the current file without throwing a `NameError`."
   ]
  },
  {
   "cell_type": "markdown",
   "id": "ed50fed1",
   "metadata": {},
   "source": [
    "If the name is never found, you’ll get a `ModuleNotFoundError`. You can find out more about imports in the Python documentation [here](https://docs.python.org/3/reference/import.html)!"
   ]
  },
  {
   "cell_type": "markdown",
   "id": "18de7974",
   "metadata": {},
   "source": [
    "<a class=\"anchor\" id=\"syntax_of_import_statements\"></a>\n",
    "\n",
    "### Syntax of Import Statements"
   ]
  },
  {
   "cell_type": "markdown",
   "id": "700d0bd8",
   "metadata": {},
   "source": [
    "Now that you know how import statements work, let’s explore their syntax. You can import both packages and modules. (Note that importing a package essentially imports the package’s `__init__.py` file as a module.) You can also import specific objects from a package or module."
   ]
  },
  {
   "cell_type": "markdown",
   "id": "b5ed0ef3",
   "metadata": {},
   "source": [
    "There are generally two types of import syntax. When you use the first one, you import the resource directly, like this:"
   ]
  },
  {
   "cell_type": "code",
   "execution_count": null,
   "id": "3e9bdd1a",
   "metadata": {},
   "outputs": [],
   "source": [
    "import abc"
   ]
  },
  {
   "cell_type": "markdown",
   "id": "6a081457",
   "metadata": {},
   "source": [
    "`abc` can be a package or a module."
   ]
  },
  {
   "cell_type": "markdown",
   "id": "08c8d200",
   "metadata": {},
   "source": [
    "When you use the second syntax, you import the resource from another package or module. Here’s an example:"
   ]
  },
  {
   "cell_type": "code",
   "execution_count": null,
   "id": "4b9a8261",
   "metadata": {},
   "outputs": [],
   "source": [
    "from abc import xyz"
   ]
  },
  {
   "cell_type": "markdown",
   "id": "1ee0128d",
   "metadata": {},
   "source": [
    "`xyz` can be a module, subpackage, or object, such as a class or function."
   ]
  },
  {
   "cell_type": "markdown",
   "id": "16c39834",
   "metadata": {},
   "source": [
    "You can also choose to rename an imported resource, like so:"
   ]
  },
  {
   "cell_type": "code",
   "execution_count": null,
   "id": "f12f902d",
   "metadata": {},
   "outputs": [],
   "source": [
    "import abc as other_name"
   ]
  },
  {
   "cell_type": "markdown",
   "id": "ea5d8b6b",
   "metadata": {},
   "source": [
    "This renames the imported resource `abc` to `other_name` within the script. It must now be referenced as `other_name`, or it will not be recognized."
   ]
  },
  {
   "cell_type": "markdown",
   "id": "1f6da73d",
   "metadata": {},
   "source": [
    "<a class=\"anchor\" id=\"styling_of_import_statements\"></a>\n",
    "\n",
    "### Styling of Import Statements"
   ]
  },
  {
   "cell_type": "markdown",
   "id": "52c406aa",
   "metadata": {},
   "source": [
    "[PEP 8](http://pep8.org/#imports), the official [style guide for Python](https://realpython.com/python-code-quality/), has a few pointers when it comes to writing import statements. Here’s a summary:\n",
    "\n",
    "1. Imports should always be written at the top of the file, after any module comments and [docstrings](https://realpython.com/documenting-python-code/#documenting-your-python-code-base-using-docstrings).\n",
    "2. Imports should be divided according to what is being imported. There are generally three groups:\n",
    "* standard library imports (Python’s built-in modules)\n",
    "* related third party imports (modules that are installed and do not belong to the current application)\n",
    "* local application imports (modules that belong to the current application)\n",
    "\n",
    "3. Each group of imports should be separated by a blank space."
   ]
  },
  {
   "cell_type": "markdown",
   "id": "7b345a9a",
   "metadata": {},
   "source": [
    "It’s also a good idea to order your imports alphabetically within each import group. This makes finding particular imports much easier, especially when there are many imports in a file."
   ]
  },
  {
   "cell_type": "markdown",
   "id": "c0fdb3fe",
   "metadata": {},
   "source": [
    "Here’s an example of how to style import statements:"
   ]
  },
  {
   "cell_type": "code",
   "execution_count": null,
   "id": "327479ab",
   "metadata": {},
   "outputs": [],
   "source": [
    "\"\"\"Illustration of good import statement styling.\n",
    "\n",
    "Note that the imports come after the docstring.\n",
    "\n",
    "\"\"\"\n",
    "\n",
    "# Standard library imports\n",
    "import datetime\n",
    "import os\n",
    "\n",
    "# Third party imports\n",
    "from flask import Flask\n",
    "from flask_restful import Api\n",
    "from flask_sqlalchemy import SQLAlchemy\n",
    "\n",
    "# Local application imports\n",
    "from local_module import local_class\n",
    "from local_package import local_function"
   ]
  },
  {
   "cell_type": "markdown",
   "id": "4d91b666",
   "metadata": {},
   "source": [
    "The import statements above are divided into three distinct groups, separated by a blank space. They are also ordered **alphabetically** within each group."
   ]
  },
  {
   "cell_type": "markdown",
   "id": "cec8d694-6ba5-4947-81a8-59578c198c6d",
   "metadata": {},
   "source": [
    "**Note:** If you have installed vscode along with python extension, you can order your imports according to pep3 standard automatically. Just right click anywhere in module and select **sort imports**."
   ]
  },
  {
   "cell_type": "markdown",
   "id": "424e2235-5802-4277-a4fd-e9f446c8b679",
   "metadata": {},
   "source": [
    "**Before Sort Import**\n",
    "\n",
    "<img src=\"./images/absolute-vs-relative-imports-in-python/before_sort_import.png\" width=\"300\"/>"
   ]
  },
  {
   "cell_type": "markdown",
   "id": "2256e4db-5902-4bfe-8aa2-b1d2b6fc75c0",
   "metadata": {},
   "source": [
    "**After Sort Import**\n",
    "\n",
    "<img src=\"./images/absolute-vs-relative-imports-in-python/after_sort_import.png\" width=\"300\"/>"
   ]
  },
  {
   "cell_type": "markdown",
   "id": "0f663b6b",
   "metadata": {},
   "source": [
    "<a class=\"anchor\" id=\"absolute_imports\"></a>\n",
    "\n",
    "## Absolute Imports"
   ]
  },
  {
   "cell_type": "markdown",
   "id": "552f9af0",
   "metadata": {},
   "source": [
    "You’ve gotten up to speed on how to write import statements and how to style them like a pro. Now it’s time to learn a little more about absolute imports."
   ]
  },
  {
   "cell_type": "markdown",
   "id": "76e01a04",
   "metadata": {},
   "source": [
    "An absolute import specifies the resource to be imported using its full path from the project’s root folder."
   ]
  },
  {
   "cell_type": "markdown",
   "id": "f0dbfa26",
   "metadata": {},
   "source": [
    "<a class=\"anchor\" id=\"syntax_and_practical_examples\"></a>\n",
    "\n",
    "### Syntax and Practical Examples"
   ]
  },
  {
   "cell_type": "markdown",
   "id": "a1593e89",
   "metadata": {},
   "source": [
    "Let’s say you have the following directory structure:"
   ]
  },
  {
   "cell_type": "markdown",
   "id": "67db5a36",
   "metadata": {},
   "source": [
    "```\n",
    "└── project\n",
    "    ├── package1\n",
    "    │   ├── module1.py\n",
    "    │   └── module2.py\n",
    "    └── package2\n",
    "        ├── __init__.py\n",
    "        ├── module3.py\n",
    "        ├── module4.py\n",
    "        └── subpackage1\n",
    "            └── module5.py\n",
    "```"
   ]
  },
  {
   "cell_type": "markdown",
   "id": "8fd334c8",
   "metadata": {},
   "source": [
    "There’s a directory, `project`, which contains two sub-directories, `package1` and `package2`. The `package1` directory has two files, `module1.py` and `module2.py`."
   ]
  },
  {
   "cell_type": "markdown",
   "id": "371d5299",
   "metadata": {},
   "source": [
    "The `package2` directory has three files: two modules, `module3.py` and `module4.py`, and an initialization file, `__init__.py`. It also contains a directory, `subpackage`, which in turn contains a file, `module5.py`."
   ]
  },
  {
   "cell_type": "markdown",
   "id": "46c765a3",
   "metadata": {},
   "source": [
    "Let’s assume the following:"
   ]
  },
  {
   "cell_type": "markdown",
   "id": "395a0468",
   "metadata": {},
   "source": [
    "1. `package1/module2.py` contains a function, `function1`.\n",
    "2. `package2/__init__.py` contains a class, `class1`.\n",
    "3. `package2/subpackage1/module5.py` contains a function, `function2`.\n"
   ]
  },
  {
   "cell_type": "markdown",
   "id": "3885e88a",
   "metadata": {},
   "source": [
    "The following are practical examples of absolute imports:"
   ]
  },
  {
   "cell_type": "code",
   "execution_count": null,
   "id": "ce5c7def",
   "metadata": {},
   "outputs": [],
   "source": [
    "from package1 import module1\n",
    "from package1.module2 import function1\n",
    "from package2 import class1\n",
    "from package2.subpackage1.module5 import function2"
   ]
  },
  {
   "cell_type": "markdown",
   "id": "a5290ce0",
   "metadata": {},
   "source": [
    "Note that you must give a detailed path for each package or file, from the top-level package folder. This is somewhat similar to its file path, but we use a dot (`.`) instead of a slash (`/`)."
   ]
  },
  {
   "cell_type": "markdown",
   "id": "3539f8f0",
   "metadata": {},
   "source": [
    "<a class=\"anchor\" id=\"pros_and_cons_of_absolute_imports\"></a>\n",
    "\n",
    "### Pros and Cons of Absolute Imports"
   ]
  },
  {
   "cell_type": "markdown",
   "id": "e87942d0",
   "metadata": {},
   "source": [
    "Absolute imports are preferred because they are quite clear and straightforward. It is easy to tell exactly where the imported resource is, just by looking at the statement. Additionally, absolute imports remain valid even if the current location of the import statement changes. In fact, PEP 8 explicitly recommends absolute imports."
   ]
  },
  {
   "cell_type": "markdown",
   "id": "db944e0d",
   "metadata": {},
   "source": [
    "Sometimes, however, absolute imports can get quite verbose, depending on the complexity of the directory structure. Imagine having a statement like this:"
   ]
  },
  {
   "cell_type": "code",
   "execution_count": null,
   "id": "49867854",
   "metadata": {},
   "outputs": [],
   "source": [
    "from package1.subpackage2.subpackage3.subpackage4.module5 import function6"
   ]
  },
  {
   "cell_type": "markdown",
   "id": "099f630c",
   "metadata": {},
   "source": [
    "That’s ridiculous, right? Luckily, relative imports are a good alternative in such cases!"
   ]
  },
  {
   "cell_type": "markdown",
   "id": "763e2f24",
   "metadata": {},
   "source": [
    "<a class=\"anchor\" id=\"relative_imports\"></a>\n",
    "\n",
    "## Relative Imports"
   ]
  },
  {
   "cell_type": "markdown",
   "id": "3be5f9a0",
   "metadata": {},
   "source": [
    "A relative import specifies the resource to be imported relative to the current location—that is, the location where the import statement is. There are two types of relative imports: implicit and explicit. Implicit relative imports have been deprecated in Python 3, so I won’t be covering them here."
   ]
  },
  {
   "cell_type": "markdown",
   "id": "581c95a9",
   "metadata": {},
   "source": [
    "<a class=\"anchor\" id=\"syntax_and_practical_examples\"></a>\n",
    "\n",
    "### Syntax and Practical Examples"
   ]
  },
  {
   "cell_type": "markdown",
   "id": "10659935",
   "metadata": {},
   "source": [
    "The syntax of a relative import depends on the current location as well as the location of the module, package, or object to be imported. Here are a few examples of relative imports:"
   ]
  },
  {
   "cell_type": "code",
   "execution_count": null,
   "id": "0849555f",
   "metadata": {},
   "outputs": [],
   "source": [
    "from .some_module import some_class\n",
    "from ..some_package import some_function\n",
    "from . import some_class"
   ]
  },
  {
   "cell_type": "markdown",
   "id": "fcf5c8fe",
   "metadata": {},
   "source": [
    "You can see that there is at least one dot in each import statement above. Relative imports make use of dot notation to specify location."
   ]
  },
  {
   "cell_type": "markdown",
   "id": "03c7bc12",
   "metadata": {},
   "source": [
    "A single dot means that the module or package referenced is in the same directory as the current location. Two dots mean that it is in the parent directory of the current location—that is, the directory above. Three dots mean that it is in the grandparent directory, and so on. This will probably be familiar to you if you use a Unix-like operating system!"
   ]
  },
  {
   "cell_type": "markdown",
   "id": "fec6c76e",
   "metadata": {},
   "source": [
    "Let’s assume you have the same directory structure as before:"
   ]
  },
  {
   "cell_type": "markdown",
   "id": "215f02ad",
   "metadata": {},
   "source": [
    "```\n",
    "└── project\n",
    "    ├── package1\n",
    "    │   ├── module1.py\n",
    "    │   └── module2.py\n",
    "    └── package2\n",
    "        ├── __init__.py\n",
    "        ├── module3.py\n",
    "        ├── module4.py\n",
    "        └── subpackage1\n",
    "            └── module5.py\n",
    "```"
   ]
  },
  {
   "cell_type": "markdown",
   "id": "c79252ac",
   "metadata": {},
   "source": [
    "Recall the file contents:"
   ]
  },
  {
   "cell_type": "markdown",
   "id": "1f77d286",
   "metadata": {},
   "source": [
    "1. `package1/module2.py` contains a function, `function1`.\n",
    "2. `package2/__init__.py` contains a class, `class1`.\n",
    "3. `package2/subpackage1/module5.py` contains a function, `function2`.\n"
   ]
  },
  {
   "cell_type": "markdown",
   "id": "ee6b30c0",
   "metadata": {},
   "source": [
    "You can import `function1` into the `package1/module1.py` file this way:"
   ]
  },
  {
   "cell_type": "code",
   "execution_count": null,
   "id": "e26b486f",
   "metadata": {},
   "outputs": [],
   "source": [
    "# package1/module1.py\n",
    "\n",
    "from .module2 import function1"
   ]
  },
  {
   "cell_type": "markdown",
   "id": "9648e361",
   "metadata": {},
   "source": [
    "You’d use only one dot here because `module2.py` is in the same directory as the current module, which is `module1.py`."
   ]
  },
  {
   "cell_type": "markdown",
   "id": "9452c72c",
   "metadata": {},
   "source": [
    "You can import `class1` and `function2` into the `package2/module3.py` file this way:"
   ]
  },
  {
   "cell_type": "code",
   "execution_count": null,
   "id": "268e7c11",
   "metadata": {},
   "outputs": [],
   "source": [
    "# package2/module3.py\n",
    "\n",
    "from . import class1\n",
    "from .subpackage1.module5 import function2"
   ]
  },
  {
   "cell_type": "markdown",
   "id": "137d0956",
   "metadata": {},
   "source": [
    "In the first import statement, the single dot means that you are importing `class1` from the current package. Remember that importing a package essentially imports the package’s `__init__.py` file as a module."
   ]
  },
  {
   "cell_type": "markdown",
   "id": "0d055c9d",
   "metadata": {},
   "source": [
    "In the second import statement, you’d use a single dot again because `subpackage1` is in the same directory as the current module, which is `module3.py`."
   ]
  },
  {
   "cell_type": "markdown",
   "id": "3b08ac6a",
   "metadata": {},
   "source": [
    "<a class=\"anchor\" id=\"pros_and_cons_of_relative_imports\"></a>\n",
    "\n",
    "### Pros and Cons of Relative Imports"
   ]
  },
  {
   "cell_type": "markdown",
   "id": "f1e2fa4b",
   "metadata": {},
   "source": [
    "One clear advantage of relative imports is that they are quite succinct. Depending on the current location, they can turn the ridiculously long import statement you saw earlier to something as simple as this:"
   ]
  },
  {
   "cell_type": "code",
   "execution_count": null,
   "id": "2166b5ad",
   "metadata": {},
   "outputs": [],
   "source": [
    "from ..subpackage4.module5 import function6"
   ]
  },
  {
   "cell_type": "markdown",
   "id": "352bddbf",
   "metadata": {},
   "source": [
    "Unfortunately, relative imports can be messy, particularly for shared projects where directory structure is likely to change. Relative imports are also not as readable as absolute ones, and it’s not easy to tell the location of the imported resources."
   ]
  },
  {
   "cell_type": "markdown",
   "id": "cf44150b",
   "metadata": {},
   "source": [
    "<a class=\"anchor\" id=\"conclusion\"></a>\n",
    "\n",
    "## Conclusion"
   ]
  },
  {
   "cell_type": "markdown",
   "id": "b51a2722",
   "metadata": {},
   "source": [
    "Good job for making it to the end of this crash course on absolute and relative imports! Now you’re up to speed on how imports work. You’ve learned the best practices for writing import statements, and you know the difference between absolute and relative imports."
   ]
  },
  {
   "cell_type": "markdown",
   "id": "6e32f69e",
   "metadata": {},
   "source": [
    "With your new skills, you can confidently import packages and modules from the Python standard library, third party packages, and your own local packages. Remember that you should generally opt for absolute imports over relative ones, unless the path is complex and would make the statement too long."
   ]
  }
 ],
 "metadata": {
  "kernelspec": {
   "display_name": "Python 3",
   "language": "python",
   "name": "python3"
  },
  "language_info": {
   "codemirror_mode": {
    "name": "ipython",
    "version": 3
   },
   "file_extension": ".py",
   "mimetype": "text/x-python",
   "name": "python",
   "nbconvert_exporter": "python",
   "pygments_lexer": "ipython3",
   "version": "3.8.11"
  }
 },
 "nbformat": 4,
 "nbformat_minor": 5
}
