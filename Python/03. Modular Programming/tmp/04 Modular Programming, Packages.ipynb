{
 "cells": [
  {
   "cell_type": "markdown",
   "id": "2fdc29c4-6c63-468c-9ea8-e14ff3a80c4c",
   "metadata": {},
   "source": [
    "<img src=\"../../images/banners/python-modular.png\" width=\"600\"/>"
   ]
  },
  {
   "cell_type": "markdown",
   "id": "713367c1-dbe0-4a0c-b678-8c5fffcc1b1d",
   "metadata": {},
   "source": [
    "# <img src=\"../../images/logos/python.png\" width=\"23\"/> 07.2 Modular Programming (Part  2: Packages) \n"
   ]
  },
  {
   "cell_type": "markdown",
   "id": "d86aa019-e02a-4769-9320-5f649fc873db",
   "metadata": {},
   "source": [
    "## <img src=\"../../images/logos/toc.png\" width=\"20\"/> Table of Contents \n",
    "* [1. Packages](#1._packages)\n",
    "* [2. Package Initialization](#2._package_initialization)\n",
    "* [3. Importing `*` From a Package](#3._importing_`*`_from_a_package)\n",
    "* [4. Subpackages](#4._subpackages)\n",
    "* [Summary](#summary)\n",
    "\n",
    "---"
   ]
  },
  {
   "cell_type": "markdown",
   "id": "366f62d2-8c9c-4ea7-857f-9c1747c89a1b",
   "metadata": {},
   "source": [
    "<a class=\"anchor\" id=\"1._packages\"></a>\n",
    "## 1. Packages"
   ]
  },
  {
   "cell_type": "markdown",
   "id": "4b82a3a7-5f53-442d-879a-92968bd408e1",
   "metadata": {},
   "source": [
    "Suppose you have developed a very large application that includes many modules. As the number of modules grows, it becomes difficult to keep track of them all if they are dumped into one location. This is particularly so if they have similar names or functionality. You might wish for a means of grouping and organizing them."
   ]
  },
  {
   "cell_type": "markdown",
   "id": "507d8078-d979-44af-b7d5-89a987303fa8",
   "metadata": {},
   "source": [
    "**Packages** allow for a hierarchical structuring of the module namespace using **dot notation**.\n",
    "\n",
    "- **Modules** help avoid collisions between global variable names.\n",
    "- **Packages** help avoid collisions between module names."
   ]
  },
  {
   "cell_type": "markdown",
   "id": "02cb8598-87bb-4779-bbf6-9a2d3bbfc713",
   "metadata": {},
   "source": [
    "Creating a package is quite straightforward, since it makes use of the operating system’s inherent hierarchical file structure. Consider the following arrangement:\n",
    "\n",
    "<img src=\"../images/package.png\" alt=\"package\" width=200 align=\"left\" />"
   ]
  },
  {
   "cell_type": "markdown",
   "id": "ff9e1cbe-f90d-4cd1-925d-22c49c6cf715",
   "metadata": {},
   "source": [
    "You can use a package to further organize your modules. The Python.org glossary defines **package** as follows:\n",
    "> A Python module which can contain submodules or recursively, subpackages. Technically, a package is a Python module with an __path__ attribute. ([Source](https://docs.python.org/glossary.html#term-package))"
   ]
  },
  {
   "cell_type": "markdown",
   "id": "3c77c93b-9310-4f73-9c24-69507b480206",
   "metadata": {},
   "source": [
    "Note that a package is still a module. As a user, you usually don’t need to worry about whether you’re importing a module or a package."
   ]
  },
  {
   "cell_type": "markdown",
   "id": "6aa01180-b3eb-4ea6-b432-38841eef89fa",
   "metadata": {},
   "source": [
    "Here, there is a directory named `pkg` that contains two modules, `mod1.py` and `mod2.py`. The contents of the modules are:"
   ]
  },
  {
   "cell_type": "code",
   "execution_count": 4,
   "id": "ddc34bfa-1797-4c3f-af97-ed034942b480",
   "metadata": {},
   "outputs": [],
   "source": [
    "# Run this cell to create directories needed for the rest of the section\n",
    "from pathlib import Path\n",
    "Path('./files/pkg').mkdir(parents=True, exist_ok=True)"
   ]
  },
  {
   "cell_type": "code",
   "execution_count": 5,
   "id": "d55ef335-44ce-47ba-8152-8a253a5fd495",
   "metadata": {},
   "outputs": [
    {
     "name": "stdout",
     "output_type": "stream",
     "text": [
      "Writing files/pkg/mod1.py\n"
     ]
    }
   ],
   "source": [
    "%%writefile files/pkg/mod1.py\n",
    "def add(a, b):\n",
    "    return a + b\n",
    "\n",
    "class Foo:\n",
    "    pass"
   ]
  },
  {
   "cell_type": "code",
   "execution_count": 6,
   "id": "b36be511-5034-47eb-a529-99a30ea7babe",
   "metadata": {},
   "outputs": [
    {
     "name": "stdout",
     "output_type": "stream",
     "text": [
      "Writing files/pkg/mod2.py\n"
     ]
    }
   ],
   "source": [
    "%%writefile files/pkg/mod2.py\n",
    "def multiply(a, b):\n",
    "    return a * b\n",
    "\n",
    "class Bar:\n",
    "    pass"
   ]
  },
  {
   "cell_type": "markdown",
   "id": "4cd493f7-0877-4d57-bad8-93ee6b8e69f4",
   "metadata": {},
   "source": [
    "Given this structure, if the `pkg` directory resides in a location where it can be found (in one of the directories contained in sys.path), you can refer to the two modules with **dot notation** (`pkg.mod1`, `pkg.mod2`) and import them with the syntax you are already familiar with:"
   ]
  },
  {
   "cell_type": "code",
   "execution_count": 7,
   "id": "717a303c-aba4-47af-be3b-f18053bed7a8",
   "metadata": {},
   "outputs": [
    {
     "data": {
      "text/plain": [
       "['/Users/ali/PERSONAL_DIR/github/pytopia/CS-Tutorial/01. Python/03. Modular Programming',\n",
       " '/Users/ali/opt/anaconda3/envs/py39/lib/python39.zip',\n",
       " '/Users/ali/opt/anaconda3/envs/py39/lib/python3.9',\n",
       " '/Users/ali/opt/anaconda3/envs/py39/lib/python3.9/lib-dynload',\n",
       " '',\n",
       " '/Users/ali/opt/anaconda3/envs/py39/lib/python3.9/site-packages']"
      ]
     },
     "execution_count": 7,
     "metadata": {},
     "output_type": "execute_result"
    }
   ],
   "source": [
    "import sys\n",
    "sys.path"
   ]
  },
  {
   "cell_type": "code",
   "execution_count": 8,
   "id": "8aac4ce4-96d7-4400-af37-7e916b230f6d",
   "metadata": {},
   "outputs": [],
   "source": [
    "# pkg_1 directory is in files directory\n",
    "sys.path.append(\"./files\")"
   ]
  },
  {
   "cell_type": "markdown",
   "id": "3740ec0e-5521-4bda-8cb5-058ef3e76109",
   "metadata": {},
   "source": [
    "You can technically import the package:"
   ]
  },
  {
   "cell_type": "code",
   "execution_count": 23,
   "id": "84f8852b-4696-46b0-9ce4-10eb7656ef7f",
   "metadata": {},
   "outputs": [],
   "source": [
    "import pkg"
   ]
  },
  {
   "cell_type": "code",
   "execution_count": 24,
   "id": "3a5f125b-6b11-422b-bb52-0d477ebfc793",
   "metadata": {},
   "outputs": [
    {
     "data": {
      "text/plain": [
       "<module 'pkg' (namespace)>"
      ]
     },
     "execution_count": 24,
     "metadata": {},
     "output_type": "execute_result"
    }
   ],
   "source": [
    "pkg"
   ]
  },
  {
   "cell_type": "markdown",
   "id": "aacebb40-b87f-4218-94b4-9e7f426c9cae",
   "metadata": {},
   "source": [
    "Though this is, strictly speaking, a syntactically correct Python statement, it doesn’t do much of anything useful. In particular, it does not place any of the modules in `pkg` into the local namespace:"
   ]
  },
  {
   "cell_type": "code",
   "execution_count": 25,
   "id": "d50b1db0-dda5-4229-b7e1-49cf360294f9",
   "metadata": {},
   "outputs": [
    {
     "data": {
      "text/plain": [
       "<module 'pkg.mod1' from '/Users/ali/PERSONAL_DIR/github/pytopia/CS-Tutorial/01. Python/03. Modular Programming/./files/pkg/mod1.py'>"
      ]
     },
     "execution_count": 25,
     "metadata": {},
     "output_type": "execute_result"
    }
   ],
   "source": [
    "# This line raises AttributeError\n",
    "pkg.mod1"
   ]
  },
  {
   "cell_type": "code",
   "execution_count": 26,
   "id": "a93424b4-e999-4434-afc7-f089090a0c01",
   "metadata": {},
   "outputs": [
    {
     "ename": "AttributeError",
     "evalue": "module 'pkg' has no attribute 'mod'",
     "output_type": "error",
     "traceback": [
      "\u001b[0;31m---------------------------------------------------------------------------\u001b[0m",
      "\u001b[0;31mAttributeError\u001b[0m                            Traceback (most recent call last)",
      "Input \u001b[0;32mIn [26]\u001b[0m, in \u001b[0;36m<module>\u001b[0;34m\u001b[0m\n\u001b[1;32m      1\u001b[0m \u001b[38;5;66;03m# This line raises AttributeError\u001b[39;00m\n\u001b[0;32m----> 2\u001b[0m \u001b[43mpkg\u001b[49m\u001b[38;5;241;43m.\u001b[39;49m\u001b[43mmod\u001b[49m\u001b[38;5;241m.\u001b[39madd()\n",
      "\u001b[0;31mAttributeError\u001b[0m: module 'pkg' has no attribute 'mod'"
     ]
    }
   ],
   "source": [
    "# This line raises AttributeError\n",
    "pkg.mod.add()"
   ]
  },
  {
   "cell_type": "markdown",
   "id": "38fc08ce-31b9-476c-8e53-4b7229e83ed6",
   "metadata": {},
   "source": [
    "To actually import the modules or their contents, you need to use one of the forms shown below:"
   ]
  },
  {
   "cell_type": "code",
   "execution_count": 27,
   "id": "f4cc8bcc-7ccc-4206-995c-cb04129a22d4",
   "metadata": {},
   "outputs": [
    {
     "data": {
      "text/plain": [
       "12"
      ]
     },
     "execution_count": 27,
     "metadata": {},
     "output_type": "execute_result"
    }
   ],
   "source": [
    "import pkg.mod1, pkg.mod2\n",
    "\n",
    "pkg.mod1.add(6, 5)\n",
    "pkg.mod2.multiply(3, 4)"
   ]
  },
  {
   "cell_type": "code",
   "execution_count": 28,
   "id": "32be277b-1f0d-4bf5-a855-c0a1f262b201",
   "metadata": {},
   "outputs": [
    {
     "data": {
      "text/plain": [
       "11"
      ]
     },
     "execution_count": 28,
     "metadata": {},
     "output_type": "execute_result"
    }
   ],
   "source": [
    "from pkg.mod1 import add\n",
    "\n",
    "add(6, 5)"
   ]
  },
  {
   "cell_type": "code",
   "execution_count": 29,
   "id": "c7bb9765-ed0a-450e-9269-ada8de68023a",
   "metadata": {},
   "outputs": [
    {
     "data": {
      "text/plain": [
       "11"
      ]
     },
     "execution_count": 29,
     "metadata": {},
     "output_type": "execute_result"
    }
   ],
   "source": [
    "from pkg.mod1 import add as add_numbers\n",
    "\n",
    "add_numbers(6, 5)"
   ]
  },
  {
   "cell_type": "markdown",
   "id": "b21926be-d2f3-4f7f-9b8d-6c17a49e8bb9",
   "metadata": {},
   "source": [
    "<a class=\"anchor\" id=\"2._package_initialization\"></a>\n",
    "## 2. Package Initialization"
   ]
  },
  {
   "cell_type": "code",
   "execution_count": 30,
   "id": "14269efb-b523-42e4-8c75-08ed1649682e",
   "metadata": {},
   "outputs": [],
   "source": [
    "# removing previously imported modules and packages\n",
    "del pkg, add, add_numbers"
   ]
  },
  {
   "cell_type": "markdown",
   "id": "bc44d43c-8d75-4251-9a43-69607c6cd4aa",
   "metadata": {},
   "source": [
    "If a file named `__init__.py` is present in a package directory, it is invoked when the package or a module in the package is imported. This can be used for execution of package initialization code, such as initialization of package-level data."
   ]
  },
  {
   "cell_type": "markdown",
   "id": "83971a85-0d4c-459c-9efb-25e2827c0a23",
   "metadata": {},
   "source": [
    "For example, consider the following `__init__.py` file:"
   ]
  },
  {
   "cell_type": "code",
   "execution_count": 31,
   "id": "ebc2077d-2ad9-4e4c-912c-b28cdd6a0a0c",
   "metadata": {},
   "outputs": [
    {
     "name": "stdout",
     "output_type": "stream",
     "text": [
      "Writing files/pkg/__init__.py\n"
     ]
    }
   ],
   "source": [
    "%%writefile files/pkg/__init__.py\n",
    "print(f'Invoking __init__.py for {__name__}')\n",
    "A = ['item_1', 'item_2', 'item_3']"
   ]
  },
  {
   "cell_type": "markdown",
   "id": "3f3e046b-9793-4e37-9678-eb4ce0adc880",
   "metadata": {},
   "source": [
    "Let’s add this file to the `pkg` directory from the above example:\n",
    "\n",
    "<img src=\"../images/init.png\" alt=\"init\" width=200 align=\"left\" />"
   ]
  },
  {
   "cell_type": "code",
   "execution_count": 32,
   "id": "b46e42db-9f9d-4be9-878f-35a13ee90970",
   "metadata": {},
   "outputs": [],
   "source": [
    "import pkg"
   ]
  },
  {
   "cell_type": "code",
   "execution_count": 33,
   "id": "63267f59-8818-4def-8179-4a5fcff7ec08",
   "metadata": {},
   "outputs": [
    {
     "name": "stdout",
     "output_type": "stream",
     "text": [
      "Invoking __init__.py for pkg\n"
     ]
    },
    {
     "data": {
      "text/plain": [
       "<module 'pkg' from '/Users/ali/PERSONAL_DIR/github/pytopia/CS-Tutorial/01. Python/03. Modular Programming/./files/pkg/__init__.py'>"
      ]
     },
     "execution_count": 33,
     "metadata": {},
     "output_type": "execute_result"
    }
   ],
   "source": [
    "# pkg is loaded already, so we have to reload it to make __init__.py be executed again.\n",
    "from importlib import reload\n",
    "\n",
    "reload(pkg)"
   ]
  },
  {
   "cell_type": "markdown",
   "id": "6fdaabf9-498c-4e6c-9c95-67cca198ab77",
   "metadata": {},
   "source": [
    "Now when the package is imported, the global list `A` is initialized:"
   ]
  },
  {
   "cell_type": "code",
   "execution_count": 34,
   "id": "15005b0f-c0c5-4617-a23c-b7b70fab8428",
   "metadata": {},
   "outputs": [
    {
     "data": {
      "text/plain": [
       "['item_1', 'item_2', 'item_3']"
      ]
     },
     "execution_count": 34,
     "metadata": {},
     "output_type": "execute_result"
    }
   ],
   "source": [
    "pkg.A"
   ]
  },
  {
   "cell_type": "markdown",
   "id": "282183bf-11d9-4fab-992b-5f8bace424db",
   "metadata": {},
   "source": [
    "A module in the package can access the global variable by importing it in turn:"
   ]
  },
  {
   "cell_type": "code",
   "execution_count": 35,
   "id": "8a6b3ae3-3383-4837-9e02-8dfd0cad379a",
   "metadata": {},
   "outputs": [
    {
     "name": "stdout",
     "output_type": "stream",
     "text": [
      "Overwriting files/pkg/mod1.py\n"
     ]
    }
   ],
   "source": [
    "%%writefile files/pkg/mod1.py\n",
    "from pkg import A\n",
    "print(A)\n",
    "\n",
    "def add(a, b):\n",
    "    return a + b\n",
    "\n",
    "class Foo:\n",
    "    pass"
   ]
  },
  {
   "cell_type": "code",
   "execution_count": 46,
   "id": "d5962665-474d-4e00-90de-ebebe4ffad40",
   "metadata": {},
   "outputs": [],
   "source": [
    "from pkg import mod1"
   ]
  },
  {
   "cell_type": "code",
   "execution_count": 37,
   "id": "84ec9af0-828c-4dc0-a6da-f0a24f0810fb",
   "metadata": {},
   "outputs": [
    {
     "name": "stdout",
     "output_type": "stream",
     "text": [
      "['item_1', 'item_2', 'item_3']\n"
     ]
    },
    {
     "data": {
      "text/plain": [
       "<module 'pkg.mod1' from '/Users/ali/PERSONAL_DIR/github/pytopia/CS-Tutorial/01. Python/03. Modular Programming/./files/pkg/mod1.py'>"
      ]
     },
     "execution_count": 37,
     "metadata": {},
     "output_type": "execute_result"
    }
   ],
   "source": [
    "# mod1 is already imported, reloading it to show how print(A) works.\n",
    "reload(mod1)"
   ]
  },
  {
   "cell_type": "code",
   "execution_count": 38,
   "id": "98b0f689-f0b3-46c9-89f4-11b4f19866e2",
   "metadata": {},
   "outputs": [
    {
     "data": {
      "text/plain": [
       "5"
      ]
     },
     "execution_count": 38,
     "metadata": {},
     "output_type": "execute_result"
    }
   ],
   "source": [
    "mod1.add(2, 3)"
   ]
  },
  {
   "cell_type": "markdown",
   "id": "ae670469-a646-4ed9-9b6e-0e16ea73e231",
   "metadata": {},
   "source": [
    "`__init__.py` can also be used to effect automatic importing of modules from a package. For example, earlier you saw that the statement `import pkg` only places the name `pkg` in the caller’s local symbol table and doesn’t import any modules. But if `__init__.py` in the `pkg` directory contains the following:"
   ]
  },
  {
   "cell_type": "code",
   "execution_count": 39,
   "id": "b159031e-76b0-4424-9ad6-9a43eb4ee344",
   "metadata": {},
   "outputs": [
    {
     "name": "stdout",
     "output_type": "stream",
     "text": [
      "Overwriting files/pkg/__init__.py\n"
     ]
    }
   ],
   "source": [
    "%%writefile files/pkg/__init__.py\n",
    "print(f'Invoking __init__.py for {__name__}')\n",
    "A = ['item_1', 'item_2', 'item_3']\n",
    "import pkg.mod1, pkg.mod2"
   ]
  },
  {
   "cell_type": "markdown",
   "id": "1ba5472f-1703-445c-bec4-aac3b92b1fa6",
   "metadata": {},
   "source": [
    "Then when you execute `import pkg`, modules `mod1` and `mod2` are imported automatically."
   ]
  },
  {
   "cell_type": "code",
   "execution_count": 40,
   "id": "add2d33e-63b3-41b1-8ab5-fa63b6758ee9",
   "metadata": {},
   "outputs": [],
   "source": [
    "import pkg"
   ]
  },
  {
   "cell_type": "code",
   "execution_count": 41,
   "id": "ec063c30-a09a-4861-a147-87c498a354f8",
   "metadata": {},
   "outputs": [
    {
     "data": {
      "text/plain": [
       "(<module 'pkg.mod1' from '/Users/ali/PERSONAL_DIR/github/pytopia/CS-Tutorial/01. Python/03. Modular Programming/./files/pkg/mod1.py'>,\n",
       " <module 'pkg.mod2' from '/Users/ali/PERSONAL_DIR/github/pytopia/CS-Tutorial/01. Python/03. Modular Programming/./files/pkg/mod2.py'>)"
      ]
     },
     "execution_count": 41,
     "metadata": {},
     "output_type": "execute_result"
    }
   ],
   "source": [
    "pkg.mod1, pkg.mod2"
   ]
  },
  {
   "cell_type": "markdown",
   "id": "0465b9fa-65ab-4f88-87ea-784679a047cc",
   "metadata": {},
   "source": [
    "**Note:** Much of the Python documentation states that an `__init__.py` file must be present in the package directory when creating a package. This was once true. It used to be that the very presence of `__init__.py` signified to Python that a package was being defined. The file could contain initialization code or even be empty, but **it had to be present**.\n",
    "\n",
    "Starting with **Python 3.3**, Implicit Namespace Packages were introduced. These allow for the creation of a package without any `__init__.py` file. Of course, **it can still be present if package initialization is needed**. But it is no longer required.\n",
    "\n",
    "> Note: Directories without an `__init__.py` file are still treated as packages by Python. However, these won’t be regular packages, but something called namespace packages. You’ll learn more about them later."
   ]
  },
  {
   "cell_type": "markdown",
   "id": "329da79e-7d82-43c3-b8ed-d7831799020b",
   "metadata": {},
   "source": [
    "It’s fairly common to import subpackages and submodules in an `__init__.py` file to make them more readily available to your users. You can see one example of this in the popular requests package."
   ]
  },
  {
   "cell_type": "markdown",
   "id": "ecf17957-414b-43d6-97c9-aead13ba2e31",
   "metadata": {},
   "source": [
    "> **Technical Detail:** The module namespace is implemented as a Python dictionary and is available at the `.__dict__` attribute:\n",
    ">\n",
    "> ```python\n",
    ">>> import math\n",
    ">>> math.__dict__[\"pi\"]\n",
    "3.141592653589793\n",
    "> ```\n",
    "> You rarely need to interact with .__dict__ directly.\n",
    "> \n",
    "> Similarly, Python’s global namespace is also a dictionary. You can access it through `globals()`."
   ]
  },
  {
   "cell_type": "markdown",
   "id": "a9cb918b-8d06-4b66-814f-8abb20ce9b4d",
   "metadata": {},
   "source": [
    "<a class=\"anchor\" id=\"3._importing_`*`_from_a_package\"></a>\n",
    "## 3. Importing `*` From a Package"
   ]
  },
  {
   "cell_type": "markdown",
   "id": "38991c12-0cfe-428e-a724-2fa71df67530",
   "metadata": {},
   "source": [
    "You have already seen that when import * is used for a module, all objects from the module are imported into the local symbol table, except those whose names begin with an underscore, as always"
   ]
  },
  {
   "cell_type": "markdown",
   "id": "c4ed4f44-e056-4a6c-a48f-fb38eb571827",
   "metadata": {},
   "source": [
    "The analogous statement for a **package** is this:\n",
    "\n",
    "```python\n",
    "from <package_name> import *\n",
    "```"
   ]
  },
  {
   "cell_type": "code",
   "execution_count": 47,
   "id": "3e025926-4e9b-4036-a63a-021cfecefe73",
   "metadata": {},
   "outputs": [],
   "source": [
    "del mod1"
   ]
  },
  {
   "cell_type": "code",
   "execution_count": 48,
   "id": "d82f5bce-86fc-436a-8b25-d27e87f7c7b8",
   "metadata": {},
   "outputs": [
    {
     "name": "stdout",
     "output_type": "stream",
     "text": [
      "Overwriting files/pkg/__init__.py\n"
     ]
    }
   ],
   "source": [
    "%%writefile files/pkg/__init__.py\n",
    "print(f'Invoking __init__.py for {__name__}')\n",
    "A = ['item_1', 'item_2', 'item_3']"
   ]
  },
  {
   "cell_type": "code",
   "execution_count": 49,
   "id": "7fc81f65-8ea9-4a4d-8568-eae4b7b57686",
   "metadata": {},
   "outputs": [],
   "source": [
    "from pkg import *"
   ]
  },
  {
   "cell_type": "code",
   "execution_count": 50,
   "id": "8359d9b3-d872-47b3-a444-dbe003053136",
   "metadata": {},
   "outputs": [
    {
     "data": {
      "text/plain": [
       "['A',\n",
       " 'In',\n",
       " 'Out',\n",
       " 'Path',\n",
       " '_',\n",
       " '_10',\n",
       " '_13',\n",
       " '_14',\n",
       " '_15',\n",
       " '_19',\n",
       " '_21',\n",
       " '_24',\n",
       " '_25',\n",
       " '_27',\n",
       " '_28',\n",
       " '_29',\n",
       " '_33',\n",
       " '_34',\n",
       " '_37',\n",
       " '_38',\n",
       " '_41',\n",
       " '_7',\n",
       " '__',\n",
       " '___',\n",
       " '__builtin__',\n",
       " '__builtins__',\n",
       " '__doc__',\n",
       " '__loader__',\n",
       " '__name__',\n",
       " '__package__',\n",
       " '__spec__',\n",
       " '_dh',\n",
       " '_i',\n",
       " '_i1',\n",
       " '_i10',\n",
       " '_i11',\n",
       " '_i12',\n",
       " '_i13',\n",
       " '_i14',\n",
       " '_i15',\n",
       " '_i16',\n",
       " '_i17',\n",
       " '_i18',\n",
       " '_i19',\n",
       " '_i2',\n",
       " '_i20',\n",
       " '_i21',\n",
       " '_i22',\n",
       " '_i23',\n",
       " '_i24',\n",
       " '_i25',\n",
       " '_i26',\n",
       " '_i27',\n",
       " '_i28',\n",
       " '_i29',\n",
       " '_i3',\n",
       " '_i30',\n",
       " '_i31',\n",
       " '_i32',\n",
       " '_i33',\n",
       " '_i34',\n",
       " '_i35',\n",
       " '_i36',\n",
       " '_i37',\n",
       " '_i38',\n",
       " '_i39',\n",
       " '_i4',\n",
       " '_i40',\n",
       " '_i41',\n",
       " '_i42',\n",
       " '_i43',\n",
       " '_i44',\n",
       " '_i45',\n",
       " '_i46',\n",
       " '_i47',\n",
       " '_i48',\n",
       " '_i49',\n",
       " '_i5',\n",
       " '_i50',\n",
       " '_i6',\n",
       " '_i7',\n",
       " '_i8',\n",
       " '_i9',\n",
       " '_ih',\n",
       " '_ii',\n",
       " '_iii',\n",
       " '_oh',\n",
       " 'exit',\n",
       " 'get_ipython',\n",
       " 'mod1',\n",
       " 'mod2',\n",
       " 'pkg',\n",
       " 'quit',\n",
       " 'reload',\n",
       " 'sys']"
      ]
     },
     "execution_count": 50,
     "metadata": {},
     "output_type": "execute_result"
    }
   ],
   "source": [
    "dir()"
   ]
  },
  {
   "cell_type": "markdown",
   "id": "422064e7-6a02-4f50-bd12-0991916d6684",
   "metadata": {},
   "source": [
    "You might have expected (assuming you had any expectations at all) that Python would dive down into the package directory, find all the modules it could, and import them all. But as you can see, by default that is not what happens."
   ]
  },
  {
   "cell_type": "markdown",
   "id": "bab8a2e3-636b-4c19-b14c-59719b10d936",
   "metadata": {},
   "source": [
    "Instead, Python follows this convention: if the `__init__.py` file in the package directory contains a list named `__all__`, it is taken to be a list of modules that should be imported when the statement from `<package_name>` import `*` is encountered."
   ]
  },
  {
   "cell_type": "code",
   "execution_count": 51,
   "id": "71f6b076-1bc9-4a45-8828-dfd97af3dd80",
   "metadata": {},
   "outputs": [
    {
     "name": "stdout",
     "output_type": "stream",
     "text": [
      "Overwriting files/pkg/__init__.py\n"
     ]
    }
   ],
   "source": [
    "%%writefile files/pkg/__init__.py\n",
    "print(f'Invoking __init__.py for {__name__}')\n",
    "A = ['item_1', 'item_2', 'item_3']\n",
    "\n",
    "__all__ = ['mod1', 'mod2']"
   ]
  },
  {
   "cell_type": "code",
   "execution_count": 52,
   "id": "7cd21f42-52a8-490d-b680-283450285420",
   "metadata": {},
   "outputs": [],
   "source": [
    "from pkg import *"
   ]
  },
  {
   "cell_type": "code",
   "execution_count": 53,
   "id": "d6b6b3eb-5d0e-4c15-9c63-af35044641b4",
   "metadata": {},
   "outputs": [
    {
     "data": {
      "text/plain": [
       "['A',\n",
       " 'In',\n",
       " 'Out',\n",
       " 'Path',\n",
       " '_',\n",
       " '_10',\n",
       " '_13',\n",
       " '_14',\n",
       " '_15',\n",
       " '_19',\n",
       " '_21',\n",
       " '_24',\n",
       " '_25',\n",
       " '_27',\n",
       " '_28',\n",
       " '_29',\n",
       " '_33',\n",
       " '_34',\n",
       " '_37',\n",
       " '_38',\n",
       " '_41',\n",
       " '_50',\n",
       " '_7',\n",
       " '__',\n",
       " '___',\n",
       " '__builtin__',\n",
       " '__builtins__',\n",
       " '__doc__',\n",
       " '__loader__',\n",
       " '__name__',\n",
       " '__package__',\n",
       " '__spec__',\n",
       " '_dh',\n",
       " '_i',\n",
       " '_i1',\n",
       " '_i10',\n",
       " '_i11',\n",
       " '_i12',\n",
       " '_i13',\n",
       " '_i14',\n",
       " '_i15',\n",
       " '_i16',\n",
       " '_i17',\n",
       " '_i18',\n",
       " '_i19',\n",
       " '_i2',\n",
       " '_i20',\n",
       " '_i21',\n",
       " '_i22',\n",
       " '_i23',\n",
       " '_i24',\n",
       " '_i25',\n",
       " '_i26',\n",
       " '_i27',\n",
       " '_i28',\n",
       " '_i29',\n",
       " '_i3',\n",
       " '_i30',\n",
       " '_i31',\n",
       " '_i32',\n",
       " '_i33',\n",
       " '_i34',\n",
       " '_i35',\n",
       " '_i36',\n",
       " '_i37',\n",
       " '_i38',\n",
       " '_i39',\n",
       " '_i4',\n",
       " '_i40',\n",
       " '_i41',\n",
       " '_i42',\n",
       " '_i43',\n",
       " '_i44',\n",
       " '_i45',\n",
       " '_i46',\n",
       " '_i47',\n",
       " '_i48',\n",
       " '_i49',\n",
       " '_i5',\n",
       " '_i50',\n",
       " '_i51',\n",
       " '_i52',\n",
       " '_i53',\n",
       " '_i6',\n",
       " '_i7',\n",
       " '_i8',\n",
       " '_i9',\n",
       " '_ih',\n",
       " '_ii',\n",
       " '_iii',\n",
       " '_oh',\n",
       " 'exit',\n",
       " 'get_ipython',\n",
       " 'mod1',\n",
       " 'mod2',\n",
       " 'pkg',\n",
       " 'quit',\n",
       " 'reload',\n",
       " 'sys']"
      ]
     },
     "execution_count": 53,
     "metadata": {},
     "output_type": "execute_result"
    }
   ],
   "source": [
    "dir()"
   ]
  },
  {
   "cell_type": "markdown",
   "id": "e51e887c-d9ac-4354-9f8d-e206890b5a85",
   "metadata": {},
   "source": [
    "Using `import *` still isn’t considered terrific form, any more for packages than for modules. But this facility at least gives the creator of the package some control over what happens when `import *` is specified. (In fact, it provides the capability to disallow it entirely, simply by declining to define `__all__` at all. As you have seen, the default behavior for packages is to import nothing.)"
   ]
  },
  {
   "cell_type": "markdown",
   "id": "f7a05ba9-640a-424f-88c2-8f92176b027a",
   "metadata": {},
   "source": [
    "By the way, `__all__` can be defined in a module as well and serves the same purpose: to control what is imported with import `*`. For example, modify `mod1.py` as follows:"
   ]
  },
  {
   "cell_type": "code",
   "execution_count": 54,
   "id": "d9e001bc-072b-4045-a259-af5cc181732a",
   "metadata": {},
   "outputs": [
    {
     "name": "stdout",
     "output_type": "stream",
     "text": [
      "Overwriting files/pkg/mod1.py\n"
     ]
    }
   ],
   "source": [
    "%%writefile files/pkg/mod1.py\n",
    "__all__ = ['foo']\n",
    "\n",
    "def foo():\n",
    "    print('[mod1] foo()')\n",
    "\n",
    "class Foo:\n",
    "    pass"
   ]
  },
  {
   "cell_type": "markdown",
   "id": "6f1be04e-d445-4bfb-8cb8-1bf3bc329f9a",
   "metadata": {},
   "source": [
    "Now `from pkg.mod1 import *` statement from pkg.mod1 will only import what is contained in `__all__`."
   ]
  },
  {
   "cell_type": "markdown",
   "id": "a5762be2-0bf1-4319-aedc-eb6556c1f8aa",
   "metadata": {},
   "source": [
    "**Summary:**\n",
    "\n",
    "`__all__` is used by both packages and modules to control what is imported when `import *` is specified. But the default behavior differs:\n",
    "\n",
    "- For a package, when `__all__` is not defined, `import *` does not import anything.\n",
    "- For a module, when `__all__` is not defined, `import *` imports everything (except—you guessed it—names starting with an underscore)."
   ]
  },
  {
   "cell_type": "markdown",
   "id": "67a15a9e-7605-4f83-a102-bda372606a48",
   "metadata": {},
   "source": [
    "<a class=\"anchor\" id=\"4._subpackages\"></a>\n",
    "## 4. Subpackages"
   ]
  },
  {
   "cell_type": "markdown",
   "id": "a3ca6bcb-598c-42e3-9f99-dde8e9d1a691",
   "metadata": {},
   "source": [
    "Packages can contain nested subpackages to arbitrary depth. For example, let’s make one more modification to the example package directory as follows:\n",
    "\n",
    "<img src=\"../images/sub_pkg.png\" alt=\"subpackage\" width=500 align=\"left\" />"
   ]
  },
  {
   "cell_type": "markdown",
   "id": "32161c73-81d5-4aad-a3a7-70311a71efb2",
   "metadata": {},
   "source": [
    "Importing still works the same as shown previously. Syntax is similar, but additional **dot notation** is used to separate **package** name from **subpackage** name:"
   ]
  },
  {
   "cell_type": "code",
   "execution_count": 55,
   "id": "a0a75a4b-b90a-4473-8c73-7461468e6a55",
   "metadata": {},
   "outputs": [],
   "source": [
    "!mkdir files/pkg/sub_pkg_1"
   ]
  },
  {
   "cell_type": "code",
   "execution_count": 56,
   "id": "28bdeef3-d807-4ae1-b273-86c0b6b5440e",
   "metadata": {},
   "outputs": [
    {
     "name": "stdout",
     "output_type": "stream",
     "text": [
      "Writing files/pkg/sub_pkg_1/mod3.py\n"
     ]
    }
   ],
   "source": [
    "%%writefile files/pkg/sub_pkg_1/mod3.py\n",
    "def sub_foo():\n",
    "    print('[mod1.py] foo()')\n",
    "\n",
    "class SubFoo:\n",
    "    pass"
   ]
  },
  {
   "cell_type": "code",
   "execution_count": 58,
   "id": "d9b4ea4a-cf53-41c6-9831-6dc31d5f2205",
   "metadata": {},
   "outputs": [],
   "source": [
    "import pkg.sub_pkg_1.mod3"
   ]
  },
  {
   "cell_type": "markdown",
   "id": "31ac159b-b03e-4f4c-92e3-c27315d75af2",
   "metadata": {},
   "source": [
    "In addition, a module in one subpackage can reference objects in a **sibling subpackage** (in the event that the sibling contains some functionality that you need). For example, suppose you want to import and execute function foo() (defined in module mod1) from within module mod3. You can either use an **absolute import**:"
   ]
  },
  {
   "cell_type": "code",
   "execution_count": 59,
   "id": "f7d603ed-0dac-4d56-bc13-f5dcdfef4f52",
   "metadata": {},
   "outputs": [
    {
     "name": "stdout",
     "output_type": "stream",
     "text": [
      "Writing files/pkg/sub_pkg_1/mod4.py\n"
     ]
    }
   ],
   "source": [
    "%%writefile files/pkg/sub_pkg_1/mod4.py\n",
    "def sub_bar():\n",
    "    print('[mod2.py] baz()')\n",
    "\n",
    "class SubBar:\n",
    "    pass\n",
    "\n",
    "from pkg.sub_pkg_1.mod1 import sub_foo\n",
    "sub_foo()"
   ]
  },
  {
   "cell_type": "code",
   "execution_count": 60,
   "id": "738bd0af-2294-4667-822d-ad9e8597f9a6",
   "metadata": {},
   "outputs": [
    {
     "ename": "ModuleNotFoundError",
     "evalue": "No module named 'pkg.sub_pkg_1.mod1'",
     "output_type": "error",
     "traceback": [
      "\u001b[0;31m---------------------------------------------------------------------------\u001b[0m",
      "\u001b[0;31mModuleNotFoundError\u001b[0m                       Traceback (most recent call last)",
      "Input \u001b[0;32mIn [60]\u001b[0m, in \u001b[0;36m<module>\u001b[0;34m\u001b[0m\n\u001b[0;32m----> 1\u001b[0m \u001b[38;5;28;01mfrom\u001b[39;00m \u001b[38;5;21;01mpkg\u001b[39;00m\u001b[38;5;21;01m.\u001b[39;00m\u001b[38;5;21;01msub_pkg_1\u001b[39;00m \u001b[38;5;28;01mimport\u001b[39;00m mod4\n",
      "File \u001b[0;32m~/PERSONAL_DIR/github/pytopia/CS-Tutorial/01. Python/03. Modular Programming/./files/pkg/sub_pkg_1/mod4.py:7\u001b[0m, in \u001b[0;36m<module>\u001b[0;34m\u001b[0m\n\u001b[1;32m      4\u001b[0m \u001b[38;5;28;01mclass\u001b[39;00m \u001b[38;5;21;01mSubBar\u001b[39;00m:\n\u001b[1;32m      5\u001b[0m     \u001b[38;5;28;01mpass\u001b[39;00m\n\u001b[0;32m----> 7\u001b[0m \u001b[38;5;28;01mfrom\u001b[39;00m \u001b[38;5;21;01mpkg\u001b[39;00m\u001b[38;5;21;01m.\u001b[39;00m\u001b[38;5;21;01msub_pkg_1\u001b[39;00m\u001b[38;5;21;01m.\u001b[39;00m\u001b[38;5;21;01mmod1\u001b[39;00m \u001b[38;5;28;01mimport\u001b[39;00m sub_foo\n\u001b[1;32m      8\u001b[0m sub_foo()\n",
      "\u001b[0;31mModuleNotFoundError\u001b[0m: No module named 'pkg.sub_pkg_1.mod1'"
     ]
    }
   ],
   "source": [
    "from pkg.sub_pkg_1 import mod4"
   ]
  },
  {
   "cell_type": "markdown",
   "id": "a1d45096-0f2b-4936-ae27-8a7d375b01c4",
   "metadata": {},
   "source": [
    "Or you can use a **relative import**, where `..` refers to the package one level up. From within `mod1.py`, which is in subpackage `sub_pkg`,\n",
    "\n",
    "- `..` evaluates to the parent package (`pkg`), and\n",
    "- `..sub_pkg` evaluates to subpackage `sub_pkg` of the parent package."
   ]
  },
  {
   "cell_type": "code",
   "execution_count": 61,
   "id": "c2110615-e0c3-4b96-9013-b9c9d1567de0",
   "metadata": {},
   "outputs": [],
   "source": [
    "!mkdir files/pkg/sub_pkg_2"
   ]
  },
  {
   "cell_type": "code",
   "execution_count": 62,
   "id": "a808c67a-c39c-4c21-987c-dcc5742be9c5",
   "metadata": {},
   "outputs": [
    {
     "name": "stdout",
     "output_type": "stream",
     "text": [
      "Writing files/pkg/sub_pkg_2/mod5.py\n"
     ]
    }
   ],
   "source": [
    "%%writefile files/pkg/sub_pkg_2/mod5.py\n",
    "from .. import sub_pkg_1\n",
    "print(sub_pkg_1)\n",
    "\n",
    "from ..sub_pkg_1.mod3 import sub_foo\n",
    "sub_foo()"
   ]
  },
  {
   "cell_type": "code",
   "execution_count": 63,
   "id": "fde3cce2-c206-4b7c-b708-0bb547759310",
   "metadata": {},
   "outputs": [
    {
     "name": "stdout",
     "output_type": "stream",
     "text": [
      "<module 'pkg.sub_pkg_1' (namespace)>\n",
      "[mod1.py] foo()\n"
     ]
    }
   ],
   "source": [
    "from pkg.sub_pkg_2 import mod5"
   ]
  },
  {
   "cell_type": "markdown",
   "id": "ed56918e-2587-46af-b2f4-f6ac392f3a79",
   "metadata": {},
   "source": [
    "<a class=\"anchor\" id=\"summary\"></a>\n",
    "## Summary"
   ]
  },
  {
   "cell_type": "markdown",
   "id": "3686e3f5-5bd2-4d1f-a5d6-53bbcba6b953",
   "metadata": {},
   "source": [
    "In modularization section, the following topics are covered:\n",
    "\n",
    "- How to create a Python module\n",
    "- Locations where the Python interpreter searches for a module\n",
    "- How to obtain access to the objects defined in a module with the import statement\n",
    "- How to create a module that is executable as a standalone script\n",
    "- How to organize modules into packages and subpackages\n",
    "- How to control package initialization"
   ]
  }
 ],
 "metadata": {
  "kernelspec": {
   "display_name": "Python 3",
   "language": "python",
   "name": "python3"
  },
  "language_info": {
   "codemirror_mode": {
    "name": "ipython",
    "version": 3
   },
   "file_extension": ".py",
   "mimetype": "text/x-python",
   "name": "python",
   "nbconvert_exporter": "python",
   "pygments_lexer": "ipython3",
   "version": "3.8.11"
  }
 },
 "nbformat": 4,
 "nbformat_minor": 5
}
