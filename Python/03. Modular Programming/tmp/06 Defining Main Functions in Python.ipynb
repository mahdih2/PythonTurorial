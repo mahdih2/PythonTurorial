{
 "cells": [
  {
   "cell_type": "markdown",
   "id": "06200c2a",
   "metadata": {},
   "source": [
    "<img src=\"../../images/banners/python-modular.png\" width=\"600\"/>"
   ]
  },
  {
   "cell_type": "markdown",
   "id": "2819a4d2",
   "metadata": {},
   "source": [
    "# <img src=\"../../images/logos/python.png\" width=\"23\"/> Defining Main Functions in Python \n"
   ]
  },
  {
   "cell_type": "markdown",
   "id": "acd16489",
   "metadata": {},
   "source": [
    "## <img src=\"../../images/logos/toc.png\" width=\"20\"/> Table of Contents \n",
    "* [A Basic Python main()](#a_basic_python_main())\n",
    "* [Execution Modes in Python](#execution_modes_in_python)\n",
    "    * [Executing From the Command Line](#executing_from_the_command_line)\n",
    "    * [Importing Into a Module or the Interactive Interpreter](#importing_into_a_module_or_the_interactive_interpreter)\n",
    "* [Best Practices for Python Main Functions](#best_practices_for_python_main_functions)\n",
    "    * [Put Most Code Into a Function or Class](#put_most_code_into_a_function_or_class)\n",
    "    * [Use `if __name__ == \"__main__\"` to Control the Execution of Your Code](#use_`if___name___==_\"__main__\"`_to_control_the_execution_of_your_code)\n",
    "    * [Create a Function Called main() to Contain the Code You Want to Run](#create_a_function_called_main()_to_contain_the_code_you_want_to_run)\n",
    "    * [Call Other Functions From main()](#call_other_functions_from_main())\n",
    "    * [Summary of Python Main Function Best Practices](#summary_of_python_main_function_best_practices)\n",
    "* [Conclusion](#conclusion)\n",
    "\n",
    "---"
   ]
  },
  {
   "cell_type": "markdown",
   "id": "427f3d95",
   "metadata": {},
   "source": [
    "Many programming languages have a special function that is automatically executed when an operating system starts to run a program. This function is usually called `main()` and must have a specific [return](https://realpython.com/python-return-statement/) type and arguments according to the language standard. On the other hand, the Python interpreter executes scripts starting at the top of the file, and there is no specific function that Python automatically executes."
   ]
  },
  {
   "cell_type": "markdown",
   "id": "928e5f14",
   "metadata": {},
   "source": [
    "Nevertheless, having a defined starting point for the execution of a program is useful for understanding how a program works. Python programmers have come up with several conventions to define this starting point."
   ]
  },
  {
   "cell_type": "markdown",
   "id": "c75bc6fb",
   "metadata": {},
   "source": [
    "**By the end of this article, you’ll understand:**"
   ]
  },
  {
   "cell_type": "markdown",
   "id": "304cbdc7",
   "metadata": {},
   "source": [
    "- What the special `__name__` variable is and how Python defines it\n",
    "- Why you would want to use a `main()` in Python\n",
    "- What conventions there are for defining `main()` in Python \n",
    "- What the best-practices are for what code to put into your `main()`\n"
   ]
  },
  {
   "cell_type": "markdown",
   "id": "943a6ceb",
   "metadata": {},
   "source": [
    "<a class=\"anchor\" id=\"a_basic_python_main()\"></a>\n",
    "\n",
    "## A Basic Python main()"
   ]
  },
  {
   "cell_type": "markdown",
   "id": "b72782f5",
   "metadata": {},
   "source": [
    "In some Python scripts, you may see a function definition and a conditional statement that looks like the example below:"
   ]
  },
  {
   "cell_type": "code",
   "execution_count": null,
   "id": "cb477a00",
   "metadata": {},
   "outputs": [],
   "source": [
    "def main():\n",
    "    print(\"Hello World!\")\n",
    "\n",
    "if __name__ == \"__main__\":\n",
    "    main()"
   ]
  },
  {
   "cell_type": "markdown",
   "id": "557070aa",
   "metadata": {},
   "source": [
    "In this code, there is a function called `main()` that prints the phrase `Hello World!` when the Python interpreter executes it. There is also a conditional (or `if`) statement that checks the value of `__name__` and compares it to the string `\"__main__\"`. When the `if` statement evaluates to `True`, the Python interpreter executes `main()`."
   ]
  },
  {
   "cell_type": "markdown",
   "id": "462b93b0",
   "metadata": {},
   "source": [
    "This code pattern is quite common in Python files that you want to be **executed as a script** and **imported in another module**. To help understand how this code will execute, you should first understand how the Python interpreter sets `__name__` depending on how the code is being executed."
   ]
  },
  {
   "cell_type": "markdown",
   "id": "ae000779",
   "metadata": {},
   "source": [
    "<a class=\"anchor\" id=\"execution_modes_in_python\"></a>\n",
    "\n",
    "## Execution Modes in Python"
   ]
  },
  {
   "cell_type": "markdown",
   "id": "dd147a65",
   "metadata": {},
   "source": [
    "There are two primary ways that you can instruct the Python interpreter to execute or use code:"
   ]
  },
  {
   "cell_type": "markdown",
   "id": "111d76a3",
   "metadata": {},
   "source": [
    "1. You can execute the Python file as a **script** using the command line.\n",
    "2. You can **import** the code from one Python file into another file or into the interactive interpreter.\n"
   ]
  },
  {
   "cell_type": "markdown",
   "id": "ca665bed",
   "metadata": {},
   "source": [
    "You can read a lot more about these approaches in [How to Run Your Python Scripts](https://realpython.com/run-python-scripts/). No matter which way of running your code you’re using, Python defines a special variable called `__name__` that contains a string whose value depends on how the code is being used."
   ]
  },
  {
   "cell_type": "markdown",
   "id": "3c9c0690",
   "metadata": {},
   "source": [
    "We’ll use this example file, saved as `execution_methods.py`, to explore how the behavior of the code changes depending on the context:"
   ]
  },
  {
   "cell_type": "code",
   "execution_count": null,
   "id": "edb84b67",
   "metadata": {},
   "outputs": [],
   "source": [
    "print(\"This is my file to test Python's execution methods.\")\n",
    "print(\"The variable __name__ tells me which context this file is running in.\")\n",
    "print(\"The value of __name__ is:\", repr(__name__))"
   ]
  },
  {
   "cell_type": "markdown",
   "id": "fb13208f",
   "metadata": {},
   "source": [
    "In this file, there are three calls to [`print()`](https://realpython.com/python-print/) defined. The first two print some introductory phrases. The third `print()` will first print the phrase `The value of __name__ is`, and then it will print the representation of the `__name__` variable using Python’s built-in `repr()`."
   ]
  },
  {
   "cell_type": "markdown",
   "id": "c03e70a8",
   "metadata": {},
   "source": [
    "In Python, `repr()` displays the printable representation of an object. This example uses `repr()` to emphasize that the value of `__name__` is a string. You can read more about `repr()` in the [Python documentation](https://docs.python.org/3/library/functions.html#repr)."
   ]
  },
  {
   "cell_type": "markdown",
   "id": "67817d17",
   "metadata": {},
   "source": [
    "You’ll see the words **file**, **module**, and **script** used throughout this article. Practically, there isn’t much difference between them. However, there are slight differences in meaning that emphasize the purpose of a piece of code:\n",
    "\n",
    "1. **File:** Typically, a Python file is any file that contains code. Most Python files have the extension `.py`.\n",
    "2. **Script:** A Python script is a file that you intend to execute from the command line to accomplish a task.\n",
    "3. **Module:** A Python module is a file that you intend to import from within another module or a script, or from the interactive interpreter. You can read more about modules in [Python Modules and Packages – An Introduction](https://realpython.com/python-modules-packages/)."
   ]
  },
  {
   "cell_type": "markdown",
   "id": "f001ac1a",
   "metadata": {},
   "source": [
    "This distinction is also discussed in [How to Run Your Python Scripts](https://realpython.com/run-python-scripts/)."
   ]
  },
  {
   "cell_type": "markdown",
   "id": "f867360f",
   "metadata": {},
   "source": [
    "<a class=\"anchor\" id=\"executing_from_the_command_line\"></a>\n",
    "\n",
    "### Executing From the Command Line"
   ]
  },
  {
   "cell_type": "markdown",
   "id": "48ba382b",
   "metadata": {},
   "source": [
    "In this approach, you want to execute your Python script from the command line."
   ]
  },
  {
   "cell_type": "markdown",
   "id": "73a28ccc",
   "metadata": {},
   "source": [
    "When you execute a script, you will not be able to interactively define the code that the Python interpreter is executing. The details of how you can execute Python from your command line are not that important for the purpose of this article, but you can read the box below to read more about the differences between the command line on Windows, Linux, and macOS.\n",
    "\n",
    "> #### Command Line Environments\n",
    "> The way that you tell the computer to execute code from the command line is slightly different depending on your operating system.\n",
    ">\n",
    ">On Linux and macOS, the command line typically looks like the example below:\n",
    ">\n",
    ">`eleanor@realpython:~/Documents$`\n",
    ">\n",
    ">The part before the dollar sign (`$`) may look different, depending on your username and your computer’s name. The commands that you type will go after the `$`. On Linux or macOS, the name of the Python 3 executable is python3, so you should run Python scripts by typing python3 script_name.py after the `$`.\n",
    ">\n",
    ">On Windows, the command prompt typically looks like the example below:\n",
    ">\n",
    ">`C:\\Users\\Eleanor\\Documents>`\n",
    ">\n",
    "> The part before the > may look different, depending on your username. The commands that you type will go after the `>`. On Windows, the name of the Python 3 executable is typically python, so you should run Python scripts by typing python `script_name.py` after the `>`.\n",
    ">\n",
    ">Regardless of your operating system, the output from the Python scripts that you use in this article will be the same, so only the Linux and macOS style of input is shown in this article, and the input line will start at the `$`."
   ]
  },
  {
   "cell_type": "markdown",
   "id": "b0706c75",
   "metadata": {},
   "source": [
    "Now you should execute the `execution_methods.py` script from the command line, as shown below:"
   ]
  },
  {
   "cell_type": "markdown",
   "id": "e8a33be2",
   "metadata": {},
   "source": [
    "```sh\n",
    "$ python3 execution_methods.py\n",
    "This is my file to test Python's execution methods.\n",
    "The variable __name__ tells me which context this file is running in.\n",
    "The value of __name__ is: '__main__'\n",
    "```"
   ]
  },
  {
   "cell_type": "markdown",
   "id": "09b183ba",
   "metadata": {},
   "source": [
    "In this example, you can see that `__name__` has the value `'__main__'`, where the quote symbols (`'`) tell you that the value has the string type."
   ]
  },
  {
   "cell_type": "markdown",
   "id": "36357678",
   "metadata": {},
   "source": [
    "Remember that, in Python, there is no difference between strings defined with single quotes (`'`) and double quotes (`\"`). You can read more about defining strings in [Basic Data Types in Python](https://realpython.com/python-data-types/#strings)."
   ]
  },
  {
   "cell_type": "markdown",
   "id": "184371f3",
   "metadata": {},
   "source": [
    "You will find identical output if you include a [shebang line](https://en.wikipedia.org/wiki/Shebang_(Unix)) in your script and execute it directly (`./execution_methods.py`), or use the `%run` magic in IPython or Jupyter Notebooks."
   ]
  },
  {
   "cell_type": "markdown",
   "id": "65595ab3",
   "metadata": {},
   "source": [
    "You may also see Python scripts executed from within packages by adding the `-m` argument to the command. Most often, you will see this recommended when you’re using `pip`: `python3 -m pip install package_name`."
   ]
  },
  {
   "cell_type": "markdown",
   "id": "00f4018c",
   "metadata": {},
   "source": [
    "Adding the `-m` argument runs the code in the `__main__.py` module of a package. You can find more information about the `__main__.py` file in [How to Publish an Open-Source Python Package to PyPI](https://realpython.com/pypi-publish-python-package/#different-ways-of-calling-a-package)."
   ]
  },
  {
   "cell_type": "markdown",
   "id": "8b3856a4",
   "metadata": {},
   "source": [
    "In all three of these cases, `__name__` has the same value: the string `'__main__'`."
   ]
  },
  {
   "cell_type": "markdown",
   "id": "856fafbf",
   "metadata": {},
   "source": [
    "<a class=\"anchor\" id=\"importing_into_a_module_or_the_interactive_interpreter\"></a>\n",
    "\n",
    "### Importing Into a Module or the Interactive Interpreter"
   ]
  },
  {
   "cell_type": "markdown",
   "id": "3c12d734",
   "metadata": {},
   "source": [
    "Now let’s take a look at the second way that the Python interpreter will execute your code: imports. When you are developing a module or script, you will most likely want to take advantage of modules that someone else has already built, which you can do with the `import` keyword."
   ]
  },
  {
   "cell_type": "markdown",
   "id": "bfe91653",
   "metadata": {},
   "source": [
    "During the import process, Python executes the statements defined in the specified module (but only the *first* time you import a module). To demonstrate the results of importing your `execution_methods.py` file, start the interactive Python interpreter and then import your `execution_methods.py` file:"
   ]
  },
  {
   "cell_type": "code",
   "execution_count": null,
   "id": "9b1fc987",
   "metadata": {},
   "outputs": [],
   "source": [
    ">>> import execution_methods\n",
    "This is my file to test Python's execution methods.\n",
    "The variable __name__ tells me which context this file is running in.\n",
    "The value of __name__ is: 'execution_methods'"
   ]
  },
  {
   "cell_type": "markdown",
   "id": "55e6f10c",
   "metadata": {},
   "source": [
    "In this code output, you can see that the Python interpreter executes the three calls to [`print()`](https://realpython.com/courses/python-print/). The first two lines of output are exactly the same as when you executed the file as a script on the command line because there are no variables in either of the first two lines. However, there is a difference in the output from the third `print()`."
   ]
  },
  {
   "cell_type": "markdown",
   "id": "07cd3de6",
   "metadata": {},
   "source": [
    "When the Python interpreter imports code, the value of `__name__` is set to be the same as the name of the module that is being imported. You can see this in the third line of output above. `__name__` has the value `'execution_methods'`, which is the name of the `.py` file that Python is importing from."
   ]
  },
  {
   "cell_type": "markdown",
   "id": "5f0a6272",
   "metadata": {},
   "source": [
    "Note that if you `import` the module again without quitting Python, there will be no output."
   ]
  },
  {
   "cell_type": "markdown",
   "id": "bfd9684d",
   "metadata": {},
   "source": [
    "<a class=\"anchor\" id=\"best_practices_for_python_main_functions\"></a>\n",
    "\n",
    "## Best Practices for Python Main Functions"
   ]
  },
  {
   "cell_type": "markdown",
   "id": "c2ad3319",
   "metadata": {},
   "source": [
    "Now that you can see the differences in how Python handles its different execution modes, it’s useful for you to know some best practices to use. These will apply whenever you want to write code that you can run as a script *and* import in another module or an interactive session."
   ]
  },
  {
   "cell_type": "markdown",
   "id": "6fed0057",
   "metadata": {},
   "source": [
    "You will learn about four best practices to make sure that your code can serve a dual purpose:"
   ]
  },
  {
   "cell_type": "markdown",
   "id": "ab178e62",
   "metadata": {},
   "source": [
    "1. Put most code into a function or class.\n",
    "2. Use `__name__` to control execution of your code.\n",
    "3. Create a function called `main()` to contain the code you want to run.\n",
    "4. Call other functions from `main()`.\n"
   ]
  },
  {
   "cell_type": "markdown",
   "id": "6a55b527",
   "metadata": {},
   "source": [
    "<a class=\"anchor\" id=\"put_most_code_into_a_function_or_class\"></a>\n",
    "\n",
    "### Put Most Code Into a Function or Class"
   ]
  },
  {
   "cell_type": "markdown",
   "id": "b1ddb7e1",
   "metadata": {},
   "source": [
    "Remember that the Python interpreter executes all the code in a module when it imports the module. Sometimes the code you write will have side effects that you want the user to control, such as:\n",
    "\n",
    "- Running a computation that takes a long time\n",
    "- Writing to a file on the disk\n",
    "- Printing information that would clutter the user’s terminal"
   ]
  },
  {
   "cell_type": "markdown",
   "id": "db0c1d15",
   "metadata": {},
   "source": [
    "In these cases, you want the user to control triggering the execution of this code, rather than letting the Python interpreter execute the code when it imports your module."
   ]
  },
  {
   "cell_type": "markdown",
   "id": "9508d56a",
   "metadata": {},
   "source": [
    "Therefore, the best practice is to **include most code inside a function or a class**. This is because when the Python interpreter encounters the `def` or `class` keywords, it only stores those definitions for later use and doesn’t actually execute them until you tell it to."
   ]
  },
  {
   "cell_type": "markdown",
   "id": "94f12563",
   "metadata": {},
   "source": [
    "Save the code below to a file called `best_practices.py` to demonstrate this idea:"
   ]
  },
  {
   "cell_type": "code",
   "execution_count": null,
   "id": "90e54ec0",
   "metadata": {},
   "outputs": [],
   "source": [
    "from time import sleep\n",
    "\n",
    "print(\"This is my file to demonstrate best practices.\")\n",
    "\n",
    "def process_data(data):\n",
    "    print(\"Beginning data processing...\")\n",
    "    modified_data = data + \" that has been modified\"\n",
    "    sleep(3)\n",
    "    print(\"Data processing finished.\")\n",
    "    return modified_data"
   ]
  },
  {
   "cell_type": "markdown",
   "id": "57532b29",
   "metadata": {},
   "source": [
    "In this code, you first import [`sleep()`](https://realpython.com/python-sleep/) from the [`time` module](https://realpython.com/python-time-module/). "
   ]
  },
  {
   "cell_type": "markdown",
   "id": "c206dfec",
   "metadata": {},
   "source": [
    "`sleep()` pauses the interpreter for however many seconds you give as an argument and will produce a function that takes a long time to run for this example. Next, you use `print()` to print a sentence describing the purpose of this code. "
   ]
  },
  {
   "cell_type": "markdown",
   "id": "69a4f675",
   "metadata": {},
   "source": [
    "Then, you define a function called `process_data()` that does five things:"
   ]
  },
  {
   "cell_type": "markdown",
   "id": "5f1a7048",
   "metadata": {},
   "source": [
    "1. Prints some output to tell the user that the data processing is starting\n",
    "2. Modifies the input data\n",
    "3. Pauses the execution for three seconds using `sleep()`\n",
    "4. Prints some output to tell the user that the processing is finished\n",
    "5. Returns the modified data\n"
   ]
  },
  {
   "cell_type": "markdown",
   "id": "7999c2ae",
   "metadata": {},
   "source": [
    "**Execute the Best Practices File on the Command Line**"
   ]
  },
  {
   "cell_type": "markdown",
   "id": "c262c539",
   "metadata": {},
   "source": [
    "Now, what will happen when you execute this file as a script on the command line? "
   ]
  },
  {
   "cell_type": "markdown",
   "id": "bca8bd60",
   "metadata": {},
   "source": [
    "The Python interpreter will execute the `from time import sleep` and `print()` lines that are outside the function definition, then it will create the definition of the function called `process_data()`. Then, the script will exit without doing anything further, because the script does not have any code that executes `process_data()`. "
   ]
  },
  {
   "cell_type": "markdown",
   "id": "2bb4636b",
   "metadata": {},
   "source": [
    "The code block below shows the result of running this file as a script:"
   ]
  },
  {
   "cell_type": "markdown",
   "id": "39e36071",
   "metadata": {},
   "source": [
    "```sh\n",
    "$ python3 best_practices.py\n",
    "This is my file to demonstrate best practices.\n",
    "```"
   ]
  },
  {
   "cell_type": "markdown",
   "id": "2780bd63",
   "metadata": {},
   "source": [
    "The output that we can see here is the result of the first `print()`. Notice that importing from `time` and defining `process_data()` produce no output. Specifically, the outputs of the calls to `print()` that are inside the definition of `process_data()` are not printed!"
   ]
  },
  {
   "cell_type": "markdown",
   "id": "86f564a3",
   "metadata": {},
   "source": [
    "**Import the Best Practices File in Another Module or the Interactive Interpreter**"
   ]
  },
  {
   "cell_type": "markdown",
   "id": "42e95d6f",
   "metadata": {},
   "source": [
    "When you import this file in an interactive session (or another module), the Python interpreter will perform exactly the same steps as when it executes file as a script."
   ]
  },
  {
   "cell_type": "markdown",
   "id": "2832ef8c",
   "metadata": {},
   "source": [
    "Once the Python interpreter imports the file, you can use any variables, classes, or functions defined in the module you’ve imported. To demonstrate this, we will use the interactive Python interpreter. Start the interactive interpreter and then type `import best_practices`:"
   ]
  },
  {
   "cell_type": "code",
   "execution_count": null,
   "id": "09e59119",
   "metadata": {},
   "outputs": [],
   "source": [
    ">>> import best_practices\n",
    "This is my file to demonstrate best practices."
   ]
  },
  {
   "cell_type": "markdown",
   "id": "16c15014",
   "metadata": {},
   "source": [
    "The only output from importing the `best_practices.py` file is from the first `print()` call defined outside `process_data()`. Importing from `time` and defining `process_data()` produce no output, just like when you executed the code from the command line."
   ]
  },
  {
   "cell_type": "markdown",
   "id": "6ec55e68",
   "metadata": {},
   "source": [
    "<a class=\"anchor\" id=\"use_`if___name___==_\"__main__\"`_to_control_the_execution_of_your_code\"></a>\n",
    "\n",
    "### Use `if __name__ == \"__main__\"` to Control the Execution of Your Code"
   ]
  },
  {
   "cell_type": "markdown",
   "id": "1f301d50",
   "metadata": {},
   "source": [
    "What if you want `process_data()` to execute when you run the script from the command line but not when the Python interpreter imports the file? "
   ]
  },
  {
   "cell_type": "markdown",
   "id": "f700ae94",
   "metadata": {},
   "source": [
    "You can **use the `if __name__ == \"__main__\"` idiom to determine the execution context** and conditionally run `process_data()` only when `__name__` is equal to `\"__main__\"`. Add the code below to the bottom of your `best_practices.py` file:"
   ]
  },
  {
   "cell_type": "code",
   "execution_count": 2,
   "id": "c30bd66e",
   "metadata": {},
   "outputs": [],
   "source": [
    "if __name__ == \"__main__\":\n",
    "    data = \"My data read from the Web\"\n",
    "    print(data)\n",
    "    modified_data = process_data(data)\n",
    "    print(modified_data)"
   ]
  },
  {
   "cell_type": "markdown",
   "id": "02a5df3f",
   "metadata": {},
   "source": [
    "In this code, you’ve added a conditional statement that checks the value of `__name__`. This conditional will evaluate to `True` when `__name__` is equal to the string `\"__main__\"`. Remember that the special value of `\"__main__\"` for the `__name__` variable means the Python interpreter is executing your script and not importing it."
   ]
  },
  {
   "cell_type": "markdown",
   "id": "a6547014",
   "metadata": {},
   "source": [
    "Inside the conditional block, you have added four lines of code (lines 12, 13, 14, and 15):"
   ]
  },
  {
   "cell_type": "markdown",
   "id": "d6bf8964",
   "metadata": {},
   "source": [
    "- **Lines `data = \"My data read from the Web\"` and `print(data)`:** You are creating a variable `data` that stores the data you’ve acquired from the Web and printing it.\n",
    "- **Line `modified_data = process_data(data)`:** You are processing the data.\n",
    "- **Line `print(modified_data)`:** You are printing the modified data. \n"
   ]
  },
  {
   "cell_type": "markdown",
   "id": "3fe3be8e",
   "metadata": {},
   "source": [
    "Now, run your `best_practices.py` script from the command line to see how the output will change:"
   ]
  },
  {
   "cell_type": "markdown",
   "id": "e8272bec",
   "metadata": {},
   "source": [
    "```sh\n",
    "$ python3 best_practices.py\n",
    "This is my file to demonstrate best practices.\n",
    "My data read from the Web\n",
    "Beginning data processing...\n",
    "Data processing finished.\n",
    "My data read from the Web that has been modified\n",
    "```"
   ]
  },
  {
   "cell_type": "markdown",
   "id": "4d495ba2",
   "metadata": {},
   "source": [
    "First, the output shows the result of the `print()` call outside of `process_data()`. "
   ]
  },
  {
   "cell_type": "markdown",
   "id": "f87f1fe1",
   "metadata": {},
   "source": [
    "After that, the value of `data` is printed. This happened because the variable `__name__` has the value `\"__main__\"` when the Python interpreter executes the file as a script, so the conditional statement evaluated to `True`. "
   ]
  },
  {
   "cell_type": "markdown",
   "id": "5dde0d60",
   "metadata": {},
   "source": [
    "Next, your script called `process_data()` and passed `data` in for modification. When `process_data()` executes, it prints some status messages to the output. Finally, the value of `modified_data` is printed."
   ]
  },
  {
   "cell_type": "markdown",
   "id": "4d9e0861",
   "metadata": {},
   "source": [
    "Now you should check what happens when you import the `best_practices.py` file from the interactive interpreter (or another module). The example below demonstrates this situation:"
   ]
  },
  {
   "cell_type": "code",
   "execution_count": null,
   "id": "d074bcd9",
   "metadata": {},
   "outputs": [],
   "source": [
    ">>> import best_practices\n",
    "This is my file to demonstrate best practices."
   ]
  },
  {
   "cell_type": "markdown",
   "id": "c392fe06",
   "metadata": {},
   "source": [
    "Notice that you get the same behavior as before you added the conditional statement to the end of the file! This is because the `__name__` variable had the value `\"best_practices\"`, so Python did not execute the code inside the block, including `process_data()`, because the conditional statement evaluated to `False`."
   ]
  },
  {
   "cell_type": "markdown",
   "id": "5129a131",
   "metadata": {},
   "source": [
    "<a class=\"anchor\" id=\"create_a_function_called_main()_to_contain_the_code_you_want_to_run\"></a>\n",
    "\n",
    "### Create a Function Called main() to Contain the Code You Want to Run"
   ]
  },
  {
   "cell_type": "markdown",
   "id": "aabea2f6",
   "metadata": {},
   "source": [
    "Now you are able to write Python code that can be run from the command line as a script and imported without unwanted side effects. Next, you are going to learn about how to write your code to make it easy for other Python programmers to follow what you mean."
   ]
  },
  {
   "cell_type": "markdown",
   "id": "aee33ba7",
   "metadata": {},
   "source": [
    "Many languages, such as [C](https://realpython.com/c-for-python-programmers/), [C++](https://realpython.com/python-vs-cpp/), [Java](https://realpython.com/oop-in-python-vs-java/), and several others, define a special function that must be called `main()` that the operating system automatically calls when it executes the compiled program. This function is often called the **entry point** because it is where execution enters the program."
   ]
  },
  {
   "cell_type": "markdown",
   "id": "c8c5a237",
   "metadata": {},
   "source": [
    "By contrast, Python does not have a special function that serves as the entry point to a script. You can actually give the entry point function in a Python script any name you want!"
   ]
  },
  {
   "cell_type": "markdown",
   "id": "a0dce8c7",
   "metadata": {},
   "source": [
    "Although Python does not assign any significance to a function named `main()`, the best practice is to **name the entry point function `main()`** anyways. That way, any other programmers who read your script immediately know that this function is the starting point of the code that accomplishes the primary task of the script."
   ]
  },
  {
   "cell_type": "markdown",
   "id": "218513e5",
   "metadata": {},
   "source": [
    "In addition, `main()` should contain any code that you want to run when the Python interpreter executes the file. This is better than putting the code directly into the conditional block because a user can reuse `main()`if they import your module."
   ]
  },
  {
   "cell_type": "markdown",
   "id": "7ae730a3",
   "metadata": {},
   "source": [
    "Change the `best_practices.py` file so that it looks like the code below:"
   ]
  },
  {
   "cell_type": "code",
   "execution_count": null,
   "id": "56b75629",
   "metadata": {},
   "outputs": [],
   "source": [
    "from time import sleep\n",
    "\n",
    "print(\"This is my file to demonstrate best practices.\")\n",
    "\n",
    "def process_data(data):\n",
    "    print(\"Beginning data processing...\")\n",
    "    modified_data = data + \" that has been modified\"\n",
    "    sleep(3)\n",
    "    print(\"Data processing finished.\")\n",
    "    return modified_data\n",
    "\n",
    "def main():\n",
    "    data = \"My data read from the Web\"\n",
    "    print(data)\n",
    "    modified_data = process_data(data)\n",
    "    print(modified_data)\n",
    "\n",
    "if __name__ == \"__main__\":\n",
    "    main()"
   ]
  },
  {
   "cell_type": "markdown",
   "id": "cea26761",
   "metadata": {},
   "source": [
    "In this example, you added the definition of `main()` that includes the code that was previously inside the conditional block. Then, you changed the conditional block so that it executes `main()`. If you run this code as a script or import it, you will get the same output as in the previous section."
   ]
  },
  {
   "cell_type": "markdown",
   "id": "030fff27",
   "metadata": {},
   "source": [
    "<a class=\"anchor\" id=\"call_other_functions_from_main()\"></a>\n",
    "\n",
    "### Call Other Functions From main()"
   ]
  },
  {
   "cell_type": "markdown",
   "id": "2a2a0eb5",
   "metadata": {},
   "source": [
    "Another common practice in Python is to **have `main()` execute other functions**, rather than including the task-accomplishing code in `main()`. This is especially useful when you can compose your overall task from several smaller sub-tasks that can execute independently."
   ]
  },
  {
   "cell_type": "markdown",
   "id": "050cab79",
   "metadata": {},
   "source": [
    "For example, you may have a script that does the following:"
   ]
  },
  {
   "cell_type": "markdown",
   "id": "c7083b17",
   "metadata": {},
   "source": [
    "1. Reads a data file from a source that could be a database, a file on the disk, or a web API\n",
    "2. Processes the data\n",
    "3. Writes the processed data to another location\n"
   ]
  },
  {
   "cell_type": "markdown",
   "id": "0902978a",
   "metadata": {},
   "source": [
    "If you implement each of these sub-tasks in separate functions, then it is easy for a you (or another user) to re-use a few of the steps and ignore the ones you don’t want. Then you can create a default workflow in `main()`, and you can have the best of both worlds."
   ]
  },
  {
   "cell_type": "markdown",
   "id": "fb7ee631",
   "metadata": {},
   "source": [
    "Whether to apply this practice to your code is a judgment call on your part. Splitting the work into several functions makes reuse easier but increases the difficulty for someone else trying to interpret your code because they have to follow several jumps in the flow of the program."
   ]
  },
  {
   "cell_type": "markdown",
   "id": "4d4a23b1",
   "metadata": {},
   "source": [
    "Modify your `best_practices.py` file so that it looks like the code below:"
   ]
  },
  {
   "cell_type": "code",
   "execution_count": null,
   "id": "8561f8b9",
   "metadata": {},
   "outputs": [],
   "source": [
    "from time import sleep\n",
    "\n",
    "print(\"This is my file to demonstrate best practices.\")\n",
    "\n",
    "def process_data(data):\n",
    "    print(\"Beginning data processing...\")\n",
    "    modified_data = data + \" that has been modified\"\n",
    "    sleep(3)\n",
    "    print(\"Data processing finished.\")\n",
    "    return modified_data\n",
    "\n",
    "def read_data_from_web():\n",
    "    print(\"Reading data from the Web\")\n",
    "    data = \"Data from the web\"\n",
    "    return data\n",
    "\n",
    "def write_data_to_database(data):\n",
    "    print(\"Writing data to a database\")\n",
    "    print(data)\n",
    "\n",
    "def main():\n",
    "    data = read_data_from_web()\n",
    "    modified_data = process_data(data)\n",
    "    write_data_to_database(modified_data)\n",
    "\n",
    "if __name__ == \"__main__\":\n",
    "    main()"
   ]
  },
  {
   "cell_type": "markdown",
   "id": "1b6947e3",
   "metadata": {},
   "source": [
    "In this example code, the first 10 lines of the file have the same content that they had before. The second function definition on line 12 creates and returns some sample data, and the third function definition on line 17 simulates writing the modified data to a database."
   ]
  },
  {
   "cell_type": "markdown",
   "id": "688bd725",
   "metadata": {},
   "source": [
    "On line 21, `main()` is defined. In this example, you have modified `main()` so that it calls the data reading, data processing, and data writing functions in turn."
   ]
  },
  {
   "cell_type": "markdown",
   "id": "859a34a8",
   "metadata": {},
   "source": [
    "First, the `data` is created from `read_data_from_web()`. This `data` is passed to `process_data()`, which returns the `modified_data`. Finally, `modified_data` is passed into `write_data_to_database()`."
   ]
  },
  {
   "cell_type": "markdown",
   "id": "168f3916",
   "metadata": {},
   "source": [
    "The last two lines of the script are the conditional block that checks `__name__` and runs `main()` if the `if` statement is `True`."
   ]
  },
  {
   "cell_type": "markdown",
   "id": "f7da69f2",
   "metadata": {},
   "source": [
    "Now, you can run the whole processing pipeline from the command line, as shown below:"
   ]
  },
  {
   "cell_type": "markdown",
   "id": "069f8ece",
   "metadata": {},
   "source": [
    "```sh\n",
    "$ python3 best_practices.py\n",
    "This is my file to demonstrate best practices.\n",
    "Reading data from the Web\n",
    "Beginning data processing...\n",
    "Data processing finished.\n",
    "Writing processed data to a database\n",
    "Data from the web that has been modified\n",
    "```"
   ]
  },
  {
   "cell_type": "markdown",
   "id": "e963f895",
   "metadata": {},
   "source": [
    "In the output from this execution, you can see that the Python interpreter executed `main()`, which executed `read_data_from_web()`, `process_data()`, and `write_data_to_database()`. However, you can also import the `best_practices.py` file and re-use `process_data()` for a different input data source, as shown below:"
   ]
  },
  {
   "cell_type": "code",
   "execution_count": null,
   "id": "f5730a3e",
   "metadata": {},
   "outputs": [],
   "source": [
    ">>> import best_practices as bp\n",
    "This is my file to demonstrate best practices.\n",
    ">>> data = \"Data from a file\"\n",
    ">>> modified_data = bp.process_data(data)\n",
    "Beginning data processing...\n",
    "Data processing finished.\n",
    ">>> bp.write_data_to_database(modified_data)\n",
    "Writing processed data to a database\n",
    "Data from a file that has been modified"
   ]
  },
  {
   "cell_type": "markdown",
   "id": "81293974",
   "metadata": {},
   "source": [
    "In this example, you imported `best_practices` and shortened the name to `bp` for this code."
   ]
  },
  {
   "cell_type": "markdown",
   "id": "87c732ca",
   "metadata": {},
   "source": [
    "The import process caused the Python interpreter to execute all of the lines of code in the `best_practices.py` file, so the output shows the line explaining the purpose of the file."
   ]
  },
  {
   "cell_type": "markdown",
   "id": "481819a8",
   "metadata": {},
   "source": [
    "Then, you stored data from a file in `data` instead of reading the data from the Web. Then, you reused `process_data()`and `write_data_to_database()` from the `best_practices.py` file. In this case, you took advantage of reusing your code instead of defining all of the logic in `main()`."
   ]
  },
  {
   "cell_type": "markdown",
   "id": "d9249571",
   "metadata": {},
   "source": [
    "<a class=\"anchor\" id=\"summary_of_python_main_function_best_practices\"></a>\n",
    "\n",
    "### Summary of Python Main Function Best Practices"
   ]
  },
  {
   "cell_type": "markdown",
   "id": "abdad614",
   "metadata": {},
   "source": [
    "Here are four key best practices about `main()` in Python that you just saw:"
   ]
  },
  {
   "cell_type": "markdown",
   "id": "97f33c64",
   "metadata": {},
   "source": [
    "1. \n",
    "Put code that takes a long time to run or has other effects on the computer in a function or class, so you can control exactly when that code is executed.\n",
    "\n",
    "\n",
    "\n",
    "2. \n",
    "Use the different values of `__name__` to determine the context and change the behavior of your code with a conditional statement.\n",
    "\n",
    "\n",
    "\n",
    "3. \n",
    "You should name your entry point function `main()` in order to communicate the intention of the function, even though Python does not assign any special significance to a function named `main()`.\n",
    "\n",
    "\n",
    "\n",
    "4. \n",
    "If you want to reuse functionality from your code, define the logic in functions outside `main()` and call those functions within `main()`.\n",
    "\n",
    "\n",
    "\n"
   ]
  },
  {
   "cell_type": "markdown",
   "id": "ee72fcd9",
   "metadata": {},
   "source": [
    "<a class=\"anchor\" id=\"conclusion\"></a>\n",
    "\n",
    "## Conclusion"
   ]
  },
  {
   "cell_type": "markdown",
   "id": "828b3547",
   "metadata": {},
   "source": [
    "Congratulations! You now know how to create Python `main()` functions."
   ]
  },
  {
   "cell_type": "markdown",
   "id": "4534bc22",
   "metadata": {},
   "source": [
    "You learned the following:"
   ]
  },
  {
   "cell_type": "markdown",
   "id": "08c85e64",
   "metadata": {},
   "source": [
    "- \n",
    "Knowing the value of the `__name__` variable is important to write code that serves the dual purpose of executable script and importable module.\n",
    "\n",
    "\n",
    "\n",
    "- \n",
    "`__name__` takes on different values depending on how you executed your Python file. `__name__` will be equal to:\n",
    "\n",
    "\n",
    "* `\"__main__\"` when the file is executed from the command line or with `python -m` (to execute a package’s `__main__.py` file)\n",
    "* The name of the module, if the module is being imported\n",
    "\n",
    "\n",
    "\n",
    "- Python programmers have developed a set of good practices to use when you want to develop reusable code.\n"
   ]
  },
  {
   "cell_type": "markdown",
   "id": "4e2746fb",
   "metadata": {},
   "source": [
    "Now you’re ready to go write some awesome Python `main()` function code!"
   ]
  }
 ],
 "metadata": {
  "kernelspec": {
   "display_name": "Python 3 (ipykernel)",
   "language": "python",
   "name": "python3"
  },
  "language_info": {
   "codemirror_mode": {
    "name": "ipython",
    "version": 3
   },
   "file_extension": ".py",
   "mimetype": "text/x-python",
   "name": "python",
   "nbconvert_exporter": "python",
   "pygments_lexer": "ipython3",
   "version": "3.7.10"
  }
 },
 "nbformat": 4,
 "nbformat_minor": 5
}
