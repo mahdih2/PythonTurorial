{
 "cells": [
  {
   "cell_type": "markdown",
   "metadata": {},
   "source": [
    "<img src=\"../../images/banners/python-basics.png\" width=\"600\"/>"
   ]
  },
  {
   "cell_type": "markdown",
   "metadata": {},
   "source": [
    "# <img src=\"../../images/logos/python.png\" width=\"23\"/> Dictionary, Set: Under the Hood \n"
   ]
  },
  {
   "cell_type": "markdown",
   "metadata": {},
   "source": [
    "## <img src=\"../../images/logos/toc.png\" width=\"20\"/> Table of Contents \n",
    "* [Hash Function](#hash_function)\n",
    "    * [Important properties:](#important_properties:)\n",
    "    * [How Hash Table Works](#how_hash_table_works)\n",
    "        * [Example](#example)\n",
    "* [Collisions](#collisions)\n",
    "    * [Open Addressing](#open_addressing)\n",
    "        * [Collision Resolution](#collision_resolution)\n",
    "    * [Closed Addressing](#closed_addressing)\n",
    "    * [Objective of Hash Function](#objective_of_hash_function)\n",
    "    * [Summary](#summary)\n",
    "* [Cryptographic Hash Function](#cryptographic_hash_function)\n",
    "\n",
    "---"
   ]
  },
  {
   "cell_type": "markdown",
   "metadata": {},
   "source": [
    "Hashing is a digital signature, originally designed to check if data was modified.\n",
    "\n",
    "Example: [Anaconda installation file](https://www.digitalocean.com/community/tutorials/how-to-install-the-anaconda-python-distribution-on-ubuntu-20-04)"
   ]
  },
  {
   "cell_type": "code",
   "execution_count": 35,
   "metadata": {},
   "outputs": [
    {
     "data": {
      "text/plain": [
       "4"
      ]
     },
     "execution_count": 35,
     "metadata": {},
     "output_type": "execute_result"
    }
   ],
   "source": [
    "hash(4)"
   ]
  },
  {
   "cell_type": "markdown",
   "metadata": {},
   "source": [
    "<a class=\"anchor\" id=\"hash_function\"></a>\n",
    "\n",
    "## Hash Function\n",
    "\n",
    "A hash function is any function that can be used to map data of arbitrary size to fixed-size values. The values returned by a hash function are called **hash values**, **hash codes**, **digests**, or simply **hashes**. The values are usually used to index a fixed-size table called a hash table. Use of a hash function to index a hash table is called hashing or scatter storage addressing."
   ]
  },
  {
   "cell_type": "markdown",
   "metadata": {},
   "source": [
    "Hash functions and their associated hash tables are used in data storage and retrieval applications to access data in a small and nearly constant time per retrieval, and require an amount of storage space only fractionally greater than the total space required for the data or records themselves. Hashing is a computationally and storage space efficient form of data access which avoids the non-linear access time of ordered and unordered lists and structured trees."
   ]
  },
  {
   "cell_type": "markdown",
   "metadata": {},
   "source": [
    "<a class=\"anchor\" id=\"important_properties:\"></a>\n",
    "\n",
    "### Important properties:\n",
    "\n",
    "- Each hash is unique but always repeatable\n",
    "The word 'cat' will hash to something that no other word hashes too, but it will always hash to the same thing.\n",
    "- The function is 'one way'.\n",
    "If you are given the value of what 'cat' hashes too but you didn't know what made it, you would never be able to find out that 'cat' was the original word.\n",
    "\n",
    "There are many different hash functions such as SHA-1 and SHA-2."
   ]
  },
  {
   "cell_type": "markdown",
   "metadata": {},
   "source": [
    "<a class=\"anchor\" id=\"how_hash_table_works\"></a>\n",
    "\n",
    "### How Hash Table Works"
   ]
  },
  {
   "cell_type": "markdown",
   "metadata": {},
   "source": [
    "Consider a list of items:\n",
    "\n",
    "```python\n",
    "mylist = [\"apple\", \"banana\", \"pear\", \"orange\", \"mango\"]\n",
    "```\n",
    "\n",
    "To find an item in the list, one solution is **brute force** such as linear search which would take a very long time for a very big array."
   ]
  },
  {
   "cell_type": "markdown",
   "metadata": {},
   "source": [
    "But what if you know the index number of that element? You can look up the value very quick. The look up time is in face independent of the array size or the value position in the array.\n",
    "\n",
    "But how can you know which index contains the value?\n",
    "\n",
    "**Answer:** Each index can be calculated using the value itself so that the index number is in some way related to the data."
   ]
  },
  {
   "cell_type": "markdown",
   "metadata": {},
   "source": [
    "<a class=\"anchor\" id=\"example\"></a>\n",
    "\n",
    "#### Example\n",
    "array = `[_0_, _1_, _2_, _3_, _4_, _5_, _6_, _7_, _8_, _9_, _10_]`\n",
    "\n",
    "We add ASCII codes of input and divide this by the array size and we'll take the remainder of that calculation.\n",
    "\n",
    "\n",
    "|Element|Letter|ASCII|Letter|ASCII|Letter|ASCII|SUM|Remainder|\n",
    "|:--|:--|:--|:--|:--|:--|:--|:--|:--|\n",
    "|Mia|M|77|i|105|a|97|279|4|\n",
    "\n",
    "`[_0_, _1_, _2_, _3_, Mia, _5_, _6_, _7_, _8_, _9_, _10_]`\n",
    "\n",
    "|Element|Letter|ASCII|Letter|ASCII|Letter|ASCII|SUM|Remainder|\n",
    "|:--|:--|:--|:--|:--|:--|:--|:--|:--|\n",
    "|Mia|M|77|i|105|a|97|279|4|\n",
    "|Tim|T|84|i|105|m|109|298|1|\n",
    "\n",
    "`[_0_, _Tim_, _2_, _3_, Mia, _5_, _6_, _7_, _8_, _9_, _10_]`\n",
    "\n",
    "|Element|Letter|ASCII|Letter|ASCII|Letter|ASCII|SUM|Remainder|\n",
    "|:--|:--|:--|:--|:--|:--|:--|:--|:--|\n",
    "|Mia|M|77|i|105|a|97|279|4|\n",
    "|Tim|T|84|i|105|m|109|298|1|\n",
    "|Bea|B|66|E|101|a|97|264|0|\n",
    "|Zoe|Z|90|o|111|e|101|302|5|\n",
    "|Jan|J|74|a|97|n|110|281|6|\n",
    "|Ada|A|65|d|100|a|97|262|9|\n",
    "|Leo|L|76|e|101|o|111|288|2|\n",
    "|Sam|S|83|a|97|m|109|289|3|\n",
    "|Lou|L|76|o|111|u|117|304|7|\n",
    "|Max|M|77|a|97|x|120|294|8|\n",
    "|Ted|T|84|e|101|d|100|285|10|\n",
    "\n",
    "`[Bea, Tim, Leo, Sam, Mia, Zoe, Jan, Lou, Max, Ada, Ted]`"
   ]
  },
  {
   "cell_type": "code",
   "execution_count": 65,
   "metadata": {},
   "outputs": [
    {
     "data": {
      "text/plain": [
       "66"
      ]
     },
     "execution_count": 65,
     "metadata": {},
     "output_type": "execute_result"
    }
   ],
   "source": [
    "ord(\"B\")"
   ]
  },
  {
   "cell_type": "code",
   "execution_count": 9,
   "metadata": {},
   "outputs": [
    {
     "name": "stdout",
     "output_type": "stream",
     "text": [
      "Name       Hash Value\n",
      "-------------------------\n",
      "Mia        4\n",
      "Tim        1\n",
      "Bea        0\n",
      "Zoe        5\n",
      "Jan        6\n",
      "Ada        9\n",
      "Leo        2\n",
      "Sam        3\n",
      "Lou        7\n",
      "Max        8\n",
      "Ted        10\n"
     ]
    }
   ],
   "source": [
    "def calc_hash(name, array_size):\n",
    "    # index = sum of ASCII codes MOD size of array\n",
    "    ascii_sum = sum([ord(char) for char in name])\n",
    "    index = ascii_sum % array_size\n",
    "    return index\n",
    "\n",
    "names = [\"Mia\", \"Tim\", \"Bea\", \"Zoe\", \"Jan\", \"Ada\", \"Leo\", \"Sam\", \"Lou\", \"Max\", \"Ted\"]\n",
    "\n",
    "\n",
    "print(f'{\"Name\":10} {\"Hash Value\"}')\n",
    "print('-'*25)\n",
    "for name in names:\n",
    "    index = calc_hash(name, len(names))\n",
    "    print(f'{name:10} {index}')"
   ]
  },
  {
   "cell_type": "markdown",
   "metadata": {},
   "source": [
    "Let's retrieve and item: **Ada**\n",
    "\n",
    "`index = 262 Mod 11 = 9` `-->` **Fast Array Look up**"
   ]
  },
  {
   "cell_type": "markdown",
   "metadata": {},
   "source": [
    "Rather than finding individual items of data, hash tables are often used to store key value pairs.\n",
    "\n",
    "For example, **Ada** would be the **key** (which would be used to calcualte the index) and her **date of birth**, the corresponding value. By populating the value with an object, you can store as much related data as you like for each key."
   ]
  },
  {
   "cell_type": "markdown",
   "metadata": {},
   "source": [
    "**Hash table of key value pairs is sometimes referred to as a hash map.** A hashing algorithm also known as hash function is the calculation applied to a key which may be a very large number or a very long string to transform it into a relatively small index number that corresponds to a position in the hash table."
   ]
  },
  {
   "cell_type": "markdown",
   "metadata": {},
   "source": [
    "<a class=\"anchor\" id=\"collisions\"></a>\n",
    "\n",
    "## Collisions\n",
    "\n",
    "You've seen how to load up a hash table with data that very conveniently didn't cause any problems. Needless to say, that was unrealistic. Sometimes if you apply a hash function to 2 different keys, it generates the same index number for both. This is known as collision."
   ]
  },
  {
   "cell_type": "markdown",
   "metadata": {},
   "source": [
    "Let's try the previous example but this time with a different set of data:\n",
    "\n",
    "`[\"Mia\", \"Tim\", \"Bea\", \"Zoe\", \"Sue\", \"Len\", \"Moe\", \"Lou\", \"Rae\", \"Max\", \"Tod\"]`"
   ]
  },
  {
   "cell_type": "code",
   "execution_count": 10,
   "metadata": {},
   "outputs": [
    {
     "name": "stdout",
     "output_type": "stream",
     "text": [
      "Name       Hash Value\n",
      "-------------------------\n",
      "Mia        4\n",
      "Tim        1\n",
      "Bea        0\n",
      "Zoe        5\n",
      "Sue        4\n",
      "Len        1\n",
      "Moe        3\n",
      "Lou        7\n",
      "Rae        5\n",
      "Max        8\n",
      "Tod        9\n"
     ]
    }
   ],
   "source": [
    "names = [\"Mia\", \"Tim\", \"Bea\", \"Zoe\", \"Sue\", \"Len\", \"Moe\", \"Lou\", \"Rae\", \"Max\", \"Tod\"]\n",
    "\n",
    "print(f'{\"Name\":10} {\"Hash Value\"}')\n",
    "print('-'*25)\n",
    "for name in names:\n",
    "    index = calc_hash(name, len(names))\n",
    "    print(f'{name:10} {index}')"
   ]
  },
  {
   "cell_type": "markdown",
   "metadata": {},
   "source": [
    "<a class=\"anchor\" id=\"open_addressing\"></a>\n",
    "\n",
    "### Open Addressing"
   ]
  },
  {
   "cell_type": "markdown",
   "metadata": {},
   "source": [
    "1. `[_0_, _1_, _2_, _3_, \"Mia\", _5_, _6_, _7_, _8_, _9_, _10_]`\n",
    "2. `[_0_, \"Tim\", _2_, _3_, \"Mia\", _5_, _6_, _7_, _8_, _9_, _10_]`\n",
    "3. `[\"Bea\", \"Tim\", _2_, _3_, \"Mia\", _5_, _6_, _7_, _8_, _9_, _10_]`\n",
    "4. `[\"Bea\", \"Tim\", _2_, _3_, \"Mia\", \"Zoe\", _6_, _7_, _8_, _9_, _10_]`\n",
    "5. `[\"Bea\", \"Tim\", _2_, _3_, \"Mia\", \"Zoe\", \"Sue\", _7_, _8_, _9_, _10_]` **#Collision**\n",
    "6. `[\"Bea\", \"Tim\", \"Len\", _3_, \"Mia\", \"Zoe\", \"Sue\", _7_, _8_, _9_, _10_]` **#Collision**\n",
    "7. `[\"Bea\", \"Tim\", \"Len\", \"Moe\", \"Mia\", \"Zoe\", \"Sue\", _7_, _8_, _9_, _10_]`\n",
    "8. `[\"Bea\", \"Tim\", \"Len\", \"Moe\", \"Mia\", \"Zoe\", \"Sue\", Lou\", _8_, _9_, _10_]` **#Collision**\n",
    "9. `[\"Bea\", \"Tim\", \"Len\", \"Moe\", \"Mia\", \"Zoe\", \"Sue\", Lou\", \"Rae\", _9_, _10_]` **#Collision**\n",
    "10. `[\"Bea\", \"Tim\", \"Len\", \"Moe\", \"Mia\", \"Zoe\", \"Sue\", Lou\", \"Rae\", \"Max\", _10_]` **#Collision**\n",
    "11. `[\"Bea\", \"Tim\", \"Len\", \"Moe\", \"Mia\", \"Zoe\", \"Sue\", Lou\", \"Rae\", \"Max\", \"Tod\"]` **#Collision**"
   ]
  },
  {
   "cell_type": "markdown",
   "metadata": {},
   "source": [
    "Resolving a colllision by placing an item somewhere other than it's calculated address is called **Open Addressing** because every location is open to any item. Open addressing can use a variety of techniques to decide where to place an item that doesn't go where it should.\n",
    "\n",
    "This particular open addressing techniques used above is called linear probing. If the calculated address is occupied, then a liner search is used to find the next available slot. If it goes to the end of the array and still does not find an empty space, it may cycle around to the beginning of the array and continue searching from there.\n",
    "\n",
    "**With the presence of collision, finding an item may need linear probing too, that is linear search.**"
   ]
  },
  {
   "cell_type": "markdown",
   "metadata": {},
   "source": [
    "One way to avoid collision is to make the array addresses biger that the total amount of data you're expecting, perhaps such that only 70% of the hash table is ever occupied.\n",
    "\n",
    "$\\text{Load Factor} = \\frac{\\text{Total number of items stored}}{\\text{Size of the array}}$\n",
    "\n",
    "**Note:** If the hash table is implemented as a resizable dynamic data structure, it could be made to increase in size automatically when the load factor reaches a certain threshold."
   ]
  },
  {
   "cell_type": "markdown",
   "metadata": {},
   "source": [
    "<a class=\"anchor\" id=\"collision_resolution\"></a>\n",
    "\n",
    "#### Collision Resolution\n",
    "\n",
    "- Linear probing\n",
    "- Plus 3 rehash\n",
    "- Quadratic probing (failed attempts)^2\n",
    "- Double rehashing"
   ]
  },
  {
   "cell_type": "markdown",
   "metadata": {},
   "source": [
    "<a class=\"anchor\" id=\"closed_addressing\"></a>\n",
    "\n",
    "### Closed Addressing\n",
    "\n",
    "Another way to deal with collisions is known as chaining sometimes referred to as **closed addressing**.\n",
    "\n",
    "What we have here for `\"Tim\"` is a pointer to the first node of a linked list."
   ]
  },
  {
   "cell_type": "markdown",
   "metadata": {},
   "source": [
    "<img src=\"./images/closed_addressing.png\" width=400/>"
   ]
  },
  {
   "cell_type": "markdown",
   "metadata": {},
   "source": [
    "To search this hash table you can calculate the index as before to locate the correct element, then use a standard linked list traversal to find what you are looking for."
   ]
  },
  {
   "cell_type": "markdown",
   "metadata": {},
   "source": [
    "<img src=\"./images/flowchart-set-hash-add.png\" width=500/>"
   ]
  },
  {
   "cell_type": "markdown",
   "metadata": {},
   "source": [
    "Open vs Closed Addressing:"
   ]
  },
  {
   "cell_type": "markdown",
   "metadata": {},
   "source": [
    "<img src=\"./images/open_vs_closed_addressing.png\" width=400/>"
   ]
  },
  {
   "cell_type": "markdown",
   "metadata": {},
   "source": [
    "<a class=\"anchor\" id=\"objective_of_hash_function\"></a>\n",
    "\n",
    "### Objective of Hash Function\n",
    "\n",
    "If you know all the keys in advance, it's theoretically possible to come up with a perfect hash function. One that will produce a unique index for each and every data item. More often than not, you need a more flexible hash table."
   ]
  },
  {
   "cell_type": "markdown",
   "metadata": {},
   "source": [
    "So when choosing a hash function, there are some objectives to bear in mind:\n",
    "- Minimize collisions\n",
    "- Uniform distribution of hash values\n",
    "- Easy to calculate\n",
    "- Resolve any collisions"
   ]
  },
  {
   "cell_type": "markdown",
   "metadata": {},
   "source": [
    "<a class=\"anchor\" id=\"summary\"></a>\n",
    "\n",
    "### Summary\n",
    "\n",
    "- Hash tables are used to index large amounts of data.\n",
    "- Addres of each key calculated using the key itself.\n",
    "- Collisions are resolved with open or closed addressing.\n",
    "- Hashing is widely used in database indexing, compilers, caching, password authentication, and more.\n",
    "- Insertion, deletion, and retrieval occur in constant time."
   ]
  },
  {
   "cell_type": "markdown",
   "metadata": {},
   "source": [
    "**Read More:**\n",
    "- [Steps of converting a string to Hash](https://www.metamorphosite.com/one-way-hash-encryption-sha1-data-software)\n",
    "- [Hash Tables Operations Visualization](https://programming.guide/hash-tables.html)"
   ]
  },
  {
   "cell_type": "markdown",
   "metadata": {},
   "source": [
    "<a class=\"anchor\" id=\"cryptographic_hash_function\"></a>\n",
    "\n",
    "## Cryptographic Hash Function\n",
    "\n",
    "A cryptographic hash function is an algorithm that takes an arbitrary amount of data input—a credential—and produces a fixed-size output of enciphered text called a hash value, or just “hash.” That enciphered text can then be stored instead of the password itself, and later used to verify the user.\n",
    "\n",
    "- Python Library: [hashlib](https://docs.python.org/3/library/hashlib.html)\n",
    "- [Online **sha256** hash calculator](https://emn178.github.io/online-tools/sha256.html)"
   ]
  },
  {
   "cell_type": "code",
   "execution_count": 21,
   "metadata": {},
   "outputs": [],
   "source": [
    "import hashlib"
   ]
  },
  {
   "cell_type": "code",
   "execution_count": 82,
   "metadata": {},
   "outputs": [
    {
     "data": {
      "text/plain": [
       "'6c84d0ab55cc2293a7a55b14761e475349d191c75e346be4ebfbae3121af733e'"
      ]
     },
     "execution_count": 82,
     "metadata": {},
     "output_type": "execute_result"
    }
   ],
   "source": [
    "hashlib.sha256(b\"123456\").hexdigest()"
   ]
  },
  {
   "cell_type": "markdown",
   "metadata": {},
   "source": [
    "Certain properties of cryptographic hash functions impact the security of password storage.\n",
    "\n",
    "- **Non-reversibility**, or one-way function. A good hash should make it very hard to reconstruct the original password from the output or hash.\n",
    "- **Diffusion**, or avalanche effect. A change in just one bit of the original password should result in change to half the bits of its hash. In other words, when a password is changed slightly, the output of enciphered text should change significantly and unpredictably.\n",
    "- **Determinism**. A given password must always generate the same hash value or enciphered text.\n",
    "- **Collision resistance**. It should be hard to find two different passwords that hash to the same enciphered text.\n",
    "Non-predictable. The hash value should not be predictable from the password."
   ]
  },
  {
   "cell_type": "markdown",
   "metadata": {},
   "source": [
    "[Read More: Secure Hash Algorithms](https://en.wikipedia.org/wiki/Secure_Hash_Algorithms)"
   ]
  }
 ],
 "metadata": {
  "kernelspec": {
   "display_name": "Python 3",
   "language": "python",
   "name": "python3"
  },
  "language_info": {
   "codemirror_mode": {
    "name": "ipython",
    "version": 3
   },
   "file_extension": ".py",
   "mimetype": "text/x-python",
   "name": "python",
   "nbconvert_exporter": "python",
   "pygments_lexer": "ipython3",
   "version": "3.8.11"
  }
 },
 "nbformat": 4,
 "nbformat_minor": 4
}
