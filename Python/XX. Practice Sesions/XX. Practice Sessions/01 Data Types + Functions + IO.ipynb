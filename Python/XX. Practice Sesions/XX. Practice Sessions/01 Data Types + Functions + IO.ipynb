{
 "cells": [
  {
   "cell_type": "markdown",
   "metadata": {},
   "source": [
    "<img src=\"../../../images/banners/python-practice.png\" width=\"600\"/>"
   ]
  },
  {
   "cell_type": "markdown",
   "metadata": {
    "tags": []
   },
   "source": [
    "# <img src=\"../../../images/logos/python.png\" width=\"23\"/> 01. Practice Session \n",
    "\n",
    "> Covering Data Types, Functions, and IO."
   ]
  },
  {
   "cell_type": "markdown",
   "metadata": {},
   "source": [
    "## <img src=\"../../../images/logos/toc.png\" width=\"20\"/> Table of Contents \n",
    "* [1. `print` output?](#1._`print`_output?)\n",
    "    * [2. Type of `*args` and `**kwargs`?](#2._type_of_`*args`_and_`**kwargs`?)\n",
    "    * [3. Define a `tuple` with length = 1.](#3._define_a_`tuple`_with_length_=_1.)\n",
    "    * [4. What is the output where indicated with `# ?`?](#4._what_is_the_output_where_indicated_with_`#_?`?)\n",
    "    * [5. Write down the variable value in each line:](#5._write_down_the_variable_value_in_each_line:)\n",
    "    * [6. Let `x = [1, 2, 3, 4]`, `y = [1, 2, 3, 4]`. How do you produce `z = [1, 4, 9, 16]` with list comprehension?](#6._let_`x_=_[1,_2,_3,_4]`,_`y_=_[1,_2,_3,_4]`._how_do_you_produce_`z_=_[1,_4,_9,_16]`_with_list_comprehension?)\n",
    "    * [7. `print` output?](#7._`print`_output?)\n",
    "    * [8. Output where indicated with `# ?`.](#8._output_where_indicated_with_`#_?`.)\n",
    "    * [9. Output where indicated with `# ?`.](#9._output_where_indicated_with_`#_?`.)\n",
    "    * [9. Decode Nazis Messages](#9._decode_nazis_messages)\n",
    "\n",
    "---"
   ]
  },
  {
   "cell_type": "markdown",
   "metadata": {
    "tags": []
   },
   "source": [
    "<a class=\"anchor\" id=\"1._`print`_output?\"></a>\n",
    "### 1. `print` output?\n",
    "\n",
    "```python\n",
    ">>> x, y = [1, 2, 3], ['1', '2', '3']\n",
    ">>> print(x*3, y*3)\n",
    "```\n",
    "\n",
    "---"
   ]
  },
  {
   "cell_type": "markdown",
   "metadata": {},
   "source": [
    "<a class=\"anchor\" id=\"2._type_of_`*args`_and_`**kwargs`?\"></a>\n",
    "### 2. Type of `*args` and `**kwargs`?\n",
    "\n",
    "```python\n",
    "def func(a, b, c, ..., *args, **kwargs):\n",
    "```\n",
    "\n",
    "---"
   ]
  },
  {
   "cell_type": "markdown",
   "metadata": {},
   "source": [
    "|Type|Example|\n",
    "|:--|:--|\n",
    "|Positional Argument|`func(1, 2)`|\n",
    "|Keyword Argument|`func(a=1, b=2)`|\n",
    "|Infinite Positional Argument|`def func(*args):`|\n",
    "|Infinite Keyword Argument|`def func(**kwargs):`|\n",
    "|Optional Argument|`def func(a=1, b=2):`|\n",
    "|Required Argument|`def func(a, b):`|"
   ]
  },
  {
   "cell_type": "markdown",
   "metadata": {},
   "source": [
    "<a class=\"anchor\" id=\"3._define_a_`tuple`_with_length_=_1.\"></a>\n",
    "### 3. Define a `tuple` with length = 1.\n",
    "\n",
    "```python\n",
    ">>> mytuple = # code here\n",
    "```\n",
    "\n",
    "---"
   ]
  },
  {
   "cell_type": "markdown",
   "metadata": {},
   "source": [
    "<a class=\"anchor\" id=\"4._what_is_the_output_where_indicated_with_`#_?`?\"></a>\n",
    "### 4. What is the output where indicated with `# ?`?\n",
    "\n",
    "```python\n",
    ">>> x = ['1', '2', '3']\n",
    ">>> y = ''.join(x) # ?\n",
    ">>> x = ['1', '2', 3]\n",
    ">>> y = ''.join(x) # ?\n",
    ">>> y.find(\"1\")\n",
    ">>> '1' in x # ?\n",
    ">>> '1' in y # ?\n",
    ">>> type(x) # ?\n",
    ">>> type(y) # ?\n",
    ">>> z = x\n",
    ">>> z *= 2\n",
    ">>> x[0] = 0\n",
    ">>> x # ?\n",
    ">>> z # ?\n",
    ">>> s1 = 'Ali'\n",
    ">>> L1 = list(s1) # ?\n",
    "```\n",
    "\n",
    "---"
   ]
  },
  {
   "cell_type": "markdown",
   "metadata": {},
   "source": [
    "<a class=\"anchor\" id=\"5._write_down_the_variable_value_in_each_line:\"></a>\n",
    "### 5. Write down the variable value in each line:\n",
    "\n",
    "```python\n",
    ">>> x = [i + 1 for i in range(10)]\n",
    ">>> y = [i * 2 for i in x if i > 5]\n",
    ">>> z = [(i, i + 1) for i in range(-2, 2) if i % 2 == 0]\n",
    "```"
   ]
  },
  {
   "cell_type": "markdown",
   "metadata": {},
   "source": [
    "```python\n",
    ">>> A0 = dict(zip(('a','b','c','d','e'), (1,2,3,4,5)))\n",
    ">>> A1 = range(10)\n",
    ">>> A2 = [i for i in A1 if i in A0]\n",
    ">>> A3 = sorted([A0[s] for s in A0])\n",
    ">>> A4 = [i for i in A1 if i in A3]\n",
    ">>> A5 = {i:i*i for i in A1}\n",
    ">>> A6 = [[i,i*i] for i in A1]\n",
    "```\n",
    "\n",
    "---"
   ]
  },
  {
   "cell_type": "markdown",
   "metadata": {},
   "source": [
    "<a class=\"anchor\" id=\"6._let_`x_=_[1,_2,_3,_4]`,_`y_=_[1,_2,_3,_4]`._how_do_you_produce_`z_=_[1,_4,_9,_16]`_with_list_comprehension?\"></a>\n",
    "### 6. Let `x = [1, 2, 3, 4]`, `y = [1, 2, 3, 4]`. How do you produce `z = [1, 4, 9, 16]` with list comprehension?\n",
    "\n",
    "```python\n",
    ">>> x = [1, 2, 3, 4]\n",
    ">>> y = [1, 2, 3, 4]\n",
    "\n",
    "z = # code here\n",
    "```\n",
    "\n",
    "---"
   ]
  },
  {
   "cell_type": "markdown",
   "metadata": {},
   "source": [
    "<a class=\"anchor\" id=\"7._`print`_output?\"></a>\n",
    "### 7. `print` output?\n",
    "\n",
    "```python\n",
    ">>> x = ['foo', [1, 2, 3], 10.4]\n",
    ">>> y = x[:]\n",
    ">>> y[0] = 'fooooooo'\n",
    ">>> y[1][0] = 4\n",
    "\n",
    ">>> print(x, y, end = '*')\n",
    "```\n",
    "---"
   ]
  },
  {
   "cell_type": "markdown",
   "metadata": {},
   "source": [
    "<a class=\"anchor\" id=\"8._output_where_indicated_with_`#_?`.\"></a>\n",
    "### 8. Output where indicated with `# ?`.\n",
    "\n",
    "```python\n",
    "def f(*args, **kwargs):\n",
    "    print(args, kwargs)\n",
    "\n",
    ">>> l = [1, 2, 3]\n",
    ">>> t = (4, 5, 6)\n",
    ">>> d = {'a':7, 'b':8, 'c':9}\n",
    "\n",
    ">>> f() # ?\n",
    ">>> f(1, 2, 3) # ?\n",
    ">>> f(1, 2, 3, \"groovy\") # ?\n",
    ">>> f(a=1, b=2, c=3) # ?\n",
    "\n",
    ">>> f(a=1, b=2, c=3, zzz=\"hi\") # ?\n",
    ">>> f(1, 2, 3, a=1, b=2, c=3) # ?\n",
    ">>> f(*l, **d) # ?\n",
    ">>> f(*t, **d) # ?\n",
    ">>> f(1, 2, *t) # ?\n",
    ">>> f(q=\"winning\", **d)  # ?\n",
    ">>> f(1, 2, *t, q=\"winning\", **d) # ?\n",
    "```\n",
    "\n",
    "---"
   ]
  },
  {
   "cell_type": "markdown",
   "metadata": {},
   "source": [
    "<a class=\"anchor\" id=\"9._output_where_indicated_with_`#_?`.\"></a>\n",
    "### 9. Output where indicated with `# ?`.\n",
    "\n",
    "```python\n",
    "def f2(arg1, arg2, *args, **kwargs):\n",
    "    print(arg1, arg2, args, kwargs)\n",
    "\n",
    ">>> f2(1, 2, 3) # ?\n",
    ">>> f2(1, 2, 3, \"groovy\") # ?\n",
    ">>> f2(arg1=1, arg2=2, c=3) # ?\n",
    ">>> f2(arg1=1, arg2=2, c=3, zzz=\"hi\") # ?\n",
    ">>> f2(1, 2, 3, a=1, b=2, c=3) # ?\n",
    ">>> f2(*l, **d) # ?\n",
    ">>> f2(*t, **d) # ?\n",
    ">>> f2(1, 2, *t) # ?\n",
    ">>> f2(1, 1, q=\"winning\", **d) # ?\n",
    ">>> f2(1, 2, *t, q=\"winning\", **d) # ?\n",
    "```\n",
    "\n",
    "---"
   ]
  },
  {
   "cell_type": "markdown",
   "metadata": {
    "tags": []
   },
   "source": [
    "<a class=\"anchor\" id=\"9._decode_nazis_messages\"></a>\n",
    "### 9. Decode Nazis Messages\n",
    "\n",
    "German Nazis are using a system (Enigma) to encode their messages through transmission. We know that the system shifts every character with a constant number and all chracters are ASCII. For example with a `shift = 2`: \"abcde\" is encrypted to \"cdefg\".\n",
    "\n",
    "We also know that Germans put the phrase \"Heil Hitler\" in every encrypted message and that they only use ascii letters.\n",
    "\n",
    "1. Write a function that can decode a German message provided a constant shift. Write the decoded message in a `decoded.txt` file.\n",
    "2. What is the time and space complexity of decode function? what about your final code?"
   ]
  },
  {
   "cell_type": "code",
   "execution_count": 20,
   "metadata": {},
   "outputs": [],
   "source": [
    "text = \"\"\"If you are reading this message, it means you have decoded our message and now you know!\n",
    "\n",
    "Heil Hitler!\"\"\""
   ]
  },
  {
   "cell_type": "code",
   "execution_count": 21,
   "metadata": {},
   "outputs": [
    {
     "name": "stdout",
     "output_type": "stream",
     "text": [
      "83 112 42 3 121 127 42 107 124 111 42 124 111 107 110 115 120 113 42 126 114 115 125 42 119 111 125 125 107 113 111 54 42 115 126 42 119 111 107 120 125 42 3 121 127 42 114 107 0 111 42 110 111 109 121 110 111 110 42 121 127 124 42 119 111 125 125 107 113 111 42 107 120 110 42 120 121 1 42 3 121 127 42 117 120 121 1 43 20 20 82 111 115 118 42 82 115 126 118 111 124 43 "
     ]
    }
   ],
   "source": [
    "encoded_msg = \"\"\n",
    "\n",
    "shift = 10\n",
    "for char in text:\n",
    "    char_ord = ord(char)\n",
    "    new_ord = char_ord + shift\n",
    "    new_ord = new_ord % 128\n",
    "    print(new_ord, end=' ')\n",
    "    new_char = chr(new_ord)\n",
    "    encoded_msg += new_char"
   ]
  },
  {
   "cell_type": "code",
   "execution_count": 23,
   "metadata": {},
   "outputs": [],
   "source": [
    "with open('encoded.txt', 'w') as f:\n",
    "    f.write(encoded_msg)"
   ]
  },
  {
   "cell_type": "code",
   "execution_count": 12,
   "metadata": {},
   "outputs": [],
   "source": [
    "def shift_text(text: str, shift: int) -> str:\n",
    "    \"\"\"\n",
    "    Decode every character in text by moving \n",
    "    shift letters in ascii characters.\n",
    "    \n",
    "    :param text: Input text\n",
    "    :param shift: Shift length\n",
    "    :return: Decoded text by shift\n",
    "    \"\"\"\n",
    "    decoded_text = \"\"\n",
    "    for char in text:\n",
    "        new_ord = (ord(char) - shift) % 128\n",
    "        new_char = chr(new_ord)\n",
    "        decoded_text += new_char\n",
    "        \n",
    "    return decoded_text"
   ]
  },
  {
   "cell_type": "code",
   "execution_count": 17,
   "metadata": {},
   "outputs": [],
   "source": [
    "def decode(text: str) -> str:\n",
    "    \"\"\"\n",
    "    Decodes text by finding the right shift.\n",
    "    \n",
    "    :param text: Input text\n",
    "    :return: Decoded text\n",
    "    \"\"\"\n",
    "    for shift in range(128):\n",
    "        decoded_text = shift_text(text, shift)\n",
    "        if 'heil hitler' not in decoded_text.lower():\n",
    "            continue\n",
    "        return decoded_text"
   ]
  },
  {
   "cell_type": "code",
   "execution_count": 18,
   "metadata": {},
   "outputs": [
    {
     "data": {
      "text/plain": [
       "'\\nIf you are reading this message, it means you have decoded our message and now you know!\\n\\nHeil Hitler!\\n'"
      ]
     },
     "execution_count": 18,
     "metadata": {},
     "output_type": "execute_result"
    }
   ],
   "source": [
    "shift_text(encoded_msg, 10)"
   ]
  },
  {
   "cell_type": "code",
   "execution_count": 24,
   "metadata": {},
   "outputs": [],
   "source": [
    "decoded_msg = decode(encoded_msg)"
   ]
  },
  {
   "cell_type": "code",
   "execution_count": 26,
   "metadata": {},
   "outputs": [],
   "source": [
    "with open('decoded.txt', 'w') as f:\n",
    "    f.write(decoded_msg)"
   ]
  },
  {
   "cell_type": "code",
   "execution_count": null,
   "metadata": {},
   "outputs": [],
   "source": []
  }
 ],
 "metadata": {
  "kernelspec": {
   "display_name": "Python 3",
   "language": "python",
   "name": "python3"
  },
  "language_info": {
   "codemirror_mode": {
    "name": "ipython",
    "version": 3
   },
   "file_extension": ".py",
   "mimetype": "text/x-python",
   "name": "python",
   "nbconvert_exporter": "python",
   "pygments_lexer": "ipython3",
   "version": "3.8.11"
  }
 },
 "nbformat": 4,
 "nbformat_minor": 4
}
