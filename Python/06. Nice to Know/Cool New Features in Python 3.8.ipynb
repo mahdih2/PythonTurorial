{
 "cells": [
  {
   "cell_type": "markdown",
   "id": "51e26705",
   "metadata": {},
   "source": [
    "# <img src=\"../../images/logos/python.png\" width=\"23\"/> Cool New Features in Python 3.8 \n"
   ]
  },
  {
   "cell_type": "markdown",
   "id": "9bf29e45",
   "metadata": {},
   "source": [
    "## <img src=\"../../images/logos/toc.png\" width=\"20\"/> Table of Contents \n",
    "* [The Walrus in the Room: Assignment Expressions](#the_walrus_in_the_room:_assignment_expressions)\n",
    "* [Positional-Only Arguments](#positional-only_arguments)\n",
    "* [More Precise Types](#more_precise_types)\n",
    "* [Simpler Debugging With f-Strings](#simpler_debugging_with_f-strings)\n",
    "* [The Python Steering Council](#the_python_steering_council)\n",
    "* [Other Pretty Cool Features](#other_pretty_cool_features)\n",
    "    * [`importlib.metadata`](#`importlib.metadata`)\n",
    "    * [New and Improved `math` and `statistics` Functions](#new_and_improved_`math`_and_`statistics`_functions)\n",
    "    * [Warnings About Dangerous Syntax](#warnings_about_dangerous_syntax)\n",
    "    * [Optimizations](#optimizations)\n",
    "* [So, Should You Upgrade to Python 3.8?](#so,_should_you_upgrade_to_python_3.8?)\n",
    "\n",
    "---"
   ]
  },
  {
   "cell_type": "markdown",
   "id": "d3423646",
   "metadata": {},
   "source": [
    "In [October 14th, 2019](https://www.python.org/dev/peps/pep-0569/) the first official version of Python 3.8 released."
   ]
  },
  {
   "cell_type": "markdown",
   "id": "b16d08fb",
   "metadata": {},
   "source": [
    "What does Python 3.8 bring to the table? The [documentation](https://docs.python.org/3.8/whatsnew/3.8.html) gives a good overview of the new features. However, this article will go more in depth on some of the biggest changes, and show you how you can take advantage of Python 3.8."
   ]
  },
  {
   "cell_type": "markdown",
   "id": "1f5834e9",
   "metadata": {},
   "source": [
    "**In this article, you’ll learn about:**"
   ]
  },
  {
   "cell_type": "markdown",
   "id": "4fbcf29b",
   "metadata": {},
   "source": [
    "- Using assignment expressions to simplify some code constructs\n",
    "- Enforcing positional-only arguments in your own functions\n",
    "- Specifying more precise type hints\n",
    "- Using f-strings for simpler debugging\n"
   ]
  },
  {
   "cell_type": "markdown",
   "id": "a324a869",
   "metadata": {},
   "source": [
    "With a few exceptions, Python 3.8 contains many small improvements over the earlier versions. Towards the end of the article, you’ll see many of these less attention-grabbing changes, as well as a discussion about some of the optimizations that make Python 3.8 faster than its predecessors. Finally, you’ll get some advice about upgrading to the new version."
   ]
  },
  {
   "cell_type": "markdown",
   "id": "6983a197",
   "metadata": {},
   "source": [
    "<a class=\"anchor\" id=\"the_walrus_in_the_room:_assignment_expressions\"></a>\n",
    "\n",
    "## The Walrus in the Room: Assignment Expressions"
   ]
  },
  {
   "cell_type": "markdown",
   "id": "3c8c2b71",
   "metadata": {},
   "source": [
    "The biggest change in Python 3.8 is the introduction of **assignment expressions**. They are written using a new notation (`:=`). This operator is often called the **walrus operator** as it resembles the eyes and tusks of a walrus on its side."
   ]
  },
  {
   "cell_type": "markdown",
   "id": "f63d1b43",
   "metadata": {},
   "source": [
    "Assignment expressions allow you to assign and return a value in the same expression. For example, if you want to assign to a [variable](https://realpython.com/python-variables/) and [print](https://realpython.com/python-print/) its value, then you typically do something like this:"
   ]
  },
  {
   "cell_type": "code",
   "execution_count": 1,
   "id": "9df84cdf",
   "metadata": {},
   "outputs": [
    {
     "name": "stdout",
     "output_type": "stream",
     "text": [
      "False\n"
     ]
    }
   ],
   "source": [
    "walrus = False\n",
    "print(walrus)"
   ]
  },
  {
   "cell_type": "markdown",
   "id": "78f4a6b7",
   "metadata": {},
   "source": [
    "In Python 3.8, you’re allowed to combine these two statements into one, using the walrus operator:"
   ]
  },
  {
   "cell_type": "code",
   "execution_count": 2,
   "id": "c88e326d",
   "metadata": {},
   "outputs": [
    {
     "name": "stdout",
     "output_type": "stream",
     "text": [
      "True\n"
     ]
    }
   ],
   "source": [
    "print(walrus := True)"
   ]
  },
  {
   "cell_type": "markdown",
   "id": "dd31cadf",
   "metadata": {},
   "source": [
    "The assignment expression allows you to assign `True` to `walrus`, and immediately print the value. But keep in mind that the walrus operator does *not* do anything that isn’t possible without it. It only makes certain constructs more convenient, and can sometimes communicate the intent of your code more clearly."
   ]
  },
  {
   "cell_type": "markdown",
   "id": "a57cc547",
   "metadata": {},
   "source": [
    "One pattern that shows some of the strengths of the walrus operator is [`while` loops](https://realpython.com/python-while-loop/) where you need to initialize and update a variable. For example, the following code asks the user for input until they type `quit`:"
   ]
  },
  {
   "cell_type": "code",
   "execution_count": 5,
   "id": "f817c3c1",
   "metadata": {},
   "outputs": [
    {
     "name": "stdin",
     "output_type": "stream",
     "text": [
      "Write something:  Hey\n",
      "Write something:  Hey\n",
      "Write something:  quit\n"
     ]
    }
   ],
   "source": [
    "inputs = list()\n",
    "current = input(\"Write something: \")\n",
    "while current != \"quit\":\n",
    "    inputs.append(current)\n",
    "    current = input(\"Write something: \")"
   ]
  },
  {
   "cell_type": "markdown",
   "id": "cc8592a9",
   "metadata": {},
   "source": [
    "This code is less than ideal. You’re repeating the `input()` statement, and somehow you need to add `current` to the list *before* asking the user for it. A better solution is to set up an infinite `while` loop, and use `break` to stop the loop:"
   ]
  },
  {
   "cell_type": "code",
   "execution_count": 6,
   "id": "ac95ca6c",
   "metadata": {},
   "outputs": [
    {
     "name": "stdin",
     "output_type": "stream",
     "text": [
      "Write something:  Hey\n",
      "Write something:  Hey\n",
      "Write something:  quit\n"
     ]
    }
   ],
   "source": [
    "inputs = list()\n",
    "while True:\n",
    "    current = input(\"Write something: \")\n",
    "    if current == \"quit\":\n",
    "        break\n",
    "    inputs.append(current)"
   ]
  },
  {
   "cell_type": "markdown",
   "id": "cf4e6af6",
   "metadata": {},
   "source": [
    "This code is equivalent to the one above, but avoids the repetition and somehow keeps the lines in a more logical order. If you use an assignment expression, you can simplify this loop further:"
   ]
  },
  {
   "cell_type": "code",
   "execution_count": 7,
   "id": "b785f93f",
   "metadata": {},
   "outputs": [
    {
     "name": "stdin",
     "output_type": "stream",
     "text": [
      "Write something:  Hey\n",
      "Write something:  Hey\n",
      "Write something:  quit\n"
     ]
    }
   ],
   "source": [
    "inputs = list()\n",
    "while (current := input(\"Write something: \")) != \"quit\":\n",
    "    inputs.append(current)"
   ]
  },
  {
   "cell_type": "markdown",
   "id": "16173ca5",
   "metadata": {},
   "source": [
    "This moves the test back to the `while` line, where it should be. However, there are now several things happening at that line, so it takes a bit more effort to read it properly. Use your best judgement about when the walrus operator helps make your code more readable."
   ]
  },
  {
   "cell_type": "markdown",
   "id": "279b2428",
   "metadata": {},
   "source": [
    "[PEP 572](https://www.python.org/dev/peps/pep-0572/) describes all the details of assignment expressions, including some of the rationale for introducing them into the language, as well as [several examples](https://www.python.org/dev/peps/pep-0572/#examples) of how the walrus operator can be used."
   ]
  },
  {
   "cell_type": "markdown",
   "id": "15e33a92",
   "metadata": {},
   "source": [
    "<a class=\"anchor\" id=\"positional-only_arguments\"></a>\n",
    "\n",
    "## Positional-Only Arguments"
   ]
  },
  {
   "cell_type": "markdown",
   "id": "d05f36d9",
   "metadata": {},
   "source": [
    "The built-in function `float()` can be used for converting [text strings](https://realpython.com/python-strings/) and numbers to `float` objects. Consider the following example:"
   ]
  },
  {
   "cell_type": "code",
   "execution_count": 8,
   "id": "1d5aa047-9217-4511-a172-142fff1a8cf5",
   "metadata": {},
   "outputs": [
    {
     "data": {
      "text/plain": [
       "3.8"
      ]
     },
     "execution_count": 8,
     "metadata": {},
     "output_type": "execute_result"
    }
   ],
   "source": [
    "float(\"3.8\")"
   ]
  },
  {
   "cell_type": "code",
   "execution_count": 9,
   "id": "d6d94908-8cb2-4577-9f22-3ffcad0aead3",
   "metadata": {
    "scrolled": true,
    "tags": []
   },
   "outputs": [
    {
     "name": "stdout",
     "output_type": "stream",
     "text": [
      "Help on class float in module builtins:\n",
      "\n",
      "class float(object)\n",
      " |  float(x=0, /)\n",
      " |  \n",
      " |  Convert a string or number to a floating point number, if possible.\n",
      " |  \n",
      " |  Methods defined here:\n",
      " |  \n",
      " |  __abs__(self, /)\n",
      " |      abs(self)\n",
      " |  \n",
      " |  __add__(self, value, /)\n",
      " |      Return self+value.\n",
      " |  \n",
      " |  __bool__(self, /)\n",
      " |      self != 0\n",
      " |  \n",
      " |  __divmod__(self, value, /)\n",
      " |      Return divmod(self, value).\n",
      " |  \n",
      " |  __eq__(self, value, /)\n",
      " |      Return self==value.\n",
      " |  \n",
      " |  __float__(self, /)\n",
      " |      float(self)\n",
      " |  \n",
      " |  __floordiv__(self, value, /)\n",
      " |      Return self//value.\n",
      " |  \n",
      " |  __format__(self, format_spec, /)\n",
      " |      Formats the float according to format_spec.\n",
      " |  \n",
      " |  __ge__(self, value, /)\n",
      " |      Return self>=value.\n",
      " |  \n",
      " |  __getattribute__(self, name, /)\n",
      " |      Return getattr(self, name).\n",
      " |  \n",
      " |  __getnewargs__(self, /)\n",
      " |  \n",
      " |  __gt__(self, value, /)\n",
      " |      Return self>value.\n",
      " |  \n",
      " |  __hash__(self, /)\n",
      " |      Return hash(self).\n",
      " |  \n",
      " |  __int__(self, /)\n",
      " |      int(self)\n",
      " |  \n",
      " |  __le__(self, value, /)\n",
      " |      Return self<=value.\n",
      " |  \n",
      " |  __lt__(self, value, /)\n",
      " |      Return self<value.\n",
      " |  \n",
      " |  __mod__(self, value, /)\n",
      " |      Return self%value.\n",
      " |  \n",
      " |  __mul__(self, value, /)\n",
      " |      Return self*value.\n",
      " |  \n",
      " |  __ne__(self, value, /)\n",
      " |      Return self!=value.\n",
      " |  \n",
      " |  __neg__(self, /)\n",
      " |      -self\n",
      " |  \n",
      " |  __pos__(self, /)\n",
      " |      +self\n",
      " |  \n",
      " |  __pow__(self, value, mod=None, /)\n",
      " |      Return pow(self, value, mod).\n",
      " |  \n",
      " |  __radd__(self, value, /)\n",
      " |      Return value+self.\n",
      " |  \n",
      " |  __rdivmod__(self, value, /)\n",
      " |      Return divmod(value, self).\n",
      " |  \n",
      " |  __repr__(self, /)\n",
      " |      Return repr(self).\n",
      " |  \n",
      " |  __rfloordiv__(self, value, /)\n",
      " |      Return value//self.\n",
      " |  \n",
      " |  __rmod__(self, value, /)\n",
      " |      Return value%self.\n",
      " |  \n",
      " |  __rmul__(self, value, /)\n",
      " |      Return value*self.\n",
      " |  \n",
      " |  __round__(self, ndigits=None, /)\n",
      " |      Return the Integral closest to x, rounding half toward even.\n",
      " |      \n",
      " |      When an argument is passed, work like built-in round(x, ndigits).\n",
      " |  \n",
      " |  __rpow__(self, value, mod=None, /)\n",
      " |      Return pow(value, self, mod).\n",
      " |  \n",
      " |  __rsub__(self, value, /)\n",
      " |      Return value-self.\n",
      " |  \n",
      " |  __rtruediv__(self, value, /)\n",
      " |      Return value/self.\n",
      " |  \n",
      " |  __sub__(self, value, /)\n",
      " |      Return self-value.\n",
      " |  \n",
      " |  __truediv__(self, value, /)\n",
      " |      Return self/value.\n",
      " |  \n",
      " |  __trunc__(self, /)\n",
      " |      Return the Integral closest to x between 0 and x.\n",
      " |  \n",
      " |  as_integer_ratio(self, /)\n",
      " |      Return integer ratio.\n",
      " |      \n",
      " |      Return a pair of integers, whose ratio is exactly equal to the original float\n",
      " |      and with a positive denominator.\n",
      " |      \n",
      " |      Raise OverflowError on infinities and a ValueError on NaNs.\n",
      " |      \n",
      " |      >>> (10.0).as_integer_ratio()\n",
      " |      (10, 1)\n",
      " |      >>> (0.0).as_integer_ratio()\n",
      " |      (0, 1)\n",
      " |      >>> (-.25).as_integer_ratio()\n",
      " |      (-1, 4)\n",
      " |  \n",
      " |  conjugate(self, /)\n",
      " |      Return self, the complex conjugate of any float.\n",
      " |  \n",
      " |  hex(self, /)\n",
      " |      Return a hexadecimal representation of a floating-point number.\n",
      " |      \n",
      " |      >>> (-0.1).hex()\n",
      " |      '-0x1.999999999999ap-4'\n",
      " |      >>> 3.14159.hex()\n",
      " |      '0x1.921f9f01b866ep+1'\n",
      " |  \n",
      " |  is_integer(self, /)\n",
      " |      Return True if the float is an integer.\n",
      " |  \n",
      " |  ----------------------------------------------------------------------\n",
      " |  Class methods defined here:\n",
      " |  \n",
      " |  __getformat__(typestr, /) from builtins.type\n",
      " |      You probably don't want to use this function.\n",
      " |      \n",
      " |        typestr\n",
      " |          Must be 'double' or 'float'.\n",
      " |      \n",
      " |      It exists mainly to be used in Python's test suite.\n",
      " |      \n",
      " |      This function returns whichever of 'unknown', 'IEEE, big-endian' or 'IEEE,\n",
      " |      little-endian' best describes the format of floating point numbers used by the\n",
      " |      C type named by typestr.\n",
      " |  \n",
      " |  __set_format__(typestr, fmt, /) from builtins.type\n",
      " |      You probably don't want to use this function.\n",
      " |      \n",
      " |        typestr\n",
      " |          Must be 'double' or 'float'.\n",
      " |        fmt\n",
      " |          Must be one of 'unknown', 'IEEE, big-endian' or 'IEEE, little-endian',\n",
      " |          and in addition can only be one of the latter two if it appears to\n",
      " |          match the underlying C reality.\n",
      " |      \n",
      " |      It exists mainly to be used in Python's test suite.\n",
      " |      \n",
      " |      Override the automatic determination of C-level floating point type.\n",
      " |      This affects how floats are converted to and from binary strings.\n",
      " |  \n",
      " |  fromhex(string, /) from builtins.type\n",
      " |      Create a floating-point number from a hexadecimal string.\n",
      " |      \n",
      " |      >>> float.fromhex('0x1.ffffp10')\n",
      " |      2047.984375\n",
      " |      >>> float.fromhex('-0x1p-1074')\n",
      " |      -5e-324\n",
      " |  \n",
      " |  ----------------------------------------------------------------------\n",
      " |  Static methods defined here:\n",
      " |  \n",
      " |  __new__(*args, **kwargs) from builtins.type\n",
      " |      Create and return a new object.  See help(type) for accurate signature.\n",
      " |  \n",
      " |  ----------------------------------------------------------------------\n",
      " |  Data descriptors defined here:\n",
      " |  \n",
      " |  imag\n",
      " |      the imaginary part of a complex number\n",
      " |  \n",
      " |  real\n",
      " |      the real part of a complex number\n",
      "\n"
     ]
    }
   ],
   "source": [
    "help(float)"
   ]
  },
  {
   "cell_type": "markdown",
   "id": "dfcc840d",
   "metadata": {},
   "source": [
    "Look closely at the signature of `float()`. Notice the slash (`/`) after the parameter. What does it mean?"
   ]
  },
  {
   "cell_type": "markdown",
   "id": "0c943594",
   "metadata": {},
   "source": [
    "It turns out that while the one parameter of `float()` is called `x`, you’re not allowed to use its name:"
   ]
  },
  {
   "cell_type": "code",
   "execution_count": 10,
   "id": "aa3157d4",
   "metadata": {},
   "outputs": [
    {
     "ename": "TypeError",
     "evalue": "float() takes no keyword arguments",
     "output_type": "error",
     "traceback": [
      "\u001b[0;31m---------------------------------------------------------------------------\u001b[0m",
      "\u001b[0;31mTypeError\u001b[0m                                 Traceback (most recent call last)",
      "\u001b[0;32m<ipython-input-10-98e291e14d96>\u001b[0m in \u001b[0;36m<module>\u001b[0;34m\u001b[0m\n\u001b[0;32m----> 1\u001b[0;31m \u001b[0mfloat\u001b[0m\u001b[0;34m(\u001b[0m\u001b[0mx\u001b[0m\u001b[0;34m=\u001b[0m\u001b[0;34m\"3.8\"\u001b[0m\u001b[0;34m)\u001b[0m\u001b[0;34m\u001b[0m\u001b[0;34m\u001b[0m\u001b[0m\n\u001b[0m",
      "\u001b[0;31mTypeError\u001b[0m: float() takes no keyword arguments"
     ]
    }
   ],
   "source": [
    "float(x=\"3.8\")"
   ]
  },
  {
   "cell_type": "markdown",
   "id": "a768ffc5",
   "metadata": {},
   "source": [
    "When using `float()` you’re only allowed to specify arguments by position, not by keyword. Before Python 3.8, such **positional-only** arguments were only possible for built-in functions. There was no easy way to specify that arguments should be positional-only in your own functions:"
   ]
  },
  {
   "cell_type": "code",
   "execution_count": 11,
   "id": "449c19cd-0be2-4272-a804-24c914652336",
   "metadata": {},
   "outputs": [],
   "source": [
    "def incr(x):\n",
    "    return x + 1"
   ]
  },
  {
   "cell_type": "code",
   "execution_count": 12,
   "id": "6a4420a2-9a97-4b97-87fc-4c3645a87997",
   "metadata": {},
   "outputs": [
    {
     "data": {
      "text/plain": [
       "4.8"
      ]
     },
     "execution_count": 12,
     "metadata": {},
     "output_type": "execute_result"
    }
   ],
   "source": [
    "incr(3.8)"
   ]
  },
  {
   "cell_type": "code",
   "execution_count": 13,
   "id": "e0325ff6-e100-491b-bc18-10e0a45759ca",
   "metadata": {},
   "outputs": [
    {
     "data": {
      "text/plain": [
       "4.8"
      ]
     },
     "execution_count": 13,
     "metadata": {},
     "output_type": "execute_result"
    }
   ],
   "source": [
    "incr(x=3.8)"
   ]
  },
  {
   "cell_type": "markdown",
   "id": "0c7bb995",
   "metadata": {},
   "source": [
    "It’s possible to [simulate](https://github.com/python/cpython/blob/3.7/Lib/collections/__init__.py#L1000) positional-only arguments [using `*args`](https://realpython.com/python-kwargs-and-args/), but this is less flexible, less readable, and forces you to implement your own argument parsing. In Python 3.8, you can use `/` to denote that all arguments before it must be specified by position. You can rewrite `incr()` to only accept positional arguments:"
   ]
  },
  {
   "cell_type": "code",
   "execution_count": 14,
   "id": "a9fedf88-cd80-44ef-9506-e74fbc9adc1f",
   "metadata": {},
   "outputs": [],
   "source": [
    "def incr(x, /):\n",
    "    return x + 1"
   ]
  },
  {
   "cell_type": "code",
   "execution_count": 15,
   "id": "b9dd2266-f984-47b5-a813-8abd6c7d7e06",
   "metadata": {},
   "outputs": [
    {
     "data": {
      "text/plain": [
       "4.8"
      ]
     },
     "execution_count": 15,
     "metadata": {},
     "output_type": "execute_result"
    }
   ],
   "source": [
    "incr(3.8)"
   ]
  },
  {
   "cell_type": "code",
   "execution_count": 16,
   "id": "e69d41b1-039f-4e49-b4eb-7d8f08d5ae5c",
   "metadata": {},
   "outputs": [
    {
     "ename": "TypeError",
     "evalue": "incr() got some positional-only arguments passed as keyword arguments: 'x'",
     "output_type": "error",
     "traceback": [
      "\u001b[0;31m---------------------------------------------------------------------------\u001b[0m",
      "\u001b[0;31mTypeError\u001b[0m                                 Traceback (most recent call last)",
      "\u001b[0;32m<ipython-input-16-982270385843>\u001b[0m in \u001b[0;36m<module>\u001b[0;34m\u001b[0m\n\u001b[0;32m----> 1\u001b[0;31m \u001b[0mincr\u001b[0m\u001b[0;34m(\u001b[0m\u001b[0mx\u001b[0m\u001b[0;34m=\u001b[0m\u001b[0;36m3.8\u001b[0m\u001b[0;34m)\u001b[0m\u001b[0;34m\u001b[0m\u001b[0;34m\u001b[0m\u001b[0m\n\u001b[0m",
      "\u001b[0;31mTypeError\u001b[0m: incr() got some positional-only arguments passed as keyword arguments: 'x'"
     ]
    }
   ],
   "source": [
    "incr(x=3.8)"
   ]
  },
  {
   "cell_type": "markdown",
   "id": "ef50366b",
   "metadata": {},
   "source": [
    "By adding `/` after `x`, you specify that `x` is a positional-only argument. You can combine regular arguments with positional-only ones by placing the regular arguments after the slash:"
   ]
  },
  {
   "cell_type": "code",
   "execution_count": 17,
   "id": "d7321c27-82d0-4856-82c2-8deafeb3a096",
   "metadata": {},
   "outputs": [],
   "source": [
    "def greet(name, /, greeting=\"Hello\"):\n",
    "    return f\"{greeting}, {name}\""
   ]
  },
  {
   "cell_type": "code",
   "execution_count": 18,
   "id": "08b2cac8-5ad3-4ef3-89ff-04547ed3ceb6",
   "metadata": {},
   "outputs": [
    {
     "data": {
      "text/plain": [
       "'Hello, Łukasz'"
      ]
     },
     "execution_count": 18,
     "metadata": {},
     "output_type": "execute_result"
    }
   ],
   "source": [
    "greet(\"Łukasz\")"
   ]
  },
  {
   "cell_type": "code",
   "execution_count": 19,
   "id": "297ff1b1-c917-4c24-b6cc-f081a4378c43",
   "metadata": {},
   "outputs": [
    {
     "data": {
      "text/plain": [
       "'Awesome job, Łukasz'"
      ]
     },
     "execution_count": 19,
     "metadata": {},
     "output_type": "execute_result"
    }
   ],
   "source": [
    "greet(\"Łukasz\", greeting=\"Awesome job\")"
   ]
  },
  {
   "cell_type": "code",
   "execution_count": 20,
   "id": "1e1a0f31-6585-45a1-a520-0be6439b99ff",
   "metadata": {},
   "outputs": [
    {
     "ename": "TypeError",
     "evalue": "greet() got some positional-only arguments passed as keyword arguments: 'name'",
     "output_type": "error",
     "traceback": [
      "\u001b[0;31m---------------------------------------------------------------------------\u001b[0m",
      "\u001b[0;31mTypeError\u001b[0m                                 Traceback (most recent call last)",
      "\u001b[0;32m<ipython-input-20-0afb774fa1e7>\u001b[0m in \u001b[0;36m<module>\u001b[0;34m\u001b[0m\n\u001b[0;32m----> 1\u001b[0;31m \u001b[0mgreet\u001b[0m\u001b[0;34m(\u001b[0m\u001b[0mname\u001b[0m\u001b[0;34m=\u001b[0m\u001b[0;34m\"Łukasz\"\u001b[0m\u001b[0;34m,\u001b[0m \u001b[0mgreeting\u001b[0m\u001b[0;34m=\u001b[0m\u001b[0;34m\"Awesome job\"\u001b[0m\u001b[0;34m)\u001b[0m\u001b[0;34m\u001b[0m\u001b[0;34m\u001b[0m\u001b[0m\n\u001b[0m",
      "\u001b[0;31mTypeError\u001b[0m: greet() got some positional-only arguments passed as keyword arguments: 'name'"
     ]
    }
   ],
   "source": [
    "greet(name=\"Łukasz\", greeting=\"Awesome job\")"
   ]
  },
  {
   "cell_type": "markdown",
   "id": "ec297088",
   "metadata": {},
   "source": [
    "In `greet()`, the slash is placed between `name` and `greeting`. This means that `name` is a positional-only argument, while `greeting` is a regular argument that can be passed either by position or by keyword."
   ]
  },
  {
   "cell_type": "markdown",
   "id": "c5d8d84f",
   "metadata": {},
   "source": [
    "At first glance, positional-only arguments can seem a bit limiting and contrary to Python’s mantra about the importance of readability. You will probably find that there are not a lot of occasions where positional-only arguments improve your code. "
   ]
  },
  {
   "cell_type": "markdown",
   "id": "94196338",
   "metadata": {},
   "source": [
    "However, in the right circumstances, positional-only arguments can give you some flexibility when you’re designing functions. First, positional-only arguments make sense when you have arguments that have a natural order but are hard to give good, descriptive names to."
   ]
  },
  {
   "cell_type": "markdown",
   "id": "e4026d92",
   "metadata": {},
   "source": [
    "Another possible benefit of using positional-only arguments is that you can more easily refactor your functions. In particular, you can change the name of your parameters without worrying that other code depends on those names."
   ]
  },
  {
   "cell_type": "markdown",
   "id": "f6dcd95b",
   "metadata": {},
   "source": [
    "Positional-only arguments nicely complement **keyword-only** arguments. In any version of Python 3, you can specify keyword-only arguments using the star (`*`). Any argument *after* `*` must be specified using a keyword:"
   ]
  },
  {
   "cell_type": "code",
   "execution_count": 21,
   "id": "7b20ea86-ddec-4dfd-9bba-363c22316530",
   "metadata": {},
   "outputs": [],
   "source": [
    "def to_fahrenheit(*, celsius):\n",
    "    return 32 + celsius * 9 / 5"
   ]
  },
  {
   "cell_type": "code",
   "execution_count": 22,
   "id": "b762a96c-9737-4deb-9408-a950ad584c6a",
   "metadata": {},
   "outputs": [
    {
     "ename": "TypeError",
     "evalue": "to_fahrenheit() takes 0 positional arguments but 1 was given",
     "output_type": "error",
     "traceback": [
      "\u001b[0;31m---------------------------------------------------------------------------\u001b[0m",
      "\u001b[0;31mTypeError\u001b[0m                                 Traceback (most recent call last)",
      "\u001b[0;32m<ipython-input-22-6bd18fd3776c>\u001b[0m in \u001b[0;36m<module>\u001b[0;34m\u001b[0m\n\u001b[0;32m----> 1\u001b[0;31m \u001b[0mto_fahrenheit\u001b[0m\u001b[0;34m(\u001b[0m\u001b[0;36m40\u001b[0m\u001b[0;34m)\u001b[0m\u001b[0;34m\u001b[0m\u001b[0;34m\u001b[0m\u001b[0m\n\u001b[0m",
      "\u001b[0;31mTypeError\u001b[0m: to_fahrenheit() takes 0 positional arguments but 1 was given"
     ]
    }
   ],
   "source": [
    "to_fahrenheit(40)"
   ]
  },
  {
   "cell_type": "code",
   "execution_count": 23,
   "id": "68659b15-c19e-4fd0-a047-4a407081c2f1",
   "metadata": {},
   "outputs": [
    {
     "data": {
      "text/plain": [
       "104.0"
      ]
     },
     "execution_count": 23,
     "metadata": {},
     "output_type": "execute_result"
    }
   ],
   "source": [
    "to_fahrenheit(celsius=40)"
   ]
  },
  {
   "cell_type": "markdown",
   "id": "5294b344",
   "metadata": {},
   "source": [
    "`celsius` is a keyword-only argument, so Python raises an error if you try to specify it based on position, without the keyword."
   ]
  },
  {
   "cell_type": "markdown",
   "id": "e2090407",
   "metadata": {},
   "source": [
    "You can combine positional-only, regular, and keyword-only arguments, by specifying them in this order separated by `/` and `*`. In the following example, `text` is a positional-only argument, `border` is a regular argument with a default value, and `width` is a keyword-only argument with a default value:"
   ]
  },
  {
   "cell_type": "code",
   "execution_count": 24,
   "id": "e83a8172",
   "metadata": {},
   "outputs": [],
   "source": [
    "def headline(text, /, border=\"♦\", *, width=50):\n",
    "    return f\" {text} \".center(width, border)"
   ]
  },
  {
   "cell_type": "markdown",
   "id": "2066ff0a",
   "metadata": {},
   "source": [
    "Since `text` is positional-only, you can’t use the keyword `text`:"
   ]
  },
  {
   "cell_type": "code",
   "execution_count": 25,
   "id": "9fc67fa6-9fa7-4f18-b103-869bf2451c7f",
   "metadata": {},
   "outputs": [
    {
     "data": {
      "text/plain": [
       "'♦♦♦♦♦♦♦♦♦♦♦ Positional-only Arguments ♦♦♦♦♦♦♦♦♦♦♦♦'"
      ]
     },
     "execution_count": 25,
     "metadata": {},
     "output_type": "execute_result"
    }
   ],
   "source": [
    "headline(\"Positional-only Arguments\")"
   ]
  },
  {
   "cell_type": "code",
   "execution_count": 26,
   "id": "e45e01b3-7a88-48db-822f-a43d80a2805f",
   "metadata": {},
   "outputs": [
    {
     "ename": "TypeError",
     "evalue": "headline() got some positional-only arguments passed as keyword arguments: 'text'",
     "output_type": "error",
     "traceback": [
      "\u001b[0;31m---------------------------------------------------------------------------\u001b[0m",
      "\u001b[0;31mTypeError\u001b[0m                                 Traceback (most recent call last)",
      "\u001b[0;32m<ipython-input-26-1bbfa2891161>\u001b[0m in \u001b[0;36m<module>\u001b[0;34m\u001b[0m\n\u001b[0;32m----> 1\u001b[0;31m \u001b[0mheadline\u001b[0m\u001b[0;34m(\u001b[0m\u001b[0mtext\u001b[0m\u001b[0;34m=\u001b[0m\u001b[0;34m\"This doesn't work!\"\u001b[0m\u001b[0;34m)\u001b[0m\u001b[0;34m\u001b[0m\u001b[0;34m\u001b[0m\u001b[0m\n\u001b[0m",
      "\u001b[0;31mTypeError\u001b[0m: headline() got some positional-only arguments passed as keyword arguments: 'text'"
     ]
    }
   ],
   "source": [
    "headline(text=\"This doesn't work!\")"
   ]
  },
  {
   "cell_type": "markdown",
   "id": "3d485c3e",
   "metadata": {},
   "source": [
    "`border`, on the other hand, can be specified both with and without the keyword:"
   ]
  },
  {
   "cell_type": "code",
   "execution_count": 27,
   "id": "6673ea68-303d-44dd-b060-b236c16ee90f",
   "metadata": {},
   "outputs": [
    {
     "data": {
      "text/plain": [
       "'=================== Python 3.8 ==================='"
      ]
     },
     "execution_count": 27,
     "metadata": {},
     "output_type": "execute_result"
    }
   ],
   "source": [
    "headline(\"Python 3.8\", \"=\")"
   ]
  },
  {
   "cell_type": "code",
   "execution_count": 28,
   "id": "c027c0b2-256f-4b39-921a-7522205b3df6",
   "metadata": {},
   "outputs": [
    {
     "data": {
      "text/plain": [
       "':::::::::::::::::: Real Python :::::::::::::::::::'"
      ]
     },
     "execution_count": 28,
     "metadata": {},
     "output_type": "execute_result"
    }
   ],
   "source": [
    "headline(\"Real Python\", border=\":\")"
   ]
  },
  {
   "cell_type": "markdown",
   "id": "738e6251",
   "metadata": {},
   "source": [
    "Finally, `width` must be specified using the keyword:"
   ]
  },
  {
   "cell_type": "code",
   "execution_count": 29,
   "id": "4b3a2e1a-823d-4c64-a8ca-b453f54ae4b1",
   "metadata": {},
   "outputs": [
    {
     "data": {
      "text/plain": [
       "'🐍🐍🐍🐍🐍🐍🐍🐍🐍🐍🐍🐍🐍🐍🐍 Python 🐍🐍🐍🐍🐍🐍🐍🐍🐍🐍🐍🐍🐍🐍🐍'"
      ]
     },
     "execution_count": 29,
     "metadata": {},
     "output_type": "execute_result"
    }
   ],
   "source": [
    "headline(\"Python\", \"🐍\", width=38)"
   ]
  },
  {
   "cell_type": "code",
   "execution_count": 30,
   "id": "f46eb7d5-2268-4d8b-a400-d7167453aedf",
   "metadata": {},
   "outputs": [
    {
     "ename": "TypeError",
     "evalue": "headline() takes from 1 to 2 positional arguments but 3 were given",
     "output_type": "error",
     "traceback": [
      "\u001b[0;31m---------------------------------------------------------------------------\u001b[0m",
      "\u001b[0;31mTypeError\u001b[0m                                 Traceback (most recent call last)",
      "\u001b[0;32m<ipython-input-30-5d175d63b629>\u001b[0m in \u001b[0;36m<module>\u001b[0;34m\u001b[0m\n\u001b[0;32m----> 1\u001b[0;31m \u001b[0mheadline\u001b[0m\u001b[0;34m(\u001b[0m\u001b[0;34m\"Python\"\u001b[0m\u001b[0;34m,\u001b[0m \u001b[0;34m\"🐍\"\u001b[0m\u001b[0;34m,\u001b[0m \u001b[0;36m38\u001b[0m\u001b[0;34m)\u001b[0m\u001b[0;34m\u001b[0m\u001b[0;34m\u001b[0m\u001b[0m\n\u001b[0m",
      "\u001b[0;31mTypeError\u001b[0m: headline() takes from 1 to 2 positional arguments but 3 were given"
     ]
    }
   ],
   "source": [
    "headline(\"Python\", \"🐍\", 38)"
   ]
  },
  {
   "cell_type": "markdown",
   "id": "40bea0d5",
   "metadata": {},
   "source": [
    "You can read more about positional-only arguments in [PEP 570](https://www.python.org/dev/peps/pep-0570/)."
   ]
  },
  {
   "cell_type": "markdown",
   "id": "14976a09",
   "metadata": {},
   "source": [
    "<a class=\"anchor\" id=\"more_precise_types\"></a>\n",
    "\n",
    "## More Precise Types"
   ]
  },
  {
   "cell_type": "markdown",
   "id": "8ca5aa19",
   "metadata": {},
   "source": [
    "Python’s typing system is quite mature at this point. However, in Python 3.8, some new features have been added to `typing` to allow more precise typing:"
   ]
  },
  {
   "cell_type": "markdown",
   "id": "6f2cf58d",
   "metadata": {},
   "source": [
    "- Literal types\n",
    "- Typed dictionaries\n",
    "- Final objects\n",
    "- Protocols\n"
   ]
  },
  {
   "cell_type": "markdown",
   "id": "d5f8b4fd",
   "metadata": {},
   "source": [
    "Python supports optional **type hints**, typically as annotations on your code:"
   ]
  },
  {
   "cell_type": "code",
   "execution_count": 33,
   "id": "7e80e06c",
   "metadata": {},
   "outputs": [],
   "source": [
    "def double(number: float) -> float:\n",
    "    return 2 * number"
   ]
  },
  {
   "cell_type": "markdown",
   "id": "1a121cec",
   "metadata": {},
   "source": [
    "In this example, you say that `number` should be a `float` and the `double()` function should return a `float`, as well. However, Python treats these annotations as *hints*. They are not enforced at runtime:"
   ]
  },
  {
   "cell_type": "code",
   "execution_count": 34,
   "id": "cfba1b82-4a9c-42f3-bb7c-615afca311f5",
   "metadata": {},
   "outputs": [
    {
     "data": {
      "text/plain": [
       "6.28"
      ]
     },
     "execution_count": 34,
     "metadata": {},
     "output_type": "execute_result"
    }
   ],
   "source": [
    "double(3.14)"
   ]
  },
  {
   "cell_type": "code",
   "execution_count": 35,
   "id": "bbf417d4-3288-481f-a74d-3370b1b9ffe7",
   "metadata": {},
   "outputs": [
    {
     "data": {
      "text/plain": [
       "\"I'm not a floatI'm not a float\""
      ]
     },
     "execution_count": 35,
     "metadata": {},
     "output_type": "execute_result"
    }
   ],
   "source": [
    "double(\"I'm not a float\")"
   ]
  },
  {
   "cell_type": "markdown",
   "id": "1e785a28",
   "metadata": {},
   "source": [
    "`double()` happily accepts `\"I'm not a float\"` as an argument, even though that’s not a `float`. There are [libraries that can use types at runtime](https://realpython.com/python-type-checking/#using-types-at-runtime), but that is not the main use case for Python’s type system."
   ]
  },
  {
   "cell_type": "markdown",
   "id": "de19c789",
   "metadata": {},
   "source": [
    "Instead, type hints allow [static type checkers](https://realpython.com/python-type-checking/#other-static-type-checkers) to do type checking of your Python code, without actually running your scripts. This is reminiscent of compilers catching type errors in other languages like [Java](https://www.java.com), [Rust](https://www.rust-lang.org/), and [Crystal](https://crystal-lang.org/). Additionally, type hints act as [documentation](https://realpython.com/documenting-python-code/) of your code, making it easier to read, as well as [improving auto-complete in your IDE](https://realpython.com/python-type-checking/#pros-and-cons)."
   ]
  },
  {
   "cell_type": "markdown",
   "id": "e12eecde",
   "metadata": {},
   "source": [
    "You can find more information about type hints in Python in the [original PEP 484](https://www.python.org/dev/peps/pep-0484/), as well as in [Python Type Checking (Guide)](https://realpython.com/python-type-checking/)."
   ]
  },
  {
   "cell_type": "markdown",
   "id": "04fb2c27",
   "metadata": {},
   "source": [
    "There are four new PEPs about type checking that have been accepted and included in Python 3.8. You’ll see short examples from each of these."
   ]
  },
  {
   "cell_type": "markdown",
   "id": "6a72b18d",
   "metadata": {},
   "source": [
    "[PEP 586](https://www.python.org/dev/peps/pep-0586/) introduce the **[`Literal`](https://docs.python.org/3.8/library/typing.html#typing.Literal)** type. `Literal` is a bit special in that it represents one or several specific values. One use case of `Literal` is to be able to precisely add types, when string arguments are used to describe specific behavior. Consider the following example:"
   ]
  },
  {
   "cell_type": "code",
   "execution_count": 36,
   "id": "10a93e55",
   "metadata": {},
   "outputs": [
    {
     "ename": "ValueError",
     "evalue": "invalid direction 'up'",
     "output_type": "error",
     "traceback": [
      "\u001b[0;31m---------------------------------------------------------------------------\u001b[0m",
      "\u001b[0;31mValueError\u001b[0m                                Traceback (most recent call last)",
      "\u001b[0;32m<ipython-input-36-8ec1586f7a2a>\u001b[0m in \u001b[0;36m<module>\u001b[0;34m\u001b[0m\n\u001b[1;32m     11\u001b[0m         \u001b[0;32mraise\u001b[0m \u001b[0mValueError\u001b[0m\u001b[0;34m(\u001b[0m\u001b[0;34mf\"invalid direction {direction!r}\"\u001b[0m\u001b[0;34m)\u001b[0m\u001b[0;34m\u001b[0m\u001b[0;34m\u001b[0m\u001b[0m\n\u001b[1;32m     12\u001b[0m \u001b[0;34m\u001b[0m\u001b[0m\n\u001b[0;32m---> 13\u001b[0;31m \u001b[0mdraw_line\u001b[0m\u001b[0;34m(\u001b[0m\u001b[0;34m\"up\"\u001b[0m\u001b[0;34m)\u001b[0m\u001b[0;34m\u001b[0m\u001b[0;34m\u001b[0m\u001b[0m\n\u001b[0m",
      "\u001b[0;32m<ipython-input-36-8ec1586f7a2a>\u001b[0m in \u001b[0;36mdraw_line\u001b[0;34m(direction)\u001b[0m\n\u001b[1;32m      9\u001b[0m \u001b[0;34m\u001b[0m\u001b[0m\n\u001b[1;32m     10\u001b[0m     \u001b[0;32melse\u001b[0m\u001b[0;34m:\u001b[0m\u001b[0;34m\u001b[0m\u001b[0;34m\u001b[0m\u001b[0m\n\u001b[0;32m---> 11\u001b[0;31m         \u001b[0;32mraise\u001b[0m \u001b[0mValueError\u001b[0m\u001b[0;34m(\u001b[0m\u001b[0;34mf\"invalid direction {direction!r}\"\u001b[0m\u001b[0;34m)\u001b[0m\u001b[0;34m\u001b[0m\u001b[0;34m\u001b[0m\u001b[0m\n\u001b[0m\u001b[1;32m     12\u001b[0m \u001b[0;34m\u001b[0m\u001b[0m\n\u001b[1;32m     13\u001b[0m \u001b[0mdraw_line\u001b[0m\u001b[0;34m(\u001b[0m\u001b[0;34m\"up\"\u001b[0m\u001b[0;34m)\u001b[0m\u001b[0;34m\u001b[0m\u001b[0;34m\u001b[0m\u001b[0m\n",
      "\u001b[0;31mValueError\u001b[0m: invalid direction 'up'"
     ]
    }
   ],
   "source": [
    "# draw_line.py\n",
    "\n",
    "def draw_line(direction: str) -> None:\n",
    "    if direction == \"horizontal\":\n",
    "        ...  # Draw horizontal line\n",
    "\n",
    "    elif direction == \"vertical\":\n",
    "        ...  # Draw vertical line\n",
    "\n",
    "    else:\n",
    "        raise ValueError(f\"invalid direction {direction!r}\")\n",
    "\n",
    "draw_line(\"up\")"
   ]
  },
  {
   "cell_type": "markdown",
   "id": "e4bfac0d",
   "metadata": {},
   "source": [
    "The program will pass the static type checker, even though `\"up\"` is an invalid direction. The type checker only checks that `\"up\"` is a string. In this case, it would be more precise to say that `direction` must be either the literal string `\"horizontal\"` or the literal string `\"vertical\"`. Using `Literal`, you can do exactly that:"
   ]
  },
  {
   "cell_type": "code",
   "execution_count": 37,
   "id": "90b6fe99",
   "metadata": {},
   "outputs": [
    {
     "ename": "ValueError",
     "evalue": "invalid direction 'up'",
     "output_type": "error",
     "traceback": [
      "\u001b[0;31m---------------------------------------------------------------------------\u001b[0m",
      "\u001b[0;31mValueError\u001b[0m                                Traceback (most recent call last)",
      "\u001b[0;32m<ipython-input-37-843870199bb0>\u001b[0m in \u001b[0;36m<module>\u001b[0;34m\u001b[0m\n\u001b[1;32m     13\u001b[0m         \u001b[0;32mraise\u001b[0m \u001b[0mValueError\u001b[0m\u001b[0;34m(\u001b[0m\u001b[0;34mf\"invalid direction {direction!r}\"\u001b[0m\u001b[0;34m)\u001b[0m\u001b[0;34m\u001b[0m\u001b[0;34m\u001b[0m\u001b[0m\n\u001b[1;32m     14\u001b[0m \u001b[0;34m\u001b[0m\u001b[0m\n\u001b[0;32m---> 15\u001b[0;31m \u001b[0mdraw_line\u001b[0m\u001b[0;34m(\u001b[0m\u001b[0;34m\"up\"\u001b[0m\u001b[0;34m)\u001b[0m\u001b[0;34m\u001b[0m\u001b[0;34m\u001b[0m\u001b[0m\n\u001b[0m",
      "\u001b[0;32m<ipython-input-37-843870199bb0>\u001b[0m in \u001b[0;36mdraw_line\u001b[0;34m(direction)\u001b[0m\n\u001b[1;32m     11\u001b[0m \u001b[0;34m\u001b[0m\u001b[0m\n\u001b[1;32m     12\u001b[0m     \u001b[0;32melse\u001b[0m\u001b[0;34m:\u001b[0m\u001b[0;34m\u001b[0m\u001b[0;34m\u001b[0m\u001b[0m\n\u001b[0;32m---> 13\u001b[0;31m         \u001b[0;32mraise\u001b[0m \u001b[0mValueError\u001b[0m\u001b[0;34m(\u001b[0m\u001b[0;34mf\"invalid direction {direction!r}\"\u001b[0m\u001b[0;34m)\u001b[0m\u001b[0;34m\u001b[0m\u001b[0;34m\u001b[0m\u001b[0m\n\u001b[0m\u001b[1;32m     14\u001b[0m \u001b[0;34m\u001b[0m\u001b[0m\n\u001b[1;32m     15\u001b[0m \u001b[0mdraw_line\u001b[0m\u001b[0;34m(\u001b[0m\u001b[0;34m\"up\"\u001b[0m\u001b[0;34m)\u001b[0m\u001b[0;34m\u001b[0m\u001b[0;34m\u001b[0m\u001b[0m\n",
      "\u001b[0;31mValueError\u001b[0m: invalid direction 'up'"
     ]
    }
   ],
   "source": [
    "# draw_line.py\n",
    "\n",
    "from typing import Literal\n",
    "\n",
    "def draw_line(direction: Literal[\"horizontal\", \"vertical\"]) -> None:\n",
    "    if direction == \"horizontal\":\n",
    "        ...  # Draw horizontal line\n",
    "\n",
    "    elif direction == \"vertical\":\n",
    "        ...  # Draw vertical line\n",
    "\n",
    "    else:\n",
    "        raise ValueError(f\"invalid direction {direction!r}\")\n",
    "\n",
    "draw_line(\"up\")"
   ]
  },
  {
   "cell_type": "markdown",
   "id": "40a3bf93",
   "metadata": {},
   "source": [
    "By exposing the allowed values of `direction` to the type checker, you can now be warned about the error:"
   ]
  },
  {
   "cell_type": "markdown",
   "id": "25a9bff5",
   "metadata": {},
   "source": [
    "```sh\n",
    "$ mypy draw_line.py \n",
    "draw_line.py:15: error:\n",
    "    Argument 1 to \"draw_line\" has incompatible type \"Literal['up']\";\n",
    "    expected \"Union[Literal['horizontal'], Literal['vertical']]\"\n",
    "Found 1 error in 1 file (checked 1 source file)\n",
    "```"
   ]
  },
  {
   "cell_type": "markdown",
   "id": "f7c7b055",
   "metadata": {},
   "source": [
    "The basic syntax is `Literal[<literal>]`. For instance, `Literal[38]` represents the literal value 38. You can express one of several literal values using `Union`:\n",
    "```python\n",
    "Union[Literal[\"horizontal\"], Literal[\"vertical\"]]\n",
    "```"
   ]
  },
  {
   "cell_type": "markdown",
   "id": "680b6acb",
   "metadata": {},
   "source": [
    "Since this is a fairly common use case, you can (and probably should) use the simpler notation `Literal[\"horizontal\", \"vertical\"]` instead. You already used the latter when adding types to `draw_line()`. If you look carefully at the output from Mypy above, you can see that it translated the simpler notation to the `Union` notation internally."
   ]
  },
  {
   "cell_type": "markdown",
   "id": "71ecabf3",
   "metadata": {},
   "source": [
    "There are cases where the type of the return value of a function depends on the input arguments. One example is `open()` which may return a text string or a byte array depending on the value of `mode`. This can be handled through [overloading](https://mypy.readthedocs.io/en/latest/more_types.html#function-overloading)."
   ]
  },
  {
   "cell_type": "markdown",
   "id": "1685a396",
   "metadata": {},
   "source": [
    "The following example shows the skeleton of a calculator that can return the answer either as regular numbers (`38`), or as [roman numerals](http://code.activestate.com/recipes/81611-roman-numerals/) (`XXXVIII`):"
   ]
  },
  {
   "cell_type": "code",
   "execution_count": 39,
   "id": "3542bb2b",
   "metadata": {},
   "outputs": [],
   "source": [
    "# calculator.py\n",
    "\n",
    "from typing import Union\n",
    "\n",
    "ARABIC_TO_ROMAN = [(1000, \"M\"), (900, \"CM\"), (500, \"D\"), (400, \"CD\"),\n",
    "                   (100, \"C\"), (90, \"XC\"), (50, \"L\"), (40, \"XL\"),\n",
    "                   (10, \"X\"), (9, \"IX\"), (5, \"V\"), (4, \"IV\"), (1, \"I\")]\n",
    "\n",
    "def _convert_to_roman_numeral(number: int) -> str:\n",
    "    \"\"\"Convert number to a roman numeral string\"\"\"\n",
    "    result = list()\n",
    "    for arabic, roman in ARABIC_TO_ROMAN:\n",
    "        count, number = divmod(number, arabic)\n",
    "        result.append(roman * count)\n",
    "    return \"\".join(result)\n",
    "\n",
    "def add(num_1: int, num_2: int, to_roman: bool = True) -> Union[str, int]:\n",
    "    \"\"\"Add two numbers\"\"\"\n",
    "    result = num_1 + num_2\n",
    "\n",
    "    if to_roman:\n",
    "        return _convert_to_roman_numeral(result)\n",
    "    else:\n",
    "        return result"
   ]
  },
  {
   "cell_type": "markdown",
   "id": "a782777c",
   "metadata": {},
   "source": [
    "The code has the correct type hints: the result of `add()` will be either `str` or `int`. However, often this code will be called with a literal `True` or `False` as the value of `to_roman` in which case you would like the type checker to infer exactly whether `str` or `int` is returned. This can be done using `Literal` together with `@overload`:"
   ]
  },
  {
   "cell_type": "code",
   "execution_count": 40,
   "id": "2e53613b",
   "metadata": {},
   "outputs": [],
   "source": [
    "# calculator.py\n",
    "\n",
    "from typing import Literal, overload, Union\n",
    "\n",
    "ARABIC_TO_ROMAN = [(1000, \"M\"), (900, \"CM\"), (500, \"D\"), (400, \"CD\"),\n",
    "                   (100, \"C\"), (90, \"XC\"), (50, \"L\"), (40, \"XL\"),\n",
    "                   (10, \"X\"), (9, \"IX\"), (5, \"V\"), (4, \"IV\"), (1, \"I\")]\n",
    "\n",
    "def _convert_to_roman_numeral(number: int) -> str:\n",
    "    \"\"\"Convert number to a roman numeral string\"\"\"\n",
    "    result = list()\n",
    "    for arabic, roman in ARABIC_TO_ROMAN:\n",
    "        count, number = divmod(number, arabic)\n",
    "        result.append(roman * count)\n",
    "    return \"\".join(result)\n",
    "\n",
    "@overload\n",
    "def add(num_1: int, num_2: int, to_roman: Literal[True]) -> str: ...\n",
    "@overload\n",
    "def add(num_1: int, num_2: int, to_roman: Literal[False]) -> int: ...\n",
    "\n",
    "def add(num_1: int, num_2: int, to_roman: bool = True) -> Union[str, int]:\n",
    "    \"\"\"Add two numbers\"\"\"\n",
    "    result = num_1 + num_2\n",
    "\n",
    "    if to_roman:\n",
    "        return _convert_to_roman_numeral(result)\n",
    "    else:\n",
    "        return result"
   ]
  },
  {
   "cell_type": "markdown",
   "id": "0b867881",
   "metadata": {},
   "source": [
    "The added `@overload` signatures will help your type checker infer `str` or `int` depending on the literal values of `to_roman`. Note that the ellipses (`...`) are a literal part of the code. They stand in for the function body in the overloaded signatures."
   ]
  },
  {
   "cell_type": "markdown",
   "id": "2fe5d4b4",
   "metadata": {},
   "source": [
    "As a complement to `Literal`, [PEP 591](https://www.python.org/dev/peps/pep-0591/) introduces **[`Final`](https://docs.python.org/3.8/library/typing.html#typing.Final)**. This qualifier specifies that a variable or attribute should not be reassigned, redefined, or overridden. The following is a typing error:"
   ]
  },
  {
   "cell_type": "code",
   "execution_count": 41,
   "id": "57212eaa",
   "metadata": {},
   "outputs": [],
   "source": [
    "from typing import Final\n",
    "\n",
    "ID: Final = 1\n",
    "\n",
    "...\n",
    "\n",
    "ID += 1"
   ]
  },
  {
   "cell_type": "markdown",
   "id": "6008357a",
   "metadata": {},
   "source": [
    "Mypy will highlight the line `ID += 1`, and note that you `Cannot assign to final name \"ID\"`. This gives you a way to ensure that constants in your code never change their value."
   ]
  },
  {
   "cell_type": "markdown",
   "id": "4db997a9",
   "metadata": {},
   "source": [
    "Additionally, there is also a **[`@final`](https://docs.python.org/3.8/library/typing.html#typing.final)** decorator that can be applied to classes and methods. Classes [decorated](https://realpython.com/courses/python-decorators-101/) with `@final` can’t be subclassed, while `@final` methods can’t be overridden by subclasses:"
   ]
  },
  {
   "cell_type": "code",
   "execution_count": 42,
   "id": "bda3f1f3",
   "metadata": {},
   "outputs": [],
   "source": [
    "from typing import final\n",
    "\n",
    "@final\n",
    "class Base:\n",
    "    ...\n",
    "\n",
    "class Sub(Base):\n",
    "    ..."
   ]
  },
  {
   "cell_type": "markdown",
   "id": "a75c36c0",
   "metadata": {},
   "source": [
    "Mypy will flag this example with the error message `Cannot inherit from final class \"Base\"`. To learn more about `Final` and `@final`, see [PEP 591](https://www.python.org/dev/peps/pep-0591/)."
   ]
  },
  {
   "cell_type": "markdown",
   "id": "6e718fdb",
   "metadata": {},
   "source": [
    "The third PEP allowing for more specific type hints is [PEP 589](https://www.python.org/dev/peps/pep-0589/), which introduces **[`TypedDict`](https://docs.python.org/3.8/library/typing.html#typing.TypedDict)**. This can be used to specify types for keys and values in a dictionary using a notation that is similar to the typed [`NamedTuple`](https://docs.python.org/library/typing.html#typing.NamedTuple)."
   ]
  },
  {
   "cell_type": "markdown",
   "id": "b3ce1159",
   "metadata": {},
   "source": [
    "Traditionally, dictionaries have been annotated using [`Dict`](https://docs.python.org/library/typing.html#typing.Dict). The issue is that this only allowed one type for the keys and one type for the values, often leading to annotations like `Dict[str, Any]`. As an example, consider a dictionary that registers information about Python versions:"
   ]
  },
  {
   "cell_type": "code",
   "execution_count": 43,
   "id": "709e1965",
   "metadata": {},
   "outputs": [],
   "source": [
    "py38 = {\"version\": \"3.8\", \"release_year\": 2019}"
   ]
  },
  {
   "cell_type": "markdown",
   "id": "98f95d4a",
   "metadata": {},
   "source": [
    "The value corresponding to `version` is a string, while `release_year` is an integer. This can’t be precisely represented using `Dict`. With the new `TypedDict`, you can do the following:"
   ]
  },
  {
   "cell_type": "code",
   "execution_count": 44,
   "id": "52d8fd0a",
   "metadata": {},
   "outputs": [],
   "source": [
    "from typing import TypedDict\n",
    "\n",
    "class PythonVersion(TypedDict):\n",
    "    version: str\n",
    "    release_year: int\n",
    "\n",
    "py38 = PythonVersion(version=\"3.8\", release_year=2019)"
   ]
  },
  {
   "cell_type": "markdown",
   "id": "f3bb5d9d",
   "metadata": {},
   "source": [
    "The type checker will then be able to infer that `py38[\"version\"]` has type `str`, while `py38[\"release_year\"]` is an `int`. At runtime, a `TypedDict` is a regular `dict`, and type hints are ignored as usual. You can also use `TypedDict` purely as an annotation:"
   ]
  },
  {
   "cell_type": "code",
   "execution_count": 45,
   "id": "3d15d26e",
   "metadata": {},
   "outputs": [],
   "source": [
    "py38: PythonVersion = {\"version\": \"3.8\", \"release_year\": 2019}"
   ]
  },
  {
   "cell_type": "markdown",
   "id": "2a694cfb",
   "metadata": {},
   "source": [
    "Mypy will let you know if any of your values has the wrong type, or if you use a key that has not been declared. See [PEP 589](https://www.python.org/dev/peps/pep-0589/) for more examples."
   ]
  },
  {
   "cell_type": "markdown",
   "id": "cd563511",
   "metadata": {},
   "source": [
    "Mypy has supported [**Protocols**](https://realpython.com/python-type-checking/#duck-types-and-protocols) for a while already. However, the [official acceptance](https://mail.python.org/archives/list/typing-sig@python.org/message/FDO4KFYWYQEP3U2HVVBEBR3SXPHQSHYR/) only happened in May 2019."
   ]
  },
  {
   "cell_type": "markdown",
   "id": "bbf926ec",
   "metadata": {},
   "source": [
    "Protocols are a way of formalizing Python’s support for duck typing:"
   ]
  },
  {
   "cell_type": "markdown",
   "id": "ae418697",
   "metadata": {},
   "source": [
    "Duck typing allows you to, for example, read `.name` on any object that has a `.name` attribute, without really caring about the type of the object. It may seem counter-intuitive for the typing system to support this. Through [structural subtyping](https://en.wikipedia.org/wiki/Structural_type_system), it’s still possible to make sense of duck typing."
   ]
  },
  {
   "cell_type": "markdown",
   "id": "79803d0d",
   "metadata": {},
   "source": [
    "You can for instance define a protocol called `Named` that can identify all objects with a `.name` attribute:"
   ]
  },
  {
   "cell_type": "code",
   "execution_count": 46,
   "id": "95df4671",
   "metadata": {},
   "outputs": [],
   "source": [
    "from typing import Protocol\n",
    "\n",
    "class Named(Protocol):\n",
    "    name: str\n",
    "\n",
    "def greet(obj: Named) -> None:\n",
    "    print(f\"Hi {obj.name}\")"
   ]
  },
  {
   "cell_type": "markdown",
   "id": "27dd8cc7",
   "metadata": {},
   "source": [
    "Here, `greet()` takes any object, as long as it defines a `.name` attribute. See [PEP 544](https://www.python.org/dev/peps/pep-0544/) and [the Mypy documentation](https://mypy.readthedocs.io/en/latest/protocols.html) for more information about protocols. "
   ]
  },
  {
   "cell_type": "markdown",
   "id": "eb86df58",
   "metadata": {},
   "source": [
    "<a class=\"anchor\" id=\"simpler_debugging_with_f-strings\"></a>\n",
    "\n",
    "## Simpler Debugging With f-Strings"
   ]
  },
  {
   "cell_type": "markdown",
   "id": "6da1ae1e",
   "metadata": {},
   "source": [
    "[f-strings](https://realpython.com/python-f-strings/) were introduced in Python 3.6, and have become very popular. They might be the most common reason for Python libraries only being supported on version 3.6 and later. An f-string is a formatted string literal. You can recognize it by the leading `f`:"
   ]
  },
  {
   "cell_type": "code",
   "execution_count": 47,
   "id": "ea7a412b",
   "metadata": {},
   "outputs": [
    {
     "data": {
      "text/plain": [
       "'This is a formatted string'"
      ]
     },
     "execution_count": 47,
     "metadata": {},
     "output_type": "execute_result"
    }
   ],
   "source": [
    "style = \"formatted\"\n",
    "f\"This is a {style} string\""
   ]
  },
  {
   "cell_type": "markdown",
   "id": "e665b999",
   "metadata": {},
   "source": [
    "When you use f-strings, you can enclose variables and even expressions inside curly braces. They will then be evaluated at runtime and included in the string. You can have several expressions in one f-string:"
   ]
  },
  {
   "cell_type": "code",
   "execution_count": 48,
   "id": "5f9c548c",
   "metadata": {},
   "outputs": [
    {
     "data": {
      "text/plain": [
       "'A circle with radius 3.6 has area 40.72'"
      ]
     },
     "execution_count": 48,
     "metadata": {},
     "output_type": "execute_result"
    }
   ],
   "source": [
    "import math\n",
    "r = 3.6\n",
    "\n",
    "f\"A circle with radius {r} has area {math.pi * r * r:.2f}\""
   ]
  },
  {
   "cell_type": "markdown",
   "id": "2aba9b37",
   "metadata": {},
   "source": [
    "In the last expression, `{math.pi * r * r:.2f}`, you also use a format specifier. Format specifiers are separated from the expressions with a colon. "
   ]
  },
  {
   "cell_type": "markdown",
   "id": "d2768723",
   "metadata": {},
   "source": [
    "`.2f` means that the area is formatted as a floating point number with 2 decimals. The format specifiers are the same as for [`.format()`](https://docs.python.org/library/stdtypes.html#str.format). See the [official documentation](https://docs.python.org/library/string.html#format-specification-mini-language) for a full list of allowed format specifiers."
   ]
  },
  {
   "cell_type": "markdown",
   "id": "4ec8986e",
   "metadata": {},
   "source": [
    "In Python 3.8, you can use assignment expressions inside f-strings. Just make sure to surround the assignment expression with parentheses:"
   ]
  },
  {
   "cell_type": "code",
   "execution_count": 49,
   "id": "70eee8c3",
   "metadata": {},
   "outputs": [
    {
     "data": {
      "text/plain": [
       "'Diameter 7.6 gives circumference 23.88'"
      ]
     },
     "execution_count": 49,
     "metadata": {},
     "output_type": "execute_result"
    }
   ],
   "source": [
    "import math\n",
    "r = 3.8\n",
    "\n",
    "f\"Diameter {(diam := 2 * r)} gives circumference {math.pi * diam:.2f}\""
   ]
  },
  {
   "cell_type": "markdown",
   "id": "b50cefb0",
   "metadata": {},
   "source": [
    "However, the real f-news in Python 3.8 is the new debugging specifier. You can now add `=` at the end of an expression, and it will print both the expression and its value:"
   ]
  },
  {
   "cell_type": "code",
   "execution_count": 51,
   "id": "93eb7122",
   "metadata": {},
   "outputs": [
    {
     "data": {
      "text/plain": [
       "'python=3.8'"
      ]
     },
     "execution_count": 51,
     "metadata": {},
     "output_type": "execute_result"
    }
   ],
   "source": [
    "python = 3.8\n",
    "f\"{python=}\""
   ]
  },
  {
   "cell_type": "markdown",
   "id": "5385503a",
   "metadata": {},
   "source": [
    "This is a short-hand, that typically will be most useful when working interactively or adding print statements to debug your script. In earlier versions of Python, you needed to spell out the variable or expression twice to get the same information:"
   ]
  },
  {
   "cell_type": "code",
   "execution_count": 52,
   "id": "6bd5616b",
   "metadata": {},
   "outputs": [
    {
     "data": {
      "text/plain": [
       "'python=3.7'"
      ]
     },
     "execution_count": 52,
     "metadata": {},
     "output_type": "execute_result"
    }
   ],
   "source": [
    "python = 3.7\n",
    "f\"python={python}\""
   ]
  },
  {
   "cell_type": "markdown",
   "id": "0c08268d",
   "metadata": {},
   "source": [
    "You can add spaces around `=`, and use format specifiers as usual:"
   ]
  },
  {
   "cell_type": "code",
   "execution_count": 53,
   "id": "70958e27-c6b5-4faf-b4e4-d9fc22d3c605",
   "metadata": {},
   "outputs": [
    {
     "data": {
      "text/plain": [
       "\"name = 'Eric'\""
      ]
     },
     "execution_count": 53,
     "metadata": {},
     "output_type": "execute_result"
    }
   ],
   "source": [
    "name = \"Eric\"\n",
    "f\"{name = }\""
   ]
  },
  {
   "cell_type": "code",
   "execution_count": 54,
   "id": "7e9a3522-51f8-40ad-a799-ddfa6f5b18af",
   "metadata": {},
   "outputs": [
    {
     "data": {
      "text/plain": [
       "'name =       Eric'"
      ]
     },
     "execution_count": 54,
     "metadata": {},
     "output_type": "execute_result"
    }
   ],
   "source": [
    "f\"{name = :>10}\""
   ]
  },
  {
   "cell_type": "markdown",
   "id": "51911ffb",
   "metadata": {},
   "source": [
    "The `>10` format specifier says that `name` should be right-aligned within a 10 character string. `=` works for more complex expressions as well:"
   ]
  },
  {
   "cell_type": "code",
   "execution_count": 55,
   "id": "5be78b7a",
   "metadata": {},
   "outputs": [
    {
     "data": {
      "text/plain": [
       "\"name.upper()[::-1] = 'CIRE'\""
      ]
     },
     "execution_count": 55,
     "metadata": {},
     "output_type": "execute_result"
    }
   ],
   "source": [
    "f\"{name.upper()[::-1] = }\""
   ]
  },
  {
   "cell_type": "markdown",
   "id": "c8c1f7f7",
   "metadata": {},
   "source": [
    "For more information about f-strings, see [Python 3’s f-Strings: An Improved String Formatting Syntax (Guide)](https://realpython.com/python-f-strings/)."
   ]
  },
  {
   "cell_type": "markdown",
   "id": "46b9bb54",
   "metadata": {},
   "source": [
    "<a class=\"anchor\" id=\"the_python_steering_council\"></a>\n",
    "\n",
    "## The Python Steering Council"
   ]
  },
  {
   "cell_type": "markdown",
   "id": "91e02836",
   "metadata": {},
   "source": [
    "Technically, [Python’s **governance**](https://www.python.org/dev/peps/pep-0013/) is not a language feature. However, Python 3.8 is the first version of Python not developed under the **benevolent dictatorship** of [Guido van Rossum](https://gvanrossum.github.io/). The Python language is now governed by a **steering council** consisting of five core developers:"
   ]
  },
  {
   "cell_type": "markdown",
   "id": "3f996a07",
   "metadata": {},
   "source": [
    "- [Barry Warsaw](https://twitter.com/pumpichank)\n",
    "- [Brett Cannon](https://twitter.com/brettsky)\n",
    "- [Carol Willing](https://twitter.com/WillingCarol)\n",
    "- [Guido van Rossum](https://twitter.com/gvanrossum)\n",
    "- [Nick Coghlan](https://twitter.com/ncoghlan_dev)\n"
   ]
  },
  {
   "cell_type": "markdown",
   "id": "763fe185",
   "metadata": {},
   "source": [
    "The road to the new governance model for Python was an interesting study in self-organization. Guido van Rossum created Python in the early 1990s, and has been affectionally dubbed Python’s [**Benevolent Dictator for Life** (BDFL)](https://en.wikipedia.org/wiki/Benevolent_dictator_for_life). Through the years, more and more decisions about the Python language were made through [**Python Enhancement Proposals** (PEPs)](https://www.python.org/dev/peps/pep-0001/). Still, Guido officially had the last word on any new language feature."
   ]
  },
  {
   "cell_type": "markdown",
   "id": "a3ae1572",
   "metadata": {},
   "source": [
    "After a long and drawn out discussion about [assignment expressions](#the-walrus-in-the-room-assignment-expressions), Guido [announced](https://mail.python.org/pipermail/python-committers/2018-July/005664.html) in July 2018 that he was retiring from his role as BDFL ([for real this time](https://www.python.org/dev/peps/pep-0401/)). He purposefully did not name a successor. Instead, he asked the team of core developers to figure out how Python should be governed going forward."
   ]
  },
  {
   "cell_type": "markdown",
   "id": "514a1ca1",
   "metadata": {},
   "source": [
    "Luckily, the PEP process was already well established, so it was natural to use PEPs to discuss and decide on a new governance model. Through the fall of 2018, [several models](https://www.python.org/dev/peps/pep-8000/) were proposed, including [electing a new BDFL](https://www.python.org/dev/peps/pep-8010/) (renamed the Gracious Umpire Influencing Decisions Officer: the GUIDO), or moving to a [community model](https://www.python.org/dev/peps/pep-8012/) based on consensus and voting, without centralized leadership. In December 2018, the [steering council model](https://www.python.org/dev/peps/pep-8016/) was chosen after a vote among the core developers. "
   ]
  },
  {
   "cell_type": "markdown",
   "id": "7f886dd4",
   "metadata": {},
   "source": [
    "<img src=\"images/cool-new-features-in-python-3.8/steering_council.1aae31a91dad.jpg\" width=\"600px\">"
   ]
  },
  {
   "cell_type": "markdown",
   "id": "96d11c24",
   "metadata": {},
   "source": [
    "The steering council consists of five members of the Python community, as listed above. There will be an election for a new steering council after every major release of Python. In other words, there will be an election following the release of Python 3.8."
   ]
  },
  {
   "cell_type": "markdown",
   "id": "9cfbb0ea",
   "metadata": {},
   "source": [
    "Although it’s an open election, it’s expected that most, if not all, of the inaugural steering council will be reelected. The steering council has [broad powers](https://www.python.org/dev/peps/pep-0013/#mandate) to make decisions about the Python language, but should strive to exercise those powers as little as possible."
   ]
  },
  {
   "cell_type": "markdown",
   "id": "2a000c16",
   "metadata": {},
   "source": [
    "You can read all about the new governance model in [PEP 13](https://www.python.org/dev/peps/pep-0013/), while the process of deciding on the new model is described in [PEP 8000](https://www.python.org/dev/peps/pep-8000/). For more information, see the [PyCon 2019 Keynote](https://pyvideo.org/pycon-us-2019/python-steering-council-keynote-pycon-2019.html), and listen to Brett Cannon on [Talk Python To Me](https://talkpython.fm/episodes/show/209/inside-python-s-new-governance-model) and on [The Changelog podcast](https://changelog.com/podcast/348). You can follow updates from the steering council on [GitHub](https://github.com/python/steering-council)."
   ]
  },
  {
   "cell_type": "markdown",
   "id": "7d6e7c24",
   "metadata": {},
   "source": [
    "<a class=\"anchor\" id=\"other_pretty_cool_features\"></a>\n",
    "\n",
    "## Other Pretty Cool Features"
   ]
  },
  {
   "cell_type": "markdown",
   "id": "15df6a60",
   "metadata": {},
   "source": [
    "So far, you’ve seen the headline news regarding what’s new in Python 3.8. However, there are many other changes that are also pretty cool. In this section, you’ll get a quick look at some of them."
   ]
  },
  {
   "cell_type": "markdown",
   "id": "85bee5f5",
   "metadata": {},
   "source": [
    "<a class=\"anchor\" id=\"`importlib.metadata`\"></a>\n",
    "\n",
    "### `importlib.metadata`"
   ]
  },
  {
   "cell_type": "markdown",
   "id": "6c219617",
   "metadata": {},
   "source": [
    "There is one new module available in the standard library in Python 3.8: [`importlib.metadata`](https://importlib-metadata.readthedocs.io). Through this module, you can access information about installed packages in your Python installation. Together with its companion module, [`importlib.resources`](https://realpython.com/python37-new-features/#importing-data-files-with-importlibresources), `importlib.metadata` improves on the functionality of the older [`pkg_resources`](https://setuptools.readthedocs.io/en/latest/pkg_resources.html)."
   ]
  },
  {
   "cell_type": "markdown",
   "id": "dd86ad1b",
   "metadata": {},
   "source": [
    "As an example, you can get some information about [`pip`](https://realpython.com/courses/what-is-pip/):"
   ]
  },
  {
   "cell_type": "code",
   "execution_count": 56,
   "id": "e55f3d11-1e72-466a-89a5-c1f4dd867cb2",
   "metadata": {},
   "outputs": [
    {
     "data": {
      "text/plain": [
       "'21.2.2'"
      ]
     },
     "execution_count": 56,
     "metadata": {},
     "output_type": "execute_result"
    }
   ],
   "source": [
    "from importlib import metadata\n",
    "metadata.version(\"pip\")"
   ]
  },
  {
   "cell_type": "code",
   "execution_count": 57,
   "id": "eea545f1-54a9-4f48-98e7-468c917a8300",
   "metadata": {},
   "outputs": [
    {
     "data": {
      "text/plain": [
       "['Metadata-Version',\n",
       " 'Name',\n",
       " 'Version',\n",
       " 'Summary',\n",
       " 'Home-page',\n",
       " 'Author',\n",
       " 'Author-email',\n",
       " 'License',\n",
       " 'Project-URL',\n",
       " 'Project-URL',\n",
       " 'Project-URL',\n",
       " 'Description',\n",
       " 'Platform',\n",
       " 'Classifier',\n",
       " 'Classifier',\n",
       " 'Classifier',\n",
       " 'Classifier',\n",
       " 'Classifier',\n",
       " 'Classifier',\n",
       " 'Classifier',\n",
       " 'Classifier',\n",
       " 'Classifier',\n",
       " 'Classifier',\n",
       " 'Classifier',\n",
       " 'Classifier',\n",
       " 'Classifier',\n",
       " 'Requires-Python']"
      ]
     },
     "execution_count": 57,
     "metadata": {},
     "output_type": "execute_result"
    }
   ],
   "source": [
    "pip_metadata = metadata.metadata(\"pip\")\n",
    "list(pip_metadata)"
   ]
  },
  {
   "cell_type": "code",
   "execution_count": 58,
   "id": "2084b4ae-ebd8-4f05-9b58-fb991cf0112d",
   "metadata": {},
   "outputs": [
    {
     "data": {
      "text/plain": [
       "'https://pip.pypa.io/'"
      ]
     },
     "execution_count": 58,
     "metadata": {},
     "output_type": "execute_result"
    }
   ],
   "source": [
    "pip_metadata[\"Home-page\"]"
   ]
  },
  {
   "cell_type": "code",
   "execution_count": 59,
   "id": "340e04ef-0751-490e-8a91-84319420ccb8",
   "metadata": {},
   "outputs": [
    {
     "data": {
      "text/plain": [
       "'>=3.6'"
      ]
     },
     "execution_count": 59,
     "metadata": {},
     "output_type": "execute_result"
    }
   ],
   "source": [
    "pip_metadata[\"Requires-Python\"]"
   ]
  },
  {
   "cell_type": "code",
   "execution_count": 60,
   "id": "cdbf97a7-bf3a-4fac-b8ae-1cf2487a0329",
   "metadata": {},
   "outputs": [
    {
     "data": {
      "text/plain": [
       "519"
      ]
     },
     "execution_count": 60,
     "metadata": {},
     "output_type": "execute_result"
    }
   ],
   "source": [
    "len(metadata.files(\"pip\"))"
   ]
  },
  {
   "cell_type": "markdown",
   "id": "5826e1c9",
   "metadata": {},
   "source": [
    "The currently installed version of `pip` is 19.2.3. `metadata()` gives access to most of the information that you can see on [PyPI](https://pypi.org/project/pip/). You can for instance see that this version of `pip` requires either Python 2.7, or Python 3.5 or higher. With `files()`, you get a listing of all files that make up the `pip` package. In this case, there are almost 700 files."
   ]
  },
  {
   "cell_type": "markdown",
   "id": "231c4a40",
   "metadata": {},
   "source": [
    "`files()` returns a [list](https://realpython.com/python-lists-tuples/) of [`Path`](https://realpython.com/python-pathlib/) objects. These give you a convenient way of looking into the source code of a package, using `read_text()`. The following example prints out `__init__.py` from the [`realpython-reader`](https://pypi.org/project/realpython-reader/) package:"
   ]
  },
  {
   "cell_type": "code",
   "execution_count": null,
   "id": "0573ee5b-764c-447b-9d8a-2c9a5a265dd0",
   "metadata": {},
   "outputs": [],
   "source": [
    "!pip install seaborn"
   ]
  },
  {
   "cell_type": "code",
   "execution_count": 65,
   "id": "585c44cb-54e0-4ed6-824e-4fee479e08bc",
   "metadata": {},
   "outputs": [
    {
     "data": {
      "text/plain": [
       "[PackagePath('numpy/__config__.py'),\n",
       " PackagePath('numpy/__init__.py'),\n",
       " PackagePath('numpy/_distributor_init.py'),\n",
       " PackagePath('numpy/_globals.py'),\n",
       " PackagePath('numpy/_pytesttester.py'),\n",
       " PackagePath('numpy/_version.py'),\n",
       " PackagePath('numpy/compat/__init__.py'),\n",
       " PackagePath('numpy/compat/_inspect.py'),\n",
       " PackagePath('numpy/compat/py3k.py'),\n",
       " PackagePath('numpy/compat/setup.py'),\n",
       " PackagePath('numpy/compat/tests/__init__.py'),\n",
       " PackagePath('numpy/compat/tests/test_compat.py'),\n",
       " PackagePath('numpy/conftest.py'),\n",
       " PackagePath('numpy/core/__init__.py'),\n",
       " PackagePath('numpy/core/_add_newdocs.py'),\n",
       " PackagePath('numpy/core/_add_newdocs_scalars.py'),\n",
       " PackagePath('numpy/core/_asarray.py'),\n",
       " PackagePath('numpy/core/_dtype.py'),\n",
       " PackagePath('numpy/core/_dtype_ctypes.py'),\n",
       " PackagePath('numpy/core/_exceptions.py'),\n",
       " PackagePath('numpy/core/_internal.py'),\n",
       " PackagePath('numpy/core/_methods.py'),\n",
       " PackagePath('numpy/core/_string_helpers.py'),\n",
       " PackagePath('numpy/core/_type_aliases.py'),\n",
       " PackagePath('numpy/core/_ufunc_config.py'),\n",
       " PackagePath('numpy/core/arrayprint.py'),\n",
       " PackagePath('numpy/core/cversions.py'),\n",
       " PackagePath('numpy/core/defchararray.py'),\n",
       " PackagePath('numpy/core/einsumfunc.py'),\n",
       " PackagePath('numpy/core/fromnumeric.py'),\n",
       " PackagePath('numpy/core/function_base.py'),\n",
       " PackagePath('numpy/core/generate_numpy_api.py'),\n",
       " PackagePath('numpy/core/getlimits.py'),\n",
       " PackagePath('numpy/core/machar.py'),\n",
       " PackagePath('numpy/core/memmap.py'),\n",
       " PackagePath('numpy/core/multiarray.py'),\n",
       " PackagePath('numpy/core/numeric.py'),\n",
       " PackagePath('numpy/core/numerictypes.py'),\n",
       " PackagePath('numpy/core/overrides.py'),\n",
       " PackagePath('numpy/core/records.py'),\n",
       " PackagePath('numpy/core/setup.py'),\n",
       " PackagePath('numpy/core/setup_common.py'),\n",
       " PackagePath('numpy/core/shape_base.py'),\n",
       " PackagePath('numpy/core/tests/__init__.py'),\n",
       " PackagePath('numpy/core/tests/_locales.py'),\n",
       " PackagePath('numpy/core/tests/examples/setup.py'),\n",
       " PackagePath('numpy/core/tests/test__exceptions.py'),\n",
       " PackagePath('numpy/core/tests/test_abc.py'),\n",
       " PackagePath('numpy/core/tests/test_api.py'),\n",
       " PackagePath('numpy/core/tests/test_argparse.py'),\n",
       " PackagePath('numpy/core/tests/test_array_coercion.py'),\n",
       " PackagePath('numpy/core/tests/test_arraymethod.py'),\n",
       " PackagePath('numpy/core/tests/test_arrayprint.py'),\n",
       " PackagePath('numpy/core/tests/test_casting_unittests.py'),\n",
       " PackagePath('numpy/core/tests/test_conversion_utils.py'),\n",
       " PackagePath('numpy/core/tests/test_cpu_dispatcher.py'),\n",
       " PackagePath('numpy/core/tests/test_cpu_features.py'),\n",
       " PackagePath('numpy/core/tests/test_cython.py'),\n",
       " PackagePath('numpy/core/tests/test_datetime.py'),\n",
       " PackagePath('numpy/core/tests/test_defchararray.py'),\n",
       " PackagePath('numpy/core/tests/test_deprecations.py'),\n",
       " PackagePath('numpy/core/tests/test_dtype.py'),\n",
       " PackagePath('numpy/core/tests/test_einsum.py'),\n",
       " PackagePath('numpy/core/tests/test_errstate.py'),\n",
       " PackagePath('numpy/core/tests/test_extint128.py'),\n",
       " PackagePath('numpy/core/tests/test_function_base.py'),\n",
       " PackagePath('numpy/core/tests/test_getlimits.py'),\n",
       " PackagePath('numpy/core/tests/test_half.py'),\n",
       " PackagePath('numpy/core/tests/test_indexerrors.py'),\n",
       " PackagePath('numpy/core/tests/test_indexing.py'),\n",
       " PackagePath('numpy/core/tests/test_item_selection.py'),\n",
       " PackagePath('numpy/core/tests/test_longdouble.py'),\n",
       " PackagePath('numpy/core/tests/test_machar.py'),\n",
       " PackagePath('numpy/core/tests/test_mem_overlap.py'),\n",
       " PackagePath('numpy/core/tests/test_memmap.py'),\n",
       " PackagePath('numpy/core/tests/test_multiarray.py'),\n",
       " PackagePath('numpy/core/tests/test_nditer.py'),\n",
       " PackagePath('numpy/core/tests/test_numeric.py'),\n",
       " PackagePath('numpy/core/tests/test_numerictypes.py'),\n",
       " PackagePath('numpy/core/tests/test_overrides.py'),\n",
       " PackagePath('numpy/core/tests/test_print.py'),\n",
       " PackagePath('numpy/core/tests/test_protocols.py'),\n",
       " PackagePath('numpy/core/tests/test_records.py'),\n",
       " PackagePath('numpy/core/tests/test_regression.py'),\n",
       " PackagePath('numpy/core/tests/test_scalar_ctors.py'),\n",
       " PackagePath('numpy/core/tests/test_scalar_methods.py'),\n",
       " PackagePath('numpy/core/tests/test_scalarbuffer.py'),\n",
       " PackagePath('numpy/core/tests/test_scalarinherit.py'),\n",
       " PackagePath('numpy/core/tests/test_scalarmath.py'),\n",
       " PackagePath('numpy/core/tests/test_scalarprint.py'),\n",
       " PackagePath('numpy/core/tests/test_shape_base.py'),\n",
       " PackagePath('numpy/core/tests/test_simd.py'),\n",
       " PackagePath('numpy/core/tests/test_simd_module.py'),\n",
       " PackagePath('numpy/core/tests/test_ufunc.py'),\n",
       " PackagePath('numpy/core/tests/test_umath.py'),\n",
       " PackagePath('numpy/core/tests/test_umath_accuracy.py'),\n",
       " PackagePath('numpy/core/tests/test_umath_complex.py'),\n",
       " PackagePath('numpy/core/tests/test_unicode.py'),\n",
       " PackagePath('numpy/core/umath.py'),\n",
       " PackagePath('numpy/core/umath_tests.py'),\n",
       " PackagePath('numpy/ctypeslib.py'),\n",
       " PackagePath('numpy/distutils/__config__.py'),\n",
       " PackagePath('numpy/distutils/__init__.py'),\n",
       " PackagePath('numpy/distutils/_shell_utils.py'),\n",
       " PackagePath('numpy/distutils/ccompiler.py'),\n",
       " PackagePath('numpy/distutils/ccompiler_opt.py'),\n",
       " PackagePath('numpy/distutils/command/__init__.py'),\n",
       " PackagePath('numpy/distutils/command/autodist.py'),\n",
       " PackagePath('numpy/distutils/command/bdist_rpm.py'),\n",
       " PackagePath('numpy/distutils/command/build.py'),\n",
       " PackagePath('numpy/distutils/command/build_clib.py'),\n",
       " PackagePath('numpy/distutils/command/build_ext.py'),\n",
       " PackagePath('numpy/distutils/command/build_py.py'),\n",
       " PackagePath('numpy/distutils/command/build_scripts.py'),\n",
       " PackagePath('numpy/distutils/command/build_src.py'),\n",
       " PackagePath('numpy/distutils/command/config.py'),\n",
       " PackagePath('numpy/distutils/command/config_compiler.py'),\n",
       " PackagePath('numpy/distutils/command/develop.py'),\n",
       " PackagePath('numpy/distutils/command/egg_info.py'),\n",
       " PackagePath('numpy/distutils/command/install.py'),\n",
       " PackagePath('numpy/distutils/command/install_clib.py'),\n",
       " PackagePath('numpy/distutils/command/install_data.py'),\n",
       " PackagePath('numpy/distutils/command/install_headers.py'),\n",
       " PackagePath('numpy/distutils/command/sdist.py'),\n",
       " PackagePath('numpy/distutils/conv_template.py'),\n",
       " PackagePath('numpy/distutils/core.py'),\n",
       " PackagePath('numpy/distutils/cpuinfo.py'),\n",
       " PackagePath('numpy/distutils/exec_command.py'),\n",
       " PackagePath('numpy/distutils/extension.py'),\n",
       " PackagePath('numpy/distutils/fcompiler/__init__.py'),\n",
       " PackagePath('numpy/distutils/fcompiler/absoft.py'),\n",
       " PackagePath('numpy/distutils/fcompiler/compaq.py'),\n",
       " PackagePath('numpy/distutils/fcompiler/environment.py'),\n",
       " PackagePath('numpy/distutils/fcompiler/fujitsu.py'),\n",
       " PackagePath('numpy/distutils/fcompiler/g95.py'),\n",
       " PackagePath('numpy/distutils/fcompiler/gnu.py'),\n",
       " PackagePath('numpy/distutils/fcompiler/hpux.py'),\n",
       " PackagePath('numpy/distutils/fcompiler/ibm.py'),\n",
       " PackagePath('numpy/distutils/fcompiler/intel.py'),\n",
       " PackagePath('numpy/distutils/fcompiler/lahey.py'),\n",
       " PackagePath('numpy/distutils/fcompiler/mips.py'),\n",
       " PackagePath('numpy/distutils/fcompiler/nag.py'),\n",
       " PackagePath('numpy/distutils/fcompiler/none.py'),\n",
       " PackagePath('numpy/distutils/fcompiler/nv.py'),\n",
       " PackagePath('numpy/distutils/fcompiler/pathf95.py'),\n",
       " PackagePath('numpy/distutils/fcompiler/pg.py'),\n",
       " PackagePath('numpy/distutils/fcompiler/sun.py'),\n",
       " PackagePath('numpy/distutils/fcompiler/vast.py'),\n",
       " PackagePath('numpy/distutils/from_template.py'),\n",
       " PackagePath('numpy/distutils/intelccompiler.py'),\n",
       " PackagePath('numpy/distutils/lib2def.py'),\n",
       " PackagePath('numpy/distutils/line_endings.py'),\n",
       " PackagePath('numpy/distutils/log.py'),\n",
       " PackagePath('numpy/distutils/mingw32ccompiler.py'),\n",
       " PackagePath('numpy/distutils/misc_util.py'),\n",
       " PackagePath('numpy/distutils/msvc9compiler.py'),\n",
       " PackagePath('numpy/distutils/msvccompiler.py'),\n",
       " PackagePath('numpy/distutils/npy_pkg_config.py'),\n",
       " PackagePath('numpy/distutils/numpy_distribution.py'),\n",
       " PackagePath('numpy/distutils/pathccompiler.py'),\n",
       " PackagePath('numpy/distutils/setup.py'),\n",
       " PackagePath('numpy/distutils/system_info.py'),\n",
       " PackagePath('numpy/distutils/tests/__init__.py'),\n",
       " PackagePath('numpy/distutils/tests/test_build_ext.py'),\n",
       " PackagePath('numpy/distutils/tests/test_ccompiler_opt.py'),\n",
       " PackagePath('numpy/distutils/tests/test_ccompiler_opt_conf.py'),\n",
       " PackagePath('numpy/distutils/tests/test_exec_command.py'),\n",
       " PackagePath('numpy/distutils/tests/test_fcompiler.py'),\n",
       " PackagePath('numpy/distutils/tests/test_fcompiler_gnu.py'),\n",
       " PackagePath('numpy/distutils/tests/test_fcompiler_intel.py'),\n",
       " PackagePath('numpy/distutils/tests/test_fcompiler_nagfor.py'),\n",
       " PackagePath('numpy/distutils/tests/test_from_template.py'),\n",
       " PackagePath('numpy/distutils/tests/test_mingw32ccompiler.py'),\n",
       " PackagePath('numpy/distutils/tests/test_misc_util.py'),\n",
       " PackagePath('numpy/distutils/tests/test_npy_pkg_config.py'),\n",
       " PackagePath('numpy/distutils/tests/test_shell_utils.py'),\n",
       " PackagePath('numpy/distutils/tests/test_system_info.py'),\n",
       " PackagePath('numpy/distutils/unixccompiler.py'),\n",
       " PackagePath('numpy/doc/__init__.py'),\n",
       " PackagePath('numpy/doc/constants.py'),\n",
       " PackagePath('numpy/doc/ufuncs.py'),\n",
       " PackagePath('numpy/dual.py'),\n",
       " PackagePath('numpy/f2py/__init__.py'),\n",
       " PackagePath('numpy/f2py/__main__.py'),\n",
       " PackagePath('numpy/f2py/__version__.py'),\n",
       " PackagePath('numpy/f2py/auxfuncs.py'),\n",
       " PackagePath('numpy/f2py/capi_maps.py'),\n",
       " PackagePath('numpy/f2py/cb_rules.py'),\n",
       " PackagePath('numpy/f2py/cfuncs.py'),\n",
       " PackagePath('numpy/f2py/common_rules.py'),\n",
       " PackagePath('numpy/f2py/crackfortran.py'),\n",
       " PackagePath('numpy/f2py/diagnose.py'),\n",
       " PackagePath('numpy/f2py/f2py2e.py'),\n",
       " PackagePath('numpy/f2py/f2py_testing.py'),\n",
       " PackagePath('numpy/f2py/f90mod_rules.py'),\n",
       " PackagePath('numpy/f2py/func2subr.py'),\n",
       " PackagePath('numpy/f2py/rules.py'),\n",
       " PackagePath('numpy/f2py/setup.py'),\n",
       " PackagePath('numpy/f2py/tests/__init__.py'),\n",
       " PackagePath('numpy/f2py/tests/test_abstract_interface.py'),\n",
       " PackagePath('numpy/f2py/tests/test_array_from_pyobj.py'),\n",
       " PackagePath('numpy/f2py/tests/test_assumed_shape.py'),\n",
       " PackagePath('numpy/f2py/tests/test_block_docstring.py'),\n",
       " PackagePath('numpy/f2py/tests/test_callback.py'),\n",
       " PackagePath('numpy/f2py/tests/test_common.py'),\n",
       " PackagePath('numpy/f2py/tests/test_compile_function.py'),\n",
       " PackagePath('numpy/f2py/tests/test_crackfortran.py'),\n",
       " PackagePath('numpy/f2py/tests/test_kind.py'),\n",
       " PackagePath('numpy/f2py/tests/test_mixed.py'),\n",
       " PackagePath('numpy/f2py/tests/test_module_doc.py'),\n",
       " PackagePath('numpy/f2py/tests/test_parameter.py'),\n",
       " PackagePath('numpy/f2py/tests/test_quoted_character.py'),\n",
       " PackagePath('numpy/f2py/tests/test_regression.py'),\n",
       " PackagePath('numpy/f2py/tests/test_return_character.py'),\n",
       " PackagePath('numpy/f2py/tests/test_return_complex.py'),\n",
       " PackagePath('numpy/f2py/tests/test_return_integer.py'),\n",
       " PackagePath('numpy/f2py/tests/test_return_logical.py'),\n",
       " PackagePath('numpy/f2py/tests/test_return_real.py'),\n",
       " PackagePath('numpy/f2py/tests/test_semicolon_split.py'),\n",
       " PackagePath('numpy/f2py/tests/test_size.py'),\n",
       " PackagePath('numpy/f2py/tests/test_string.py'),\n",
       " PackagePath('numpy/f2py/tests/util.py'),\n",
       " PackagePath('numpy/f2py/use_rules.py'),\n",
       " PackagePath('numpy/fft/__init__.py'),\n",
       " PackagePath('numpy/fft/_pocketfft.py'),\n",
       " PackagePath('numpy/fft/helper.py'),\n",
       " PackagePath('numpy/fft/setup.py'),\n",
       " PackagePath('numpy/fft/tests/__init__.py'),\n",
       " PackagePath('numpy/fft/tests/test_helper.py'),\n",
       " PackagePath('numpy/fft/tests/test_pocketfft.py'),\n",
       " PackagePath('numpy/lib/__init__.py'),\n",
       " PackagePath('numpy/lib/_datasource.py'),\n",
       " PackagePath('numpy/lib/_iotools.py'),\n",
       " PackagePath('numpy/lib/_version.py'),\n",
       " PackagePath('numpy/lib/arraypad.py'),\n",
       " PackagePath('numpy/lib/arraysetops.py'),\n",
       " PackagePath('numpy/lib/arrayterator.py'),\n",
       " PackagePath('numpy/lib/format.py'),\n",
       " PackagePath('numpy/lib/function_base.py'),\n",
       " PackagePath('numpy/lib/histograms.py'),\n",
       " PackagePath('numpy/lib/index_tricks.py'),\n",
       " PackagePath('numpy/lib/mixins.py'),\n",
       " PackagePath('numpy/lib/nanfunctions.py'),\n",
       " PackagePath('numpy/lib/npyio.py'),\n",
       " PackagePath('numpy/lib/polynomial.py'),\n",
       " PackagePath('numpy/lib/recfunctions.py'),\n",
       " PackagePath('numpy/lib/scimath.py'),\n",
       " PackagePath('numpy/lib/setup.py'),\n",
       " PackagePath('numpy/lib/shape_base.py'),\n",
       " PackagePath('numpy/lib/stride_tricks.py'),\n",
       " PackagePath('numpy/lib/tests/__init__.py'),\n",
       " PackagePath('numpy/lib/tests/test__datasource.py'),\n",
       " PackagePath('numpy/lib/tests/test__iotools.py'),\n",
       " PackagePath('numpy/lib/tests/test__version.py'),\n",
       " PackagePath('numpy/lib/tests/test_arraypad.py'),\n",
       " PackagePath('numpy/lib/tests/test_arraysetops.py'),\n",
       " PackagePath('numpy/lib/tests/test_arrayterator.py'),\n",
       " PackagePath('numpy/lib/tests/test_financial_expired.py'),\n",
       " PackagePath('numpy/lib/tests/test_format.py'),\n",
       " PackagePath('numpy/lib/tests/test_function_base.py'),\n",
       " PackagePath('numpy/lib/tests/test_histograms.py'),\n",
       " PackagePath('numpy/lib/tests/test_index_tricks.py'),\n",
       " PackagePath('numpy/lib/tests/test_io.py'),\n",
       " PackagePath('numpy/lib/tests/test_mixins.py'),\n",
       " PackagePath('numpy/lib/tests/test_nanfunctions.py'),\n",
       " PackagePath('numpy/lib/tests/test_packbits.py'),\n",
       " PackagePath('numpy/lib/tests/test_polynomial.py'),\n",
       " PackagePath('numpy/lib/tests/test_recfunctions.py'),\n",
       " PackagePath('numpy/lib/tests/test_regression.py'),\n",
       " PackagePath('numpy/lib/tests/test_shape_base.py'),\n",
       " PackagePath('numpy/lib/tests/test_stride_tricks.py'),\n",
       " PackagePath('numpy/lib/tests/test_twodim_base.py'),\n",
       " PackagePath('numpy/lib/tests/test_type_check.py'),\n",
       " PackagePath('numpy/lib/tests/test_ufunclike.py'),\n",
       " PackagePath('numpy/lib/tests/test_utils.py'),\n",
       " PackagePath('numpy/lib/twodim_base.py'),\n",
       " PackagePath('numpy/lib/type_check.py'),\n",
       " PackagePath('numpy/lib/ufunclike.py'),\n",
       " PackagePath('numpy/lib/user_array.py'),\n",
       " PackagePath('numpy/lib/utils.py'),\n",
       " PackagePath('numpy/linalg/__init__.py'),\n",
       " PackagePath('numpy/linalg/linalg.py'),\n",
       " PackagePath('numpy/linalg/setup.py'),\n",
       " PackagePath('numpy/linalg/tests/__init__.py'),\n",
       " PackagePath('numpy/linalg/tests/test_build.py'),\n",
       " PackagePath('numpy/linalg/tests/test_deprecations.py'),\n",
       " PackagePath('numpy/linalg/tests/test_linalg.py'),\n",
       " PackagePath('numpy/linalg/tests/test_regression.py'),\n",
       " PackagePath('numpy/ma/__init__.py'),\n",
       " PackagePath('numpy/ma/bench.py'),\n",
       " PackagePath('numpy/ma/core.py'),\n",
       " PackagePath('numpy/ma/extras.py'),\n",
       " PackagePath('numpy/ma/mrecords.py'),\n",
       " PackagePath('numpy/ma/setup.py'),\n",
       " PackagePath('numpy/ma/tests/__init__.py'),\n",
       " PackagePath('numpy/ma/tests/test_core.py'),\n",
       " PackagePath('numpy/ma/tests/test_deprecations.py'),\n",
       " PackagePath('numpy/ma/tests/test_extras.py'),\n",
       " PackagePath('numpy/ma/tests/test_mrecords.py'),\n",
       " PackagePath('numpy/ma/tests/test_old_ma.py'),\n",
       " PackagePath('numpy/ma/tests/test_regression.py'),\n",
       " PackagePath('numpy/ma/tests/test_subclassing.py'),\n",
       " PackagePath('numpy/ma/testutils.py'),\n",
       " PackagePath('numpy/ma/timer_comparison.py'),\n",
       " PackagePath('numpy/matlib.py'),\n",
       " PackagePath('numpy/matrixlib/__init__.py'),\n",
       " PackagePath('numpy/matrixlib/defmatrix.py'),\n",
       " PackagePath('numpy/matrixlib/setup.py'),\n",
       " PackagePath('numpy/matrixlib/tests/__init__.py'),\n",
       " PackagePath('numpy/matrixlib/tests/test_defmatrix.py'),\n",
       " PackagePath('numpy/matrixlib/tests/test_interaction.py'),\n",
       " PackagePath('numpy/matrixlib/tests/test_masked_matrix.py'),\n",
       " PackagePath('numpy/matrixlib/tests/test_matrix_linalg.py'),\n",
       " PackagePath('numpy/matrixlib/tests/test_multiarray.py'),\n",
       " PackagePath('numpy/matrixlib/tests/test_numeric.py'),\n",
       " PackagePath('numpy/matrixlib/tests/test_regression.py'),\n",
       " PackagePath('numpy/polynomial/__init__.py'),\n",
       " PackagePath('numpy/polynomial/_polybase.py'),\n",
       " PackagePath('numpy/polynomial/chebyshev.py'),\n",
       " PackagePath('numpy/polynomial/hermite.py'),\n",
       " PackagePath('numpy/polynomial/hermite_e.py'),\n",
       " PackagePath('numpy/polynomial/laguerre.py'),\n",
       " PackagePath('numpy/polynomial/legendre.py'),\n",
       " PackagePath('numpy/polynomial/polynomial.py'),\n",
       " PackagePath('numpy/polynomial/polyutils.py'),\n",
       " PackagePath('numpy/polynomial/setup.py'),\n",
       " PackagePath('numpy/polynomial/tests/__init__.py'),\n",
       " PackagePath('numpy/polynomial/tests/test_chebyshev.py'),\n",
       " PackagePath('numpy/polynomial/tests/test_classes.py'),\n",
       " PackagePath('numpy/polynomial/tests/test_hermite.py'),\n",
       " PackagePath('numpy/polynomial/tests/test_hermite_e.py'),\n",
       " PackagePath('numpy/polynomial/tests/test_laguerre.py'),\n",
       " PackagePath('numpy/polynomial/tests/test_legendre.py'),\n",
       " PackagePath('numpy/polynomial/tests/test_polynomial.py'),\n",
       " PackagePath('numpy/polynomial/tests/test_polyutils.py'),\n",
       " PackagePath('numpy/polynomial/tests/test_printing.py'),\n",
       " PackagePath('numpy/random/__init__.py'),\n",
       " PackagePath('numpy/random/_examples/cffi/extending.py'),\n",
       " PackagePath('numpy/random/_examples/cffi/parse.py'),\n",
       " PackagePath('numpy/random/_examples/cython/setup.py'),\n",
       " PackagePath('numpy/random/_examples/numba/extending.py'),\n",
       " PackagePath('numpy/random/_examples/numba/extending_distributions.py'),\n",
       " PackagePath('numpy/random/_pickle.py'),\n",
       " PackagePath('numpy/random/setup.py'),\n",
       " PackagePath('numpy/random/tests/__init__.py'),\n",
       " PackagePath('numpy/random/tests/data/__init__.py'),\n",
       " PackagePath('numpy/random/tests/test_direct.py'),\n",
       " PackagePath('numpy/random/tests/test_extending.py'),\n",
       " PackagePath('numpy/random/tests/test_generator_mt19937.py'),\n",
       " PackagePath('numpy/random/tests/test_generator_mt19937_regressions.py'),\n",
       " PackagePath('numpy/random/tests/test_random.py'),\n",
       " PackagePath('numpy/random/tests/test_randomstate.py'),\n",
       " PackagePath('numpy/random/tests/test_randomstate_regression.py'),\n",
       " PackagePath('numpy/random/tests/test_regression.py'),\n",
       " PackagePath('numpy/random/tests/test_seed_sequence.py'),\n",
       " PackagePath('numpy/random/tests/test_smoke.py'),\n",
       " PackagePath('numpy/setup.py'),\n",
       " PackagePath('numpy/testing/__init__.py'),\n",
       " PackagePath('numpy/testing/_private/__init__.py'),\n",
       " PackagePath('numpy/testing/_private/decorators.py'),\n",
       " PackagePath('numpy/testing/_private/noseclasses.py'),\n",
       " PackagePath('numpy/testing/_private/nosetester.py'),\n",
       " PackagePath('numpy/testing/_private/parameterized.py'),\n",
       " PackagePath('numpy/testing/_private/utils.py'),\n",
       " PackagePath('numpy/testing/print_coercion_tables.py'),\n",
       " PackagePath('numpy/testing/setup.py'),\n",
       " PackagePath('numpy/testing/tests/__init__.py'),\n",
       " PackagePath('numpy/testing/tests/test_doctesting.py'),\n",
       " PackagePath('numpy/testing/tests/test_utils.py'),\n",
       " PackagePath('numpy/testing/utils.py'),\n",
       " PackagePath('numpy/tests/__init__.py'),\n",
       " PackagePath('numpy/tests/test_ctypeslib.py'),\n",
       " PackagePath('numpy/tests/test_matlib.py'),\n",
       " PackagePath('numpy/tests/test_numpy_version.py'),\n",
       " PackagePath('numpy/tests/test_public_api.py'),\n",
       " PackagePath('numpy/tests/test_reloading.py'),\n",
       " PackagePath('numpy/tests/test_scripts.py'),\n",
       " PackagePath('numpy/tests/test_warnings.py'),\n",
       " PackagePath('numpy/typing/__init__.py'),\n",
       " PackagePath('numpy/typing/_add_docstring.py'),\n",
       " PackagePath('numpy/typing/_array_like.py'),\n",
       " PackagePath('numpy/typing/_callable.py'),\n",
       " PackagePath('numpy/typing/_char_codes.py'),\n",
       " PackagePath('numpy/typing/_dtype_like.py'),\n",
       " PackagePath('numpy/typing/_extended_precision.py'),\n",
       " PackagePath('numpy/typing/_generic_alias.py'),\n",
       " PackagePath('numpy/typing/_nbit.py'),\n",
       " PackagePath('numpy/typing/_scalars.py'),\n",
       " PackagePath('numpy/typing/_shape.py'),\n",
       " PackagePath('numpy/typing/mypy_plugin.py'),\n",
       " PackagePath('numpy/typing/setup.py'),\n",
       " PackagePath('numpy/typing/tests/__init__.py'),\n",
       " PackagePath('numpy/typing/tests/data/fail/arithmetic.py'),\n",
       " PackagePath('numpy/typing/tests/data/fail/array_constructors.py'),\n",
       " PackagePath('numpy/typing/tests/data/fail/array_like.py'),\n",
       " PackagePath('numpy/typing/tests/data/fail/arrayprint.py'),\n",
       " PackagePath('numpy/typing/tests/data/fail/arrayterator.py'),\n",
       " PackagePath('numpy/typing/tests/data/fail/bitwise_ops.py'),\n",
       " PackagePath('numpy/typing/tests/data/fail/comparisons.py'),\n",
       " PackagePath('numpy/typing/tests/data/fail/constants.py'),\n",
       " PackagePath('numpy/typing/tests/data/fail/datasource.py'),\n",
       " PackagePath('numpy/typing/tests/data/fail/dtype.py'),\n",
       " PackagePath('numpy/typing/tests/data/fail/einsumfunc.py'),\n",
       " PackagePath('numpy/typing/tests/data/fail/flatiter.py'),\n",
       " PackagePath('numpy/typing/tests/data/fail/fromnumeric.py'),\n",
       " PackagePath('numpy/typing/tests/data/fail/index_tricks.py'),\n",
       " PackagePath('numpy/typing/tests/data/fail/lib_utils.py'),\n",
       " PackagePath('numpy/typing/tests/data/fail/lib_version.py'),\n",
       " PackagePath('numpy/typing/tests/data/fail/modules.py'),\n",
       " PackagePath('numpy/typing/tests/data/fail/ndarray.py'),\n",
       " PackagePath('numpy/typing/tests/data/fail/ndarray_misc.py'),\n",
       " PackagePath('numpy/typing/tests/data/fail/numerictypes.py'),\n",
       " PackagePath('numpy/typing/tests/data/fail/random.py'),\n",
       " PackagePath('numpy/typing/tests/data/fail/scalars.py'),\n",
       " PackagePath('numpy/typing/tests/data/fail/ufunc_config.py'),\n",
       " PackagePath('numpy/typing/tests/data/fail/ufunclike.py'),\n",
       " PackagePath('numpy/typing/tests/data/fail/ufuncs.py'),\n",
       " PackagePath('numpy/typing/tests/data/fail/warnings_and_errors.py'),\n",
       " PackagePath('numpy/typing/tests/data/misc/extended_precision.py'),\n",
       " PackagePath('numpy/typing/tests/data/pass/arithmetic.py'),\n",
       " PackagePath('numpy/typing/tests/data/pass/array_constructors.py'),\n",
       " PackagePath('numpy/typing/tests/data/pass/array_like.py'),\n",
       " PackagePath('numpy/typing/tests/data/pass/arrayprint.py'),\n",
       " PackagePath('numpy/typing/tests/data/pass/arrayterator.py'),\n",
       " PackagePath('numpy/typing/tests/data/pass/bitwise_ops.py'),\n",
       " PackagePath('numpy/typing/tests/data/pass/comparisons.py'),\n",
       " PackagePath('numpy/typing/tests/data/pass/dtype.py'),\n",
       " PackagePath('numpy/typing/tests/data/pass/einsumfunc.py'),\n",
       " PackagePath('numpy/typing/tests/data/pass/flatiter.py'),\n",
       " PackagePath('numpy/typing/tests/data/pass/fromnumeric.py'),\n",
       " PackagePath('numpy/typing/tests/data/pass/index_tricks.py'),\n",
       " PackagePath('numpy/typing/tests/data/pass/lib_utils.py'),\n",
       " PackagePath('numpy/typing/tests/data/pass/lib_version.py'),\n",
       " PackagePath('numpy/typing/tests/data/pass/literal.py'),\n",
       " PackagePath('numpy/typing/tests/data/pass/mod.py'),\n",
       " PackagePath('numpy/typing/tests/data/pass/modules.py'),\n",
       " PackagePath('numpy/typing/tests/data/pass/multiarray.py'),\n",
       " PackagePath('numpy/typing/tests/data/pass/ndarray_conversion.py'),\n",
       " PackagePath('numpy/typing/tests/data/pass/ndarray_misc.py'),\n",
       " PackagePath('numpy/typing/tests/data/pass/ndarray_shape_manipulation.py'),\n",
       " PackagePath('numpy/typing/tests/data/pass/numeric.py'),\n",
       " PackagePath('numpy/typing/tests/data/pass/numerictypes.py'),\n",
       " PackagePath('numpy/typing/tests/data/pass/random.py'),\n",
       " PackagePath('numpy/typing/tests/data/pass/scalars.py'),\n",
       " PackagePath('numpy/typing/tests/data/pass/simple.py'),\n",
       " PackagePath('numpy/typing/tests/data/pass/simple_py3.py'),\n",
       " PackagePath('numpy/typing/tests/data/pass/ufunc_config.py'),\n",
       " PackagePath('numpy/typing/tests/data/pass/ufunclike.py'),\n",
       " PackagePath('numpy/typing/tests/data/pass/ufuncs.py'),\n",
       " PackagePath('numpy/typing/tests/data/pass/warnings_and_errors.py'),\n",
       " PackagePath('numpy/typing/tests/data/reveal/arithmetic.py'),\n",
       " PackagePath('numpy/typing/tests/data/reveal/array_constructors.py'),\n",
       " PackagePath('numpy/typing/tests/data/reveal/arrayprint.py'),\n",
       " PackagePath('numpy/typing/tests/data/reveal/arrayterator.py'),\n",
       " PackagePath('numpy/typing/tests/data/reveal/bitwise_ops.py'),\n",
       " PackagePath('numpy/typing/tests/data/reveal/comparisons.py'),\n",
       " PackagePath('numpy/typing/tests/data/reveal/constants.py'),\n",
       " PackagePath('numpy/typing/tests/data/reveal/datasource.py'),\n",
       " PackagePath('numpy/typing/tests/data/reveal/dtype.py'),\n",
       " PackagePath('numpy/typing/tests/data/reveal/einsumfunc.py'),\n",
       " PackagePath('numpy/typing/tests/data/reveal/flatiter.py'),\n",
       " PackagePath('numpy/typing/tests/data/reveal/fromnumeric.py'),\n",
       " PackagePath('numpy/typing/tests/data/reveal/index_tricks.py'),\n",
       " PackagePath('numpy/typing/tests/data/reveal/lib_utils.py'),\n",
       " PackagePath('numpy/typing/tests/data/reveal/lib_version.py'),\n",
       " PackagePath('numpy/typing/tests/data/reveal/mod.py'),\n",
       " PackagePath('numpy/typing/tests/data/reveal/modules.py'),\n",
       " PackagePath('numpy/typing/tests/data/reveal/multiarray.py'),\n",
       " PackagePath('numpy/typing/tests/data/reveal/nbit_base_example.py'),\n",
       " PackagePath('numpy/typing/tests/data/reveal/ndarray_conversion.py'),\n",
       " PackagePath('numpy/typing/tests/data/reveal/ndarray_misc.py'),\n",
       " PackagePath('numpy/typing/tests/data/reveal/ndarray_shape_manipulation.py'),\n",
       " PackagePath('numpy/typing/tests/data/reveal/nditer.py'),\n",
       " PackagePath('numpy/typing/tests/data/reveal/numeric.py'),\n",
       " PackagePath('numpy/typing/tests/data/reveal/numerictypes.py'),\n",
       " PackagePath('numpy/typing/tests/data/reveal/random.py'),\n",
       " PackagePath('numpy/typing/tests/data/reveal/scalars.py'),\n",
       " PackagePath('numpy/typing/tests/data/reveal/ufunc_config.py'),\n",
       " PackagePath('numpy/typing/tests/data/reveal/ufunclike.py'),\n",
       " PackagePath('numpy/typing/tests/data/reveal/ufuncs.py'),\n",
       " PackagePath('numpy/typing/tests/data/reveal/warnings_and_errors.py'),\n",
       " PackagePath('numpy/typing/tests/test_generic_alias.py'),\n",
       " PackagePath('numpy/typing/tests/test_isfile.py'),\n",
       " PackagePath('numpy/typing/tests/test_runtime.py'),\n",
       " PackagePath('numpy/typing/tests/test_typing.py'),\n",
       " PackagePath('numpy/typing/tests/test_typing_extensions.py'),\n",
       " PackagePath('numpy/version.py')]"
      ]
     },
     "execution_count": 65,
     "metadata": {},
     "output_type": "execute_result"
    }
   ],
   "source": [
    "[p for p in metadata.files(\"numpy\") if p.suffix == \".py\"]"
   ]
  },
  {
   "cell_type": "code",
   "execution_count": 66,
   "id": "3792ddec-223b-441d-9664-a914516f252d",
   "metadata": {},
   "outputs": [],
   "source": [
    "init_path = _[0]  # Underscore access last returned value in the REPL"
   ]
  },
  {
   "cell_type": "code",
   "execution_count": 67,
   "id": "4a7d95ff-3cb5-4846-b022-872369e62033",
   "metadata": {},
   "outputs": [
    {
     "name": "stdout",
     "output_type": "stream",
     "text": [
      "# This file is generated by numpy's setup.py\n",
      "# It contains system_info results at the time of building this package.\n",
      "__all__ = [\"get_info\",\"show\"]\n",
      "\n",
      "\n",
      "import os\n",
      "import sys\n",
      "\n",
      "extra_dll_dir = os.path.join(os.path.dirname(__file__), '.libs')\n",
      "\n",
      "if sys.platform == 'win32' and os.path.isdir(extra_dll_dir):\n",
      "    if sys.version_info >= (3, 8):\n",
      "        os.add_dll_directory(extra_dll_dir)\n",
      "    else:\n",
      "        os.environ.setdefault('PATH', '')\n",
      "        os.environ['PATH'] += os.pathsep + extra_dll_dir\n",
      "\n",
      "blas_mkl_info={}\n",
      "blis_info={}\n",
      "openblas_info={'libraries': ['openblas', 'openblas'], 'library_dirs': ['/usr/local/lib'], 'language': 'c', 'define_macros': [('HAVE_CBLAS', None)], 'runtime_library_dirs': ['/usr/local/lib']}\n",
      "blas_opt_info={'libraries': ['openblas', 'openblas'], 'library_dirs': ['/usr/local/lib'], 'language': 'c', 'define_macros': [('HAVE_CBLAS', None)], 'runtime_library_dirs': ['/usr/local/lib']}\n",
      "lapack_mkl_info={}\n",
      "openblas_lapack_info={'libraries': ['openblas', 'openblas'], 'library_dirs': ['/usr/local/lib'], 'language': 'c', 'define_macros': [('HAVE_CBLAS', None)], 'runtime_library_dirs': ['/usr/local/lib']}\n",
      "lapack_opt_info={'libraries': ['openblas', 'openblas'], 'library_dirs': ['/usr/local/lib'], 'language': 'c', 'define_macros': [('HAVE_CBLAS', None)], 'runtime_library_dirs': ['/usr/local/lib']}\n",
      "\n",
      "def get_info(name):\n",
      "    g = globals()\n",
      "    return g.get(name, g.get(name + \"_info\", {}))\n",
      "\n",
      "def show():\n",
      "    \"\"\"\n",
      "    Show libraries in the system on which NumPy was built.\n",
      "\n",
      "    Print information about various resources (libraries, library\n",
      "    directories, include directories, etc.) in the system on which\n",
      "    NumPy was built.\n",
      "\n",
      "    See Also\n",
      "    --------\n",
      "    get_include : Returns the directory containing NumPy C\n",
      "                  header files.\n",
      "\n",
      "    Notes\n",
      "    -----\n",
      "    Classes specifying the information to be printed are defined\n",
      "    in the `numpy.distutils.system_info` module.\n",
      "\n",
      "    Information may include:\n",
      "\n",
      "    * ``language``: language used to write the libraries (mostly\n",
      "      C or f77)\n",
      "    * ``libraries``: names of libraries found in the system\n",
      "    * ``library_dirs``: directories containing the libraries\n",
      "    * ``include_dirs``: directories containing library header files\n",
      "    * ``src_dirs``: directories containing library source files\n",
      "    * ``define_macros``: preprocessor macros used by\n",
      "      ``distutils.setup``\n",
      "    * ``baseline``: minimum CPU features required\n",
      "    * ``found``: dispatched features supported in the system\n",
      "    * ``not found``: dispatched features that are not supported\n",
      "      in the system\n",
      "\n",
      "    Examples\n",
      "    --------\n",
      "    >>> import numpy as np\n",
      "    >>> np.show_config()\n",
      "    blas_opt_info:\n",
      "        language = c\n",
      "        define_macros = [('HAVE_CBLAS', None)]\n",
      "        libraries = ['openblas', 'openblas']\n",
      "        library_dirs = ['/usr/local/lib']\n",
      "    \"\"\"\n",
      "    from numpy.core._multiarray_umath import (\n",
      "        __cpu_features__, __cpu_baseline__, __cpu_dispatch__\n",
      "    )\n",
      "    for name,info_dict in globals().items():\n",
      "        if name[0] == \"_\" or type(info_dict) is not type({}): continue\n",
      "        print(name + \":\")\n",
      "        if not info_dict:\n",
      "            print(\"  NOT AVAILABLE\")\n",
      "        for k,v in info_dict.items():\n",
      "            v = str(v)\n",
      "            if k == \"sources\" and len(v) > 200:\n",
      "                v = v[:60] + \" ...\\n... \" + v[-60:]\n",
      "            print(\"    %s = %s\" % (k,v))\n",
      "\n",
      "    features_found, features_not_found = [], []\n",
      "    for feature in __cpu_dispatch__:\n",
      "        if __cpu_features__[feature]:\n",
      "            features_found.append(feature)\n",
      "        else:\n",
      "            features_not_found.append(feature)\n",
      "\n",
      "    print(\"Supported SIMD extensions in this NumPy install:\")\n",
      "    print(\"    baseline = %s\" % (','.join(__cpu_baseline__)))\n",
      "    print(\"    found = %s\" % (','.join(features_found)))\n",
      "    print(\"    not found = %s\" % (','.join(features_not_found)))\n",
      "\n",
      "\n"
     ]
    }
   ],
   "source": [
    "print(init_path.read_text())"
   ]
  },
  {
   "cell_type": "code",
   "execution_count": 68,
   "id": "93af0a5c-2326-46b6-ad8c-e133fdefd84c",
   "metadata": {},
   "outputs": [
    {
     "data": {
      "text/plain": [
       "Ellipsis"
      ]
     },
     "execution_count": 68,
     "metadata": {},
     "output_type": "execute_result"
    }
   ],
   "source": [
    "# Version of realpython-reader package\n",
    "__version__ = \"1.0.0\"\n",
    "\n",
    "..."
   ]
  },
  {
   "cell_type": "markdown",
   "id": "ba54897e",
   "metadata": {},
   "source": [
    "You can also access package dependencies:"
   ]
  },
  {
   "cell_type": "code",
   "execution_count": 71,
   "id": "c322bf04-50a8-4ea4-b3aa-6d29eed611bd",
   "metadata": {},
   "outputs": [
    {
     "name": "stdout",
     "output_type": "stream",
     "text": [
      "Collecting seaborn\n",
      "  Using cached seaborn-0.11.2-py3-none-any.whl (292 kB)\n",
      "Requirement already satisfied: numpy>=1.15 in /Users/ali/opt/anaconda3/envs/py38/lib/python3.8/site-packages (from seaborn) (1.21.4)\n",
      "Collecting scipy>=1.0\n",
      "  Using cached scipy-1.7.3-cp38-cp38-macosx_10_9_x86_64.whl (33.0 MB)\n",
      "Collecting matplotlib>=2.2\n",
      "  Downloading matplotlib-3.5.1-cp38-cp38-macosx_10_9_x86_64.whl (7.3 MB)\n",
      "\u001b[K     |████████████████████████████████| 7.3 MB 2.0 MB/s eta 0:00:01\n",
      "\u001b[?25hCollecting pandas>=0.23\n",
      "  Downloading pandas-1.3.5-cp38-cp38-macosx_10_9_x86_64.whl (11.2 MB)\n",
      "\u001b[K     |████████████████████████████████| 11.2 MB 34.4 MB/s eta 0:00:01\n",
      "\u001b[?25hCollecting kiwisolver>=1.0.1\n",
      "  Using cached kiwisolver-1.3.2-cp38-cp38-macosx_10_9_x86_64.whl (61 kB)\n",
      "Collecting fonttools>=4.22.0\n",
      "  Downloading fonttools-4.28.5-py3-none-any.whl (890 kB)\n",
      "\u001b[K     |████████████████████████████████| 890 kB 52.6 MB/s eta 0:00:01\n",
      "\u001b[?25hRequirement already satisfied: packaging>=20.0 in /Users/ali/opt/anaconda3/envs/py38/lib/python3.8/site-packages (from matplotlib>=2.2->seaborn) (21.0)\n",
      "Collecting cycler>=0.10\n",
      "  Using cached cycler-0.11.0-py3-none-any.whl (6.4 kB)\n",
      "Requirement already satisfied: python-dateutil>=2.7 in /Users/ali/opt/anaconda3/envs/py38/lib/python3.8/site-packages (from matplotlib>=2.2->seaborn) (2.8.2)\n",
      "Requirement already satisfied: pillow>=6.2.0 in /Users/ali/opt/anaconda3/envs/py38/lib/python3.8/site-packages (from matplotlib>=2.2->seaborn) (8.4.0)\n",
      "Requirement already satisfied: pyparsing>=2.2.1 in /Users/ali/opt/anaconda3/envs/py38/lib/python3.8/site-packages (from matplotlib>=2.2->seaborn) (2.4.7)\n",
      "Requirement already satisfied: pytz>=2017.3 in /Users/ali/opt/anaconda3/envs/py38/lib/python3.8/site-packages (from pandas>=0.23->seaborn) (2021.3)\n",
      "Requirement already satisfied: six>=1.5 in /Users/ali/opt/anaconda3/envs/py38/lib/python3.8/site-packages (from python-dateutil>=2.7->matplotlib>=2.2->seaborn) (1.16.0)\n",
      "Installing collected packages: kiwisolver, fonttools, cycler, scipy, pandas, matplotlib, seaborn\n",
      "Successfully installed cycler-0.11.0 fonttools-4.28.5 kiwisolver-1.3.2 matplotlib-3.5.1 pandas-1.3.5 scipy-1.7.3 seaborn-0.11.2\n"
     ]
    }
   ],
   "source": [
    "!pip install seaborn"
   ]
  },
  {
   "cell_type": "code",
   "execution_count": 72,
   "id": "80eef012",
   "metadata": {},
   "outputs": [
    {
     "data": {
      "text/plain": [
       "['numpy (>=1.15)', 'scipy (>=1.0)', 'pandas (>=0.23)', 'matplotlib (>=2.2)']"
      ]
     },
     "execution_count": 72,
     "metadata": {},
     "output_type": "execute_result"
    }
   ],
   "source": [
    "metadata.requires(\"seaborn\")"
   ]
  },
  {
   "cell_type": "markdown",
   "id": "a21f4ccd",
   "metadata": {},
   "source": [
    "`requires()` lists the dependencies of a package. You can see that `realpython-reader` for instance uses [`feedparser`](https://pypi.org/project/feedparser/) in the background to read and parse a feed of articles."
   ]
  },
  {
   "cell_type": "markdown",
   "id": "068c0d55",
   "metadata": {},
   "source": [
    "There is a backport of `importlib.metadata` [available on PyPI](https://pypi.org/project/importlib-metadata/) that works on earlier versions of Python. You can install it using `pip`:"
   ]
  },
  {
   "cell_type": "markdown",
   "id": "7875aea8",
   "metadata": {},
   "source": [
    "```sh\n",
    "$ python -m pip install importlib-metadata\n",
    "```"
   ]
  },
  {
   "cell_type": "markdown",
   "id": "77f44d85",
   "metadata": {},
   "source": [
    "You can fall back on using the PyPI backport in your code as follows:"
   ]
  },
  {
   "cell_type": "code",
   "execution_count": 73,
   "id": "a0591c8f",
   "metadata": {},
   "outputs": [],
   "source": [
    "try:\n",
    "    from importlib import metadata\n",
    "except ImportError:\n",
    "    import importlib_metadata as metadata"
   ]
  },
  {
   "cell_type": "markdown",
   "id": "08422a26",
   "metadata": {},
   "source": [
    "See the [documentation](https://importlib-metadata.readthedocs.io) for more information about `importlib.metadata`"
   ]
  },
  {
   "cell_type": "markdown",
   "id": "fa9d3e2d",
   "metadata": {},
   "source": [
    "<a class=\"anchor\" id=\"new_and_improved_`math`_and_`statistics`_functions\"></a>\n",
    "\n",
    "### New and Improved `math` and `statistics` Functions"
   ]
  },
  {
   "cell_type": "markdown",
   "id": "cb363736",
   "metadata": {},
   "source": [
    "Python 3.8 brings many improvements to existing standard library packages and modules. `math` in the standard library has a few new functions. `math.prod()` works similarly to the built-in `sum()`, but for multiplicative products:"
   ]
  },
  {
   "cell_type": "code",
   "execution_count": 74,
   "id": "fc0e28c5-97b0-4e04-aea6-c4f145e0843c",
   "metadata": {},
   "outputs": [
    {
     "data": {
      "text/plain": [
       "784"
      ]
     },
     "execution_count": 74,
     "metadata": {},
     "output_type": "execute_result"
    }
   ],
   "source": [
    "import math\n",
    "math.prod((2, 8, 7, 7))"
   ]
  },
  {
   "cell_type": "code",
   "execution_count": 75,
   "id": "04782974-8c8c-43fa-a51e-a0db033917ea",
   "metadata": {},
   "outputs": [
    {
     "data": {
      "text/plain": [
       "784"
      ]
     },
     "execution_count": 75,
     "metadata": {},
     "output_type": "execute_result"
    }
   ],
   "source": [
    "2 * 8 * 7 * 7"
   ]
  },
  {
   "cell_type": "markdown",
   "id": "6f40c347",
   "metadata": {},
   "source": [
    "The two statements are equivalent. `prod()` will be easier to use when you already have the factors stored in an iterable."
   ]
  },
  {
   "cell_type": "markdown",
   "id": "648a3b98",
   "metadata": {},
   "source": [
    "Another new function is `math.isqrt()`. You can use `isqrt()` to find the integer part of [square roots](https://realpython.com/python-square-root-function/):"
   ]
  },
  {
   "cell_type": "code",
   "execution_count": 76,
   "id": "480b90be-14cd-4389-b555-d35d46844bc1",
   "metadata": {},
   "outputs": [
    {
     "data": {
      "text/plain": [
       "3"
      ]
     },
     "execution_count": 76,
     "metadata": {},
     "output_type": "execute_result"
    }
   ],
   "source": [
    "import math\n",
    "math.isqrt(9)"
   ]
  },
  {
   "cell_type": "code",
   "execution_count": 77,
   "id": "b9c357c5-d429-42a9-8335-9aaee6f2845b",
   "metadata": {},
   "outputs": [
    {
     "data": {
      "text/plain": [
       "3.0"
      ]
     },
     "execution_count": 77,
     "metadata": {},
     "output_type": "execute_result"
    }
   ],
   "source": [
    "math.sqrt(9)"
   ]
  },
  {
   "cell_type": "code",
   "execution_count": 78,
   "id": "4a3a0f6b-752d-4830-8a8e-0b54d9707e87",
   "metadata": {},
   "outputs": [
    {
     "data": {
      "text/plain": [
       "3"
      ]
     },
     "execution_count": 78,
     "metadata": {},
     "output_type": "execute_result"
    }
   ],
   "source": [
    "math.isqrt(15)"
   ]
  },
  {
   "cell_type": "code",
   "execution_count": 79,
   "id": "04d267c7-6efa-4958-a80b-f56325647002",
   "metadata": {},
   "outputs": [
    {
     "data": {
      "text/plain": [
       "3.872983346207417"
      ]
     },
     "execution_count": 79,
     "metadata": {},
     "output_type": "execute_result"
    }
   ],
   "source": [
    "math.sqrt(15)"
   ]
  },
  {
   "cell_type": "markdown",
   "id": "10edc21c",
   "metadata": {},
   "source": [
    "The square root of 9 is 3. You can see that `isqrt()` returns an integer result, while [`math.sqrt()`](https://realpython.com/python-square-root-function/) always returns a `float`. The square root of 15 is almost 3.9. Note that `isqrt()` [truncates](https://realpython.com/python-rounding/#truncation) the answer down to the next integer, in this case 3."
   ]
  },
  {
   "cell_type": "markdown",
   "id": "d92f1150",
   "metadata": {},
   "source": [
    "Finally, you can now more easily work with *n*-dimensional points and vectors in the standard library. You can find the distance between two points with `math.dist()`, and the length of a vector with `math.hypot()`:"
   ]
  },
  {
   "cell_type": "code",
   "execution_count": 80,
   "id": "4b6724df-91c4-4f52-84e9-5f30f9790d24",
   "metadata": {},
   "outputs": [],
   "source": [
    "import math\n",
    "point_1 = (16, 25, 20)\n",
    "point_2 = (8, 15, 14)"
   ]
  },
  {
   "cell_type": "code",
   "execution_count": 81,
   "id": "7f3d894b-75be-4162-85d5-d0a620e6845b",
   "metadata": {},
   "outputs": [
    {
     "data": {
      "text/plain": [
       "14.142135623730951"
      ]
     },
     "execution_count": 81,
     "metadata": {},
     "output_type": "execute_result"
    }
   ],
   "source": [
    "math.dist(point_1, point_2)"
   ]
  },
  {
   "cell_type": "code",
   "execution_count": 82,
   "id": "3821f5a4-f952-4092-94b9-4bdcb99aa194",
   "metadata": {},
   "outputs": [
    {
     "data": {
      "text/plain": [
       "35.79106033634656"
      ]
     },
     "execution_count": 82,
     "metadata": {},
     "output_type": "execute_result"
    }
   ],
   "source": [
    "math.hypot(*point_1)"
   ]
  },
  {
   "cell_type": "code",
   "execution_count": 83,
   "id": "a11ecdb4-9ff3-4136-bf38-3cd8580d7c91",
   "metadata": {},
   "outputs": [
    {
     "data": {
      "text/plain": [
       "22.02271554554524"
      ]
     },
     "execution_count": 83,
     "metadata": {},
     "output_type": "execute_result"
    }
   ],
   "source": [
    "math.hypot(*point_2)"
   ]
  },
  {
   "cell_type": "markdown",
   "id": "c0991ac2",
   "metadata": {},
   "source": [
    "This makes it easier to work with points and vectors using the standard library. However, if you will be doing many calculations on points or vectors, you should check out [NumPy](https://realpython.com/numpy-array-programming/)."
   ]
  },
  {
   "cell_type": "markdown",
   "id": "f82e932e",
   "metadata": {},
   "source": [
    "The `statistics` module also has several new functions:"
   ]
  },
  {
   "cell_type": "markdown",
   "id": "5627ad32",
   "metadata": {},
   "source": [
    "- [`statistics.fmean()`](https://docs.python.org/3.8/library/statistics.html#statistics.fmean) calculates the mean of `float` numbers.\n",
    "- [`statistics.geometric_mean()`](https://docs.python.org/3.8/library/statistics.html#statistics.geometric_mean) calculates the geometric mean of `float` numbers.\n",
    "- [`statistics.multimode()`](https://docs.python.org/3.8/library/statistics.html#statistics.multimode) finds the most frequently occurring values in a sequence.\n",
    "- [`statistics.quantiles()`](https://docs.python.org/3.8/library/statistics.html#statistics.quantiles) calculates cut points for dividing data into *n* continuous intervals with equal probability.\n"
   ]
  },
  {
   "cell_type": "markdown",
   "id": "7c570d52",
   "metadata": {},
   "source": [
    "The following example shows the functions in use:"
   ]
  },
  {
   "cell_type": "code",
   "execution_count": 84,
   "id": "2478751e-1cf0-440e-b270-6a857f35beaa",
   "metadata": {},
   "outputs": [
    {
     "data": {
      "text/plain": [
       "4.25"
      ]
     },
     "execution_count": 84,
     "metadata": {},
     "output_type": "execute_result"
    }
   ],
   "source": [
    "import statistics\n",
    "data = [9, 3, 2, 1, 1, 2, 7, 9]\n",
    "statistics.fmean(data)"
   ]
  },
  {
   "cell_type": "code",
   "execution_count": 85,
   "id": "46b1f207-86e6-4958-aba2-c00aa9a75d0f",
   "metadata": {},
   "outputs": [
    {
     "data": {
      "text/plain": [
       "3.013668912157617"
      ]
     },
     "execution_count": 85,
     "metadata": {},
     "output_type": "execute_result"
    }
   ],
   "source": [
    "statistics.geometric_mean(data)"
   ]
  },
  {
   "cell_type": "code",
   "execution_count": 86,
   "id": "70deeb1a-8171-48a6-b099-93b70c3da589",
   "metadata": {},
   "outputs": [
    {
     "data": {
      "text/plain": [
       "[9, 2, 1]"
      ]
     },
     "execution_count": 86,
     "metadata": {},
     "output_type": "execute_result"
    }
   ],
   "source": [
    "statistics.multimode(data)"
   ]
  },
  {
   "cell_type": "code",
   "execution_count": 87,
   "id": "3af5cbf1-5b2d-485d-a626-492951649929",
   "metadata": {},
   "outputs": [
    {
     "data": {
      "text/plain": [
       "[1.25, 2.5, 8.5]"
      ]
     },
     "execution_count": 87,
     "metadata": {},
     "output_type": "execute_result"
    }
   ],
   "source": [
    "statistics.quantiles(data, n=4)"
   ]
  },
  {
   "cell_type": "markdown",
   "id": "cd6e9388",
   "metadata": {},
   "source": [
    "In Python 3.8, there is a new [`statistics.NormalDist`](https://docs.python.org/3.8/library/statistics.html#statistics.NormalDist) class that makes it more convenient to [work with the Gaussian normal distribution](https://docs.python.org/3.8/library/statistics.html#normaldist-examples-and-recipes)."
   ]
  },
  {
   "cell_type": "markdown",
   "id": "90c61708",
   "metadata": {},
   "source": [
    "To see an example of using `NormalDist`, you can try to compare the speed of the new `statistics.fmean()` and the traditional `statistics.mean()`:"
   ]
  },
  {
   "cell_type": "code",
   "execution_count": 88,
   "id": "93d18469-1d20-4475-a3a4-a9b4ca63decf",
   "metadata": {},
   "outputs": [],
   "source": [
    "import random\n",
    "import statistics\n",
    "from timeit import timeit\n",
    "\n",
    "# Create 10,000 random numbers\n",
    "data = [random.random() for _ in range(10_000)]\n",
    "\n",
    "# Measure the time it takes to run mean() and fmean()\n",
    "t_mean = [timeit(\"statistics.mean(data)\", number=100, globals=globals()) for _ in range(30)]\n",
    "t_fmean = [timeit(\"statistics.fmean(data)\", number=100, globals=globals()) for _ in range(30)]\n",
    "\n",
    "# Create NormalDist objects based on the sampled timings\n",
    "n_mean = statistics.NormalDist.from_samples(t_mean)\n",
    "n_fmean = statistics.NormalDist.from_samples(t_fmean)"
   ]
  },
  {
   "cell_type": "code",
   "execution_count": 89,
   "id": "fb68b6b7-2dfc-48c7-9a6a-83049d60b7ac",
   "metadata": {},
   "outputs": [
    {
     "data": {
      "text/plain": [
       "(0.573403588033337, 0.03323260653106441)"
      ]
     },
     "execution_count": 89,
     "metadata": {},
     "output_type": "execute_result"
    }
   ],
   "source": [
    "# Look at sample mean and standard deviation\n",
    "n_mean.mean, n_mean.stdev"
   ]
  },
  {
   "cell_type": "code",
   "execution_count": 90,
   "id": "7db95168-edfe-4d08-a9bf-928349e74bc0",
   "metadata": {},
   "outputs": [
    {
     "data": {
      "text/plain": [
       "(0.014626075666660654, 0.0004226811825982535)"
      ]
     },
     "execution_count": 90,
     "metadata": {},
     "output_type": "execute_result"
    }
   ],
   "source": [
    "n_fmean.mean, n_fmean.stdev"
   ]
  },
  {
   "cell_type": "code",
   "execution_count": 91,
   "id": "678f5c80-e9b0-4fc1-9715-f118192bfe54",
   "metadata": {},
   "outputs": [
    {
     "data": {
      "text/plain": [
       "0.49609298448095956"
      ]
     },
     "execution_count": 91,
     "metadata": {},
     "output_type": "execute_result"
    }
   ],
   "source": [
    "# Calculate the lower 1 percentile of mean\n",
    "n_mean.quantiles(n=100)[0]"
   ]
  },
  {
   "cell_type": "markdown",
   "id": "0ace0546",
   "metadata": {},
   "source": [
    "In this example, you use [`timeit`](https://docs.python.org/library/timeit.html) to measure the execution time of `mean()` and `fmean()`. To get reliable results, you let `timeit` execute each function 100 times, and collect 30 such time samples for each function. Based on these samples, you create two `NormalDist` objects. Note that if you run the code yourself, it might take up to a minute to collect the different time samples."
   ]
  },
  {
   "cell_type": "markdown",
   "id": "e6e91bb1",
   "metadata": {},
   "source": [
    "`NormalDist` has many convenient attributes and methods. See the [documentation](https://docs.python.org/3.8/library/statistics.html#normaldist-objects) for a complete list. Inspecting `.mean` and `.stdev`, you see that the old `statistics.mean()` runs in 0.826 ± 0.078 seconds, while the new `statistics.fmean()` spends 0.0105 ± 0.0009 seconds. In other words, `fmean()` is about 80 times faster for these data."
   ]
  },
  {
   "cell_type": "markdown",
   "id": "c8ac172d",
   "metadata": {},
   "source": [
    "If you need more advanced statistics in Python than the standard library offers, check out [`statsmodels`](https://www.statsmodels.org/) and [`scipy.stats`](https://docs.scipy.org/doc/scipy/reference/tutorial/stats.html)."
   ]
  },
  {
   "cell_type": "markdown",
   "id": "a1c0b469",
   "metadata": {},
   "source": [
    "<a class=\"anchor\" id=\"warnings_about_dangerous_syntax\"></a>\n",
    "\n",
    "### Warnings About Dangerous Syntax"
   ]
  },
  {
   "cell_type": "markdown",
   "id": "a8180f30",
   "metadata": {},
   "source": [
    "Python has a [`SyntaxWarning`](https://docs.python.org/3/library/exceptions.html#SyntaxWarning) which can warn about dubious syntax that is typically not a [`SyntaxError`](https://realpython.com/invalid-syntax-python/). Python 3.8 adds a few new ones that can help you during coding and debugging."
   ]
  },
  {
   "cell_type": "markdown",
   "id": "2df37f26",
   "metadata": {},
   "source": [
    "The difference between `is` and `==` can be confusing. The latter checks for equal values, while `is` is `True` only when objects are the same. Python 3.8 will try to warn you about cases when you should use `==` instead of `is`:"
   ]
  },
  {
   "cell_type": "code",
   "execution_count": 92,
   "id": "419a4325-7490-4881-b682-b74132c37938",
   "metadata": {},
   "outputs": [
    {
     "name": "stderr",
     "output_type": "stream",
     "text": [
      "<>:3: SyntaxWarning: \"is\" with a literal. Did you mean \"==\"?\n",
      "<>:3: SyntaxWarning: \"is\" with a literal. Did you mean \"==\"?\n",
      "<ipython-input-92-3207c63e940d>:3: SyntaxWarning: \"is\" with a literal. Did you mean \"==\"?\n",
      "  version is \"3.7\"\n"
     ]
    },
    {
     "data": {
      "text/plain": [
       "False"
      ]
     },
     "execution_count": 92,
     "metadata": {},
     "output_type": "execute_result"
    }
   ],
   "source": [
    "# Python 3.7\n",
    "version = \"3.7\"\n",
    "version is \"3.7\""
   ]
  },
  {
   "cell_type": "code",
   "execution_count": 93,
   "id": "f6dd1c4c-4d51-48c0-9421-b8f842d32a46",
   "metadata": {},
   "outputs": [
    {
     "name": "stderr",
     "output_type": "stream",
     "text": [
      "<>:3: SyntaxWarning: \"is\" with a literal. Did you mean \"==\"?\n",
      "<>:3: SyntaxWarning: \"is\" with a literal. Did you mean \"==\"?\n",
      "<ipython-input-93-7d010e8c00a8>:3: SyntaxWarning: \"is\" with a literal. Did you mean \"==\"?\n",
      "  version is \"3.8\"\n"
     ]
    },
    {
     "data": {
      "text/plain": [
       "False"
      ]
     },
     "execution_count": 93,
     "metadata": {},
     "output_type": "execute_result"
    }
   ],
   "source": [
    "# Python 3.8\n",
    "version = \"3.8\"\n",
    "version is \"3.8\""
   ]
  },
  {
   "cell_type": "code",
   "execution_count": 94,
   "id": "fa375fcb-b4d8-43a6-8fd8-7d54d58dbef6",
   "metadata": {},
   "outputs": [
    {
     "data": {
      "text/plain": [
       "True"
      ]
     },
     "execution_count": 94,
     "metadata": {},
     "output_type": "execute_result"
    }
   ],
   "source": [
    "version == \"3.8\""
   ]
  },
  {
   "cell_type": "markdown",
   "id": "76ed0b18",
   "metadata": {},
   "source": [
    "It’s easy to miss a comma when you’re writing out a long list, especially when formatting it vertically. Forgetting a comma in a list of tuples will give a confusing error message about tuples not being callable. Python 3.8 additionally emits a warning that points toward the real issue:"
   ]
  },
  {
   "cell_type": "code",
   "execution_count": 95,
   "id": "82c177c9-c17a-4985-8686-e04e055dc3e9",
   "metadata": {},
   "outputs": [
    {
     "name": "stderr",
     "output_type": "stream",
     "text": [
      "<>:2: SyntaxWarning: 'tuple' object is not callable; perhaps you missed a comma?\n",
      "<>:2: SyntaxWarning: 'tuple' object is not callable; perhaps you missed a comma?\n",
      "<ipython-input-95-5d07b90b6542>:2: SyntaxWarning: 'tuple' object is not callable; perhaps you missed a comma?\n",
      "  (1, 3)\n"
     ]
    },
    {
     "ename": "TypeError",
     "evalue": "'tuple' object is not callable",
     "output_type": "error",
     "traceback": [
      "\u001b[0;31m---------------------------------------------------------------------------\u001b[0m",
      "\u001b[0;31mTypeError\u001b[0m                                 Traceback (most recent call last)",
      "\u001b[0;32m<ipython-input-95-5d07b90b6542>\u001b[0m in \u001b[0;36m<module>\u001b[0;34m\u001b[0m\n\u001b[1;32m      1\u001b[0m [\n\u001b[0;32m----> 2\u001b[0;31m    \u001b[0;34m(\u001b[0m\u001b[0;36m1\u001b[0m\u001b[0;34m,\u001b[0m \u001b[0;36m3\u001b[0m\u001b[0;34m)\u001b[0m\u001b[0;34m\u001b[0m\u001b[0;34m\u001b[0m\u001b[0m\n\u001b[0m\u001b[1;32m      3\u001b[0m    \u001b[0;34m(\u001b[0m\u001b[0;36m2\u001b[0m\u001b[0;34m,\u001b[0m \u001b[0;36m4\u001b[0m\u001b[0;34m)\u001b[0m\u001b[0;34m\u001b[0m\u001b[0;34m\u001b[0m\u001b[0m\n\u001b[1;32m      4\u001b[0m ]\n",
      "\u001b[0;31mTypeError\u001b[0m: 'tuple' object is not callable"
     ]
    }
   ],
   "source": [
    "[\n",
    "   (1, 3)\n",
    "   (2, 4)\n",
    "]"
   ]
  },
  {
   "cell_type": "markdown",
   "id": "956ee991",
   "metadata": {},
   "source": [
    "The warning correctly identifies the missing comma as the real culprit."
   ]
  },
  {
   "cell_type": "markdown",
   "id": "b879bb55",
   "metadata": {},
   "source": [
    "<a class=\"anchor\" id=\"optimizations\"></a>\n",
    "\n",
    "### Optimizations"
   ]
  },
  {
   "cell_type": "markdown",
   "id": "9de4eb74",
   "metadata": {},
   "source": [
    "There are several optimizations made for Python 3.8. Some that make code run faster. Others reduce the memory footprint. For example, looking up fields in a [`namedtuple`](https://realpython.com/python-namedtuple/) is significantly faster in Python 3.8 compared with Python 3.7:"
   ]
  },
  {
   "cell_type": "code",
   "execution_count": 96,
   "id": "6c005ec1-7b3a-4086-8b10-aacd183dee04",
   "metadata": {},
   "outputs": [],
   "source": [
    "import collections\n",
    "from timeit import timeit\n",
    "Person = collections.namedtuple(\"Person\", \"name twitter\")\n",
    "raymond = Person(\"Raymond\", \"@raymondh\")"
   ]
  },
  {
   "cell_type": "code",
   "execution_count": 97,
   "id": "4fc93143-de14-45f7-a3a0-38e3dee283b5",
   "metadata": {},
   "outputs": [
    {
     "data": {
      "text/plain": [
       "0.04005694400007087"
      ]
     },
     "execution_count": 97,
     "metadata": {},
     "output_type": "execute_result"
    }
   ],
   "source": [
    "# Python 3.7\n",
    "timeit(\"raymond.twitter\", globals=globals())"
   ]
  },
  {
   "cell_type": "code",
   "execution_count": 98,
   "id": "de1f98d1-a310-40f4-9f30-766f05f289ac",
   "metadata": {},
   "outputs": [
    {
     "data": {
      "text/plain": [
       "0.04554271599999993"
      ]
     },
     "execution_count": 98,
     "metadata": {},
     "output_type": "execute_result"
    }
   ],
   "source": [
    "# Python 3.8\n",
    "timeit(\"raymond.twitter\", globals=globals())"
   ]
  },
  {
   "cell_type": "markdown",
   "id": "3e81f2c0",
   "metadata": {},
   "source": [
    "You can see that looking up `.twitter` on the `namedtuple` is 30-40% faster in Python 3.8. Lists save some space when they are initialized from iterables with a known length. This can save memory:"
   ]
  },
  {
   "cell_type": "code",
   "execution_count": 99,
   "id": "6420ec36-6d6c-440c-b118-284af366ce85",
   "metadata": {},
   "outputs": [
    {
     "data": {
      "text/plain": [
       "161528168"
      ]
     },
     "execution_count": 99,
     "metadata": {},
     "output_type": "execute_result"
    }
   ],
   "source": [
    "import sys\n",
    "\n",
    "# Python 3.7\n",
    "sys.getsizeof(list(range(20191014)))"
   ]
  },
  {
   "cell_type": "code",
   "execution_count": 100,
   "id": "9ac10f9d-47ad-4c73-81ee-ff65a2779fd0",
   "metadata": {},
   "outputs": [
    {
     "data": {
      "text/plain": [
       "161528168"
      ]
     },
     "execution_count": 100,
     "metadata": {},
     "output_type": "execute_result"
    }
   ],
   "source": [
    "# Python 3.8\n",
    "sys.getsizeof(list(range(20191014)))"
   ]
  },
  {
   "cell_type": "markdown",
   "id": "0ecd5473",
   "metadata": {},
   "source": [
    "In this case, the list uses about 11% less memory in Python 3.8 compared with Python 3.7."
   ]
  },
  {
   "cell_type": "markdown",
   "id": "200086a8",
   "metadata": {},
   "source": [
    "Other optimizations include better performance in [`subprocess`](https://docs.python.org/library/subprocess.html), faster file copying with [`shutil`](https://docs.python.org/library/shutil.html), improved default performance in [`pickle`](https://realpython.com/python-pickle-module/), and faster [`operator.itemgetter`](https://docs.python.org/library/operator.html#operator.itemgetter) operations. See the [official documentation](https://docs.python.org/3.8/whatsnew/3.8.html#optimizations) for a complete list of optimizations."
   ]
  },
  {
   "cell_type": "markdown",
   "id": "fbf037f4",
   "metadata": {},
   "source": [
    "<a class=\"anchor\" id=\"so,_should_you_upgrade_to_python_3.8?\"></a>\n",
    "\n",
    "## So, Should You Upgrade to Python 3.8?"
   ]
  },
  {
   "cell_type": "markdown",
   "id": "a9f070d8",
   "metadata": {},
   "source": [
    "Let’s start with the simple answer. If you want to try out any of the new features you have seen here, then you do need to be able to use Python 3.8. Tools like [`pyenv`](https://realpython.com/intro-to-pyenv/) and [Anaconda](https://realpython.com/python-windows-machine-learning-setup/#introducing-anaconda-and-conda) make it easy to have several versions of Python installed side by side. Alternatively, you can run the [official Python 3.8 Docker container](https://hub.docker.com/_/python/). There is no downside to trying out Python 3.8 for yourself."
   ]
  },
  {
   "cell_type": "markdown",
   "id": "1dfc5daf",
   "metadata": {},
   "source": [
    "Now, for the more complicated questions. Should you upgrade your production environment to Python 3.8? Should you make your own project dependent on Python 3.8 to take advantage of the new features?"
   ]
  },
  {
   "cell_type": "markdown",
   "id": "08a68156",
   "metadata": {},
   "source": [
    "You should have very few issues running Python 3.7 code in Python 3.8. Upgrading your environment to run Python 3.8 is therefore quite safe, and you would be able to take advantage of the [optimizations](#optimizations) made in the new version. Different beta-versions of Python 3.8 have already been available for months, so hopefully most bugs are already squashed. However, if you want to be conservative, you might hold out until the first maintenance release (Python 3.8.1) is available."
   ]
  },
  {
   "cell_type": "markdown",
   "id": "7edb3486",
   "metadata": {},
   "source": [
    "Once you’ve upgraded your environment, you can start to experiment with features that are only in Python 3.8, such as [assignment expressions](#the-walrus-in-the-room-assignment-expressions) and [positional-only arguments](#positional-only-arguments). However, you should be conscious about whether other people depend on your code, as this will force them to upgrade their environment as well. Popular libraries will probably mostly support at least Python 3.6 for quite a while longer."
   ]
  },
  {
   "cell_type": "markdown",
   "id": "07019d75",
   "metadata": {},
   "source": [
    "See [Porting to Python 3.8](https://docs.python.org/3.8/whatsnew/3.8.html#porting-to-python-3-8) for more information about preparing your code for Python 3.8."
   ]
  }
 ],
 "metadata": {
  "kernelspec": {
   "display_name": "Python 3",
   "language": "python",
   "name": "python3"
  },
  "language_info": {
   "codemirror_mode": {
    "name": "ipython",
    "version": 3
   },
   "file_extension": ".py",
   "mimetype": "text/x-python",
   "name": "python",
   "nbconvert_exporter": "python",
   "pygments_lexer": "ipython3",
   "version": "3.8.11"
  }
 },
 "nbformat": 4,
 "nbformat_minor": 5
}
